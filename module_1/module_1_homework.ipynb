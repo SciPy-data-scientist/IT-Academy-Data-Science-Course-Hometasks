{
 "cells": [
  {
   "cell_type": "markdown",
   "metadata": {
    "pycharm": {
     "name": "#%% md\n"
    }
   },
   "source": [
    "# Домашнее задание на проверку знаний библиотеки для анализа данных Pandas.\n",
    "\n",
    "Вам представлен датасет, который содержит информацию по результатам сезона 2016 года игры в бейсбол.\n",
    "\n",
    "Вам необходимо загрузить датасет (он находится в архиве с текущим домашним заданием). Провести его очистку, если это необходимо и ответить на поставленные аналитические\n",
    "вопросы.\n",
    "\n",
    "Список колонок, представленных в датасете:\n",
    "\n",
    "---\n",
    "* attendance        - количество зрителей матча\n",
    "* away_team         - название гостевой команды\n",
    "* away_team_errors  - количество ошибок гостевой команды\n",
    "* away_team_hits    - количество хитов гостевой команды (хит в бейсболе - удар при котором отбивающий достиг первой базы)\n",
    "* away_team_runs    - количество ранов гостевой команды (ран в бейсболе - очко заработанное игроком нападения)\n",
    "* date              - дата проведения матча\n",
    "* field_type        - тип игрового поля\n",
    "* game_type         - тип игры\n",
    "* home_team         - название домашней команды\n",
    "* home_team_errors  - количество ошибок домашней команды\n",
    "* home_team_hits    - количество хитов домашней команды (хит в бейсболе - удар при котором отбивающий достиг первой базы)\n",
    "* home_team_runs    - количество ранов домашней команды (ран в бейсболе - очко заработанное игроком нападения)\n",
    "* start_time        - время начала игрового матча\n",
    "* venue             - название места проведения матча (стадион, поле, арена)\n",
    "* day_of_week       - день недели проведения матча\n",
    "* temperature       - температура воздуха в день проведения матча в фаренгейтах\n",
    "* wind_speed        - скорость ветра в день проведения матча\n",
    "* wind_direction    - направление скорости ветра\n",
    "* sky               - облачность\n",
    "* total_runs        - общее количество ранов для двух команд\n",
    "* game_hours_dec    - длительность матча указаная в часах\n",
    "* season            - тип игрового сезона\n",
    "* home_team_win     - результат домашней команды (1 - выигрыш)\n",
    "* home_team_loss    - результат домашней команды (0 - проигрыш)\n",
    "* home_team_outcome - исход матча\n",
    "---\n",
    "\n",
    "Всего в задании 20 вопросов. За каждый правильный вопрос начисляется 5 баллов. Таким образом за все правильные ответы вы получите - 100 баллов. Оценка затем будет приведена к 10-ти бальной шкале.\n",
    "\n",
    "---\n",
    "\n",
    "**Кроме того, баллы могут быть снижены за**:\n",
    "\n",
    "- 1 балл снижается за качество кода - старайтесь чтобы код был максимально лаконичным. Названия переменных (если они используются) должны отражать максимальную ее сущность. Вывод старайтесь делать минимальным, так как первичная цель - сделать качественный анализ, чтобы быстро ответить на поставленный вопрос (никаких таблиц на 100 строк)."
   ]
  },
  {
   "cell_type": "code",
   "execution_count": 2200,
   "metadata": {
    "pycharm": {
     "name": "#%%\n"
    }
   },
   "outputs": [],
   "source": [
    "# Импортируйте все необходимые библиотеки и модули которые вам необходимы\n",
    "import pandas as pd\n",
    "import numpy as np"
   ]
  },
  {
   "cell_type": "code",
   "execution_count": 2201,
   "metadata": {
    "pycharm": {
     "name": "#%%\n"
    }
   },
   "outputs": [
    {
     "data": {
      "text/html": [
       "<div>\n",
       "<style scoped>\n",
       "    .dataframe tbody tr th:only-of-type {\n",
       "        vertical-align: middle;\n",
       "    }\n",
       "\n",
       "    .dataframe tbody tr th {\n",
       "        vertical-align: top;\n",
       "    }\n",
       "\n",
       "    .dataframe thead th {\n",
       "        text-align: right;\n",
       "    }\n",
       "</style>\n",
       "<table border=\"1\" class=\"dataframe\">\n",
       "  <thead>\n",
       "    <tr style=\"text-align: right;\">\n",
       "      <th></th>\n",
       "      <th>Unnamed: 0</th>\n",
       "      <th>attendance</th>\n",
       "      <th>away_team</th>\n",
       "      <th>away_team_errors</th>\n",
       "      <th>away_team_hits</th>\n",
       "      <th>away_team_runs</th>\n",
       "      <th>date</th>\n",
       "      <th>field_type</th>\n",
       "      <th>game_type</th>\n",
       "      <th>home_team</th>\n",
       "      <th>...</th>\n",
       "      <th>temperature</th>\n",
       "      <th>wind_speed</th>\n",
       "      <th>wind_direction</th>\n",
       "      <th>sky</th>\n",
       "      <th>total_runs</th>\n",
       "      <th>game_hours_dec</th>\n",
       "      <th>season</th>\n",
       "      <th>home_team_win</th>\n",
       "      <th>home_team_loss</th>\n",
       "      <th>home_team_outcome</th>\n",
       "    </tr>\n",
       "  </thead>\n",
       "  <tbody>\n",
       "    <tr>\n",
       "      <th>0</th>\n",
       "      <td>0</td>\n",
       "      <td>40030.0</td>\n",
       "      <td>New York Mets</td>\n",
       "      <td>1</td>\n",
       "      <td>7</td>\n",
       "      <td>3</td>\n",
       "      <td>2016-04-03</td>\n",
       "      <td>on grass</td>\n",
       "      <td>Night Game</td>\n",
       "      <td>Kansas City Royals</td>\n",
       "      <td>...</td>\n",
       "      <td>74.0</td>\n",
       "      <td>14.0</td>\n",
       "      <td>from Right to Left</td>\n",
       "      <td>Sunny</td>\n",
       "      <td>7</td>\n",
       "      <td>3.216667</td>\n",
       "      <td>regular season</td>\n",
       "      <td>1</td>\n",
       "      <td>0</td>\n",
       "      <td>Win</td>\n",
       "    </tr>\n",
       "    <tr>\n",
       "      <th>1</th>\n",
       "      <td>1</td>\n",
       "      <td>21621.0</td>\n",
       "      <td>Philadelphia Phillies</td>\n",
       "      <td>0</td>\n",
       "      <td>5</td>\n",
       "      <td>2</td>\n",
       "      <td>2016-04-06</td>\n",
       "      <td>on grass</td>\n",
       "      <td>Night Game</td>\n",
       "      <td>Cincinnati Reds</td>\n",
       "      <td>...</td>\n",
       "      <td>55.0</td>\n",
       "      <td>24.0</td>\n",
       "      <td>from Right to Left</td>\n",
       "      <td>Overcast</td>\n",
       "      <td>5</td>\n",
       "      <td>2.383333</td>\n",
       "      <td>regular season</td>\n",
       "      <td>1</td>\n",
       "      <td>0</td>\n",
       "      <td>Win</td>\n",
       "    </tr>\n",
       "    <tr>\n",
       "      <th>2</th>\n",
       "      <td>2</td>\n",
       "      <td>12622.0</td>\n",
       "      <td>Minnesota Twins</td>\n",
       "      <td>0</td>\n",
       "      <td>5</td>\n",
       "      <td>2</td>\n",
       "      <td>2016-04-06</td>\n",
       "      <td>on grass</td>\n",
       "      <td>Night Game</td>\n",
       "      <td>Baltimore Orioles</td>\n",
       "      <td>...</td>\n",
       "      <td>48.0</td>\n",
       "      <td>7.0</td>\n",
       "      <td>out to Leftfield</td>\n",
       "      <td>Unknown</td>\n",
       "      <td>6</td>\n",
       "      <td>3.183333</td>\n",
       "      <td>regular season</td>\n",
       "      <td>1</td>\n",
       "      <td>0</td>\n",
       "      <td>Win</td>\n",
       "    </tr>\n",
       "    <tr>\n",
       "      <th>3</th>\n",
       "      <td>3</td>\n",
       "      <td>18531.0</td>\n",
       "      <td>Washington Nationals</td>\n",
       "      <td>0</td>\n",
       "      <td>8</td>\n",
       "      <td>3</td>\n",
       "      <td>2016-04-06</td>\n",
       "      <td>on grass</td>\n",
       "      <td>Night Game</td>\n",
       "      <td>Atlanta Braves</td>\n",
       "      <td>...</td>\n",
       "      <td>65.0</td>\n",
       "      <td>10.0</td>\n",
       "      <td>from Right to Left</td>\n",
       "      <td>Cloudy</td>\n",
       "      <td>4</td>\n",
       "      <td>2.883333</td>\n",
       "      <td>regular season</td>\n",
       "      <td>0</td>\n",
       "      <td>1</td>\n",
       "      <td>Loss</td>\n",
       "    </tr>\n",
       "    <tr>\n",
       "      <th>4</th>\n",
       "      <td>4</td>\n",
       "      <td>18572.0</td>\n",
       "      <td>Colorado Rockies</td>\n",
       "      <td>1</td>\n",
       "      <td>8</td>\n",
       "      <td>4</td>\n",
       "      <td>2016-04-06</td>\n",
       "      <td>on grass</td>\n",
       "      <td>Day Game</td>\n",
       "      <td>Arizona Diamondbacks</td>\n",
       "      <td>...</td>\n",
       "      <td>77.0</td>\n",
       "      <td>0.0</td>\n",
       "      <td>in unknown direction</td>\n",
       "      <td>In Dome</td>\n",
       "      <td>7</td>\n",
       "      <td>2.650000</td>\n",
       "      <td>regular season</td>\n",
       "      <td>0</td>\n",
       "      <td>1</td>\n",
       "      <td>Loss</td>\n",
       "    </tr>\n",
       "  </tbody>\n",
       "</table>\n",
       "<p>5 rows × 26 columns</p>\n",
       "</div>"
      ],
      "text/plain": [
       "   Unnamed: 0  attendance              away_team  away_team_errors  \\\n",
       "0           0     40030.0          New York Mets                 1   \n",
       "1           1     21621.0  Philadelphia Phillies                 0   \n",
       "2           2     12622.0        Minnesota Twins                 0   \n",
       "3           3     18531.0   Washington Nationals                 0   \n",
       "4           4     18572.0       Colorado Rockies                 1   \n",
       "\n",
       "   away_team_hits  away_team_runs        date field_type   game_type  \\\n",
       "0               7               3  2016-04-03   on grass  Night Game   \n",
       "1               5               2  2016-04-06   on grass  Night Game   \n",
       "2               5               2  2016-04-06   on grass  Night Game   \n",
       "3               8               3  2016-04-06   on grass  Night Game   \n",
       "4               8               4  2016-04-06   on grass    Day Game   \n",
       "\n",
       "              home_team  ...  temperature  wind_speed         wind_direction  \\\n",
       "0    Kansas City Royals  ...         74.0        14.0     from Right to Left   \n",
       "1       Cincinnati Reds  ...         55.0        24.0     from Right to Left   \n",
       "2     Baltimore Orioles  ...         48.0         7.0       out to Leftfield   \n",
       "3        Atlanta Braves  ...         65.0        10.0     from Right to Left   \n",
       "4  Arizona Diamondbacks  ...         77.0         0.0   in unknown direction   \n",
       "\n",
       "        sky total_runs game_hours_dec          season  home_team_win  \\\n",
       "0     Sunny          7       3.216667  regular season              1   \n",
       "1  Overcast          5       2.383333  regular season              1   \n",
       "2   Unknown          6       3.183333  regular season              1   \n",
       "3    Cloudy          4       2.883333  regular season              0   \n",
       "4   In Dome          7       2.650000  regular season              0   \n",
       "\n",
       "  home_team_loss home_team_outcome  \n",
       "0              0               Win  \n",
       "1              0               Win  \n",
       "2              0               Win  \n",
       "3              1              Loss  \n",
       "4              1              Loss  \n",
       "\n",
       "[5 rows x 26 columns]"
      ]
     },
     "execution_count": 2201,
     "metadata": {},
     "output_type": "execute_result"
    }
   ],
   "source": [
    "# Загрузите датасет и проведите его очистку и форматирование если это необходимо\n",
    "df = pd.read_csv(\"baseball_games.csv\")\n",
    "df.head(5)"
   ]
  },
  {
   "cell_type": "markdown",
   "metadata": {},
   "source": [
    "Столбец \"Unnamed: 0\" полностью дублирует индекс, поэтому он удален. Кроме того, тип данных в столбце \"attendance\" переведен в Int64."
   ]
  },
  {
   "cell_type": "code",
   "execution_count": 2202,
   "metadata": {},
   "outputs": [],
   "source": [
    "del df['Unnamed: 0']\n",
    "df = df.astype({\"attendance\": \"Int64\"}, errors=\"ignore\")"
   ]
  },
  {
   "cell_type": "markdown",
   "metadata": {},
   "source": [
    "Изучим исходную таблицу с помощью функции info(). Данные указывают, что столбец \"attendance\" имеет 3 значения NaN. Изучение поставленных вопросов (это вопросы нахождения минимального и максимального значений, а также построения ковариационной матрицы) свидетельствует о том, что это обстоятельство не оказывает влияния на осуществляемый анализ."
   ]
  },
  {
   "cell_type": "code",
   "execution_count": 2203,
   "metadata": {},
   "outputs": [
    {
     "name": "stdout",
     "output_type": "stream",
     "text": [
      "<class 'pandas.core.frame.DataFrame'>\n",
      "RangeIndex: 2463 entries, 0 to 2462\n",
      "Data columns (total 25 columns):\n",
      " #   Column             Non-Null Count  Dtype  \n",
      "---  ------             --------------  -----  \n",
      " 0   attendance         2460 non-null   Int64  \n",
      " 1   away_team          2463 non-null   object \n",
      " 2   away_team_errors   2463 non-null   int64  \n",
      " 3   away_team_hits     2463 non-null   int64  \n",
      " 4   away_team_runs     2463 non-null   int64  \n",
      " 5   date               2463 non-null   object \n",
      " 6   field_type         2463 non-null   object \n",
      " 7   game_type          2463 non-null   object \n",
      " 8   home_team          2463 non-null   object \n",
      " 9   home_team_errors   2463 non-null   int64  \n",
      " 10  home_team_hits     2463 non-null   int64  \n",
      " 11  home_team_runs     2463 non-null   int64  \n",
      " 12  start_time         2463 non-null   object \n",
      " 13  venue              2463 non-null   object \n",
      " 14  day_of_week        2463 non-null   object \n",
      " 15  temperature        2463 non-null   float64\n",
      " 16  wind_speed         2463 non-null   float64\n",
      " 17  wind_direction     2463 non-null   object \n",
      " 18  sky                2463 non-null   object \n",
      " 19  total_runs         2463 non-null   int64  \n",
      " 20  game_hours_dec     2463 non-null   float64\n",
      " 21  season             2463 non-null   object \n",
      " 22  home_team_win      2463 non-null   int64  \n",
      " 23  home_team_loss     2463 non-null   int64  \n",
      " 24  home_team_outcome  2463 non-null   object \n",
      "dtypes: Int64(1), float64(3), int64(9), object(12)\n",
      "memory usage: 483.6+ KB\n"
     ]
    }
   ],
   "source": [
    "df.info()"
   ]
  },
  {
   "cell_type": "markdown",
   "metadata": {},
   "source": [
    "Анализ вопросов, поставленных в этом задании, показывает, что большинство из них касаются определения максимального и минимального значений. Поэтому для упрощения анализа зададим функцию MaxMinValue, которая позволит выделять строки таблицы, удовлетворяющие заданному условию."
   ]
  },
  {
   "cell_type": "code",
   "execution_count": 2204,
   "metadata": {},
   "outputs": [],
   "source": [
    "def MaxMinValue(table, column, function):\n",
    "    \"\"\"Функция для расчета статистической функции для выбранного столбца указанной таблицы. Результатом будет таблица, строки которой удовлетворяют заданному условию\"\"\"\n",
    "    return table[table[column] == table[column].apply(function, axis=1)]"
   ]
  },
  {
   "cell_type": "markdown",
   "metadata": {},
   "source": [
    "Изучение вопросов, поставленных в этом задании, показывает, что в ряде случаев анализ следует проводить для части сезона, относящегося к регулярному сезону. Поэтому выберем строки, относящиеся к регулярному сезону, и просвоим их соответствующей переменной."
   ]
  },
  {
   "cell_type": "code",
   "execution_count": 2205,
   "metadata": {},
   "outputs": [
    {
     "data": {
      "text/html": [
       "<div>\n",
       "<style scoped>\n",
       "    .dataframe tbody tr th:only-of-type {\n",
       "        vertical-align: middle;\n",
       "    }\n",
       "\n",
       "    .dataframe tbody tr th {\n",
       "        vertical-align: top;\n",
       "    }\n",
       "\n",
       "    .dataframe thead th {\n",
       "        text-align: right;\n",
       "    }\n",
       "</style>\n",
       "<table border=\"1\" class=\"dataframe\">\n",
       "  <thead>\n",
       "    <tr style=\"text-align: right;\">\n",
       "      <th></th>\n",
       "      <th>attendance</th>\n",
       "      <th>away_team</th>\n",
       "      <th>away_team_errors</th>\n",
       "      <th>away_team_hits</th>\n",
       "      <th>away_team_runs</th>\n",
       "      <th>date</th>\n",
       "      <th>field_type</th>\n",
       "      <th>game_type</th>\n",
       "      <th>home_team</th>\n",
       "      <th>home_team_errors</th>\n",
       "      <th>...</th>\n",
       "      <th>temperature</th>\n",
       "      <th>wind_speed</th>\n",
       "      <th>wind_direction</th>\n",
       "      <th>sky</th>\n",
       "      <th>total_runs</th>\n",
       "      <th>game_hours_dec</th>\n",
       "      <th>season</th>\n",
       "      <th>home_team_win</th>\n",
       "      <th>home_team_loss</th>\n",
       "      <th>home_team_outcome</th>\n",
       "    </tr>\n",
       "  </thead>\n",
       "  <tbody>\n",
       "    <tr>\n",
       "      <th>0</th>\n",
       "      <td>40030</td>\n",
       "      <td>New York Mets</td>\n",
       "      <td>1</td>\n",
       "      <td>7</td>\n",
       "      <td>3</td>\n",
       "      <td>2016-04-03</td>\n",
       "      <td>on grass</td>\n",
       "      <td>Night Game</td>\n",
       "      <td>Kansas City Royals</td>\n",
       "      <td>0</td>\n",
       "      <td>...</td>\n",
       "      <td>74.0</td>\n",
       "      <td>14.0</td>\n",
       "      <td>from Right to Left</td>\n",
       "      <td>Sunny</td>\n",
       "      <td>7</td>\n",
       "      <td>3.216667</td>\n",
       "      <td>regular season</td>\n",
       "      <td>1</td>\n",
       "      <td>0</td>\n",
       "      <td>Win</td>\n",
       "    </tr>\n",
       "    <tr>\n",
       "      <th>1</th>\n",
       "      <td>21621</td>\n",
       "      <td>Philadelphia Phillies</td>\n",
       "      <td>0</td>\n",
       "      <td>5</td>\n",
       "      <td>2</td>\n",
       "      <td>2016-04-06</td>\n",
       "      <td>on grass</td>\n",
       "      <td>Night Game</td>\n",
       "      <td>Cincinnati Reds</td>\n",
       "      <td>0</td>\n",
       "      <td>...</td>\n",
       "      <td>55.0</td>\n",
       "      <td>24.0</td>\n",
       "      <td>from Right to Left</td>\n",
       "      <td>Overcast</td>\n",
       "      <td>5</td>\n",
       "      <td>2.383333</td>\n",
       "      <td>regular season</td>\n",
       "      <td>1</td>\n",
       "      <td>0</td>\n",
       "      <td>Win</td>\n",
       "    </tr>\n",
       "    <tr>\n",
       "      <th>2</th>\n",
       "      <td>12622</td>\n",
       "      <td>Minnesota Twins</td>\n",
       "      <td>0</td>\n",
       "      <td>5</td>\n",
       "      <td>2</td>\n",
       "      <td>2016-04-06</td>\n",
       "      <td>on grass</td>\n",
       "      <td>Night Game</td>\n",
       "      <td>Baltimore Orioles</td>\n",
       "      <td>0</td>\n",
       "      <td>...</td>\n",
       "      <td>48.0</td>\n",
       "      <td>7.0</td>\n",
       "      <td>out to Leftfield</td>\n",
       "      <td>Unknown</td>\n",
       "      <td>6</td>\n",
       "      <td>3.183333</td>\n",
       "      <td>regular season</td>\n",
       "      <td>1</td>\n",
       "      <td>0</td>\n",
       "      <td>Win</td>\n",
       "    </tr>\n",
       "    <tr>\n",
       "      <th>3</th>\n",
       "      <td>18531</td>\n",
       "      <td>Washington Nationals</td>\n",
       "      <td>0</td>\n",
       "      <td>8</td>\n",
       "      <td>3</td>\n",
       "      <td>2016-04-06</td>\n",
       "      <td>on grass</td>\n",
       "      <td>Night Game</td>\n",
       "      <td>Atlanta Braves</td>\n",
       "      <td>1</td>\n",
       "      <td>...</td>\n",
       "      <td>65.0</td>\n",
       "      <td>10.0</td>\n",
       "      <td>from Right to Left</td>\n",
       "      <td>Cloudy</td>\n",
       "      <td>4</td>\n",
       "      <td>2.883333</td>\n",
       "      <td>regular season</td>\n",
       "      <td>0</td>\n",
       "      <td>1</td>\n",
       "      <td>Loss</td>\n",
       "    </tr>\n",
       "    <tr>\n",
       "      <th>4</th>\n",
       "      <td>18572</td>\n",
       "      <td>Colorado Rockies</td>\n",
       "      <td>1</td>\n",
       "      <td>8</td>\n",
       "      <td>4</td>\n",
       "      <td>2016-04-06</td>\n",
       "      <td>on grass</td>\n",
       "      <td>Day Game</td>\n",
       "      <td>Arizona Diamondbacks</td>\n",
       "      <td>0</td>\n",
       "      <td>...</td>\n",
       "      <td>77.0</td>\n",
       "      <td>0.0</td>\n",
       "      <td>in unknown direction</td>\n",
       "      <td>In Dome</td>\n",
       "      <td>7</td>\n",
       "      <td>2.650000</td>\n",
       "      <td>regular season</td>\n",
       "      <td>0</td>\n",
       "      <td>1</td>\n",
       "      <td>Loss</td>\n",
       "    </tr>\n",
       "  </tbody>\n",
       "</table>\n",
       "<p>5 rows × 25 columns</p>\n",
       "</div>"
      ],
      "text/plain": [
       "   attendance              away_team  away_team_errors  away_team_hits  \\\n",
       "0       40030          New York Mets                 1               7   \n",
       "1       21621  Philadelphia Phillies                 0               5   \n",
       "2       12622        Minnesota Twins                 0               5   \n",
       "3       18531   Washington Nationals                 0               8   \n",
       "4       18572       Colorado Rockies                 1               8   \n",
       "\n",
       "   away_team_runs        date field_type   game_type             home_team  \\\n",
       "0               3  2016-04-03   on grass  Night Game    Kansas City Royals   \n",
       "1               2  2016-04-06   on grass  Night Game       Cincinnati Reds   \n",
       "2               2  2016-04-06   on grass  Night Game     Baltimore Orioles   \n",
       "3               3  2016-04-06   on grass  Night Game        Atlanta Braves   \n",
       "4               4  2016-04-06   on grass    Day Game  Arizona Diamondbacks   \n",
       "\n",
       "   home_team_errors  ...  temperature  wind_speed         wind_direction  \\\n",
       "0                 0  ...         74.0        14.0     from Right to Left   \n",
       "1                 0  ...         55.0        24.0     from Right to Left   \n",
       "2                 0  ...         48.0         7.0       out to Leftfield   \n",
       "3                 1  ...         65.0        10.0     from Right to Left   \n",
       "4                 0  ...         77.0         0.0   in unknown direction   \n",
       "\n",
       "        sky total_runs  game_hours_dec          season home_team_win  \\\n",
       "0     Sunny          7        3.216667  regular season             1   \n",
       "1  Overcast          5        2.383333  regular season             1   \n",
       "2   Unknown          6        3.183333  regular season             1   \n",
       "3    Cloudy          4        2.883333  regular season             0   \n",
       "4   In Dome          7        2.650000  regular season             0   \n",
       "\n",
       "  home_team_loss  home_team_outcome  \n",
       "0              0                Win  \n",
       "1              0                Win  \n",
       "2              0                Win  \n",
       "3              1               Loss  \n",
       "4              1               Loss  \n",
       "\n",
       "[5 rows x 25 columns]"
      ]
     },
     "execution_count": 2205,
     "metadata": {},
     "output_type": "execute_result"
    }
   ],
   "source": [
    "df_regular_season = df[df[\"season\"] == \"regular season\"]\n",
    "df_regular_season.head()"
   ]
  },
  {
   "cell_type": "markdown",
   "metadata": {
    "pycharm": {
     "name": "#%% md\n"
    }
   },
   "source": [
    "# 1. На какую игру пришло максимальное количество зрителей за весь сезон игр?"
   ]
  },
  {
   "cell_type": "markdown",
   "metadata": {},
   "source": [
    "Выведем сводную статистику для столбца \"attendance\". Обратим внимание на максимальное значение. Для определения игры с максимальным количеством зрителей используем функцию MaxMinValue."
   ]
  },
  {
   "cell_type": "code",
   "execution_count": 2206,
   "metadata": {},
   "outputs": [
    {
     "data": {
      "text/plain": [
       "count          2425.0\n",
       "mean     30168.937732\n",
       "std       9781.205573\n",
       "min            8766.0\n",
       "25%           22274.0\n",
       "50%           30357.0\n",
       "75%           38089.0\n",
       "max           53621.0\n",
       "Name: attendance, dtype: Float64"
      ]
     },
     "execution_count": 2206,
     "metadata": {},
     "output_type": "execute_result"
    }
   ],
   "source": [
    "df_regular_season[\"attendance\"].describe()"
   ]
  },
  {
   "cell_type": "code",
   "execution_count": 2207,
   "metadata": {},
   "outputs": [
    {
     "data": {
      "text/html": [
       "<div>\n",
       "<style scoped>\n",
       "    .dataframe tbody tr th:only-of-type {\n",
       "        vertical-align: middle;\n",
       "    }\n",
       "\n",
       "    .dataframe tbody tr th {\n",
       "        vertical-align: top;\n",
       "    }\n",
       "\n",
       "    .dataframe thead th {\n",
       "        text-align: right;\n",
       "    }\n",
       "</style>\n",
       "<table border=\"1\" class=\"dataframe\">\n",
       "  <thead>\n",
       "    <tr style=\"text-align: right;\">\n",
       "      <th></th>\n",
       "      <th>attendance</th>\n",
       "      <th>away_team</th>\n",
       "      <th>away_team_errors</th>\n",
       "      <th>away_team_hits</th>\n",
       "      <th>away_team_runs</th>\n",
       "      <th>date</th>\n",
       "      <th>field_type</th>\n",
       "      <th>game_type</th>\n",
       "      <th>home_team</th>\n",
       "      <th>home_team_errors</th>\n",
       "      <th>...</th>\n",
       "      <th>temperature</th>\n",
       "      <th>wind_speed</th>\n",
       "      <th>wind_direction</th>\n",
       "      <th>sky</th>\n",
       "      <th>total_runs</th>\n",
       "      <th>game_hours_dec</th>\n",
       "      <th>season</th>\n",
       "      <th>home_team_win</th>\n",
       "      <th>home_team_loss</th>\n",
       "      <th>home_team_outcome</th>\n",
       "    </tr>\n",
       "  </thead>\n",
       "  <tbody>\n",
       "    <tr>\n",
       "      <th>534</th>\n",
       "      <td>53621</td>\n",
       "      <td>San Francisco Giants</td>\n",
       "      <td>1</td>\n",
       "      <td>11</td>\n",
       "      <td>2</td>\n",
       "      <td>2016-09-20</td>\n",
       "      <td>on grass</td>\n",
       "      <td>Night Game</td>\n",
       "      <td>Los Angeles Dodgers</td>\n",
       "      <td>0</td>\n",
       "      <td>...</td>\n",
       "      <td>77.0</td>\n",
       "      <td>6.0</td>\n",
       "      <td>out to Rightfield</td>\n",
       "      <td>Cloudy</td>\n",
       "      <td>2</td>\n",
       "      <td>3.6</td>\n",
       "      <td>regular season</td>\n",
       "      <td>0</td>\n",
       "      <td>1</td>\n",
       "      <td>Loss</td>\n",
       "    </tr>\n",
       "  </tbody>\n",
       "</table>\n",
       "<p>1 rows × 25 columns</p>\n",
       "</div>"
      ],
      "text/plain": [
       "     attendance             away_team  away_team_errors  away_team_hits  \\\n",
       "534       53621  San Francisco Giants                 1              11   \n",
       "\n",
       "     away_team_runs        date field_type   game_type            home_team  \\\n",
       "534               2  2016-09-20   on grass  Night Game  Los Angeles Dodgers   \n",
       "\n",
       "     home_team_errors  ...  temperature  wind_speed      wind_direction  \\\n",
       "534                 0  ...         77.0         6.0   out to Rightfield   \n",
       "\n",
       "        sky total_runs  game_hours_dec          season home_team_win  \\\n",
       "534  Cloudy          2             3.6  regular season             0   \n",
       "\n",
       "    home_team_loss  home_team_outcome  \n",
       "534              1               Loss  \n",
       "\n",
       "[1 rows x 25 columns]"
      ]
     },
     "execution_count": 2207,
     "metadata": {},
     "output_type": "execute_result"
    }
   ],
   "source": [
    "MaxMinValue(df_regular_season, \"attendance\", \"max\")"
   ]
  },
  {
   "cell_type": "markdown",
   "metadata": {},
   "source": [
    "Наибольшее количество зрителей (53621) в ходе регулярного сезона посетили игру San Francisco Giants и Los Angeles Dodgers, состоявшуюся 20.09.2016."
   ]
  },
  {
   "cell_type": "markdown",
   "metadata": {
    "pycharm": {
     "name": "#%% md\n"
    }
   },
   "source": [
    "# 2. Какая игра была самая холодная (temperature) за весь сезон?"
   ]
  },
  {
   "cell_type": "markdown",
   "metadata": {},
   "source": [
    "Выведем сводную статистику для столбца \"temperature\". Обратим внимание на минимальное значение. Для определения игры с минимальной температурой используем функцию MaxMinValue."
   ]
  },
  {
   "cell_type": "code",
   "execution_count": 2208,
   "metadata": {},
   "outputs": [
    {
     "data": {
      "text/plain": [
       "count    2428.000000\n",
       "mean       73.914333\n",
       "std        10.549121\n",
       "min        31.000000\n",
       "25%        67.000000\n",
       "50%        74.000000\n",
       "75%        81.000000\n",
       "max       101.000000\n",
       "Name: temperature, dtype: float64"
      ]
     },
     "execution_count": 2208,
     "metadata": {},
     "output_type": "execute_result"
    }
   ],
   "source": [
    "df_regular_season[\"temperature\"].describe()"
   ]
  },
  {
   "cell_type": "code",
   "execution_count": 2209,
   "metadata": {},
   "outputs": [
    {
     "data": {
      "text/html": [
       "<div>\n",
       "<style scoped>\n",
       "    .dataframe tbody tr th:only-of-type {\n",
       "        vertical-align: middle;\n",
       "    }\n",
       "\n",
       "    .dataframe tbody tr th {\n",
       "        vertical-align: top;\n",
       "    }\n",
       "\n",
       "    .dataframe thead th {\n",
       "        text-align: right;\n",
       "    }\n",
       "</style>\n",
       "<table border=\"1\" class=\"dataframe\">\n",
       "  <thead>\n",
       "    <tr style=\"text-align: right;\">\n",
       "      <th></th>\n",
       "      <th>attendance</th>\n",
       "      <th>away_team</th>\n",
       "      <th>away_team_errors</th>\n",
       "      <th>away_team_hits</th>\n",
       "      <th>away_team_runs</th>\n",
       "      <th>date</th>\n",
       "      <th>field_type</th>\n",
       "      <th>game_type</th>\n",
       "      <th>home_team</th>\n",
       "      <th>home_team_errors</th>\n",
       "      <th>...</th>\n",
       "      <th>temperature</th>\n",
       "      <th>wind_speed</th>\n",
       "      <th>wind_direction</th>\n",
       "      <th>sky</th>\n",
       "      <th>total_runs</th>\n",
       "      <th>game_hours_dec</th>\n",
       "      <th>season</th>\n",
       "      <th>home_team_win</th>\n",
       "      <th>home_team_loss</th>\n",
       "      <th>home_team_outcome</th>\n",
       "    </tr>\n",
       "  </thead>\n",
       "  <tbody>\n",
       "    <tr>\n",
       "      <th>2409</th>\n",
       "      <td>32419</td>\n",
       "      <td>New York Yankees</td>\n",
       "      <td>1</td>\n",
       "      <td>13</td>\n",
       "      <td>8</td>\n",
       "      <td>2016-04-09</td>\n",
       "      <td>on grass</td>\n",
       "      <td>Day Game</td>\n",
       "      <td>Detroit Tigers</td>\n",
       "      <td>1</td>\n",
       "      <td>...</td>\n",
       "      <td>31.0</td>\n",
       "      <td>18.0</td>\n",
       "      <td>from Left to Right</td>\n",
       "      <td>Cloudy</td>\n",
       "      <td>12</td>\n",
       "      <td>3.333333</td>\n",
       "      <td>regular season</td>\n",
       "      <td>0</td>\n",
       "      <td>1</td>\n",
       "      <td>Loss</td>\n",
       "    </tr>\n",
       "  </tbody>\n",
       "</table>\n",
       "<p>1 rows × 25 columns</p>\n",
       "</div>"
      ],
      "text/plain": [
       "      attendance         away_team  away_team_errors  away_team_hits  \\\n",
       "2409       32419  New York Yankees                 1              13   \n",
       "\n",
       "      away_team_runs        date field_type game_type       home_team  \\\n",
       "2409               8  2016-04-09   on grass  Day Game  Detroit Tigers   \n",
       "\n",
       "      home_team_errors  ...  temperature  wind_speed       wind_direction  \\\n",
       "2409                 1  ...         31.0        18.0   from Left to Right   \n",
       "\n",
       "         sky total_runs  game_hours_dec          season home_team_win  \\\n",
       "2409  Cloudy         12        3.333333  regular season             0   \n",
       "\n",
       "     home_team_loss  home_team_outcome  \n",
       "2409              1               Loss  \n",
       "\n",
       "[1 rows x 25 columns]"
      ]
     },
     "execution_count": 2209,
     "metadata": {},
     "output_type": "execute_result"
    }
   ],
   "source": [
    "MaxMinValue(df_regular_season, \"temperature\", \"min\")"
   ]
  },
  {
   "cell_type": "markdown",
   "metadata": {},
   "source": [
    "При самой низкой температуре (31 град. Фаренгейта) проходила игра между New York Yankees и Detroit Tigers, состоявшаяся 09.04.2016"
   ]
  },
  {
   "cell_type": "markdown",
   "metadata": {
    "pycharm": {
     "name": "#%% md\n"
    }
   },
   "source": [
    "# 3. Какая игра была самая теплая за весь сезон?"
   ]
  },
  {
   "cell_type": "markdown",
   "metadata": {},
   "source": [
    "Используем сводную статистику для столбца \"temperature\", приведенную выше. Обратим внимание на максимальное значение. Для определения игры с максимальной температурой используем функцию MaxMinValue."
   ]
  },
  {
   "cell_type": "code",
   "execution_count": 2210,
   "metadata": {},
   "outputs": [
    {
     "data": {
      "text/html": [
       "<div>\n",
       "<style scoped>\n",
       "    .dataframe tbody tr th:only-of-type {\n",
       "        vertical-align: middle;\n",
       "    }\n",
       "\n",
       "    .dataframe tbody tr th {\n",
       "        vertical-align: top;\n",
       "    }\n",
       "\n",
       "    .dataframe thead th {\n",
       "        text-align: right;\n",
       "    }\n",
       "</style>\n",
       "<table border=\"1\" class=\"dataframe\">\n",
       "  <thead>\n",
       "    <tr style=\"text-align: right;\">\n",
       "      <th></th>\n",
       "      <th>attendance</th>\n",
       "      <th>away_team</th>\n",
       "      <th>away_team_errors</th>\n",
       "      <th>away_team_hits</th>\n",
       "      <th>away_team_runs</th>\n",
       "      <th>date</th>\n",
       "      <th>field_type</th>\n",
       "      <th>game_type</th>\n",
       "      <th>home_team</th>\n",
       "      <th>home_team_errors</th>\n",
       "      <th>...</th>\n",
       "      <th>temperature</th>\n",
       "      <th>wind_speed</th>\n",
       "      <th>wind_direction</th>\n",
       "      <th>sky</th>\n",
       "      <th>total_runs</th>\n",
       "      <th>game_hours_dec</th>\n",
       "      <th>season</th>\n",
       "      <th>home_team_win</th>\n",
       "      <th>home_team_loss</th>\n",
       "      <th>home_team_outcome</th>\n",
       "    </tr>\n",
       "  </thead>\n",
       "  <tbody>\n",
       "    <tr>\n",
       "      <th>2026</th>\n",
       "      <td>21753</td>\n",
       "      <td>San Francisco Giants</td>\n",
       "      <td>0</td>\n",
       "      <td>8</td>\n",
       "      <td>3</td>\n",
       "      <td>2016-05-13</td>\n",
       "      <td>on grass</td>\n",
       "      <td>Night Game</td>\n",
       "      <td>Arizona Diamondbacks</td>\n",
       "      <td>0</td>\n",
       "      <td>...</td>\n",
       "      <td>101.0</td>\n",
       "      <td>9.0</td>\n",
       "      <td>in unknown direction</td>\n",
       "      <td>Sunny</td>\n",
       "      <td>4</td>\n",
       "      <td>3.0</td>\n",
       "      <td>regular season</td>\n",
       "      <td>0</td>\n",
       "      <td>1</td>\n",
       "      <td>Loss</td>\n",
       "    </tr>\n",
       "  </tbody>\n",
       "</table>\n",
       "<p>1 rows × 25 columns</p>\n",
       "</div>"
      ],
      "text/plain": [
       "      attendance             away_team  away_team_errors  away_team_hits  \\\n",
       "2026       21753  San Francisco Giants                 0               8   \n",
       "\n",
       "      away_team_runs        date field_type   game_type             home_team  \\\n",
       "2026               3  2016-05-13   on grass  Night Game  Arizona Diamondbacks   \n",
       "\n",
       "      home_team_errors  ...  temperature  wind_speed         wind_direction  \\\n",
       "2026                 0  ...        101.0         9.0   in unknown direction   \n",
       "\n",
       "        sky total_runs  game_hours_dec          season home_team_win  \\\n",
       "2026  Sunny          4             3.0  regular season             0   \n",
       "\n",
       "     home_team_loss  home_team_outcome  \n",
       "2026              1               Loss  \n",
       "\n",
       "[1 rows x 25 columns]"
      ]
     },
     "execution_count": 2210,
     "metadata": {},
     "output_type": "execute_result"
    }
   ],
   "source": [
    "MaxMinValue(df_regular_season, \"temperature\", \"max\")"
   ]
  },
  {
   "cell_type": "markdown",
   "metadata": {},
   "source": [
    "При самой высокой температуре (101 град. Фаренгейта) проходила игра между San Francisco Giants и Arizona Diamondbacks, состоявшаяся 13.05.2016"
   ]
  },
  {
   "cell_type": "markdown",
   "metadata": {
    "pycharm": {
     "name": "#%% md\n"
    }
   },
   "source": [
    "# 4. Какая игра в сезоне была самая долгая по продолжительности матча?"
   ]
  },
  {
   "cell_type": "markdown",
   "metadata": {},
   "source": [
    "Выведем сводную статистику для столбца \"game_hours_dec\". Обратим внимание на максимальное значение. Для определения игры с максимальной продолжительностью используем функцию MaxMinValue."
   ]
  },
  {
   "cell_type": "code",
   "execution_count": 2211,
   "metadata": {},
   "outputs": [
    {
     "data": {
      "text/plain": [
       "count    2428.000000\n",
       "mean        3.079517\n",
       "std         0.455968\n",
       "min         1.250000\n",
       "25%         2.783333\n",
       "50%         3.033333\n",
       "75%         3.300000\n",
       "max         6.216667\n",
       "Name: game_hours_dec, dtype: float64"
      ]
     },
     "execution_count": 2211,
     "metadata": {},
     "output_type": "execute_result"
    }
   ],
   "source": [
    "df_regular_season[\"game_hours_dec\"].describe()"
   ]
  },
  {
   "cell_type": "code",
   "execution_count": 2212,
   "metadata": {},
   "outputs": [
    {
     "data": {
      "text/html": [
       "<div>\n",
       "<style scoped>\n",
       "    .dataframe tbody tr th:only-of-type {\n",
       "        vertical-align: middle;\n",
       "    }\n",
       "\n",
       "    .dataframe tbody tr th {\n",
       "        vertical-align: top;\n",
       "    }\n",
       "\n",
       "    .dataframe thead th {\n",
       "        text-align: right;\n",
       "    }\n",
       "</style>\n",
       "<table border=\"1\" class=\"dataframe\">\n",
       "  <thead>\n",
       "    <tr style=\"text-align: right;\">\n",
       "      <th></th>\n",
       "      <th>attendance</th>\n",
       "      <th>away_team</th>\n",
       "      <th>away_team_errors</th>\n",
       "      <th>away_team_hits</th>\n",
       "      <th>away_team_runs</th>\n",
       "      <th>date</th>\n",
       "      <th>field_type</th>\n",
       "      <th>game_type</th>\n",
       "      <th>home_team</th>\n",
       "      <th>home_team_errors</th>\n",
       "      <th>...</th>\n",
       "      <th>temperature</th>\n",
       "      <th>wind_speed</th>\n",
       "      <th>wind_direction</th>\n",
       "      <th>sky</th>\n",
       "      <th>total_runs</th>\n",
       "      <th>game_hours_dec</th>\n",
       "      <th>season</th>\n",
       "      <th>home_team_win</th>\n",
       "      <th>home_team_loss</th>\n",
       "      <th>home_team_outcome</th>\n",
       "    </tr>\n",
       "  </thead>\n",
       "  <tbody>\n",
       "    <tr>\n",
       "      <th>1445</th>\n",
       "      <td>45825</td>\n",
       "      <td>Cleveland Indians</td>\n",
       "      <td>0</td>\n",
       "      <td>15</td>\n",
       "      <td>2</td>\n",
       "      <td>2016-07-01</td>\n",
       "      <td>on turf</td>\n",
       "      <td>Day Game</td>\n",
       "      <td>Toronto Blue Jays</td>\n",
       "      <td>2</td>\n",
       "      <td>...</td>\n",
       "      <td>68.0</td>\n",
       "      <td>0.0</td>\n",
       "      <td>in unknown direction</td>\n",
       "      <td>In Dome</td>\n",
       "      <td>3</td>\n",
       "      <td>6.216667</td>\n",
       "      <td>regular season</td>\n",
       "      <td>0</td>\n",
       "      <td>1</td>\n",
       "      <td>Loss</td>\n",
       "    </tr>\n",
       "  </tbody>\n",
       "</table>\n",
       "<p>1 rows × 25 columns</p>\n",
       "</div>"
      ],
      "text/plain": [
       "      attendance          away_team  away_team_errors  away_team_hits  \\\n",
       "1445       45825  Cleveland Indians                 0              15   \n",
       "\n",
       "      away_team_runs        date field_type game_type          home_team  \\\n",
       "1445               2  2016-07-01    on turf  Day Game  Toronto Blue Jays   \n",
       "\n",
       "      home_team_errors  ...  temperature  wind_speed         wind_direction  \\\n",
       "1445                 2  ...         68.0         0.0   in unknown direction   \n",
       "\n",
       "          sky total_runs  game_hours_dec          season home_team_win  \\\n",
       "1445  In Dome          3        6.216667  regular season             0   \n",
       "\n",
       "     home_team_loss  home_team_outcome  \n",
       "1445              1               Loss  \n",
       "\n",
       "[1 rows x 25 columns]"
      ]
     },
     "execution_count": 2212,
     "metadata": {},
     "output_type": "execute_result"
    }
   ],
   "source": [
    "MaxMinValue(df_regular_season, \"game_hours_dec\", \"max\")"
   ]
  },
  {
   "cell_type": "markdown",
   "metadata": {},
   "source": [
    "Максимальную продолжительность (6,22 часов) имела игра между Cleveland Indians и Toronto Blue Jays, состоявшаяся 01.07.2016."
   ]
  },
  {
   "cell_type": "markdown",
   "metadata": {
    "pycharm": {
     "name": "#%% md\n"
    }
   },
   "source": [
    "# 5. Какая игра в сезоне была самая короткая по продолжительности матча?"
   ]
  },
  {
   "cell_type": "markdown",
   "metadata": {},
   "source": [
    "Изучим выше сводную статистику для столбца \"game_hours_dec\". Обратим внимание на минимальное значение. Для определения игры с минимальной продолжительностью используем функцию MaxMinValue."
   ]
  },
  {
   "cell_type": "code",
   "execution_count": 2213,
   "metadata": {},
   "outputs": [
    {
     "data": {
      "text/html": [
       "<div>\n",
       "<style scoped>\n",
       "    .dataframe tbody tr th:only-of-type {\n",
       "        vertical-align: middle;\n",
       "    }\n",
       "\n",
       "    .dataframe tbody tr th {\n",
       "        vertical-align: top;\n",
       "    }\n",
       "\n",
       "    .dataframe thead th {\n",
       "        text-align: right;\n",
       "    }\n",
       "</style>\n",
       "<table border=\"1\" class=\"dataframe\">\n",
       "  <thead>\n",
       "    <tr style=\"text-align: right;\">\n",
       "      <th></th>\n",
       "      <th>attendance</th>\n",
       "      <th>away_team</th>\n",
       "      <th>away_team_errors</th>\n",
       "      <th>away_team_hits</th>\n",
       "      <th>away_team_runs</th>\n",
       "      <th>date</th>\n",
       "      <th>field_type</th>\n",
       "      <th>game_type</th>\n",
       "      <th>home_team</th>\n",
       "      <th>home_team_errors</th>\n",
       "      <th>...</th>\n",
       "      <th>temperature</th>\n",
       "      <th>wind_speed</th>\n",
       "      <th>wind_direction</th>\n",
       "      <th>sky</th>\n",
       "      <th>total_runs</th>\n",
       "      <th>game_hours_dec</th>\n",
       "      <th>season</th>\n",
       "      <th>home_team_win</th>\n",
       "      <th>home_team_loss</th>\n",
       "      <th>home_team_outcome</th>\n",
       "    </tr>\n",
       "  </thead>\n",
       "  <tbody>\n",
       "    <tr>\n",
       "      <th>423</th>\n",
       "      <td>19991</td>\n",
       "      <td>Chicago Cubs</td>\n",
       "      <td>1</td>\n",
       "      <td>4</td>\n",
       "      <td>1</td>\n",
       "      <td>2016-09-29</td>\n",
       "      <td>on grass</td>\n",
       "      <td>Night Game</td>\n",
       "      <td>Pittsburgh Pirates</td>\n",
       "      <td>0</td>\n",
       "      <td>...</td>\n",
       "      <td>63.0</td>\n",
       "      <td>12.0</td>\n",
       "      <td>in from Leftfield</td>\n",
       "      <td>Overcast</td>\n",
       "      <td>2</td>\n",
       "      <td>1.25</td>\n",
       "      <td>regular season</td>\n",
       "      <td>0</td>\n",
       "      <td>0</td>\n",
       "      <td>Loss</td>\n",
       "    </tr>\n",
       "  </tbody>\n",
       "</table>\n",
       "<p>1 rows × 25 columns</p>\n",
       "</div>"
      ],
      "text/plain": [
       "     attendance     away_team  away_team_errors  away_team_hits  \\\n",
       "423       19991  Chicago Cubs                 1               4   \n",
       "\n",
       "     away_team_runs        date field_type   game_type           home_team  \\\n",
       "423               1  2016-09-29   on grass  Night Game  Pittsburgh Pirates   \n",
       "\n",
       "     home_team_errors  ...  temperature  wind_speed      wind_direction  \\\n",
       "423                 0  ...         63.0        12.0   in from Leftfield   \n",
       "\n",
       "          sky total_runs  game_hours_dec          season home_team_win  \\\n",
       "423  Overcast          2            1.25  regular season             0   \n",
       "\n",
       "    home_team_loss  home_team_outcome  \n",
       "423              0               Loss  \n",
       "\n",
       "[1 rows x 25 columns]"
      ]
     },
     "execution_count": 2213,
     "metadata": {},
     "output_type": "execute_result"
    }
   ],
   "source": [
    "MaxMinValue(df_regular_season, \"game_hours_dec\", \"min\")"
   ]
  },
  {
   "cell_type": "markdown",
   "metadata": {},
   "source": [
    "Минимальную продолжительность (1,25 часов) имела игра между Chicago Cubs и Pittsburg Pirates, состоявшаяся 29.09.2016."
   ]
  },
  {
   "cell_type": "markdown",
   "metadata": {
    "pycharm": {
     "name": "#%% md\n"
    }
   },
   "source": [
    "# 6. Сколько матчей в сезоне закончилось ничьей?"
   ]
  },
  {
   "cell_type": "markdown",
   "metadata": {},
   "source": [
    "Известно, что в бейсболе, как правило, игры не имеют ничейного исхода. Проверим это утверждение с помощью столбца \"home_team_outcome\", найдя для него уникальные значения. Как видим, в нем указаны только значения \"Win\" и \"Loss\". Т.е. он подтверждает утверждение об отсутствии ничейных результатов."
   ]
  },
  {
   "cell_type": "code",
   "execution_count": 2214,
   "metadata": {
    "pycharm": {
     "name": "#%%\n"
    }
   },
   "outputs": [
    {
     "data": {
      "text/plain": [
       "array(['Win', 'Loss'], dtype=object)"
      ]
     },
     "execution_count": 2214,
     "metadata": {},
     "output_type": "execute_result"
    }
   ],
   "source": [
    "df_regular_season[\"home_team_outcome\"].unique()"
   ]
  },
  {
   "cell_type": "markdown",
   "metadata": {},
   "source": [
    "Столбец \"home_team_outcome\", судя по всему, является производным и создан на основе данных столбцов \"home_team_win\" и \"home_team_loss\". Проверим корректность данных, приведенных в столбце \"home_team_outcome\". Возможно, в нем допущена ошибка. "
   ]
  },
  {
   "cell_type": "markdown",
   "metadata": {},
   "source": [
    "Для начала посмотрим на уникальные значения, используемые в столбцах \"home_team_win\" и \"home_team_loss\". Как видим, здесь ошибок нет."
   ]
  },
  {
   "cell_type": "code",
   "execution_count": 2215,
   "metadata": {},
   "outputs": [
    {
     "data": {
      "text/plain": [
       "(array([1, 0]), array([0, 1]))"
      ]
     },
     "execution_count": 2215,
     "metadata": {},
     "output_type": "execute_result"
    }
   ],
   "source": [
    "df_regular_season[\"home_team_win\"].unique(), df_regular_season[\"home_team_loss\"].unique()"
   ]
  },
  {
   "cell_type": "markdown",
   "metadata": {},
   "source": [
    "Создадим маски для всех возможных вариантов обозначения исходов игры для домашней команды."
   ]
  },
  {
   "cell_type": "code",
   "execution_count": 2216,
   "metadata": {},
   "outputs": [],
   "source": [
    "mask_loss_0 = df_regular_season[\"home_team_loss\"] == 0\n",
    "mask_loss_1 = df_regular_season[\"home_team_loss\"] == 1\n",
    "mask_win_0 = df_regular_season[\"home_team_win\"] == 0\n",
    "mask_win_1 = df_regular_season[\"home_team_win\"] == 1"
   ]
  },
  {
   "cell_type": "markdown",
   "metadata": {},
   "source": [
    "Для проверки используем следующие условия: при победе домашней команды мы должны получать значение 1 в столбце \"home_team_win\" и 0 в столбце \"home_team_loss\" одновременно со значением \"Win\" в столбце \"home_team_outcome\". В случае побед домашних команд условие выполняется. С помощью функции all() мы получаем True."
   ]
  },
  {
   "cell_type": "code",
   "execution_count": 2217,
   "metadata": {},
   "outputs": [
    {
     "data": {
      "text/plain": [
       "True"
      ]
     },
     "execution_count": 2217,
     "metadata": {},
     "output_type": "execute_result"
    }
   ],
   "source": [
    "all((((mask_win_1) & (mask_loss_0)) == (df_regular_season[\"home_team_outcome\"] == \"Win\")))"
   ]
  },
  {
   "cell_type": "markdown",
   "metadata": {},
   "source": [
    "Однако в случае поражения домашней команды при проверке с помощью команды all() мы получаем результат False. Т.е. условие не выполняется. В столбце \"home_team_outcome\" допущена ошибка."
   ]
  },
  {
   "cell_type": "code",
   "execution_count": 2218,
   "metadata": {},
   "outputs": [
    {
     "data": {
      "text/plain": [
       "False"
      ]
     },
     "execution_count": 2218,
     "metadata": {},
     "output_type": "execute_result"
    }
   ],
   "source": [
    "all((((mask_win_0) & (mask_loss_1)) == (df_regular_season[\"home_team_outcome\"] == \"Loss\")))"
   ]
  },
  {
   "cell_type": "markdown",
   "metadata": {},
   "source": [
    "Проверим условие, когда для столбцов \"home_team_loss\" и \"home_team_win\" одновременно указано либо два 0, либо две 1, чего в стандартном случае наблюдаться не должно."
   ]
  },
  {
   "cell_type": "code",
   "execution_count": 2219,
   "metadata": {},
   "outputs": [
    {
     "data": {
      "text/html": [
       "<div>\n",
       "<style scoped>\n",
       "    .dataframe tbody tr th:only-of-type {\n",
       "        vertical-align: middle;\n",
       "    }\n",
       "\n",
       "    .dataframe tbody tr th {\n",
       "        vertical-align: top;\n",
       "    }\n",
       "\n",
       "    .dataframe thead th {\n",
       "        text-align: right;\n",
       "    }\n",
       "</style>\n",
       "<table border=\"1\" class=\"dataframe\">\n",
       "  <thead>\n",
       "    <tr style=\"text-align: right;\">\n",
       "      <th></th>\n",
       "      <th>attendance</th>\n",
       "      <th>away_team</th>\n",
       "      <th>away_team_errors</th>\n",
       "      <th>away_team_hits</th>\n",
       "      <th>away_team_runs</th>\n",
       "      <th>date</th>\n",
       "      <th>field_type</th>\n",
       "      <th>game_type</th>\n",
       "      <th>home_team</th>\n",
       "      <th>home_team_errors</th>\n",
       "      <th>...</th>\n",
       "      <th>temperature</th>\n",
       "      <th>wind_speed</th>\n",
       "      <th>wind_direction</th>\n",
       "      <th>sky</th>\n",
       "      <th>total_runs</th>\n",
       "      <th>game_hours_dec</th>\n",
       "      <th>season</th>\n",
       "      <th>home_team_win</th>\n",
       "      <th>home_team_loss</th>\n",
       "      <th>home_team_outcome</th>\n",
       "    </tr>\n",
       "  </thead>\n",
       "  <tbody>\n",
       "    <tr>\n",
       "      <th>423</th>\n",
       "      <td>19991</td>\n",
       "      <td>Chicago Cubs</td>\n",
       "      <td>1</td>\n",
       "      <td>4</td>\n",
       "      <td>1</td>\n",
       "      <td>2016-09-29</td>\n",
       "      <td>on grass</td>\n",
       "      <td>Night Game</td>\n",
       "      <td>Pittsburgh Pirates</td>\n",
       "      <td>0</td>\n",
       "      <td>...</td>\n",
       "      <td>63.0</td>\n",
       "      <td>12.0</td>\n",
       "      <td>in from Leftfield</td>\n",
       "      <td>Overcast</td>\n",
       "      <td>2</td>\n",
       "      <td>1.25</td>\n",
       "      <td>regular season</td>\n",
       "      <td>0</td>\n",
       "      <td>0</td>\n",
       "      <td>Loss</td>\n",
       "    </tr>\n",
       "  </tbody>\n",
       "</table>\n",
       "<p>1 rows × 25 columns</p>\n",
       "</div>"
      ],
      "text/plain": [
       "     attendance     away_team  away_team_errors  away_team_hits  \\\n",
       "423       19991  Chicago Cubs                 1               4   \n",
       "\n",
       "     away_team_runs        date field_type   game_type           home_team  \\\n",
       "423               1  2016-09-29   on grass  Night Game  Pittsburgh Pirates   \n",
       "\n",
       "     home_team_errors  ...  temperature  wind_speed      wind_direction  \\\n",
       "423                 0  ...         63.0        12.0   in from Leftfield   \n",
       "\n",
       "          sky total_runs  game_hours_dec          season home_team_win  \\\n",
       "423  Overcast          2            1.25  regular season             0   \n",
       "\n",
       "    home_team_loss  home_team_outcome  \n",
       "423              0               Loss  \n",
       "\n",
       "[1 rows x 25 columns]"
      ]
     },
     "execution_count": 2219,
     "metadata": {},
     "output_type": "execute_result"
    }
   ],
   "source": [
    "df_regular_season[((mask_win_0) & (mask_loss_0)) | ((mask_win_1) & (mask_loss_1))]"
   ]
  },
  {
   "cell_type": "markdown",
   "metadata": {},
   "source": [
    "Мы обнаружили аномальную игру, в которой домашней команде присвоены значения 0 в столбцах \"home_team_loss\" и \"home_team_win\". Поиск информации о данной игре свидетельствует о том, что игра между Chicago Cubs и Pittsburg Pirates, состоявшаяся 29.09.2016, не была завершена вследствие плохой погоды. В этой игре, действительно, был зафиксирован ничейный результат, что случается довольно редко. Именно поэтому эта игра оказалась самой короткой по продолжительности (вопрос 5)."
   ]
  },
  {
   "cell_type": "markdown",
   "metadata": {
    "pycharm": {
     "name": "#%% md\n"
    }
   },
   "source": [
    "# 7. Какая игра была последней в сезоне?"
   ]
  },
  {
   "cell_type": "markdown",
   "metadata": {},
   "source": [
    "Для определения того, какая игра была последней в регулярном сезоне, дважды использовал функцию MaxMinValue, найдя сначала последний день, в который проводили игры, а затем для полученной таблицы использовал поиск максимального времени начала игры. В данном случае в качестве необходимого условия принимается единый часовой пояс для всей территории США."
   ]
  },
  {
   "cell_type": "code",
   "execution_count": 2220,
   "metadata": {},
   "outputs": [
    {
     "data": {
      "text/html": [
       "<div>\n",
       "<style scoped>\n",
       "    .dataframe tbody tr th:only-of-type {\n",
       "        vertical-align: middle;\n",
       "    }\n",
       "\n",
       "    .dataframe tbody tr th {\n",
       "        vertical-align: top;\n",
       "    }\n",
       "\n",
       "    .dataframe thead th {\n",
       "        text-align: right;\n",
       "    }\n",
       "</style>\n",
       "<table border=\"1\" class=\"dataframe\">\n",
       "  <thead>\n",
       "    <tr style=\"text-align: right;\">\n",
       "      <th></th>\n",
       "      <th>attendance</th>\n",
       "      <th>away_team</th>\n",
       "      <th>away_team_errors</th>\n",
       "      <th>away_team_hits</th>\n",
       "      <th>away_team_runs</th>\n",
       "      <th>date</th>\n",
       "      <th>field_type</th>\n",
       "      <th>game_type</th>\n",
       "      <th>home_team</th>\n",
       "      <th>home_team_errors</th>\n",
       "      <th>...</th>\n",
       "      <th>temperature</th>\n",
       "      <th>wind_speed</th>\n",
       "      <th>wind_direction</th>\n",
       "      <th>sky</th>\n",
       "      <th>total_runs</th>\n",
       "      <th>game_hours_dec</th>\n",
       "      <th>season</th>\n",
       "      <th>home_team_win</th>\n",
       "      <th>home_team_loss</th>\n",
       "      <th>home_team_outcome</th>\n",
       "    </tr>\n",
       "  </thead>\n",
       "  <tbody>\n",
       "    <tr>\n",
       "      <th>395</th>\n",
       "      <td>36787</td>\n",
       "      <td>Toronto Blue Jays</td>\n",
       "      <td>0</td>\n",
       "      <td>9</td>\n",
       "      <td>2</td>\n",
       "      <td>2016-10-02</td>\n",
       "      <td>on grass</td>\n",
       "      <td>Day Game</td>\n",
       "      <td>Boston Red Sox</td>\n",
       "      <td>1</td>\n",
       "      <td>...</td>\n",
       "      <td>56.0</td>\n",
       "      <td>6.0</td>\n",
       "      <td>out to Leftfield</td>\n",
       "      <td>Unknown</td>\n",
       "      <td>3</td>\n",
       "      <td>3.233333</td>\n",
       "      <td>regular season</td>\n",
       "      <td>0</td>\n",
       "      <td>1</td>\n",
       "      <td>Loss</td>\n",
       "    </tr>\n",
       "  </tbody>\n",
       "</table>\n",
       "<p>1 rows × 25 columns</p>\n",
       "</div>"
      ],
      "text/plain": [
       "     attendance          away_team  away_team_errors  away_team_hits  \\\n",
       "395       36787  Toronto Blue Jays                 0               9   \n",
       "\n",
       "     away_team_runs        date field_type game_type       home_team  \\\n",
       "395               2  2016-10-02   on grass  Day Game  Boston Red Sox   \n",
       "\n",
       "     home_team_errors  ...  temperature  wind_speed     wind_direction  \\\n",
       "395                 1  ...         56.0         6.0   out to Leftfield   \n",
       "\n",
       "         sky total_runs  game_hours_dec          season home_team_win  \\\n",
       "395  Unknown          3        3.233333  regular season             0   \n",
       "\n",
       "    home_team_loss  home_team_outcome  \n",
       "395              1               Loss  \n",
       "\n",
       "[1 rows x 25 columns]"
      ]
     },
     "execution_count": 2220,
     "metadata": {},
     "output_type": "execute_result"
    }
   ],
   "source": [
    "MaxMinValue(MaxMinValue(df_regular_season, \"date\", \"max\"), \"start_time\", \"max\")"
   ]
  },
  {
   "cell_type": "markdown",
   "metadata": {},
   "source": [
    "Последней в регулярном сезоне началась игра между Toronto Blue Jays и Boston Red Sox. Она началалась 02.10.2016 в 15:17. Стоит отметить, что в последний день регулярного сезона, т.е. 02.10.2016, состоялось 15 игр."
   ]
  },
  {
   "cell_type": "code",
   "execution_count": 2221,
   "metadata": {},
   "outputs": [
    {
     "data": {
      "text/plain": [
       "15"
      ]
     },
     "execution_count": 2221,
     "metadata": {},
     "output_type": "execute_result"
    }
   ],
   "source": [
    "len(MaxMinValue(df_regular_season, \"date\", \"max\"))"
   ]
  },
  {
   "cell_type": "markdown",
   "metadata": {
    "pycharm": {
     "name": "#%% md\n"
    }
   },
   "source": [
    "# 8. У какой игры было минимальное количество зрителей?"
   ]
  },
  {
   "cell_type": "markdown",
   "metadata": {},
   "source": [
    "Изучим сводную статистику для столбца \"attendance\". Обратим внимание на минимальное значение. Найдем минимальное значение с помощью функции MaxMinValue."
   ]
  },
  {
   "cell_type": "code",
   "execution_count": 2247,
   "metadata": {},
   "outputs": [
    {
     "data": {
      "text/plain": [
       "count          2460.0\n",
       "mean     30370.703659\n",
       "std       9875.466703\n",
       "min            8766.0\n",
       "25%           22432.0\n",
       "50%           30604.5\n",
       "75%          38396.25\n",
       "max           54449.0\n",
       "Name: attendance, dtype: Float64"
      ]
     },
     "execution_count": 2247,
     "metadata": {},
     "output_type": "execute_result"
    }
   ],
   "source": [
    "df[\"attendance\"].describe()"
   ]
  },
  {
   "cell_type": "code",
   "execution_count": 2222,
   "metadata": {},
   "outputs": [
    {
     "data": {
      "text/html": [
       "<div>\n",
       "<style scoped>\n",
       "    .dataframe tbody tr th:only-of-type {\n",
       "        vertical-align: middle;\n",
       "    }\n",
       "\n",
       "    .dataframe tbody tr th {\n",
       "        vertical-align: top;\n",
       "    }\n",
       "\n",
       "    .dataframe thead th {\n",
       "        text-align: right;\n",
       "    }\n",
       "</style>\n",
       "<table border=\"1\" class=\"dataframe\">\n",
       "  <thead>\n",
       "    <tr style=\"text-align: right;\">\n",
       "      <th></th>\n",
       "      <th>attendance</th>\n",
       "      <th>away_team</th>\n",
       "      <th>away_team_errors</th>\n",
       "      <th>away_team_hits</th>\n",
       "      <th>away_team_runs</th>\n",
       "      <th>date</th>\n",
       "      <th>field_type</th>\n",
       "      <th>game_type</th>\n",
       "      <th>home_team</th>\n",
       "      <th>home_team_errors</th>\n",
       "      <th>...</th>\n",
       "      <th>temperature</th>\n",
       "      <th>wind_speed</th>\n",
       "      <th>wind_direction</th>\n",
       "      <th>sky</th>\n",
       "      <th>total_runs</th>\n",
       "      <th>game_hours_dec</th>\n",
       "      <th>season</th>\n",
       "      <th>home_team_win</th>\n",
       "      <th>home_team_loss</th>\n",
       "      <th>home_team_outcome</th>\n",
       "    </tr>\n",
       "  </thead>\n",
       "  <tbody>\n",
       "    <tr>\n",
       "      <th>2130</th>\n",
       "      <td>8766</td>\n",
       "      <td>Detroit Tigers</td>\n",
       "      <td>0</td>\n",
       "      <td>5</td>\n",
       "      <td>0</td>\n",
       "      <td>2016-05-04</td>\n",
       "      <td>on grass</td>\n",
       "      <td>Night Game</td>\n",
       "      <td>Cleveland Indians</td>\n",
       "      <td>0</td>\n",
       "      <td>...</td>\n",
       "      <td>54.0</td>\n",
       "      <td>11.0</td>\n",
       "      <td>from Left to Right</td>\n",
       "      <td>Overcast</td>\n",
       "      <td>4</td>\n",
       "      <td>2.316667</td>\n",
       "      <td>regular season</td>\n",
       "      <td>1</td>\n",
       "      <td>0</td>\n",
       "      <td>Win</td>\n",
       "    </tr>\n",
       "  </tbody>\n",
       "</table>\n",
       "<p>1 rows × 25 columns</p>\n",
       "</div>"
      ],
      "text/plain": [
       "      attendance       away_team  away_team_errors  away_team_hits  \\\n",
       "2130        8766  Detroit Tigers                 0               5   \n",
       "\n",
       "      away_team_runs        date field_type   game_type          home_team  \\\n",
       "2130               0  2016-05-04   on grass  Night Game  Cleveland Indians   \n",
       "\n",
       "      home_team_errors  ...  temperature  wind_speed       wind_direction  \\\n",
       "2130                 0  ...         54.0        11.0   from Left to Right   \n",
       "\n",
       "           sky total_runs  game_hours_dec          season home_team_win  \\\n",
       "2130  Overcast          4        2.316667  regular season             1   \n",
       "\n",
       "     home_team_loss  home_team_outcome  \n",
       "2130              0                Win  \n",
       "\n",
       "[1 rows x 25 columns]"
      ]
     },
     "execution_count": 2222,
     "metadata": {},
     "output_type": "execute_result"
    }
   ],
   "source": [
    "MaxMinValue(df, \"attendance\", \"min\")"
   ]
  },
  {
   "cell_type": "markdown",
   "metadata": {},
   "source": [
    "Минимальное количество зрителей (8766) среди всех игр присутствовало на матче между Detroit Tigers и Cleveland Indians, состоявшейся 04.05.2016."
   ]
  },
  {
   "cell_type": "markdown",
   "metadata": {
    "pycharm": {
     "name": "#%% md\n"
    }
   },
   "source": [
    "# 9. Какая игра в сезоне была самая ветренная?"
   ]
  },
  {
   "cell_type": "markdown",
   "metadata": {},
   "source": [
    "Изучим сводную статистику для столбца \"wind_speed\". Обратим внимание на максимальное значение. Найдем максимальное значение с помощью функции MaxMinValue."
   ]
  },
  {
   "cell_type": "code",
   "execution_count": 2223,
   "metadata": {
    "pycharm": {
     "name": "#%%\n"
    }
   },
   "outputs": [
    {
     "data": {
      "text/plain": [
       "count    2428.000000\n",
       "mean        7.485997\n",
       "std         5.061489\n",
       "min         0.000000\n",
       "25%         4.000000\n",
       "50%         7.000000\n",
       "75%        11.000000\n",
       "max        25.000000\n",
       "Name: wind_speed, dtype: float64"
      ]
     },
     "execution_count": 2223,
     "metadata": {},
     "output_type": "execute_result"
    }
   ],
   "source": [
    "df_regular_season[\"wind_speed\"].describe()"
   ]
  },
  {
   "cell_type": "code",
   "execution_count": 2224,
   "metadata": {},
   "outputs": [
    {
     "data": {
      "text/html": [
       "<div>\n",
       "<style scoped>\n",
       "    .dataframe tbody tr th:only-of-type {\n",
       "        vertical-align: middle;\n",
       "    }\n",
       "\n",
       "    .dataframe tbody tr th {\n",
       "        vertical-align: top;\n",
       "    }\n",
       "\n",
       "    .dataframe thead th {\n",
       "        text-align: right;\n",
       "    }\n",
       "</style>\n",
       "<table border=\"1\" class=\"dataframe\">\n",
       "  <thead>\n",
       "    <tr style=\"text-align: right;\">\n",
       "      <th></th>\n",
       "      <th>attendance</th>\n",
       "      <th>away_team</th>\n",
       "      <th>away_team_errors</th>\n",
       "      <th>away_team_hits</th>\n",
       "      <th>away_team_runs</th>\n",
       "      <th>date</th>\n",
       "      <th>field_type</th>\n",
       "      <th>game_type</th>\n",
       "      <th>home_team</th>\n",
       "      <th>home_team_errors</th>\n",
       "      <th>...</th>\n",
       "      <th>temperature</th>\n",
       "      <th>wind_speed</th>\n",
       "      <th>wind_direction</th>\n",
       "      <th>sky</th>\n",
       "      <th>total_runs</th>\n",
       "      <th>game_hours_dec</th>\n",
       "      <th>season</th>\n",
       "      <th>home_team_win</th>\n",
       "      <th>home_team_loss</th>\n",
       "      <th>home_team_outcome</th>\n",
       "    </tr>\n",
       "  </thead>\n",
       "  <tbody>\n",
       "    <tr>\n",
       "      <th>1655</th>\n",
       "      <td>41543</td>\n",
       "      <td>Milwaukee Brewers</td>\n",
       "      <td>1</td>\n",
       "      <td>11</td>\n",
       "      <td>5</td>\n",
       "      <td>2016-06-13</td>\n",
       "      <td>on grass</td>\n",
       "      <td>Night Game</td>\n",
       "      <td>San Francisco Giants</td>\n",
       "      <td>0</td>\n",
       "      <td>...</td>\n",
       "      <td>58.0</td>\n",
       "      <td>25.0</td>\n",
       "      <td>out to Centerfield</td>\n",
       "      <td>Cloudy</td>\n",
       "      <td>16</td>\n",
       "      <td>3.633333</td>\n",
       "      <td>regular season</td>\n",
       "      <td>1</td>\n",
       "      <td>0</td>\n",
       "      <td>Win</td>\n",
       "    </tr>\n",
       "    <tr>\n",
       "      <th>2005</th>\n",
       "      <td>35736</td>\n",
       "      <td>Houston Astros</td>\n",
       "      <td>2</td>\n",
       "      <td>8</td>\n",
       "      <td>9</td>\n",
       "      <td>2016-05-15</td>\n",
       "      <td>on grass</td>\n",
       "      <td>Day Game</td>\n",
       "      <td>Boston Red Sox</td>\n",
       "      <td>3</td>\n",
       "      <td>...</td>\n",
       "      <td>58.0</td>\n",
       "      <td>25.0</td>\n",
       "      <td>out to Rightfield</td>\n",
       "      <td>Cloudy</td>\n",
       "      <td>19</td>\n",
       "      <td>3.666667</td>\n",
       "      <td>regular season</td>\n",
       "      <td>1</td>\n",
       "      <td>0</td>\n",
       "      <td>Win</td>\n",
       "    </tr>\n",
       "  </tbody>\n",
       "</table>\n",
       "<p>2 rows × 25 columns</p>\n",
       "</div>"
      ],
      "text/plain": [
       "      attendance          away_team  away_team_errors  away_team_hits  \\\n",
       "1655       41543  Milwaukee Brewers                 1              11   \n",
       "2005       35736     Houston Astros                 2               8   \n",
       "\n",
       "      away_team_runs        date field_type   game_type             home_team  \\\n",
       "1655               5  2016-06-13   on grass  Night Game  San Francisco Giants   \n",
       "2005               9  2016-05-15   on grass    Day Game        Boston Red Sox   \n",
       "\n",
       "      home_team_errors  ...  temperature  wind_speed       wind_direction  \\\n",
       "1655                 0  ...         58.0        25.0   out to Centerfield   \n",
       "2005                 3  ...         58.0        25.0    out to Rightfield   \n",
       "\n",
       "         sky total_runs  game_hours_dec          season home_team_win  \\\n",
       "1655  Cloudy         16        3.633333  regular season             1   \n",
       "2005  Cloudy         19        3.666667  regular season             1   \n",
       "\n",
       "     home_team_loss  home_team_outcome  \n",
       "1655              0                Win  \n",
       "2005              0                Win  \n",
       "\n",
       "[2 rows x 25 columns]"
      ]
     },
     "execution_count": 2224,
     "metadata": {},
     "output_type": "execute_result"
    }
   ],
   "source": [
    "MaxMinValue(df_regular_season, \"wind_speed\", \"max\")"
   ]
  },
  {
   "cell_type": "markdown",
   "metadata": {},
   "source": [
    "Самыми ветренными (25 ед.) были 2 игры: игра между Milwaukee Brewers и San Francisco Giants, состоявшаяся 13.06.2016, и игра между Houston Astros и Boston Red Sox, состоявшаяся 15.05.2016."
   ]
  },
  {
   "cell_type": "markdown",
   "metadata": {
    "pycharm": {
     "name": "#%% md\n"
    }
   },
   "source": [
    "# 10. В какой игре получили максимальное количество очков?"
   ]
  },
  {
   "cell_type": "markdown",
   "metadata": {},
   "source": [
    "Изучим сводную статистику для столбца \"total_runs\". Обратим внимание на максимальное значение."
   ]
  },
  {
   "cell_type": "code",
   "execution_count": 2225,
   "metadata": {},
   "outputs": [
    {
     "data": {
      "text/plain": [
       "count    2463.000000\n",
       "mean        8.933415\n",
       "std         4.480352\n",
       "min         1.000000\n",
       "25%         6.000000\n",
       "50%         8.000000\n",
       "75%        12.000000\n",
       "max        29.000000\n",
       "Name: total_runs, dtype: float64"
      ]
     },
     "execution_count": 2225,
     "metadata": {},
     "output_type": "execute_result"
    }
   ],
   "source": [
    "df[\"total_runs\"].describe()"
   ]
  },
  {
   "cell_type": "markdown",
   "metadata": {},
   "source": [
    "Столбец \"total_runs\", для которого мы собираемся проводить вычисления, также, судя по всему, является производным и созданным путем суммирования данных столбцов \"home_team_runs\" и \"away_team_runs\". Проведем проверку на отсутствие ошибок."
   ]
  },
  {
   "cell_type": "code",
   "execution_count": 2226,
   "metadata": {},
   "outputs": [
    {
     "data": {
      "text/plain": [
       "True"
      ]
     },
     "execution_count": 2226,
     "metadata": {},
     "output_type": "execute_result"
    }
   ],
   "source": [
    "all((df[\"home_team_runs\"] + df[\"away_team_runs\"]) == df[\"total_runs\"])"
   ]
  },
  {
   "cell_type": "markdown",
   "metadata": {},
   "source": [
    "Найдем строку с максимальным значением с помощью функции MaxMinValue."
   ]
  },
  {
   "cell_type": "code",
   "execution_count": 2227,
   "metadata": {},
   "outputs": [
    {
     "data": {
      "text/html": [
       "<div>\n",
       "<style scoped>\n",
       "    .dataframe tbody tr th:only-of-type {\n",
       "        vertical-align: middle;\n",
       "    }\n",
       "\n",
       "    .dataframe tbody tr th {\n",
       "        vertical-align: top;\n",
       "    }\n",
       "\n",
       "    .dataframe thead th {\n",
       "        text-align: right;\n",
       "    }\n",
       "</style>\n",
       "<table border=\"1\" class=\"dataframe\">\n",
       "  <thead>\n",
       "    <tr style=\"text-align: right;\">\n",
       "      <th></th>\n",
       "      <th>attendance</th>\n",
       "      <th>away_team</th>\n",
       "      <th>away_team_errors</th>\n",
       "      <th>away_team_hits</th>\n",
       "      <th>away_team_runs</th>\n",
       "      <th>date</th>\n",
       "      <th>field_type</th>\n",
       "      <th>game_type</th>\n",
       "      <th>home_team</th>\n",
       "      <th>home_team_errors</th>\n",
       "      <th>...</th>\n",
       "      <th>temperature</th>\n",
       "      <th>wind_speed</th>\n",
       "      <th>wind_direction</th>\n",
       "      <th>sky</th>\n",
       "      <th>total_runs</th>\n",
       "      <th>game_hours_dec</th>\n",
       "      <th>season</th>\n",
       "      <th>home_team_win</th>\n",
       "      <th>home_team_loss</th>\n",
       "      <th>home_team_outcome</th>\n",
       "    </tr>\n",
       "  </thead>\n",
       "  <tbody>\n",
       "    <tr>\n",
       "      <th>1788</th>\n",
       "      <td>22588</td>\n",
       "      <td>Seattle Mariners</td>\n",
       "      <td>1</td>\n",
       "      <td>16</td>\n",
       "      <td>16</td>\n",
       "      <td>2016-06-02</td>\n",
       "      <td>on grass</td>\n",
       "      <td>Night Game</td>\n",
       "      <td>San Diego Padres</td>\n",
       "      <td>1</td>\n",
       "      <td>...</td>\n",
       "      <td>76.0</td>\n",
       "      <td>10.0</td>\n",
       "      <td>out to Rightfield</td>\n",
       "      <td>Sunny</td>\n",
       "      <td>29</td>\n",
       "      <td>3.833333</td>\n",
       "      <td>regular season</td>\n",
       "      <td>0</td>\n",
       "      <td>1</td>\n",
       "      <td>Loss</td>\n",
       "    </tr>\n",
       "  </tbody>\n",
       "</table>\n",
       "<p>1 rows × 25 columns</p>\n",
       "</div>"
      ],
      "text/plain": [
       "      attendance         away_team  away_team_errors  away_team_hits  \\\n",
       "1788       22588  Seattle Mariners                 1              16   \n",
       "\n",
       "      away_team_runs        date field_type   game_type         home_team  \\\n",
       "1788              16  2016-06-02   on grass  Night Game  San Diego Padres   \n",
       "\n",
       "      home_team_errors  ...  temperature  wind_speed      wind_direction  \\\n",
       "1788                 1  ...         76.0        10.0   out to Rightfield   \n",
       "\n",
       "        sky total_runs  game_hours_dec          season home_team_win  \\\n",
       "1788  Sunny         29        3.833333  regular season             0   \n",
       "\n",
       "     home_team_loss  home_team_outcome  \n",
       "1788              1               Loss  \n",
       "\n",
       "[1 rows x 25 columns]"
      ]
     },
     "execution_count": 2227,
     "metadata": {},
     "output_type": "execute_result"
    }
   ],
   "source": [
    "MaxMinValue(df, \"total_runs\", \"max\")"
   ]
  },
  {
   "cell_type": "markdown",
   "metadata": {},
   "source": [
    "Максимальное количество ранов (29) было зафиксировано в игре между Seattle Mariners и San Diego Padres, состоявшейся 02.06.2016."
   ]
  },
  {
   "cell_type": "markdown",
   "metadata": {
    "pycharm": {
     "name": "#%% md\n"
    }
   },
   "source": [
    "# 11. Какая игра содержала максимальное количество ошибок домашней команды?"
   ]
  },
  {
   "cell_type": "markdown",
   "metadata": {},
   "source": [
    "Выведем сводную статистику для столбца \"home_team_errors\". Обратим внимание на максимальное значение. Найдем строку с максимальным значением с помощью функции MaxMinValue."
   ]
  },
  {
   "cell_type": "code",
   "execution_count": 2228,
   "metadata": {},
   "outputs": [
    {
     "data": {
      "text/plain": [
       "count    2463.000000\n",
       "mean        0.585871\n",
       "std         0.805542\n",
       "min         0.000000\n",
       "25%         0.000000\n",
       "50%         0.000000\n",
       "75%         1.000000\n",
       "max         5.000000\n",
       "Name: home_team_errors, dtype: float64"
      ]
     },
     "execution_count": 2228,
     "metadata": {},
     "output_type": "execute_result"
    }
   ],
   "source": [
    "df[\"home_team_errors\"].describe()"
   ]
  },
  {
   "cell_type": "code",
   "execution_count": 2229,
   "metadata": {
    "pycharm": {
     "name": "#%%\n"
    }
   },
   "outputs": [
    {
     "data": {
      "text/html": [
       "<div>\n",
       "<style scoped>\n",
       "    .dataframe tbody tr th:only-of-type {\n",
       "        vertical-align: middle;\n",
       "    }\n",
       "\n",
       "    .dataframe tbody tr th {\n",
       "        vertical-align: top;\n",
       "    }\n",
       "\n",
       "    .dataframe thead th {\n",
       "        text-align: right;\n",
       "    }\n",
       "</style>\n",
       "<table border=\"1\" class=\"dataframe\">\n",
       "  <thead>\n",
       "    <tr style=\"text-align: right;\">\n",
       "      <th></th>\n",
       "      <th>attendance</th>\n",
       "      <th>away_team</th>\n",
       "      <th>away_team_errors</th>\n",
       "      <th>away_team_hits</th>\n",
       "      <th>away_team_runs</th>\n",
       "      <th>date</th>\n",
       "      <th>field_type</th>\n",
       "      <th>game_type</th>\n",
       "      <th>home_team</th>\n",
       "      <th>home_team_errors</th>\n",
       "      <th>...</th>\n",
       "      <th>temperature</th>\n",
       "      <th>wind_speed</th>\n",
       "      <th>wind_direction</th>\n",
       "      <th>sky</th>\n",
       "      <th>total_runs</th>\n",
       "      <th>game_hours_dec</th>\n",
       "      <th>season</th>\n",
       "      <th>home_team_win</th>\n",
       "      <th>home_team_loss</th>\n",
       "      <th>home_team_outcome</th>\n",
       "    </tr>\n",
       "  </thead>\n",
       "  <tbody>\n",
       "    <tr>\n",
       "      <th>1178</th>\n",
       "      <td>22581</td>\n",
       "      <td>Arizona Diamondbacks</td>\n",
       "      <td>1</td>\n",
       "      <td>11</td>\n",
       "      <td>8</td>\n",
       "      <td>2016-07-27</td>\n",
       "      <td>on grass</td>\n",
       "      <td>Night Game</td>\n",
       "      <td>Milwaukee Brewers</td>\n",
       "      <td>5</td>\n",
       "      <td>...</td>\n",
       "      <td>77.0</td>\n",
       "      <td>9.0</td>\n",
       "      <td>in from Leftfield</td>\n",
       "      <td>Cloudy</td>\n",
       "      <td>9</td>\n",
       "      <td>2.933333</td>\n",
       "      <td>regular season</td>\n",
       "      <td>0</td>\n",
       "      <td>1</td>\n",
       "      <td>Loss</td>\n",
       "    </tr>\n",
       "  </tbody>\n",
       "</table>\n",
       "<p>1 rows × 25 columns</p>\n",
       "</div>"
      ],
      "text/plain": [
       "      attendance             away_team  away_team_errors  away_team_hits  \\\n",
       "1178       22581  Arizona Diamondbacks                 1              11   \n",
       "\n",
       "      away_team_runs        date field_type   game_type          home_team  \\\n",
       "1178               8  2016-07-27   on grass  Night Game  Milwaukee Brewers   \n",
       "\n",
       "      home_team_errors  ...  temperature  wind_speed      wind_direction  \\\n",
       "1178                 5  ...         77.0         9.0   in from Leftfield   \n",
       "\n",
       "         sky total_runs  game_hours_dec          season home_team_win  \\\n",
       "1178  Cloudy          9        2.933333  regular season             0   \n",
       "\n",
       "     home_team_loss  home_team_outcome  \n",
       "1178              1               Loss  \n",
       "\n",
       "[1 rows x 25 columns]"
      ]
     },
     "execution_count": 2229,
     "metadata": {},
     "output_type": "execute_result"
    }
   ],
   "source": [
    "MaxMinValue(df, \"home_team_errors\", \"max\")"
   ]
  },
  {
   "cell_type": "markdown",
   "metadata": {},
   "source": [
    "Максимальное количество ошибок домашней командой (5) было допущено в игре между Arizona Diamondbacks и Milwaukee Brewers, состоявшейся 27.07.2016."
   ]
  },
  {
   "cell_type": "markdown",
   "metadata": {
    "pycharm": {
     "name": "#%% md\n"
    }
   },
   "source": [
    "# 12. В какой игре было максимальное количество хитов?"
   ]
  },
  {
   "cell_type": "markdown",
   "metadata": {},
   "source": [
    "Создадим столбец \"total_hits\" как сумму данных столбцов \"home_team_hits\" и \"away_team_hits\". Найдем строку с максимальным значением с помощью функции MaxMinValue."
   ]
  },
  {
   "cell_type": "code",
   "execution_count": 2248,
   "metadata": {
    "pycharm": {
     "name": "#%%\n"
    }
   },
   "outputs": [
    {
     "data": {
      "text/plain": [
       "count    2463.000000\n",
       "mean       17.376370\n",
       "std         5.186455\n",
       "min         5.000000\n",
       "25%        14.000000\n",
       "50%        17.000000\n",
       "75%        21.000000\n",
       "max        37.000000\n",
       "Name: total_hits, dtype: float64"
      ]
     },
     "execution_count": 2248,
     "metadata": {},
     "output_type": "execute_result"
    }
   ],
   "source": [
    "df[\"total_hits\"] = df[\"home_team_hits\"] + df[\"away_team_hits\"]\n",
    "df[\"total_hits\"].describe()"
   ]
  },
  {
   "cell_type": "code",
   "execution_count": 2250,
   "metadata": {},
   "outputs": [
    {
     "data": {
      "text/html": [
       "<div>\n",
       "<style scoped>\n",
       "    .dataframe tbody tr th:only-of-type {\n",
       "        vertical-align: middle;\n",
       "    }\n",
       "\n",
       "    .dataframe tbody tr th {\n",
       "        vertical-align: top;\n",
       "    }\n",
       "\n",
       "    .dataframe thead th {\n",
       "        text-align: right;\n",
       "    }\n",
       "</style>\n",
       "<table border=\"1\" class=\"dataframe\">\n",
       "  <thead>\n",
       "    <tr style=\"text-align: right;\">\n",
       "      <th></th>\n",
       "      <th>attendance</th>\n",
       "      <th>away_team</th>\n",
       "      <th>away_team_errors</th>\n",
       "      <th>away_team_hits</th>\n",
       "      <th>away_team_runs</th>\n",
       "      <th>date</th>\n",
       "      <th>field_type</th>\n",
       "      <th>game_type</th>\n",
       "      <th>home_team</th>\n",
       "      <th>home_team_errors</th>\n",
       "      <th>...</th>\n",
       "      <th>wind_direction</th>\n",
       "      <th>sky</th>\n",
       "      <th>total_runs</th>\n",
       "      <th>game_hours_dec</th>\n",
       "      <th>season</th>\n",
       "      <th>home_team_win</th>\n",
       "      <th>home_team_loss</th>\n",
       "      <th>home_team_outcome</th>\n",
       "      <th>total_hits</th>\n",
       "      <th>temp_C</th>\n",
       "    </tr>\n",
       "  </thead>\n",
       "  <tbody>\n",
       "    <tr>\n",
       "      <th>1413</th>\n",
       "      <td>36253</td>\n",
       "      <td>Texas Rangers</td>\n",
       "      <td>0</td>\n",
       "      <td>16</td>\n",
       "      <td>5</td>\n",
       "      <td>2016-07-04</td>\n",
       "      <td>on grass</td>\n",
       "      <td>Day Game</td>\n",
       "      <td>Boston Red Sox</td>\n",
       "      <td>2</td>\n",
       "      <td>...</td>\n",
       "      <td>out to Centerfield</td>\n",
       "      <td>Cloudy</td>\n",
       "      <td>17</td>\n",
       "      <td>3.666667</td>\n",
       "      <td>regular season</td>\n",
       "      <td>1</td>\n",
       "      <td>0</td>\n",
       "      <td>Win</td>\n",
       "      <td>37</td>\n",
       "      <td>28.888889</td>\n",
       "    </tr>\n",
       "  </tbody>\n",
       "</table>\n",
       "<p>1 rows × 27 columns</p>\n",
       "</div>"
      ],
      "text/plain": [
       "      attendance      away_team  away_team_errors  away_team_hits  \\\n",
       "1413       36253  Texas Rangers                 0              16   \n",
       "\n",
       "      away_team_runs        date field_type game_type       home_team  \\\n",
       "1413               5  2016-07-04   on grass  Day Game  Boston Red Sox   \n",
       "\n",
       "      home_team_errors  ...       wind_direction     sky total_runs  \\\n",
       "1413                 2  ...   out to Centerfield  Cloudy         17   \n",
       "\n",
       "     game_hours_dec          season  home_team_win  home_team_loss  \\\n",
       "1413       3.666667  regular season              1               0   \n",
       "\n",
       "     home_team_outcome total_hits     temp_C  \n",
       "1413               Win         37  28.888889  \n",
       "\n",
       "[1 rows x 27 columns]"
      ]
     },
     "execution_count": 2250,
     "metadata": {},
     "output_type": "execute_result"
    }
   ],
   "source": [
    "MaxMinValue(df, \"total_hits\", \"max\")"
   ]
  },
  {
   "cell_type": "markdown",
   "metadata": {},
   "source": [
    "Максимальное количество хитов (37) было выполнено в игре между Texas Rangers и Boston Red Sox, состоявшейся 04.07.2016."
   ]
  },
  {
   "cell_type": "markdown",
   "metadata": {
    "pycharm": {
     "name": "#%% md\n"
    }
   },
   "source": [
    "# 13. Выведите количество игр которая сыграла каждая команда в данном сезоне?"
   ]
  },
  {
   "cell_type": "markdown",
   "metadata": {},
   "source": [
    "Чтобы определить количество игр, которое сыграла каждая команда в регулярном сезоне, суммируем количество игр, сыгранных командами в статусе домашней команды (\"home_team\") и в статусе гостевой команды (\"away_team\")."
   ]
  },
  {
   "cell_type": "code",
   "execution_count": 2232,
   "metadata": {
    "pycharm": {
     "name": "#%%\n"
    }
   },
   "outputs": [
    {
     "data": {
      "text/plain": [
       "Arizona Diamondbacks             162\n",
       "Atlanta Braves                   161\n",
       "Baltimore Orioles                162\n",
       "Boston Red Sox                   162\n",
       "Chicago Cubs                     162\n",
       "Chicago White Sox                162\n",
       "Cincinnati Reds                  162\n",
       "Cleveland Indians                161\n",
       "Colorado Rockies                 162\n",
       "Detroit Tigers                   161\n",
       "Houston Astros                   162\n",
       "Kansas City Royals               162\n",
       "Los Angeles Angels of Anaheim    162\n",
       "Los Angeles Dodgers              162\n",
       "Miami Marlins                    161\n",
       "Milwaukee Brewers                162\n",
       "Minnesota Twins                  162\n",
       "New York Mets                    162\n",
       "New York Yankees                 162\n",
       "Oakland Athletics                162\n",
       "Philadelphia Phillies            162\n",
       "Pittsburgh Pirates               162\n",
       "San Diego Padres                 162\n",
       "San Francisco Giants             162\n",
       "Seattle Mariners                 162\n",
       "St. Louis Cardinals              162\n",
       "Tampa Bay Rays                   162\n",
       "Texas Rangers                    162\n",
       "Toronto Blue Jays                162\n",
       "Washington Nationals             162\n",
       "Name: count, dtype: int64"
      ]
     },
     "execution_count": 2232,
     "metadata": {},
     "output_type": "execute_result"
    }
   ],
   "source": [
    "df_regular_season[\"home_team\"].value_counts() + df_regular_season[\"away_team\"].value_counts()"
   ]
  },
  {
   "cell_type": "markdown",
   "metadata": {},
   "source": [
    "Как видно, практически все команды сыграли по 162 игры. Однако для 4 команд количество игр составляет 161."
   ]
  },
  {
   "cell_type": "markdown",
   "metadata": {
    "pycharm": {
     "name": "#%% md\n"
    }
   },
   "source": [
    "# 14. Какая команда выиграла наибольшое количество матчей в сезоне? (Будьте внимательны с типом матча в сезоне - season)."
   ]
  },
  {
   "cell_type": "markdown",
   "metadata": {},
   "source": [
    "Чтобы определить, какая команда выиграла наибольшее количество матчей в сезоне, найдем количество выигранных матчей в статусе \"home_team\" и \"away_team\", используя маски mask_win_1 и mask_loss_1 (вопрос 6) соответственно. Эту задачу можно решить и на основе данных об исходе матчей (столбец \"home_team_outcome\"). Однако в этом столбце допущена одна ошибка для ничейного матча (для домашней команды указан результат \"Loss\"). Это обстоятельство необходимо было бы учитывать при анализе данных. При использовании упомянутых выше масок эта проблема отсутствует."
   ]
  },
  {
   "cell_type": "markdown",
   "metadata": {},
   "source": [
    "Количество выигранных домашних матчей:"
   ]
  },
  {
   "cell_type": "code",
   "execution_count": 2233,
   "metadata": {},
   "outputs": [
    {
     "data": {
      "text/plain": [
       "home_team\n",
       "Arizona Diamondbacks             33\n",
       "Atlanta Braves                   31\n",
       "Baltimore Orioles                50\n",
       "Boston Red Sox                   47\n",
       "Chicago Cubs                     57\n",
       "Chicago White Sox                45\n",
       "Cincinnati Reds                  38\n",
       "Cleveland Indians                53\n",
       "Colorado Rockies                 42\n",
       "Detroit Tigers                   45\n",
       "Houston Astros                   43\n",
       "Kansas City Royals               47\n",
       "Los Angeles Angels of Anaheim    40\n",
       "Los Angeles Dodgers              53\n",
       "Miami Marlins                    40\n",
       "Milwaukee Brewers                41\n",
       "Minnesota Twins                  30\n",
       "New York Mets                    44\n",
       "New York Yankees                 48\n",
       "Oakland Athletics                34\n",
       "Philadelphia Phillies            37\n",
       "Pittsburgh Pirates               38\n",
       "San Diego Padres                 39\n",
       "San Francisco Giants             45\n",
       "Seattle Mariners                 44\n",
       "St. Louis Cardinals              38\n",
       "Tampa Bay Rays                   36\n",
       "Texas Rangers                    53\n",
       "Toronto Blue Jays                46\n",
       "Washington Nationals             50\n",
       "dtype: int64"
      ]
     },
     "execution_count": 2233,
     "metadata": {},
     "output_type": "execute_result"
    }
   ],
   "source": [
    "df_home_team_win = df_regular_season[mask_win_1].groupby(\"home_team\").size()\n",
    "df_home_team_win"
   ]
  },
  {
   "cell_type": "markdown",
   "metadata": {},
   "source": [
    "Количество выигранных гостевых матчей:"
   ]
  },
  {
   "cell_type": "code",
   "execution_count": 2234,
   "metadata": {},
   "outputs": [
    {
     "data": {
      "text/plain": [
       "away_team\n",
       "Arizona Diamondbacks             36\n",
       "Atlanta Braves                   37\n",
       "Baltimore Orioles                39\n",
       "Boston Red Sox                   46\n",
       "Chicago Cubs                     46\n",
       "Chicago White Sox                33\n",
       "Cincinnati Reds                  30\n",
       "Cleveland Indians                41\n",
       "Colorado Rockies                 33\n",
       "Detroit Tigers                   41\n",
       "Houston Astros                   41\n",
       "Kansas City Royals               34\n",
       "Los Angeles Angels of Anaheim    34\n",
       "Los Angeles Dodgers              38\n",
       "Miami Marlins                    39\n",
       "Milwaukee Brewers                32\n",
       "Minnesota Twins                  29\n",
       "New York Mets                    43\n",
       "New York Yankees                 36\n",
       "Oakland Athletics                35\n",
       "Philadelphia Phillies            34\n",
       "Pittsburgh Pirates               40\n",
       "San Diego Padres                 29\n",
       "San Francisco Giants             42\n",
       "Seattle Mariners                 42\n",
       "St. Louis Cardinals              48\n",
       "Tampa Bay Rays                   32\n",
       "Texas Rangers                    42\n",
       "Toronto Blue Jays                43\n",
       "Washington Nationals             45\n",
       "dtype: int64"
      ]
     },
     "execution_count": 2234,
     "metadata": {},
     "output_type": "execute_result"
    }
   ],
   "source": [
    "df_away_team_win = df_regular_season[mask_loss_1].groupby(\"away_team\").size()\n",
    "df_away_team_win"
   ]
  },
  {
   "cell_type": "markdown",
   "metadata": {},
   "source": [
    "Складываем количество домашних и гостевых побед и сортируем по убыванию."
   ]
  },
  {
   "cell_type": "code",
   "execution_count": 2235,
   "metadata": {
    "pycharm": {
     "name": "#%%\n"
    }
   },
   "outputs": [
    {
     "data": {
      "text/plain": [
       "'Chicago Cubs'"
      ]
     },
     "execution_count": 2235,
     "metadata": {},
     "output_type": "execute_result"
    }
   ],
   "source": [
    "(df_home_team_win + df_away_team_win).sort_values(ascending=False).index[0]"
   ]
  },
  {
   "cell_type": "markdown",
   "metadata": {},
   "source": [
    "Командой, которая выиграла наибольшее количество матчей в сезоне, является команда \"Chicago Cubs\" (103 победы)."
   ]
  },
  {
   "cell_type": "markdown",
   "metadata": {
    "pycharm": {
     "name": "#%% md\n"
    }
   },
   "source": [
    "# 15. Какая команда выиграла наибольшее количество домашних матчей в сезоне?"
   ]
  },
  {
   "cell_type": "markdown",
   "metadata": {},
   "source": [
    "Эта задача была решена при ответе на 14-й вопрос (переменная df_home_team_win). Сортируем результат по убыванию и берем первое значение индекса."
   ]
  },
  {
   "cell_type": "code",
   "execution_count": 2236,
   "metadata": {
    "pycharm": {
     "name": "#%%\n"
    }
   },
   "outputs": [
    {
     "data": {
      "text/plain": [
       "'Chicago Cubs'"
      ]
     },
     "execution_count": 2236,
     "metadata": {},
     "output_type": "execute_result"
    }
   ],
   "source": [
    "df_home_team_win.sort_values(ascending=False).index[0]"
   ]
  },
  {
   "cell_type": "markdown",
   "metadata": {},
   "source": [
    "Командой, которая выиграла наибольшее количество дромашних матчей в сезоне, является команда \"Chicago Cubs\" (57 побед)."
   ]
  },
  {
   "cell_type": "markdown",
   "metadata": {
    "pycharm": {
     "name": "#%% md\n"
    }
   },
   "source": [
    "# 16. Какая команда выиграла наибольшее количество гостевых матчей в сезоне?"
   ]
  },
  {
   "cell_type": "markdown",
   "metadata": {},
   "source": [
    "Эта задача была решена при ответе на 14-й вопрос (переменная df_away_team_win). Сортируем результат по убыванию и берем первое значение индекса."
   ]
  },
  {
   "cell_type": "code",
   "execution_count": 2237,
   "metadata": {
    "pycharm": {
     "name": "#%%\n"
    }
   },
   "outputs": [
    {
     "data": {
      "text/plain": [
       "'St. Louis Cardinals'"
      ]
     },
     "execution_count": 2237,
     "metadata": {},
     "output_type": "execute_result"
    }
   ],
   "source": [
    "df_away_team_win.sort_values(ascending=False).index[0]"
   ]
  },
  {
   "cell_type": "markdown",
   "metadata": {},
   "source": [
    "Командой, которая выиграла наибольшее количество гостевых матчей в сезоне, является команда \"St. Louis Cardinals\" (48 побед)."
   ]
  },
  {
   "cell_type": "markdown",
   "metadata": {
    "pycharm": {
     "name": "#%% md\n"
    }
   },
   "source": [
    "# 17. Какая команда проиграла наибольшее количество матчей в сезоне?"
   ]
  },
  {
   "cell_type": "markdown",
   "metadata": {},
   "source": [
    "Эта задача также была решена при ответе на 14-й вопрос. Единственное различие - сортируем результат по возрастанию и берем первое значение индекса."
   ]
  },
  {
   "cell_type": "code",
   "execution_count": 2238,
   "metadata": {
    "pycharm": {
     "name": "#%%\n"
    }
   },
   "outputs": [
    {
     "data": {
      "text/plain": [
       "'Minnesota Twins'"
      ]
     },
     "execution_count": 2238,
     "metadata": {},
     "output_type": "execute_result"
    }
   ],
   "source": [
    "(df_home_team_win + df_away_team_win).sort_values(ascending=True).index[0]"
   ]
  },
  {
   "cell_type": "markdown",
   "metadata": {},
   "source": [
    "Командой, которая проиграла наибольшее количество матчей в сезоне, является команда \"Minnesota Twins\" (59 побед)."
   ]
  },
  {
   "cell_type": "markdown",
   "metadata": {
    "pycharm": {
     "name": "#%% md\n"
    }
   },
   "source": [
    "# 18. Зависит ли выигрыш от количества посетителей матча? (https://pandas.pydata.org/docs/reference/api/pandas.DataFrame.cov.html)"
   ]
  },
  {
   "cell_type": "markdown",
   "metadata": {},
   "source": [
    "Для ответа на вопрос построим ковариационную матрицу на основе таблицы, содержащей два столбца \"attendance\" и \"home_team_win\"."
   ]
  },
  {
   "cell_type": "code",
   "execution_count": 2239,
   "metadata": {},
   "outputs": [
    {
     "data": {
      "text/html": [
       "<div>\n",
       "<style scoped>\n",
       "    .dataframe tbody tr th:only-of-type {\n",
       "        vertical-align: middle;\n",
       "    }\n",
       "\n",
       "    .dataframe tbody tr th {\n",
       "        vertical-align: top;\n",
       "    }\n",
       "\n",
       "    .dataframe thead th {\n",
       "        text-align: right;\n",
       "    }\n",
       "</style>\n",
       "<table border=\"1\" class=\"dataframe\">\n",
       "  <thead>\n",
       "    <tr style=\"text-align: right;\">\n",
       "      <th></th>\n",
       "      <th>attendance</th>\n",
       "      <th>home_team_win</th>\n",
       "    </tr>\n",
       "  </thead>\n",
       "  <tbody>\n",
       "    <tr>\n",
       "      <th>0</th>\n",
       "      <td>40030</td>\n",
       "      <td>1</td>\n",
       "    </tr>\n",
       "    <tr>\n",
       "      <th>1</th>\n",
       "      <td>21621</td>\n",
       "      <td>1</td>\n",
       "    </tr>\n",
       "    <tr>\n",
       "      <th>2</th>\n",
       "      <td>12622</td>\n",
       "      <td>1</td>\n",
       "    </tr>\n",
       "    <tr>\n",
       "      <th>3</th>\n",
       "      <td>18531</td>\n",
       "      <td>0</td>\n",
       "    </tr>\n",
       "    <tr>\n",
       "      <th>4</th>\n",
       "      <td>18572</td>\n",
       "      <td>0</td>\n",
       "    </tr>\n",
       "    <tr>\n",
       "      <th>...</th>\n",
       "      <td>...</td>\n",
       "      <td>...</td>\n",
       "    </tr>\n",
       "    <tr>\n",
       "      <th>2458</th>\n",
       "      <td>31042</td>\n",
       "      <td>0</td>\n",
       "    </tr>\n",
       "    <tr>\n",
       "      <th>2459</th>\n",
       "      <td>39500</td>\n",
       "      <td>1</td>\n",
       "    </tr>\n",
       "    <tr>\n",
       "      <th>2460</th>\n",
       "      <td>20098</td>\n",
       "      <td>1</td>\n",
       "    </tr>\n",
       "    <tr>\n",
       "      <th>2461</th>\n",
       "      <td>17883</td>\n",
       "      <td>0</td>\n",
       "    </tr>\n",
       "    <tr>\n",
       "      <th>2462</th>\n",
       "      <td>10298</td>\n",
       "      <td>1</td>\n",
       "    </tr>\n",
       "  </tbody>\n",
       "</table>\n",
       "<p>2463 rows × 2 columns</p>\n",
       "</div>"
      ],
      "text/plain": [
       "      attendance  home_team_win\n",
       "0          40030              1\n",
       "1          21621              1\n",
       "2          12622              1\n",
       "3          18531              0\n",
       "4          18572              0\n",
       "...          ...            ...\n",
       "2458       31042              0\n",
       "2459       39500              1\n",
       "2460       20098              1\n",
       "2461       17883              0\n",
       "2462       10298              1\n",
       "\n",
       "[2463 rows x 2 columns]"
      ]
     },
     "execution_count": 2239,
     "metadata": {},
     "output_type": "execute_result"
    }
   ],
   "source": [
    "df_cov = df[[\"attendance\", \"home_team_win\"]]\n",
    "df_cov"
   ]
  },
  {
   "cell_type": "markdown",
   "metadata": {},
   "source": [
    "Создаем ковариационную матрицу с помощью функции cov():"
   ]
  },
  {
   "cell_type": "code",
   "execution_count": 2240,
   "metadata": {},
   "outputs": [
    {
     "data": {
      "text/html": [
       "<div>\n",
       "<style scoped>\n",
       "    .dataframe tbody tr th:only-of-type {\n",
       "        vertical-align: middle;\n",
       "    }\n",
       "\n",
       "    .dataframe tbody tr th {\n",
       "        vertical-align: top;\n",
       "    }\n",
       "\n",
       "    .dataframe thead th {\n",
       "        text-align: right;\n",
       "    }\n",
       "</style>\n",
       "<table border=\"1\" class=\"dataframe\">\n",
       "  <thead>\n",
       "    <tr style=\"text-align: right;\">\n",
       "      <th></th>\n",
       "      <th>attendance</th>\n",
       "      <th>home_team_win</th>\n",
       "    </tr>\n",
       "  </thead>\n",
       "  <tbody>\n",
       "    <tr>\n",
       "      <th>attendance</th>\n",
       "      <td>9.752484e+07</td>\n",
       "      <td>224.971873</td>\n",
       "    </tr>\n",
       "    <tr>\n",
       "      <th>home_team_win</th>\n",
       "      <td>2.249719e+02</td>\n",
       "      <td>0.249235</td>\n",
       "    </tr>\n",
       "  </tbody>\n",
       "</table>\n",
       "</div>"
      ],
      "text/plain": [
       "                 attendance  home_team_win\n",
       "attendance     9.752484e+07     224.971873\n",
       "home_team_win  2.249719e+02       0.249235"
      ]
     },
     "execution_count": 2240,
     "metadata": {},
     "output_type": "execute_result"
    }
   ],
   "source": [
    "cov_matrix = df_cov.cov()\n",
    "cov_matrix"
   ]
  },
  {
   "cell_type": "markdown",
   "metadata": {},
   "source": [
    "Значения на пересечении столбцов и строк \"attendance\" и \"home_team_win\" (224,97) в ковариационной матрице положительны, что свидетельствует о наличии взаимосвязи между этими параметрами. Однако, чтобы уточнить ее величину, следует рассчитать коэффициент корреляции Пирсона:"
   ]
  },
  {
   "cell_type": "code",
   "execution_count": 2241,
   "metadata": {},
   "outputs": [
    {
     "name": "stdout",
     "output_type": "stream",
     "text": [
      "Значение коэффициента корреляции: 0.04563166465672721\n"
     ]
    }
   ],
   "source": [
    "cov_coeff = cov_matrix.iloc[0, 1]\n",
    "D1 = cov_matrix.iloc[0, 0]**0.5\n",
    "D2 = cov_matrix.iloc[1, 1]**0.5\n",
    "\n",
    "r = cov_coeff / ((D1)*(D2))\n",
    "\n",
    "print(f\"Значение коэффициента корреляции: {r}\")\n"
   ]
  },
  {
   "cell_type": "markdown",
   "metadata": {},
   "source": [
    "Либо можно построить корреляционную матрицу, используя функцию corr():"
   ]
  },
  {
   "cell_type": "code",
   "execution_count": 2242,
   "metadata": {},
   "outputs": [
    {
     "data": {
      "text/html": [
       "<div>\n",
       "<style scoped>\n",
       "    .dataframe tbody tr th:only-of-type {\n",
       "        vertical-align: middle;\n",
       "    }\n",
       "\n",
       "    .dataframe tbody tr th {\n",
       "        vertical-align: top;\n",
       "    }\n",
       "\n",
       "    .dataframe thead th {\n",
       "        text-align: right;\n",
       "    }\n",
       "</style>\n",
       "<table border=\"1\" class=\"dataframe\">\n",
       "  <thead>\n",
       "    <tr style=\"text-align: right;\">\n",
       "      <th></th>\n",
       "      <th>attendance</th>\n",
       "      <th>home_team_win</th>\n",
       "    </tr>\n",
       "  </thead>\n",
       "  <tbody>\n",
       "    <tr>\n",
       "      <th>attendance</th>\n",
       "      <td>1.000000</td>\n",
       "      <td>0.045631</td>\n",
       "    </tr>\n",
       "    <tr>\n",
       "      <th>home_team_win</th>\n",
       "      <td>0.045631</td>\n",
       "      <td>1.000000</td>\n",
       "    </tr>\n",
       "  </tbody>\n",
       "</table>\n",
       "</div>"
      ],
      "text/plain": [
       "               attendance  home_team_win\n",
       "attendance       1.000000       0.045631\n",
       "home_team_win    0.045631       1.000000"
      ]
     },
     "execution_count": 2242,
     "metadata": {},
     "output_type": "execute_result"
    }
   ],
   "source": [
    "df_cov.corr()"
   ]
  },
  {
   "cell_type": "markdown",
   "metadata": {},
   "source": [
    "Значение коэффициента корреляции r = 0,0456 свидетельствует о пренебрежимо малой корреляции между количеством посетителей матча и победой домашней команды."
   ]
  },
  {
   "cell_type": "markdown",
   "metadata": {
    "pycharm": {
     "name": "#%% md\n"
    }
   },
   "source": [
    "# 19. Правда ли что большинство проигрышных домашних матчей приходятся на Субботу и Воскресенье?"
   ]
  },
  {
   "cell_type": "markdown",
   "metadata": {},
   "source": [
    "Для ответа на этот вопрос выбираем проигрыши домашней команды (\"home_team_loss\" == 1) и группируем в зависимости от дня недели (\"day_of_week\"), подсчитываем количество по каждому дню недели и сортируем по убыванию."
   ]
  },
  {
   "cell_type": "code",
   "execution_count": 2243,
   "metadata": {},
   "outputs": [
    {
     "data": {
      "text/plain": [
       "day_of_week\n",
       "Sunday       190\n",
       "Tuesday      187\n",
       "Friday       184\n",
       "Saturday     175\n",
       "Wednesday    167\n",
       "Monday       131\n",
       "Thursday     124\n",
       "dtype: int64"
      ]
     },
     "execution_count": 2243,
     "metadata": {},
     "output_type": "execute_result"
    }
   ],
   "source": [
    "df[df[\"home_team_loss\"] == 1].groupby(\"day_of_week\").size().sort_values(ascending=False)"
   ]
  },
  {
   "cell_type": "markdown",
   "metadata": {},
   "source": [
    "Исходя из представленной выше таблицы, отмечаем, что большинство проигрышных домашних матчей пришлось на воскресенье. Количество проигрышных домашних матчей, пришедшихся на субботу, соответствует медиане."
   ]
  },
  {
   "cell_type": "markdown",
   "metadata": {
    "pycharm": {
     "name": "#%% md\n"
    }
   },
   "source": [
    "# 20. Правда ли что наибольшее количество ранов происходит в холодную погоду? (Холодной погодой считается погода ниже 0 градусов)"
   ]
  },
  {
   "cell_type": "markdown",
   "metadata": {},
   "source": [
    "Создаем столбец \"temp_C\", где указана температура в градусах Цельсия, рассчитанная на основе температуры в градусах Фаренгейта (столбец \"temperature\"). Группируем в зависимости от температуры в градусах Цельсия и подсчитываем суммарное количество ранов, совершенных при данной температуре. "
   ]
  },
  {
   "cell_type": "code",
   "execution_count": 2244,
   "metadata": {},
   "outputs": [
    {
     "data": {
      "text/plain": [
       "temp_C\n",
       "22.222222    1328\n",
       "22.777778    1190\n",
       "23.888889     943\n",
       "25.000000     884\n",
       "24.444444     856\n",
       "27.222222     837\n",
       "26.666667     799\n",
       "Name: total_runs, dtype: int64"
      ]
     },
     "execution_count": 2244,
     "metadata": {},
     "output_type": "execute_result"
    }
   ],
   "source": [
    "df[\"temp_C\"] = df[\"temperature\"].apply(lambda x: (x - 32)/1.8)\n",
    "df.groupby(\"temp_C\")[\"total_runs\"].apply(\"sum\").sort_values(ascending=False).head(7)"
   ]
  },
  {
   "cell_type": "code",
   "execution_count": 2245,
   "metadata": {},
   "outputs": [
    {
     "data": {
      "text/plain": [
       "temp_C\n",
       "0.000000     10\n",
       "3.333333     10\n",
       "1.111111      8\n",
       "37.777778     8\n",
       "2.222222      8\n",
       "5.555556      5\n",
       "38.333333     4\n",
       "Name: total_runs, dtype: int64"
      ]
     },
     "execution_count": 2245,
     "metadata": {},
     "output_type": "execute_result"
    }
   ],
   "source": [
    "df.groupby(\"temp_C\")[\"total_runs\"].apply(\"sum\").sort_values(ascending=False).tail(7)"
   ]
  },
  {
   "cell_type": "markdown",
   "metadata": {},
   "source": [
    "Исходя из представленных выше таблиц можно сделать заключение, что наибольшее количество ранов игроки совершают при комфортной температуре (22-27 градусов Цельсия). Наименьшее количество ранов игроки совершают при экстремальных температурах (высоких и низких). При температуре < 0 градусов Цельсия прошел лишь один матч."
   ]
  },
  {
   "cell_type": "code",
   "execution_count": 2246,
   "metadata": {},
   "outputs": [
    {
     "data": {
      "text/html": [
       "<div>\n",
       "<style scoped>\n",
       "    .dataframe tbody tr th:only-of-type {\n",
       "        vertical-align: middle;\n",
       "    }\n",
       "\n",
       "    .dataframe tbody tr th {\n",
       "        vertical-align: top;\n",
       "    }\n",
       "\n",
       "    .dataframe thead th {\n",
       "        text-align: right;\n",
       "    }\n",
       "</style>\n",
       "<table border=\"1\" class=\"dataframe\">\n",
       "  <thead>\n",
       "    <tr style=\"text-align: right;\">\n",
       "      <th></th>\n",
       "      <th>attendance</th>\n",
       "      <th>away_team</th>\n",
       "      <th>away_team_errors</th>\n",
       "      <th>away_team_hits</th>\n",
       "      <th>away_team_runs</th>\n",
       "      <th>date</th>\n",
       "      <th>field_type</th>\n",
       "      <th>game_type</th>\n",
       "      <th>home_team</th>\n",
       "      <th>home_team_errors</th>\n",
       "      <th>...</th>\n",
       "      <th>wind_direction</th>\n",
       "      <th>sky</th>\n",
       "      <th>total_runs</th>\n",
       "      <th>game_hours_dec</th>\n",
       "      <th>season</th>\n",
       "      <th>home_team_win</th>\n",
       "      <th>home_team_loss</th>\n",
       "      <th>home_team_outcome</th>\n",
       "      <th>total_hits</th>\n",
       "      <th>temp_C</th>\n",
       "    </tr>\n",
       "  </thead>\n",
       "  <tbody>\n",
       "    <tr>\n",
       "      <th>2409</th>\n",
       "      <td>32419</td>\n",
       "      <td>New York Yankees</td>\n",
       "      <td>1</td>\n",
       "      <td>13</td>\n",
       "      <td>8</td>\n",
       "      <td>2016-04-09</td>\n",
       "      <td>on grass</td>\n",
       "      <td>Day Game</td>\n",
       "      <td>Detroit Tigers</td>\n",
       "      <td>1</td>\n",
       "      <td>...</td>\n",
       "      <td>from Left to Right</td>\n",
       "      <td>Cloudy</td>\n",
       "      <td>12</td>\n",
       "      <td>3.333333</td>\n",
       "      <td>regular season</td>\n",
       "      <td>0</td>\n",
       "      <td>1</td>\n",
       "      <td>Loss</td>\n",
       "      <td>20</td>\n",
       "      <td>-0.555556</td>\n",
       "    </tr>\n",
       "  </tbody>\n",
       "</table>\n",
       "<p>1 rows × 27 columns</p>\n",
       "</div>"
      ],
      "text/plain": [
       "      attendance         away_team  away_team_errors  away_team_hits  \\\n",
       "2409       32419  New York Yankees                 1              13   \n",
       "\n",
       "      away_team_runs        date field_type game_type       home_team  \\\n",
       "2409               8  2016-04-09   on grass  Day Game  Detroit Tigers   \n",
       "\n",
       "      home_team_errors  ...       wind_direction     sky total_runs  \\\n",
       "2409                 1  ...   from Left to Right  Cloudy         12   \n",
       "\n",
       "     game_hours_dec          season  home_team_win  home_team_loss  \\\n",
       "2409       3.333333  regular season              0               1   \n",
       "\n",
       "     home_team_outcome total_hits    temp_C  \n",
       "2409              Loss         20 -0.555556  \n",
       "\n",
       "[1 rows x 27 columns]"
      ]
     },
     "execution_count": 2246,
     "metadata": {},
     "output_type": "execute_result"
    }
   ],
   "source": [
    "df[df[\"temp_C\"] < 0]"
   ]
  }
 ],
 "metadata": {
  "kernelspec": {
   "display_name": "Python 3",
   "language": "python",
   "name": "python3"
  },
  "language_info": {
   "codemirror_mode": {
    "name": "ipython",
    "version": 3
   },
   "file_extension": ".py",
   "mimetype": "text/x-python",
   "name": "python",
   "nbconvert_exporter": "python",
   "pygments_lexer": "ipython3",
   "version": "3.13.0"
  }
 },
 "nbformat": 4,
 "nbformat_minor": 4
}
