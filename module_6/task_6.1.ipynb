{
 "cells": [
  {
   "cell_type": "markdown",
   "metadata": {},
   "source": [
    "## Задача"
   ]
  },
  {
   "cell_type": "markdown",
   "metadata": {},
   "source": [
    "В папке с данными (data) расположен датасет bbc , который содержит 5 классов новостных статей (business, entertainment, politics, sport, tech). Вам \n",
    "необходимо реализовать следующее:\n",
    "1. Обучить любой (на ваш выбор) алгоритм классификации из классических алгоритмов машинного обучения (не нейронная сеть!) и измерить \n",
    "метрику качества работы модели (не забываем также проверять качество на инференсе).\n",
    "2. Дообучить модель DistillBert для многоклассовой классификации и проверить также качество работы алгоритма (н забываем проверять качество \n",
    "на инференсе). Похожий код был продемонстрирован на лекции, думаем головой, не копипастите, есть нюансы в данной задаче.\n",
    "3. Оформить оба решения в пайплайны. Отдаем новости – получаем метку класса и вероятность. Соскрапить или собрать вручную по пять свежих \n",
    "новостей с ресурса (https://www.bbc.com/news - ссылки на новости прикрепить в ноутбуке) для каждого из классов и прогнать на них пайплайны.  \n",
    "Получить результаты инференса пайплайнов, и оценить какое из решений лучше."
   ]
  },
  {
   "cell_type": "markdown",
   "metadata": {},
   "source": [
    "## Решение"
   ]
  },
  {
   "cell_type": "markdown",
   "metadata": {},
   "source": [
    "### 1. Подготовка данных"
   ]
  },
  {
   "cell_type": "markdown",
   "metadata": {},
   "source": [
    "Загружаем необходимые библиотеки. Указываем путь к папке с новостями"
   ]
  },
  {
   "cell_type": "code",
   "execution_count": 1,
   "metadata": {},
   "outputs": [
    {
     "name": "stderr",
     "output_type": "stream",
     "text": [
      "[nltk_data] Downloading package punkt to\n",
      "[nltk_data]     C:\\Users\\1379\\AppData\\Roaming\\nltk_data...\n",
      "[nltk_data]   Package punkt is already up-to-date!\n",
      "[nltk_data] Downloading package wordnet to\n",
      "[nltk_data]     C:\\Users\\1379\\AppData\\Roaming\\nltk_data...\n",
      "[nltk_data]   Package wordnet is already up-to-date!\n"
     ]
    }
   ],
   "source": [
    "import numpy as np\n",
    "import pandas as pd\n",
    "import os\n",
    "import nltk\n",
    "from nltk.tokenize import word_tokenize\n",
    "from nltk.corpus import stopwords\n",
    "from nltk.stem import WordNetLemmatizer\n",
    "from sklearn.feature_extraction.text import TfidfVectorizer\n",
    "from sklearn.pipeline import Pipeline\n",
    "import warnings\n",
    "import re\n",
    "from sklearn.preprocessing import LabelEncoder\n",
    "from sklearn.model_selection import train_test_split\n",
    "import transformers\n",
    "from sklearn.linear_model import LogisticRegression\n",
    "from sklearn.metrics import accuracy_score, classification_report\n",
    "import torch\n",
    "from transformers import Trainer, TrainingArguments\n",
    "from evaluate import load\n",
    "\n",
    "\n",
    "nltk.download(\"punkt\")\n",
    "nltk.download(\"wordnet\")\n",
    "warnings.filterwarnings(\"ignore\")\n",
    "\n",
    "DATA_DIR = \"data/bbc/\""
   ]
  },
  {
   "cell_type": "markdown",
   "metadata": {},
   "source": [
    "Создаем класс BbcDataset, который считывает все файлы с новостями, выполняет преобработку данных, после чего формирует датасет (в формате pandas), в котором первый столбец содержит новость, а второй столбец - метку (тема новости). Предобработка данных включает в себя удаление стоп-слов английского языка, лемматизацию. Для столбца \"label\" в созданной таблице осуществляется кодирование с помощью LabelEncoder."
   ]
  },
  {
   "cell_type": "code",
   "execution_count": 2,
   "metadata": {},
   "outputs": [],
   "source": [
    "class BbcDataset:\n",
    "    def __init__(self, data_dir=DATA_DIR):\n",
    "        self.data_dir = data_dir\n",
    "        self.documents = [\n",
    "            os.path.join(path, name)\n",
    "            for path, _, files in os.walk(self.data_dir)\n",
    "            for name in files\n",
    "        ]\n",
    "\n",
    "        self.label_encoder = LabelEncoder()\n",
    "\n",
    "        self.dataframe = self.get_pandas_alike_dataset()\n",
    "\n",
    "        self.dataframe['label_encoded'] = self.label_encoder.fit_transform(self.dataframe['label'])\n",
    "\n",
    "    def preprocess_text(self, text: str) -> str:\n",
    "        \"\"\"\n",
    "        Удаляет все, кроме английских букв и пробелов, затем лемматизирует и удаляет стоп-слова\n",
    "\n",
    "        :param text: Текст для обработки\n",
    "        :return: Обработанная строка текста\n",
    "        \"\"\"\n",
    "\n",
    "        mystopwords = stopwords.words('english') + ['also', 'the', 'this', 'that', 'not', 'would', 'could', 'did']\n",
    "\n",
    "        def remove_stopwords(text, mystopwords=mystopwords):\n",
    "            try:\n",
    "                text = re.sub(r'[^a-zA-Z\\s]', '', text)\n",
    "                return \" \".join([token for token in text.split() if token.lower() not in mystopwords])\n",
    "            except Exception as e:\n",
    "                print(\"Ошибка!!!!!\")\n",
    "        \n",
    "        def lemmatize(text):\n",
    "            try:\n",
    "                lemmatizer = WordNetLemmatizer()\n",
    "                tokens = word_tokenize(text)\n",
    "                return \" \".join([lemmatizer.lemmatize(word) for word in tokens])\n",
    "            except Exception as e:\n",
    "                print(\"Ошибка!!!!!\")\n",
    "\n",
    "        text = remove_stopwords(text, mystopwords)\n",
    "        text = lemmatize(text)\n",
    "        return text\n",
    "\n",
    "    def get_dataset(self):\n",
    "        \"\"\"Загружает все документы и их категории\"\"\"\n",
    "        data = []\n",
    "        for file in self.documents:\n",
    "            label = os.path.basename(os.path.dirname(file))\n",
    "            try:\n",
    "                with open(file, \"r\", encoding=\"utf-8\") as f:\n",
    "                    content = f.read().strip()\n",
    "                    processed_content = self.preprocess_text(content)\n",
    "                    data.append((processed_content.lower(), label))\n",
    "            except Exception as e:\n",
    "                print(f\"Ошибка чтения файла {file}: {e}\")\n",
    "        return data\n",
    "\n",
    "    def get_pandas_alike_dataset(self):\n",
    "        \"\"\"Возвращает DataFrame с текстами и метками\"\"\"\n",
    "        data = self.get_dataset()\n",
    "        return pd.DataFrame(data, columns=[\"article\", \"label\"])"
   ]
  },
  {
   "cell_type": "code",
   "execution_count": 3,
   "metadata": {},
   "outputs": [],
   "source": [
    "bbc_pandas_dataset = BbcDataset()"
   ]
  },
  {
   "cell_type": "code",
   "execution_count": 4,
   "metadata": {},
   "outputs": [
    {
     "data": {
      "application/vnd.microsoft.datawrangler.viewer.v0+json": {
       "columns": [
        {
         "name": "index",
         "rawType": "int64",
         "type": "integer"
        },
        {
         "name": "article",
         "rawType": "object",
         "type": "string"
        },
        {
         "name": "label",
         "rawType": "object",
         "type": "string"
        },
        {
         "name": "label_encoded",
         "rawType": "int32",
         "type": "integer"
        }
       ],
       "conversionMethod": "pd.DataFrame",
       "ref": "49aad9a2-5fb6-4604-9d2c-559a26a258f2",
       "rows": [
        [
         "0",
         "ad sale boost time warner profit quarterly profit us medium giant timewarner jumped bn three month december yearearlier firm one biggest investor google benefited sale highspeed internet connection higher advert sale timewarner said fourth quarter sale rose bn bn profit buoyed oneoff gain offset profit dip warner bros less user aol time warner said friday owns searchengine google internet business aol mixed fortune lost subscriber fourth quarter profit lower preceding three quarter however company said aols underlying profit exceptional item rose back stronger internet advertising revenue hope increase subscriber offering online service free timewarner internet customer try sign aols existing customer highspeed broadband timewarner restate result following probe us securities exchange commission sec close concluding time warners fourth quarter profit slightly better analyst expectation film division saw profit slump helped boxoffice flop alexander catwoman sharp contrast yearearlier third final film lord rings trilogy boosted result fullyear timewarner posted profit bn performance revenue grew bn financial performance strong meeting exceeding fullyear objective greatly enhancing flexibility chairman chief executive richard parsons said timewarner projecting operating earnings growth around expects higher revenue wider profit margin timewarner restate account part effort resolve inquiry aol us market regulator already offered pay settle charge deal review sec company said unable estimate amount needed set aside legal reserve previously set intends adjust way account deal german music publisher bertelsmanns purchase stake aol europe reported advertising revenue book sale stake aol europe loss value stake",
         "business",
         "0"
        ],
        [
         "1",
         "dollar gain greenspan speech dollar hit highest level euro almost three month federal reserve head said us trade deficit set stabilise alan greenspan highlighted us government willingness curb spending rising household saving factor may help reduce late trading new york dollar reached euro thursday market concern deficit hit greenback recent month friday federal reserve chairman mr greenspans speech london ahead meeting g finance minister sent dollar higher earlier tumbled back worsethanexpected us job data think chairman taking much sanguine view current account deficit he taken time said robert sinche head currency strategy bank america new york hes taking longerterm view laying set condition current account deficit improve year next worries deficit concern china however remain chinas currency remains pegged dollar us currency sharp fall recent month therefore made chinese export price highly competitive call shift beijings policy fallen deaf ear despite recent comment major chinese newspaper time ripe loosening peg g meeting thought unlikely produce meaningful movement chinese policy meantime us federal reserves decision february boost interest rate quarter point sixth move many month opened differential european rate halfpoint window believe enough keep us asset looking attractive help prop dollar recent fall partly result big budget deficit well uss yawning current account gap need funded buying us bond asset foreign firm government white house announce budget monday many commentator believe deficit remain close half trillion dollar",
         "business",
         "0"
        ],
        [
         "2",
         "yukos unit buyer face loan claim owner embattled russian oil giant yukos ask buyer former production unit pay back loan stateowned rosneft bought yugansk unit bn sale forced russia part settle bn tax claim yukos yukos owner menatep group say ask rosneft repay loan yugansk secured asset rosneft already face similar repayment demand foreign bank legal expert said rosnefts purchase yugansk include obligation pledged asset rosneft pay real money creditor avoid seizure yugansk asset said moscowbased us lawyer jamie firestone connected case menatep groups managing director tim osborne told reuters news agency default fight rule law exists international arbitration clause credit rosneft official unavailable comment company said intends take action menatep recover tax claim debt owed yugansk yukos filed bankruptcy protection us court attempt prevent forced sale main production arm sale went ahead december yugansk sold littleknown shell company turn bought rosneft yukos claim downfall punishment political ambition founder mikhail khodorkovsky vowed sue participant sale",
         "business",
         "0"
        ],
        [
         "3",
         "high fuel price hit bas profit british airways blamed high fuel price drop profit reporting result three month december airline made pretax profit compared year earlier rod eddington bas chief executive said result respectable third quarter fuel cost rose bas profit still better market expectation expects rise fullyear revenue help offset increased price aviation fuel ba last year introduced fuel surcharge passenger october increased oneway longhaul flight shorthaul surcharge raised leg yet aviation analyst mike powell dresdner kleinwort wasserstein say bas estimated annual surcharge revenue still way short additional fuel cost predicted extra turnover quarter bn benefiting rise cargo revenue looking ahead full year result march ba warned yield average revenue per passenger expected decline continues lower price face competition lowcost carrier however said sale better previously forecast year march total revenue outlook slightly better previous guidance improvement anticipated ba chairman martin broughton said ba previously forecast rise fullyear revenue reported friday passenger number rose january aviation analyst nick van den brul bnp paribas described bas latest quarterly result pretty modest quite good revenue side show impact fuel surcharge positive cargo development however operating margin cost impact fuel strong said since september attack united states ba cut job part major costcutting drive focus remains reducing controllable cost debt whilst continuing invest product mr eddington said example taken delivery six airbus aircraft next month start improvement club world flat bed bas share closed four penny penny",
         "business",
         "0"
        ],
        [
         "4",
         "pernod takeover talk lift domecq shares uk drink food firm allied domecq risen speculation target takeover frances pernod ricard reports wall street journal financial times suggested french spirit firm considering bid yet contact target allied domecq share london rose gmt pernod share paris slipped pernod said seeking acquisition refused comment specific pernods last major purchase third us giant seagram move propelled global top three drink firm twothirds seagram bought market leader diageo term market value pernod bn euro bn smaller allied domecq capitalisation bn bn bn euro last year pernod tried buy glenmorangie one scotlands premier whisky firm lost luxury good firm lvmh pernod home brand including chivas regal scotch whisky havana club rum jacobs creek wine allied domecqs big name include malibu rum courvoisier brandy stolichnaya vodka ballantines whisky well snack food chain dunkin donuts baskinrobbins ice cream wsj said two ripe consolidation dealt problematic part portfolio pernod reduced debt took fund seagram purchase bn euro allied improved performance fastfood chain",
         "business",
         "0"
        ],
        [
         "5",
         "japan narrowly escape recession japans economy teetered brink technical recession three month september figure show revised figure indicated growth similarsized contraction previous quarter annual basis data suggests annual growth suggesting much hesitant recovery previously thought common technical definition recession two successive quarter negative growth government keen play worrying implication data maintain view japans economy remains minor adjustment phase upward climb monitor development carefully said economy minister heizo takenaka face strengthening yen making export less competitive indication weakening economic condition ahead observer less sanguine painting picture recovery much patchier previously thought said paul sheard economist lehman brothers tokyo improvements job market apparently yet feed domestic demand private consumption third quarter",
         "business",
         "0"
        ],
        [
         "6",
         "jobs growth still slow us us created fewer job expected january fall jobseekers pushed unemployment rate lowest level three year according labor department figure us firm added job january gain nonfarm payroll market expectation new job nevertheless enough push unemployment rate lowest level since september job gain mean president bush celebrate albeit fine margin net growth job us economy first term office presided net fall job last novembers presidential election first president since herbert hoover result job creation became key issue last year election however adding december januarys figure administration first term job record ended positive territory labor department said revised job gain december analysts said growth new job strong expected given favourable economic condition suggests employment continuing expand moderate pace said rick egelton deputy chief economist bmo financial group getting boost employment got given low value dollar still relatively low interest rate environment economy producing moderate satisfying amount job growth said ken mayland president clearview economics mean limited number new opportunity worker",
         "business",
         "0"
        ],
        [
         "7",
         "india call fair trade rule india attends g meeting seven leading industrialised nation friday unlikely cowed newcomer status london thursday ahead meeting indias finance minister lashed restrictive trade policy g nation objected subsidy agriculture make hard developing nation like india compete called reform united nations world bank imf palaniappan chidambaram indias finance minister argued organisation need take account changing world order given india chinas integration global economy said issue globalisation term engagement globalisation mr chidambaram attending g meeting part g group nation account two third world population conference developing enterprise hosted uk finance minister gordon brown friday said favour floating exchange rate help country cope economic shock flexible exchange rate one channel absorbing positive negative shock told conference india along china brazil south africa russia invited take part g meeting taking place london friday saturday china expected face renewed pressure abandon fixed exchange rate g nation particular us blamed surge cheap chinese export country tried use fixed exchange rate wish make judgement mr chidambaram said separately imf warned thursday indias budget deficit large hamper country economic growth forecast around year march year march indian economy grew",
         "business",
         "0"
        ],
        [
         "8",
         "ethiopias crop production ethiopia produced million tonne crop higher average past five year report say crop production totalled million tonne joint report food agriculture organisation world food programme said good rain increased use fertilizer improved seed contributed rise production nevertheless million ethiopians still need emergency assistance report calculated emergency food requirement tonne top tonne fortified blended food vegetable oil targeted supplementary food distribution survival programme child five pregnant lactating woman needed eastern southern ethiopia prolonged drought killed crop drained well last year total tonne food assistance needed help seven million ethiopians food agriculture organisation fao recommend food assistance bought locally local purchase cereal food assistance programme recommended far possible assist domestic market farmer said henri josserand chief faos global information early warning system agriculture main economic activity ethiopia representing gross domestic product ethiopians depend directly indirectly agriculture",
         "business",
         "0"
        ],
        [
         "9",
         "court reject bn tobacco case us government claim accusing country biggest tobacco company covering effect smoking thrown appeal court demand bn bn filed clinton administration rejected decision court washington found case brought federal antiracketeering law among accused altria group rj reynolds tobacco lorillard tobacco liggett group brown williamson case government claimed tobacco firm manipulated nicotine level increase addiction targeted teenager multibillion dollar advertising campaign lied danger smoking ignored research contrary prosecutors wanted cigarette firm surrender bn profit accumulated past year impose tougher rule marketing product court appeals district columbia ruled us government sue firm legislation drawn counteract mafia infiltration business tobacco company deny illegally conspired promote smoking defraud public say already met many government demand landmark bn settlement reached state shares tobacco company closed higher ruling altria rising reynolds showing gain",
         "business",
         "0"
        ],
        [
         "10",
         "ask jeeves tip online ad revival ask jeeves become third leading online search firm week thank revival internet advertising improving fortune firm revenue nearly tripled fourth quarter exceeding ask jeeves among bestknown name web relatively modest player profit quarter dwarfed announced rival google earlier week quarter yahoo earned tipping resurgence online advertising trend taken hold relatively quickly late last year marketing company doubleclick one leading provider online advertising warned business put sale thursday announced sharp turnaround brought unexpected increase profit neither ask jeeves doubleclick thrilled investor profit news however case share fell analysts attributed fall excessive expectation quarter fuelled dramatic outperformance google tuesday",
         "business",
         "0"
        ],
        [
         "11",
         "indonesians face fuel price rise indonesias government confirmed considering raising fuel price much millions indonesians use kerosene basic cooking price heavily subsidised year president susilo bambang yudhoyonos government said want curb fuel subsidy direct money aid programme poor critic argue cutting subsidy hurt poorer family government say want help millions people left homeless indonesia acehs region following earthquake tsunami disaster late december indonesia pay subsidy importer order stabilise domestic fuel price higher oil price forced government spend holding price spent trillion rupiah bn bn fuel subsidy sum far excess original projection trillion rupiah since president yudhoyonos government came power october indicated intention raising domestic fuel price cutting subsidy january march quarter year best time u increase fuel price said sri mulyani indrawati state minister national development planning still considering hike suitable moment sooner better state budget bbcs correspondent jakarta rachel harvey told world business report likely strong public reaction price rise big question whether go one big short sharp shock raise price whether try stagger said indonesias previous government led president megawati sukarnoputri attempted cut subsidy forced back face public protest",
         "business",
         "0"
        ],
        [
         "12",
         "peugeot deal boost mitsubishi struggling japanese car maker mitsubishi motors struck deal supply french car maker peugeot sport utility vehicle suv two firm signed memorandum understanding say expect seal final agreement spring alliance come badlyneeded boost lossmaking mitsubishi several profit warning poor sale suvs built japan using peugeots diesel engine sold mainly european market falling sale left mitsubishi motors underused capacity production deal peugeot give chance utilise january mitsubishi motors issued third profit warning nine month cut sale forecast year march sale slid past year catalysed revelation company systematically hiding record fault secretly repairing vehicle result japanese car maker sought series financial bailouts last month said looking bn yen bn bn fresh financial backing half company mitsubishi group usgerman carmaker daimlerchrylser shareholder mitsubishi motors decided april pump money deal peugeot celebrated mitsubishis newlyappointed chief executive takashi nishioka took three top boss stood last month shoulder responsibility firm trouble mitsubishi motors forecast net loss bn yen current financial year march last month signed production agreement japanese rival nissan motor supply small car sale japan making car nissan since",
         "business",
         "0"
        ],
        [
         "13",
         "telegraph newspaper axe job daily sunday telegraph newspaper axing journalist job editorial staff telegraph group say cut needed fund investment new printing facility journalists firm met friday afternoon discus react surprise announcement cut come background fierce competition reader sluggish advertising revenue amid competition online advertising national union journalists called management recall notice redundancy midday monday face strike ballot pearsons financial times said last week offering voluntary redundancy reporter national union journalists said stood strongly behind journalist rule strike managers torn agreed procedure kicked staff teeth sacking people pay printing facility said jeremy dear nuj general secretary nuj official barry fitzpatrick said company ignored day consultation period required company planning redundancy shown complete disregard consultative right member said mr fitzpatrick added company planned observe consultation procedure two telegraph title currently employ journalist broadsheet newspaper especially moved tabloid format suffered circulation decline hitting revenue telegraph announced plan go tabloid although independent times seen circulation rise since shrinking size guardian hedging bet planning larger tabloid format like popular continental europe telegraph group bought barclay twin frederick david last year previously owned lord conrad blacks hollinger international brother currently mulling sale another business retailer littlewoods telegraph executive murdoch maclennan said two newspaper add eight colour page coming month journalists lifeblood newspaper maintaining quality daily telegraph sunday telegraph reader vital said however action improve production capability secure title competition vital many newspaper investing new printing machinery enables print colour page case colour every page hoping boosting colour make publication attractive advertiser reader alike recent month news corps news international unit publishes sun news world guardian media group trinity mirror daily mail general trust announced substantial investment new printing plant",
         "business",
         "0"
        ],
        [
         "14",
         "air passenger win new eu right air passenger unable board flight overbooking cancellation flight delay demand greater compensation new eu rule set compensation euro euro depending length flight new rule apply scheduled charter flight including budget airline airlines attacked legislation saying forced push price higher cover extra cost european commission facing two legal challenge one european lowfare airlines association elaa international air transport association iata attacked package bad piece legislation previously passenger claim euro euro stopped boarding however scheduled flight operator obliged offer compensation case overbooking offer compensation flight cancellation eu decided increase passenger compensation bid deter airline deliberately overbooking flight overbooking often lead bumping passenger moved later flight happens passenger airline offer compensation addition flight cancelled delayed two hour fault airline passenger must paid compensation however airline offer compensation flight cancelled delayed due extraordinary circumstance airlines fear extraordinary circumstance may include bad weather security alert strike event outside control eubased airline operator flight take eu adhere new compensation regime came force thursday lowcost airline criticised new compensation level arguing payout worth ticket preposterous piece legislation among airline fighting ryanair deputy chief executive michael cawley told radio today programme european regions airline association eraa claim neither airline consumer consulted change andy clarke eraa director air transport said ec advice misleads customer lead believe airline liable payouts flight delayed bad weather ec spokeswoman marja quillinanmeiland conceded grey area said big airline making case dispute national enforcement body decide whether passenger case said new technology mean easier airline take land bad weather added eraas mr clarke warned airline comply new rule extra cost passed onto passenger reckon going cost european air passenger airline airline money paid passenger bn euro thats bn year loaded onto european passenger mr clarke said thats basically transfer money passenger whose journey disrupted passenger whose journey disrupted wednesday jacques barrot vice president european commission commissioner transport said change necessary boom air travel need accompanied proper protection passenger right concrete example union benefit people daily life added ec launched information campaign airport travel agency inform airline passenger new right",
         "business",
         "0"
        ],
        [
         "15",
         "china keep tight rein credit chinas effort stop economy overheating clamping credit continue state medium report curb introduced earlier year ward risk rapid expansion might lead soaring price fear much stress might placed fragile banking system growth china remains breakneck corporate investment growing year breakneck pace economic expansion kept growth year rapid toolingup chinas manufacturing sector mean massive demand energy one factor kept world oil price skyhigh year theory government growth target continues insist overshoot mean hard landing shape overbalancing economy low exchange rate chinas yuan pegged rate dollar seems relentless decline mean chinese export cheap world market china thus far resisted international pressure break link least shift level peg extent credit control seem taking effect industrial output grew year october february inflation slowed although retail sale still booming",
         "business",
         "0"
        ],
        [
         "16",
         "parmalat boast doubled profit parmalat italian food group centre one europes painful corporate scandal reported doubling profit pretax earnings fourth quarter euro period less welcome news firm fined euro violated takeover rule five year ago firm sought bankruptcy protection december disclosing bneuro hole account overall company debt close bn euro falling slowly brand wellknown italy overseas continued perform strongly however barely lost revenue since scandal broke crucial factor company future legal unwinding intensely complex financial position tuesday company administrator turnaround expert enrico bondi sued morgan stanley former banker return euro relating bond deal brought number bank mr bondi sued mass legal action bring much bn euro company sued former auditor financial advisor damage criminal case company former management proceeding separately",
         "business",
         "0"
        ],
        [
         "17",
         "indias rupee hit fiveyear high indias rupee hit fiveyear high standard poors sp raised country foreign currency rating rupee climbed per us dollar thursday close currency gained almost past three session sp rate borrower creditworthiness lifted indias rating one notch bb indian asset seen less gamble cash expected flow market buoying rupee upgrade positive basically people use excuse come back india said bhanu baweja strategist ubs money moved india first two three week january market like korea thailand upgrade lead reversal indias foreign currency rating one notch investment grade start bbb increase put level romania egypt el salvador one level russia",
         "business",
         "0"
        ],
        [
         "18",
         "india widens access telecom india raised limit foreign direct investment telecom company communications minister dayanidhi maran said need fund fastgrowing mobile market government hope increase number mobile user million million need least bn bn investment part come foreign direct investment said mr maran decision raise limit foreign investor faced considerable opposition communist party give crucial support coalition headed prime minister manmohan singh potential foreign investor however need government approval increase stake beyond mr maran said key position chief executive chief technology officer chief financial officer held indians added analysts investor welcomed government decision positive development carrier investment community looking take longerterm view huge growth indian telecom market said gartners principal analyst kobita desai fdi relaxation coupled rapid local market growth really ignite interest indian telecommunication industry added ernst youngs sanjay mehta investment bank morgan stanley forecast indias mobile market likely grow year indian mobile market currently dominated four company bharti televentures allied singapore telecom essar linked hong kongbased hutchison whampoa sterling group tata group",
         "business",
         "0"
        ],
        [
         "19",
         "call centre user lose patience customers trying get call centre getting impatient quicker hang survey suggests past welcome message caller average hang second listening canned music drop patience come number call call centre growing rate every year customers getting used idea always available society say cara diemont firm dimension data commissioned survey however call centre saw sharp increase customer simply abandoning call say record last year automated phone message system taken equation customer pick way multiple option message number abandoned call even higher sixth caller give rather wait one possible reason lack patience ms diemont say fact customer calling move using mobile phone surge customer trying get call centre reflection centre growing range task call centre may looked mortgage agent may responsible credit card insurance current account ms diemont say problems occurring increased responsibility going handinhand training survey found dimension data call alarming development average induction time call centre worker fell last year day leaving agent equipped deal customer ms diemont warns scary good bottom line either poor training frustrates call centre worker customer result call centre high churn rate nearly quarter worker throwing towel every year turn force company pay training new staff resolution rate number call customer query resolved mutual satisfaction running query passed second third person specialist manager rate rise still well industry target resolution rate suggestions outsourcing relocating call centre lowcost country like india south africa blame wrong ms diemont say big difference wait time call resolution call centre based europe north america developing country around world make call centre perform anywhere good management right process place say however company decide offshore operation driven cost consideration say saving money main consideration closing domestic call centre operation half argue worker country offer better skill money everybody belief outsourcing offshoring solution nearly twothirds firm polled survey plan offshore call centre give three key reason making move call centre operation part business core function worried risk going abroad fear damage brand join offshoring drive survey conducted sunovate behalf dimension data based indepth questionnaire call centre country five continent experience call centre happy listen vivaldi greensleeves want immediate response work call centre training prepare job",
         "business",
         "0"
        ],
        [
         "20",
         "rank set sell film unit leisure group rank unveil plan demerge film service unit sell medium business report claim rank formerly famous carry series expose shakeup announcement result friday sunday telegraph reported advisors goldman sachs understood valued demerged deluxe film unit report added speculation possible shakeup mounted since rank announced study possible demerger september since mike smiths appointment chief executive group focused fewer business embarked major costcutting programme seen dispose number business including odeon cinema chain pinewood studio move left group three core division gaming hard rock deluxe films provides technical service hollywood studio rank aim concentrate gaming bar hotel business including extending hard rock brand casino trial success owns deluxe media make distributes dvds video however business seen less successful last year made profit turnover expert suggest success moving dvds vhs video make attractive target private equity buyer spokesman firm refused comment report said result demerger study likely set unveiled result friday analysts predict firm likely report slight drop annual pretax profit last year formed firm leading uk film producer cinema owner many year diversified range leisure activity mainly uk including hotel roadside service area holiday centre owns grosvenor casino mecca bingo chain hard rock cafes country",
         "business",
         "0"
        ],
        [
         "21",
         "sluggish economy hit german job number people work europes largest economy risen tenth straight month growth remains stubbornly slow german unemployment rose november million people workforce seasonally adjusted rise showed smaller rise expected government measure encourage job creation began take effect official said stagnant growth still stifling job market clear sign revival domestic demand said frankjuergen weise head federal labour agency statement growth third quarter still insufficient deliver positive momentum labour market high oil price soaring euro damage competitiveness exporter negative effect said brunt unemployment still felt eastern part germany rate unemployment stuck million year government chancellor gerhard schroeder put job creation top agenda controversial package measure shake incentive get back work paid cutting cherished benefit sparked anger among german worker strikes number industry notably among country iconic carmaker demonstrated displeasure well fear job loss outsourcing take hold among new initiative socalled oneeuro job top unemployment benefit scheme formal launch january hirings position already taking place affecting unemployment statistic economist said deterioration labour market come surprise said isabelle kronawitter hypovereinsbank job creation measure probably prevented stronger increase seasonally adjusted number",
         "business",
         "0"
        ],
        [
         "22",
         "mixed signal french economy french economy picked speed end official figure show still look set fallen short government hope according state statistic body insee growth three month december seasonallyadjusted ahead forecast confirmed best quarterly showing since early leaf gdp full year short french government predicted despite apparent shortfall annual economic growth good quarterly figure socalled flash estimate mark continuing trend improving indicator health french economy government reiterating target european central bank making positive noise nation eurozone whole friday frances industrial output december released showing growth number good said david naude economist deutsche bank send positive signal rebound output open way continuation trend new year service sector activity improved january hitting sevenmonth high unemployment remains high",
         "business",
         "0"
        ],
        [
         "23",
         "us trade gap hit record gap us export import hit alltime high bn bn latest figure show commerce department said trade deficit last year previous record imbalance bn deficit china bn largest ever recorded single country however monthly basis us trade gap narrowed december bn us consumer appetite thing oil imported car even wine cheese reached record level last year figure likely spark fresh criticism president bushs economic policy democrats claim administration done enough clamp unfair foreign trade practice example believe chinas currency policy us manufacturer claim undervalued yuan much given chinas rapidly expanding economy unfair advantage us competitor meanwhile bush administration argues us deficit reflects fact america growing faster rate rest world spurring demand imported good economist say may allow upward revision us economic growth fourth quarter others point deficit reached astronomical proportion foreigner many choose hold many dollardenominated asset may turn harm growth us export rose trillion import rose even faster new record trillion foreign oil export surged record bn reflecting rally global oil price increasing domestic demand imports affected dollar weakness last year expect deficit continue widen even dollar get back downward trend said economist mariepierre ripert ixis",
         "business",
         "0"
        ],
        [
         "24",
         "yukos loses us bankruptcy battle judge dismissed attempt russian oil giant yukos gain bankruptcy protection us yukos filed chapter protection houston unsuccessful attempt halt auction yugansk division russian authority court ruling blow effort get damage sale yugansk yukos claim illegally sold separately former yukos bos mikhail khodorkovsky began testimony friday trial fraud tax evasion mr khodorkovsky jail year pleaded guilty charge brought denied involvement criminal activity pride heading year number successful company helping enterprise rise knee told russian court yugansk auctioned help pay bn bn unpaid tax bought bn previouslyunknown group turn bought almost immediately statecontrolled oil company rosneft texas judge letitia clark said yukos enough us presence establish us jurisdiction vast majority business financial activity yukos continue occur russia judge clark said ruling activity require continued participation russian government yukos argued us court entitled declare bankrupt yugansk unit sold since local bank account chief finance officer bruce misamore life houston yukos claimed sought help us forum russian court european court human rights either unfriendly offered less protection russia indicated case abide ruling us court ruling judge acknowledged appears likely agency russian government acted manner considered confiscatory united states law said role simply decide jurisdiction us court jurisdiction challenged deutsche bank gazpromneft former unit russian gas monopoly gazprom due merge rosneft analysts said ability gazprom rosneft trade freely overseas stifled ownership yugansk remained unclear yukos said consider option light ruling however claimed court backed argument four five key issue believe merit case strong simple said chief executive steven theede asset illegally seized want back damage paid",
         "business",
         "0"
        ],
        [
         "25",
         "safety alert gm recall car world biggest carmaker general motors gm recalling nearly vehicle us safety ground according federal regulator national highway traffic safety administration nhtsa said largest recall involves pickup van sport utility vehicle suvs possible malfunction braking system affected vehicle product recall model year gm said vehicle potential fault chevrolet avalanche express kodiak silverade suburban gmc savana sierra yukon nhtsa said pressure accumulator braking system crack normal driving fragment injure people hood open allow hydraulic fluid leak make harder brake steer cause crash warned gm recalling cadillac xlr coupe srx suvs pontiac grand prix sedan model year accelerator pedal may work properly extremely cold temperature requiring braking addition car giant calling back buick raniers chevrolet trailblazers gmc envoys isuzu ascenders model year windshield properly fitted fall crash however gm stressed know injury related problem news recall follows announcement last month gm expects earnings year lower world biggest car maker grappling loss european business weak us sale product recall january gm said higher healthcare cost north america lower profit financial service subsidiary hurt performance",
         "business",
         "0"
        ],
        [
         "26",
         "steel firm cut job mittal steel one world largest steel producer cut job next five year chief executive said netherlandsbased company due complete bn acquisition us firm isg next month making one largest global firm kind however lakshmi mittal told investor combined company shed thousand job indianborn magnate say job loss fall mr mittal told us investor acquisition international steel group completed company aim reduce workforce annually see workforce trimmed staff investing modernisation employee go mr mittal told conference chicago mittal steel formed last year mr mittals lnm holdings merged dutch firm ispat combination mittal steel isg annual sale bn bn bn euro production capacity million tonne mittal steel spokeman said decision job cut made yet trying create sustainable steel industry want invest new technology spokesman said mittal steel operation country many business particularly eastern europe previously state owned huge workforce employ staff kazakhstan alone large operation romania czech republic south africa united states",
         "business",
         "0"
        ],
        [
         "27",
         "strong demand trigger oil rally crude oil price surged back barrel mark thursday energy market watchdog raised forecast global demand international energy agency iea warned demand opecs crude first quarter outstrip supply iea raised estimate oil demand growth barrel day million barrel day us light crude rose brent crude london gained parisbased iea watchdog advises industrialized nation energy policy said upward revision due stronger demand china asian country fresh rally crude price followed gain wednesday triggered large fall us crude supply following cold spell north america january us department energy reported crude stockpile fallen barrel top ongoing problem beleaguered russian oil giant yukos prompted iea revise output estimate russia major nonopec supplier think price beginning set new range look like level said energy analyst orin middleton barclays capital",
         "business",
         "0"
        ],
        [
         "28",
         "uk firm face venezuelan land row venezuelan authority said seize land owned british company part president chavezs agrarian reform programme officials cojedes state said friday farmland owned subsidiary vestey group taken used settle poor farmer government cracking socalled latifundios large rural estate say lying idle vestey group said informed planned seizure firm whose agroflora subsidiary operates farm venezuela insisted complied fully venezuelan law prosecutors south country targeted hato el charcote beef cattle ranch owned agroflora according reuters plan seize acre hectare acre hectare farm officials claim agroflora possess valid document proving ownership land question allege area ranch used form active production legal boundary match actual boundary surplus state prosecutor alexis ortiz told reuters consequence government taken action controversial reform passed give government right take control private property declared idle ownership can not traced back th century critics say power president chavez argues needed help country poorest citizen develop venezuelan economy trample private property right vestey group said owned land since cooperate fully authority spokesman added agroflora absolutely confident submitted demonstrate legality title land company pointed farm employ worker provides meat solely venezuelan market last month government said identified idle farm yet consider status authority said landowner whose title order whose farm productive nothing fear president chavez venezuelan government steadily expanded state involvement country economy recently said mining contract involving foreign firm examined ensure provided sufficient economic benefit state",
         "business",
         "0"
        ],
        [
         "29",
         "soaring oil hit world economy soaring cost oil hit global economic growth although world major economy weather storm price rise according oecd latest biannual report oecd cut growth prediction world main industrialised region us growth reach fall next year previous estimate oecd said however parisbased economics think tank said believed global economy still regain momentum forecasts japanese growth scaled back year outlook worst member eurozone bloc already sluggish growth forecast slipping year oecd said overall report forecast total growth member country oecd slipping next year recovering nonetheless good reason believe despite recent oil price turbulence world economy regain momentum nottoodistant future said jeanphilippe cotis oecds chief economist price crude higher start record high set late october dip oil price improving job prospect improve consumer confidence spending oecd said oil shock enormous historical standard seen worse seventy oil price rise think shock absorbed within next quarter vincent koen senior economist oecd told bbcs world business report recovery underway interrupted bit oil shock year regain momentum course chinas booming economy spectacular comeback japan albeit one faltered recent month help world economic recovery oecd said supported strong balance sheet high profit recovery business investment continue north america start earnest europe added however report warned remains seen whether continental europe play strong supportive role marked upswing final domestic demand oecd highlighted current depressed household expenditure germany eurozones overreliance exportled growth",
         "business",
         "0"
        ],
        [
         "30",
         "irish market reach alltime high irish share risen record high investor persuaded buy market low inflation strong growth forecast iseq index leading share closed point thursday fuelled strong growth banking financial stock fall rate inflation january gave fresh boost share advanced month economy set strong growth interest rate remain low several irelands biggest company saw market value hit recent high thursday allied irish banks irelands biggest company capitalisation touched five year peak bank ireland share rose highest level since august telecoms firm eircom recently revealed reenter irish mobile phone market hit yearly high analysts said economic condition benign irish share still trading discount european market ireland tick box far international investor concerned roy asher chief investment officer hibernian investment managers told reuters buoyant economic condition set continue ireland next year irish equity continue offer quality growth reasonable valuation bernard mcalinden head equity research ncb stockbrokers said equity represented good value compared investment still looking good told reuters seen good economic data ireland benefit financial stock irelands economic miracle enjoying second wind growth forecast economy cooled markedly enjoying spectacular growth however bounced back strongly growth expected",
         "business",
         "0"
        ],
        [
         "31",
         "japanese banking battle end japans sumitomo mitsui financial withdrawn takeover offer rival bank ufj holdings enabling latter merge mitsubishi tokyo sumitomo boss told counterpart ufj decision friday clearing way conclude trillion yen bn deal mitsubishi deal create world biggest bank asset trillion yen trillion sumitomos exit end high profile fight japanese bank history ufj holdings japans fourthlargest bank centre fierce bid battle last year sumitomo japans thirdlargest bank tabled higher offer ufj rival valuing company bn however ufjs management known prefer offer mitsubishi tokyo financial group mtfg japans secondlargest bank concerns raised sumitomos ability absorb ufj former admitted defeat believe market investor accept ufjmtfg merger sumitomo said statement given ongoing integration ufj mtfg operation persisting proposal may best interest shareholder ufjs mitsubishis takeover ufj japans largestever takeover deal still approved shareholder two firm however expected formality sumitomo may turn attention deepening tie daiwa securities another japanese financial firm two set merge venture capital operation speculation lead fullblown merger japanese bank increasingly seeking alliance boost profit",
         "business",
         "0"
        ],
        [
         "32",
         "rich grab half colombia poor fund half money put aside colombian government help country poor benefiting people need study found total trillion peso bn bn earmarked subsidy poor government department planning said found trillion peso going richest part population rather need sound distribution cash cut poverty level government belief resources enough reduce poverty need tax reform better distribution deputy planning director jose leibovich said colombia population million half life poverty line however large property paying less tax situated inside poor area benefit cheaper utility electricity water government research found government expenditure area pension public service education property health revised mr leibovich said added government examining report warned easy solution problem good distribution subsidy economic growth poverty fall low said",
         "business",
         "0"
        ],
        [
         "33",
         "rover deal may cost job job mg rovers midlands plant may cut investment firm chinese car maker go ahead financial times reported shanghai automotive industry corp plan shift production rover china export uk source close negotiation tell ft rover told bbc news report job cut speculation tieup seen rovers last chance save longbridge plant pushed uk chancellor gordon brown rover confirmed tieup take place far away time rover boss said confident bn bn investment deal signed march early april transport general workers union general secretary tony woodley repeated view friday merger led job cut said investment new model needed ensure future birmingham plant crucial delicate time effort targeted securing new model company mean job people said saic say none money paid four owner rover accused union awarding exorbitant salary ft report saic extremely concerned ensure money used invest business rather distributed shareholder newspaper quote source close chinese firm meanwhile according chinese state press report small stateowned carmaker nanjing auto negotiation rover saic take stake joint venture saic unavailable comment job cut contacted bbc news rover saic signed technologysharing agreement august",
         "business",
         "0"
        ],
        [
         "34",
         "ad firm wpps profit surge uk advertising giant wpp posted largerthanexpected annual profit predicted outperform market pretax profit rose year ago reach bn ahead average analyst forecast revenues bn firm operating margin said reach year wpp bought us rival grey global creating giant big enough rival sector leader omnicom chief executive martin sorrell friday told reuters news agency wpp submitted proposal united business medias nop world market research unit analysts say unit sell sell wpp recent year bought firm ogilvy mather cordiant communications includes firm young rubicam j walter thompson events olympics helped boost wpps profit company said us congressional election fifa world cup likely present advertising opportunity near future longterm outlook look favourable medium technology development strength us economy wpp said",
         "business",
         "0"
        ],
        [
         "35",
         "us give foreign firm extra time foreign firm given extra year meet tough new corporate governance regulation imposed us stock market watchdog securities exchange commission extended deadline get line rule july many foreign firm protested sec imposing unfair burden new rule result sarbanesoxley act part us cleanup corporate scandal enron worldcom section sox act legislation nicknamed call firm certify financial reporting line us rule big us firm already meet requirement smaller one foreignbased firm list share us stock market originally middle year past month delegation european business leader heading secs washington dc headquarters protest say burden expensive timescale short particularly uks cbi warned company choose let us listing drop rather get line section latest delegation cbi met sec official wednesday decision relax deadline announced think signifies change heart sec cbi directorgeneral sir digby jones told bbcs today programme listening u many overseas company reminded america globalisation really mean cant make rule isolation sec said taken consideration fact foreign company already working meet onerous financial reporting rule home country european union particular imposing new international financial reporting standard noted dont underestimate effort compliance require extension provide additional time issuer take good hard look internal control said donald nicolaisen secs chief accountant",
         "business",
         "0"
        ],
        [
         "36",
         "japanese mogul arrested fraud one japans bestknown businessmen arrested thursday charge falsifying shareholder information selling share based false data yoshiaki tsutsumi ranked world richest man ran business spanning hotel railway construction baseball team latest series arrest top executive japan business scandal taken away van outside one prince hotel tokyo time mr tsutsumi seemed untouchable inheriting large property business father became one japans powerful industrialist close connection many country leading politician used wealth influence bring winter olympic games nagano last year forced resign post held business empire accused falsifying shareownership structure seibu railways one company japanese stock market rule listed company owned largest shareholder mr tsutsumi face criminal charge possibility prison sentence made look biggest shareholder owned less amount seibu railways delisted stock exchange share value plunged target takeover bid mr tsutsumis fall grace follows arrest several top executive japan authority try curb murky business practice widespread japanese company determination stay top cost may root childhood illegitimate third son rich father made money buying property japan rebuilt world war ii described demand father made felt enormous pressure dined nothing pain tsutsumi told weekly magazine scolded pouring much soy sauce told fruit child didnt let use silk futon saying luxury corporate governance issue japanese company last year twelve manager mitsubishi motors charged covering safety defect vehicle three executive japans troubled ufj bank charged concealing extent bank bad loan",
         "business",
         "0"
        ],
        [
         "37",
         "deutsche telekom see mobile gain german telecom firm deutsche telekom saw strong fourth quarter profit back upbeat us mobile earnings betterthanexpected asset sale net profit came bn euro bn dramatic change loss euro sales rose bn euro sales stake firm including russias oao mobile telesystems raised bn euro expected helped bring debt bn euro year ago debt bn euro higher tmobile usa company american mobile business made strong contribution profit seminal achievement cut debt low give head room invest growth said hannes wittig telecom analyst dresdner kleinwort wasserstein company said resume paying dividend two year focused cutting debt",
         "business",
         "0"
        ],
        [
         "38",
         "chinese wine tempts italys illva italys illva saronno agreed buy changyu largest wine maker china changyu said statement shenzhen stock exchange illva pay yuan government approves deal italian liqueur maker acquire share yantai state asset management bureau chinese wine sale growing us agriculture department said wine sale bn yuan china encouraging stateowned company sell share foreign investor anheuserbusch heineken scottish newcastle invested chinese beer industry last two year illva saronno betting chinese wine market yantai state asset management bureau government agency northeastern city yantai owns changyu state agency sell stake changyu another overseas company although didnt say remaining retained yantai city government consumption wine china still low litre per caput said us agriculture department compare litre france litre us three litre japan",
         "business",
         "0"
        ],
        [
         "39",
         "umbro profit lifted euro uk sportswear firm umbro posted rise annual profit sale replica england football kit boosted euro tournament pretax profit umbro recently lost sponsorship deal chelsea celtic said thursday signed new fouryear agreement scottish club rangers hope sale benefit launch new england replica shirt ahead world cup january umbro announced sponsorship agreement chelsea gave umbro lucrative right make replica shirt end five year earlier expected firm receive payment chelsea said appraising number additional investment opportunity result compensation chief executive peter mcguigan said firm plan grow sale uk internationally firm reporting first annual result since listing london stock exchange june said uk market seen sale growth last year said launch evolution x fashion range boosted sale umbro supply team across world including national side ireland sweden norway shares umbro penny morning trade",
         "business",
         "0"
        ],
        [
         "40",
         "fed chief warning us deficit federal reserve chairman alan greenspan warned allowing huge us budget deficit continue severe consequence speaking house budget committee urged congress take action cut deficit increasing tax us economy growing reasonably good pace warned budget concern clouding economic outlook us pension healthcare cost posed greatest risk economy said government program face severe financial strain coming decade massive babyboom generation retires fear may already committed physical resource babyboom generation retirement year economy capacity deliver existing promise need changed change made sooner rather later mr greenspan said warned unless nation see unprecedented rise productivity retirement health programme need significant change called congress cut promised benefit retiree promised benefit soontoretire baby boom generation much larger government afford meanwhile move narrow deficit gap raising tax pose significant risk economy dampening growth spending added urged congress reinstate lapsed rule require tax cut spending offset elsewhere budget effort prevent us heading red despite dire warning mr greenspan offer good news short term us growth gather steam income rise lead narrowing deficit recent increase defence homeland security spending expected continue indefinitely cut cost since president george w bush came office federal budget swung record surplus record deficit bn last year",
         "business",
         "0"
        ],
        [
         "41",
         "uk coal plunge deeper loss shares uk coal fallen mining group reported loss deepened uks biggest coal producer blamed geological problem industrial action operating flaw deep mine worsening fortune south yorkshire company led new chief executive gerry spindler said hoped return profit early trade thursday share penny uk coal said making significant progress shaking business introduced new wage structure new daily maintenance regime machinery mine method continue mining adverse condition company said action significantly uplift earnings expected transitional year return profitability recent rise coal price failed benefit company output already sold said total production cost per gigajoule uk coal said average selling price per gigajoule long journey ahead fix issue continue make progress great stride already made said mr spindler uk coal operates deep surface mine across nottinghamshire derbyshire leicestershire yorkshire west midlands northumberland durham",
         "business",
         "0"
        ],
        [
         "42",
         "saudi ministry employ woman women employed saudi arabias foreign ministry first time year foreign minister prince saud alfaisal reported saying move come conservative country inch open door working woman last year crown prince abdullah defacto ruler told government department put plan place employing woman progress slow report country say earlier week local arab news said labour minister ghazi algosaibi caused uproar said ministry difficulty hiring woman demanded segregated office newspaper said many saudi woman found explanation pitiful excuse employing woman women make half graduate saudi university workforce educational reform created new generation highlyeducated professionally trained saudi woman acquiring rightful position saudi society arab news quoted prince saud saying proud mention year shall woman working ministry foreign affairs first time",
         "business",
         "0"
        ],
        [
         "43",
         "japan economy slide recession japanese economy officially gone back recession fourth time decade gross domestic product fell last three month fall reflects weak export slowdown consumer spending follows similar fall gdp two previous quarter tokyo stock market fell figure announced rose widespread perception economy recover later year wednesday government revised growth figure earlier taking account performance recent period effectively tip japan recession previous estimate growth july september downgraded decline recession commonly defined two consecutive quarter negative growth although japanese government take factor account judging status economy figures released government cabinet office showed gdp annualised basis fell last three month however politician remain upbeat prospect economic boost later year economy soft patch look bigger picture recovery stage said economic fiscal policy minister heizo takenaka gross domestic product measure overall value good service produced country economy must assessed comprehensively can not look gdp alone mr takenaka stressed ministers pointed fact consumer spending depressed oneoff factor unseasonably mild winter analysts said figure disappointing argued japans largest company recording healthy profit capital spending rise japans economy grew overall last year fuelled strong performance first month forecast see growth however economy fragile recovery remains dependent upturn consumer spending fall value yen improvement global economy result came lower end expectation shouldnt pessimistic current state outlook economy said naoki iizuka senior economist daiichi life research institute japans economy seen stretch moderate growth past decade periodically slipped back recession",
         "business",
         "0"
        ],
        [
         "44",
         "us crude price surge us crude price soared fresh fourmonth high us refinery problem propelled petrol price alltime high us light sweet crude future jumped barrel new york closing gain tracked surge us gasoline future record high gallon jump followed fire western refining companys refinery texas shut petrol production spokesman group unable say production unit back running market simply want go citigroup global markets analyst kyle cooper told reuters news agency ed silliere analyst energy merchant added gasoline refinery issue texas mean scramble product us gulf coast elsewhere refinery houston closed due mechanical problem tuesday production bps texas city refinery taken short time approach spring market becomes much sensitive problem petrol production dealer anticipate rising demand fuel ahead holiday season rise price came despite us government report showed domestic supply fuel oil fuel rising meanwhile oil production cartel opecs recent announcement unlikely cut production level failed calm fear market oil price roughly higher year ago risen sharply recent week due combination colder weather declining value dollar fear opec rein production head seasonal drop demand instability iraq underlying fear terrorism played part rally",
         "business",
         "0"
        ],
        [
         "45",
         "industrial output fall japan japanese industrial output fell october unemployment rose casting doubt strength country economic recovery production dropped october reflecting decline export unemployment level edged slightly higher forecast economy grown six quarter growth slowed dramatically last quarter amid weaker global demand japans government remains optimistic due strong domestic demand analysts forecasting rise month month industrial output according figure ministry economy trade industry meti decline led fall demand electronic part mobile phone digital television although inventory fell month month higher year ago sign economy adjustment phase stronger expected said takashi yamanaka economist ufj bank japan downgraded overall economic assessment earlier month first time year growth slowed quarter ending september first quarter experts believe economy stagnated may entering softer patch back rising oil price falling dollar japanese government official played latest data arguing domestic consumer demand still resilient outlook november positive dont think one say condition worsened fall october said meti official despite rise unemployment jobless figure still way historical high recent year comparatively weak economic date preyed share nikkei afternoon trade",
         "business",
         "0"
        ],
        [
         "46",
         "ryanair bn boeing plane deal budget airline ryanair placed order boeing plane deal valued bn bn lead new ryanair job option aircraft move brings ryanairboeing order book firm order option ryanair said new plane help cut operating cost carrier reported drop quarterly profit earlier year hit higher fuel cost however reported result airline upbeat prospect despite tough competition budget airline market ryanair chairman david bonderman said significantly reduced unit operating cost allowed u reduce air fare year last five year new order new pricing place ryanair expects unit operating cost excluding fuel continue fall year next five year added end year ryanair taken delivery new plane new order due delivery airline said plane delivered able carry million passenger year making europes largest airline new job created next seven year added order seen good news boeing recent year overtaken european plane maker airbus world biggestselling plane maker",
         "business",
         "0"
        ],
        [
         "47",
         "parmalat return stockmarket parmalat italian dairy company went bust accounting scandal hope back italian stock exchange july firm gained protection creditor revealing debt bn euro bn bn eight time higher previously stated statement issued wednesday night parmalat finanziaria detailed administrator latest plan relisting share group part relisting italian stock exchange creditor debt expected converted share two new share issue amounting bn euro company creditor asked vote plan later year plan likely give creditor parmalat finanziaria share worth debt owed lower creditor previously hoped receive creditors parmalat main operating company likely see percentage debt receive fall several former top parmalat executive investigation fraud scandal lawmakers said wednesday night enrico bondi turnaround specialist appointed italian government parmalats chief executive spoke positively company closeddoor hearing chamber deputies industry commission bondi supplied u element positive result industrial position history debt find point solution parmalat group quotation market july italian news agency apcom quoted several lawmaker saying statement",
         "business",
         "0"
        ],
        [
         "48",
         "bmw cash fuel mini production less four year new mini launched german car maker bmw announced new investment new job created oxford factory including modernised machinery new body shell production building result investment raise output car rise last year response rapidlyrising demand help wipe waiting list wednesdays announcement bmw invested mini production since launch summer new mini gone strength strength last year almost one six car sold bmw group mini company admits success brand came despite scepticism many industry decision produce new mini received well right away said norbert reithofer member bmw management board initially bmw said produce mini model year vast cowley factory outskirt oxford target quickly reached raised time time everyone convinced boom continue risk theyve invested massively brand demand taper like new vw beetle said brad wernle automotive news europe price car gone launched cheapest mini cost day buyer fork almost new mini one even cooper cost mini convertible launched last spring cost top model even waiting list secondhand minis cheap either mini one bought model launched still fetch least cheapest model used cooper likely priced according thecar buying website parkers consumer association operates slightly different number yet confirms mini cooper depreciates slower car mercedes benz c se bmw series se cowley factory initially seemed far large production plant minis increasingly put good use plan tear old building build new one rumour new paint shop included plan bmws mini adventure made good much went wrong stewardship uk car maker rover sold five year ago phoenix consortium bmw still owned rover oxford factory producing awardwinning rover year people produced car last year factory almost four time many vehicle produced miniworkers mini factory current output equally impressive compared main rover factory longbridge produced rover car last year mg rover employ people produced car though hope land deal shanghai automotive industry corporation saic help double number car produced longbridge indeed mini producing car mg rover remains ahead even current sale land rovers range rovers made former rover unit bmw sold ford taken account",
         "business",
         "0"
        ],
        [
         "49",
         "bad weather hit nestle sale combination bad weather rising raw material cost sluggish european economy hit sale swiss food drink giant nestle revenue dipped bn swiss franc bn bn sale ice cream mineral water dampened wet summer however nestles profit margin helped strong performance americas china nestle raise dividend paying back debt nestle said strength swiss franc us dollar disposal business challenging trading condition europe dented sale poor summer across continent contrast prolonged heat wave severely affected demand ice cream sales bottled water fell although chocolate coffee frozen good petcare product performed better elsewhere nestle said enjoyed exceptional year north america outperforming market term sale growth nestle added performed strongly africa asia despite impact high oil price political instability nestles total earnings interest remained broadly flat past year despite company managing boost profit margin well increasing dividend nestle plan buy back share worth bn swiss franc looking forward nestle forecast organic earnings growth although warned trading remain competitive uncertainty remains future perrier iconic french mineral water owned nestle perrier locked longstanding dispute union productivity level business lead nestle consider selling firm option selling perrier still table chief executive peter brabeckletmathe confirmed thursday",
         "business",
         "0"
        ]
       ],
       "shape": {
        "columns": 3,
        "rows": 2221
       }
      },
      "text/html": [
       "<div>\n",
       "<style scoped>\n",
       "    .dataframe tbody tr th:only-of-type {\n",
       "        vertical-align: middle;\n",
       "    }\n",
       "\n",
       "    .dataframe tbody tr th {\n",
       "        vertical-align: top;\n",
       "    }\n",
       "\n",
       "    .dataframe thead th {\n",
       "        text-align: right;\n",
       "    }\n",
       "</style>\n",
       "<table border=\"1\" class=\"dataframe\">\n",
       "  <thead>\n",
       "    <tr style=\"text-align: right;\">\n",
       "      <th></th>\n",
       "      <th>article</th>\n",
       "      <th>label</th>\n",
       "      <th>label_encoded</th>\n",
       "    </tr>\n",
       "  </thead>\n",
       "  <tbody>\n",
       "    <tr>\n",
       "      <th>0</th>\n",
       "      <td>ad sale boost time warner profit quarterly pro...</td>\n",
       "      <td>business</td>\n",
       "      <td>0</td>\n",
       "    </tr>\n",
       "    <tr>\n",
       "      <th>1</th>\n",
       "      <td>dollar gain greenspan speech dollar hit highes...</td>\n",
       "      <td>business</td>\n",
       "      <td>0</td>\n",
       "    </tr>\n",
       "    <tr>\n",
       "      <th>2</th>\n",
       "      <td>yukos unit buyer face loan claim owner embattl...</td>\n",
       "      <td>business</td>\n",
       "      <td>0</td>\n",
       "    </tr>\n",
       "    <tr>\n",
       "      <th>3</th>\n",
       "      <td>high fuel price hit bas profit british airways...</td>\n",
       "      <td>business</td>\n",
       "      <td>0</td>\n",
       "    </tr>\n",
       "    <tr>\n",
       "      <th>4</th>\n",
       "      <td>pernod takeover talk lift domecq shares uk dri...</td>\n",
       "      <td>business</td>\n",
       "      <td>0</td>\n",
       "    </tr>\n",
       "    <tr>\n",
       "      <th>...</th>\n",
       "      <td>...</td>\n",
       "      <td>...</td>\n",
       "      <td>...</td>\n",
       "    </tr>\n",
       "    <tr>\n",
       "      <th>2216</th>\n",
       "      <td>bt program beat dialler scam bt introducing tw...</td>\n",
       "      <td>tech</td>\n",
       "      <td>4</td>\n",
       "    </tr>\n",
       "    <tr>\n",
       "      <th>2217</th>\n",
       "      <td>spam email tempt net shopper computer user acr...</td>\n",
       "      <td>tech</td>\n",
       "      <td>4</td>\n",
       "    </tr>\n",
       "    <tr>\n",
       "      <th>2218</th>\n",
       "      <td>careful code new european directive put softwa...</td>\n",
       "      <td>tech</td>\n",
       "      <td>4</td>\n",
       "    </tr>\n",
       "    <tr>\n",
       "      <th>2219</th>\n",
       "      <td>us cyber security chief resigns man making sur...</td>\n",
       "      <td>tech</td>\n",
       "      <td>4</td>\n",
       "    </tr>\n",
       "    <tr>\n",
       "      <th>2220</th>\n",
       "      <td>losing online gaming online role playing game ...</td>\n",
       "      <td>tech</td>\n",
       "      <td>4</td>\n",
       "    </tr>\n",
       "  </tbody>\n",
       "</table>\n",
       "<p>2221 rows × 3 columns</p>\n",
       "</div>"
      ],
      "text/plain": [
       "                                                article     label  \\\n",
       "0     ad sale boost time warner profit quarterly pro...  business   \n",
       "1     dollar gain greenspan speech dollar hit highes...  business   \n",
       "2     yukos unit buyer face loan claim owner embattl...  business   \n",
       "3     high fuel price hit bas profit british airways...  business   \n",
       "4     pernod takeover talk lift domecq shares uk dri...  business   \n",
       "...                                                 ...       ...   \n",
       "2216  bt program beat dialler scam bt introducing tw...      tech   \n",
       "2217  spam email tempt net shopper computer user acr...      tech   \n",
       "2218  careful code new european directive put softwa...      tech   \n",
       "2219  us cyber security chief resigns man making sur...      tech   \n",
       "2220  losing online gaming online role playing game ...      tech   \n",
       "\n",
       "      label_encoded  \n",
       "0                 0  \n",
       "1                 0  \n",
       "2                 0  \n",
       "3                 0  \n",
       "4                 0  \n",
       "...             ...  \n",
       "2216              4  \n",
       "2217              4  \n",
       "2218              4  \n",
       "2219              4  \n",
       "2220              4  \n",
       "\n",
       "[2221 rows x 3 columns]"
      ]
     },
     "execution_count": 4,
     "metadata": {},
     "output_type": "execute_result"
    }
   ],
   "source": [
    "bbc_pandas_dataset.dataframe"
   ]
  },
  {
   "cell_type": "markdown",
   "metadata": {},
   "source": [
    "Изучив информацию по датасету, отмечаем отсутствие нулевых значений. Датасет включает 2221 новость"
   ]
  },
  {
   "cell_type": "code",
   "execution_count": 5,
   "metadata": {},
   "outputs": [
    {
     "name": "stdout",
     "output_type": "stream",
     "text": [
      "<class 'pandas.core.frame.DataFrame'>\n",
      "RangeIndex: 2221 entries, 0 to 2220\n",
      "Data columns (total 3 columns):\n",
      " #   Column         Non-Null Count  Dtype \n",
      "---  ------         --------------  ----- \n",
      " 0   article        2221 non-null   object\n",
      " 1   label          2221 non-null   object\n",
      " 2   label_encoded  2221 non-null   int32 \n",
      "dtypes: int32(1), object(2)\n",
      "memory usage: 43.5+ KB\n"
     ]
    }
   ],
   "source": [
    "bbc_pandas_dataset.dataframe.info()"
   ]
  },
  {
   "cell_type": "markdown",
   "metadata": {},
   "source": [
    "Выполним оценку частотного распределения классов новостных статей. Отмечаем несбалансированное распределение классов. При последующем разбиении датасета на наборы данных train, test и valid будем это частотное распределение. Кроме того, для учета несбалансированности классов мы в будущем при определении функции потерь зададим веса для корректировки несбалансированности классов."
   ]
  },
  {
   "cell_type": "code",
   "execution_count": 6,
   "metadata": {},
   "outputs": [
    {
     "data": {
      "text/plain": [
       "label\n",
       "sport            511\n",
       "business         506\n",
       "politics         417\n",
       "tech             401\n",
       "entertainment    386\n",
       "Name: count, dtype: int64"
      ]
     },
     "execution_count": 6,
     "metadata": {},
     "output_type": "execute_result"
    }
   ],
   "source": [
    "bbc_pandas_dataset.dataframe.value_counts(\"label\")"
   ]
  },
  {
   "cell_type": "code",
   "execution_count": 7,
   "metadata": {},
   "outputs": [
    {
     "data": {
      "text/plain": [
       "label_encoded\n",
       "3    511\n",
       "0    506\n",
       "2    417\n",
       "4    401\n",
       "1    386\n",
       "Name: count, dtype: int64"
      ]
     },
     "execution_count": 7,
     "metadata": {},
     "output_type": "execute_result"
    }
   ],
   "source": [
    "bbc_pandas_dataset.dataframe.value_counts(\"label_encoded\")"
   ]
  },
  {
   "cell_type": "markdown",
   "metadata": {},
   "source": [
    "Выделим из датасета статьи как переменную Х и кодированные метки как переменную y"
   ]
  },
  {
   "cell_type": "code",
   "execution_count": 8,
   "metadata": {},
   "outputs": [],
   "source": [
    "X = bbc_pandas_dataset.dataframe['article']\n",
    "y = bbc_pandas_dataset.dataframe['label_encoded']"
   ]
  },
  {
   "cell_type": "markdown",
   "metadata": {},
   "source": [
    "Выполним разделение на обучающую и тестовую выборки. В данном случае размер тестовой выборки составляет 20 %. Кроме того, зададим стратификацию при генерации обучающей и тестовой выборок с учетом соотношения между размерами классов."
   ]
  },
  {
   "cell_type": "code",
   "execution_count": 9,
   "metadata": {},
   "outputs": [],
   "source": [
    "train_texts, test_texts, train_labels, test_labels = train_test_split(\n",
    "    X,\n",
    "    y,\n",
    "    test_size=0.2,\n",
    "    shuffle=True,\n",
    "    random_state=42,\n",
    "    stratify=bbc_pandas_dataset.dataframe['label_encoded']\n",
    "    )"
   ]
  },
  {
   "cell_type": "markdown",
   "metadata": {},
   "source": [
    "Убеждаемся, что обучающая и тестовая выборки имеют одинаковый размер."
   ]
  },
  {
   "cell_type": "code",
   "execution_count": 10,
   "metadata": {},
   "outputs": [
    {
     "data": {
      "text/plain": [
       "((1776,), (1776,), (445,), (445,))"
      ]
     },
     "execution_count": 10,
     "metadata": {},
     "output_type": "execute_result"
    }
   ],
   "source": [
    "train_texts.shape, train_labels.shape, test_texts.shape, test_labels.shape"
   ]
  },
  {
   "cell_type": "markdown",
   "metadata": {},
   "source": [
    "Кроме того, выделим из тестовой выборки валидационную выборку для снятия итоговых параметров качества модели."
   ]
  },
  {
   "cell_type": "code",
   "execution_count": 11,
   "metadata": {},
   "outputs": [],
   "source": [
    "test_texts, valid_texts, test_labels, valid_labels = train_test_split(\n",
    "    test_texts,\n",
    "    test_labels,\n",
    "    test_size=0.2,\n",
    "    shuffle=True,\n",
    "    random_state=42,\n",
    "    stratify=test_labels\n",
    ")"
   ]
  },
  {
   "cell_type": "markdown",
   "metadata": {},
   "source": [
    "Выполняем проверку размера тестовой и валидационной выборок."
   ]
  },
  {
   "cell_type": "code",
   "execution_count": 12,
   "metadata": {},
   "outputs": [
    {
     "data": {
      "text/plain": [
       "((356,), (356,), (89,), (89,))"
      ]
     },
     "execution_count": 12,
     "metadata": {},
     "output_type": "execute_result"
    }
   ],
   "source": [
    "test_texts.shape, test_labels.shape, valid_texts.shape, valid_labels.shape"
   ]
  },
  {
   "cell_type": "markdown",
   "metadata": {},
   "source": [
    "Убедимся, что частотное распределение меток приблизительно одинаково во всех выборках "
   ]
  },
  {
   "cell_type": "code",
   "execution_count": 13,
   "metadata": {},
   "outputs": [
    {
     "data": {
      "text/plain": [
       "(label_encoded\n",
       " 3    0.229730\n",
       " 0    0.228041\n",
       " 2    0.187500\n",
       " 4    0.180743\n",
       " 1    0.173986\n",
       " Name: proportion, dtype: float64,\n",
       " label_encoded\n",
       " 3    0.230337\n",
       " 0    0.227528\n",
       " 2    0.188202\n",
       " 4    0.179775\n",
       " 1    0.174157\n",
       " Name: proportion, dtype: float64,\n",
       " label_encoded\n",
       " 3    0.235955\n",
       " 0    0.224719\n",
       " 2    0.191011\n",
       " 4    0.179775\n",
       " 1    0.168539\n",
       " Name: proportion, dtype: float64)"
      ]
     },
     "execution_count": 13,
     "metadata": {},
     "output_type": "execute_result"
    }
   ],
   "source": [
    "train_labels.value_counts(normalize=True), test_labels.value_counts(normalize=True), valid_labels.value_counts(normalize=True)"
   ]
  },
  {
   "cell_type": "markdown",
   "metadata": {},
   "source": [
    "Отобразим train_texts. Обучащая выборка представляет собой массив статей. В данном случае не ограничиваем длину статей. Если впоследствии результаты логистической регрессии будут неприемлемыми, выполним это ограничение."
   ]
  },
  {
   "cell_type": "code",
   "execution_count": 14,
   "metadata": {},
   "outputs": [
    {
     "data": {
      "text/plain": [
       "array(['israeli club look africa four african player including zimbabwe goalkeeper energy murambadoro ready play israeli club hapoel bnei sakhnin uefa cup bnei sakhnin first arab side ever play european competition play english premiership side newcastle united first round warriors goalkeeper murambadoro made name african nations cup final tunisia helped bnei sakhnin overcome albanias partizani tirana previous round murambadoro moved israel recently brief stint south african club hellenic club israeli cup final last season based sakhnin near haifa club strong ethic high profile promoter peace cooperation within israel three africans club former cameroon defender ernest etchi dr congos alain masudi nigerian midfielder edith agoye stint tunisian side esperance',\n",
       "       'humanoid robot learns run carmaker hondas humanoid robot asimo got faster smarter japanese firm leader developing twolegged robot new improved asimo advanced step innovative mobility run find way around obstacle well interact people eventually asimo find gainful employment home office aim develop robot help people daily life said honda spokesman get robot running first time easy process involved asimo making accurate leap absorbing impact landing without slipping spinning run capable perhaps quite olympic star kelly holmes standard kmh closer leisurely jog maker claim almost four time fast sonys qrio became first robot run last year criterion running robot defined engineer foot ground stride asimo improved way increasing walking speed kmh km growing cm cm putting kg weight may quite ready yoga freedom movement able twist hip bend wrist thumb neck asimo already made mark international robot scene november inducted robot hall fame wowed audience around world ability walk upstairs recognise face come beckoned august even attended state dinner czech republic travelling japanese prime minister goodwill envoy one handful robot used tech firm trumpet technological advance technology developed asimo used automobile industry electronics increasingly take mechanic car design moment asimos biggest role entertainer audience gathered see first public run greeted slightly comical gait amusement according report robots fulfil serious function society united nations economic commission europe predicts worldwide market industrial robot swell unit',\n",
       "       'relay squad thrilled honour jason gardener say made mbe new year honours list underline achievement great britains xm relay squad olympics gardener darren campbell marlon devonish mark lewisfrancis awarded mbes beating prerace favourite usa gold think award reinforces fantastic night said recognition really inspiring make want success said lewisfrancis british sprint quartet produced string faultless baton change final put pressure americans usa stumbled poor switch justin gatlin coby miller stage britain edged ahead going final bend cue lewisfrancis ran textbook final leg holding maurice greene bring team gb home second one hundredth second ahead rival winning gold medal highlight athletics career far said birchfield harrier award friend family people helped get level sport gardener added u worked hard long long time carry believed impossible task course award special nothing ever take away winning olympic gold medal ever wanted life dreamed life since fantastic campbell agreed receiving honour capped difficult year sprinter think mbe important people closest know journey said newportbased athlete ive stumbled upon give lot joy satisfaction know stuff country mean something recognition james clarke chairman london marathon becomes obe',\n",
       "       ...,\n",
       "       'swap offer pirated windows xp computer giant microsoft launched pilot scheme replace counterfeit version windows xp legal one firsttime initiative restricted uk user preinstalled copy operating system pcs bought november december microsoft said software sent analysis doubt legitimacy company aim detect illegal trader turn user fake version windows legitimate one windows xp counterfeit project mean software found counterfeit replaced free subject certain condition end year first time microsoft launched counterfeit product replacement scheme world company told bbc news website june software giant said major security update windows xp service pack work widely pirated version operating system upgrade closed security loophole xp added feature made easier keep machine safe virus type malicious computer code us company invited anyone suspicion version windows xp submit testing soon possible procedure consists series computer check collating document filling witness statement great opportunity user confirm authenticity windows xp software whilst helping gather vital information illegal trader said alex hilton licence compliance manager microsoft scheme welcomed technology commerce industry important user ensure legally licensed avoid risk purchasing using counterfeit product said david frost director general british chambers commerce plan enable microsoft gather intelligence illegal trader prompt way allow take action software pirate microsoft said evaluate result uk programme setting similar scheme country',\n",
       "       'wall street cheer bush victory us stock market closed higher response george w bushs victory presidential election benchmark dow jones share index closed higher nasdaq rose many investor believe mr bushs policy businessfriendly democrat challenger john kerry higher share price reflect relief clear winner emerged proved tight poll investors worried outcome poll inconclusive paving way repeat legal wrangling marred election dow lost value three week immediately election unclear occupy white house mr kerry conceded defeat wednesday abandoning lastditch hope carrying vote swing state ohio relief market may decision move forward said tim ghriskey chief investment officer solaris asset management analyst predicted jump share price shortlived saying investor quickly focus health us economy look stock market rally bush kind oneday event said ken mayland clearview economics us recent economic performance mixed solid growth offset disappointingly low job creation figure mounting worry record budget deficit elsewhere financial market wednesday dollar dipped slightly euro climbed yen us oil price closed barrel new york rise oil price partly reflects view president bush less likely mr kerry release supply us strategic oil reserve share price london frankfurt paris closed higher successive poll runup tuesdays election shown two candidate running neck neck economic issue well war iraq forefront campaign key swing state ohio suffered substantial job loss past four year president bushs handling economy became crucial election issue senator kerry attacked president bushs economic record campaign hammering home fact net job lost term office president bush focused fact two million job created past year claiming vindicated taxcutting agenda future policy candidate pledged bring americas bn federal budget deficit control senator kerry planned increase tax earning year president bush placed reform pension system heart economic agenda second term however economist said candidate economic programme rested questionable assumption future growth',\n",
       "       'hingis make unexpected return martina hingis make return competitve tennis two year game volvo womens open pattaya thailand tuesday face german marlene weingartner first round competitor athlete always want win hope body hold said hingis miss grand slam final competing big difference playing commenting tv miss lot former world number one retired surgery ankle last wta event filderstadt germany october lost elena dementieva last year insisted comeback unlikely speaking thaliand hingis admitted said didnt know happen body appearance benefit charity region swiss star donate prize money'],\n",
       "      dtype=object)"
      ]
     },
     "execution_count": 14,
     "metadata": {},
     "output_type": "execute_result"
    }
   ],
   "source": [
    "train_texts.values"
   ]
  },
  {
   "cell_type": "markdown",
   "metadata": {},
   "source": [
    "### 2. Обучение модели логистической регрессии"
   ]
  },
  {
   "cell_type": "markdown",
   "metadata": {},
   "source": [
    "Для последующего обучения модели необходимо выполнить токенизацию текста после его предобработки с помощью токенизатора из библиотеки nltk."
   ]
  },
  {
   "cell_type": "code",
   "execution_count": 15,
   "metadata": {},
   "outputs": [],
   "source": [
    "train_texts_tokenized_clf = train_texts.apply(lambda x: ' '.join(word_tokenize(x)))\n",
    "valid_texts_tokenized_clf = valid_texts.apply(lambda x: ' '.join(word_tokenize(x)))\n",
    "test_texts_tokenized_clf = test_texts.apply(lambda x: ' '.join(word_tokenize(x)))"
   ]
  },
  {
   "cell_type": "markdown",
   "metadata": {},
   "source": [
    "Выполним векторизацию токенизированного текста с помощью TfidfVectorizer. После этого выполним обучение модели логистической регрессии с использованием параметров, заданных по умолчанию. Проведем 1000 итераций. Кроме того, учитывая несбалансированность классов, зададим аргумент class_weight=\"balanced\" для балансировки классов."
   ]
  },
  {
   "cell_type": "markdown",
   "metadata": {},
   "source": [
    "Выведем значения точности, рассчитанные для обучающих, тестовых и валидационных данных. Кроме того, выведем классификационный отчет, который содержит метрики для каждого из классов."
   ]
  },
  {
   "cell_type": "code",
   "execution_count": 16,
   "metadata": {},
   "outputs": [
    {
     "name": "stdout",
     "output_type": "stream",
     "text": [
      "Train Accuracy: 99.77%\n",
      "Test Accuracy: 98.60%\n",
      "Valid Accuracy: 100.00%\n",
      "\n",
      "Classification report for test:\n",
      "              precision    recall  f1-score   support\n",
      "\n",
      "           0       1.00      0.96      0.98        81\n",
      "           1       1.00      0.98      0.99        62\n",
      "           2       0.97      0.99      0.98        67\n",
      "           3       1.00      1.00      1.00        82\n",
      "           4       0.96      1.00      0.98        64\n",
      "\n",
      "    accuracy                           0.99       356\n",
      "   macro avg       0.99      0.99      0.99       356\n",
      "weighted avg       0.99      0.99      0.99       356\n",
      "\n"
     ]
    }
   ],
   "source": [
    "vectorizer = TfidfVectorizer()\n",
    "\n",
    "train_texts_vectorized_clf = vectorizer.fit_transform(train_texts_tokenized_clf)\n",
    "test_texts_vectorized_clf = vectorizer.transform(test_texts_tokenized_clf)\n",
    "valid_texts_vectorized_clf = vectorizer.transform(valid_texts_tokenized_clf)\n",
    "\n",
    "clf = LogisticRegression(max_iter=1000, class_weight=\"balanced\")\n",
    "clf.fit(train_texts_vectorized_clf, train_labels)\n",
    "\n",
    "train_pred = clf.predict(train_texts_vectorized_clf)\n",
    "train_accuracy = accuracy_score(train_labels, train_pred)\n",
    "\n",
    "test_pred = clf.predict(test_texts_vectorized_clf)\n",
    "test_accuracy = accuracy_score(test_labels, test_pred)\n",
    "classification_report = classification_report(test_labels, test_pred)\n",
    "\n",
    "valid_pred = clf.predict(valid_texts_vectorized_clf)\n",
    "valid_accuracy = accuracy_score(valid_labels, valid_pred)\n",
    "\n",
    "print(f\"Train Accuracy: {train_accuracy * 100:.2f}%\")\n",
    "print(f\"Test Accuracy: {test_accuracy * 100:.2f}%\")\n",
    "print(f\"Valid Accuracy: {valid_accuracy * 100:.2f}%\")\n",
    "print(f\"\\nClassification report for test:\\n{classification_report}\")"
   ]
  },
  {
   "cell_type": "markdown",
   "metadata": {},
   "source": [
    "Представленные метрики демонстрируют, что модель логистической регрессии очень хорошо осуществляется многоклассовую классификацию для всех классов. И для обучающей, и для тестовой выборок получены значения, близкие к 100 %."
   ]
  },
  {
   "cell_type": "markdown",
   "metadata": {},
   "source": [
    "### 3. Обучение модели DistilBert"
   ]
  },
  {
   "cell_type": "markdown",
   "metadata": {},
   "source": [
    "Выполним токенизацию подготовленных данных. В данном случае будем использовать токенизатор DistilBert. Токенизатор самостоятельно ограничивает длину каждой статьи 512 символами (truncation=True) и дополняет короткие строки нулями (padding=True)."
   ]
  },
  {
   "cell_type": "code",
   "execution_count": 17,
   "metadata": {},
   "outputs": [],
   "source": [
    "tokenizer_bert = transformers.DistilBertTokenizerFast.from_pretrained('distilbert-base-uncased')"
   ]
  },
  {
   "cell_type": "code",
   "execution_count": 18,
   "metadata": {},
   "outputs": [],
   "source": [
    "train_encodings = tokenizer_bert(list(train_texts), truncation=True, padding=True)\n",
    "valid_encodings = tokenizer_bert(list(valid_texts), truncation=True, padding=True)\n",
    "test_encodings = tokenizer_bert(list(test_texts), truncation=True, padding=True)"
   ]
  },
  {
   "cell_type": "markdown",
   "metadata": {},
   "source": [
    "Для последующего обучения модели DistilBert подготовим Dataset и DataLoader для подачи данных батчами. При генерации Dataset на вход подаются токенизированный текст и метки. Сформированный датасет передается в DataLoader, который формирует батчи (16) и перемешивает данные (только в случае обучающей выборки)"
   ]
  },
  {
   "cell_type": "code",
   "execution_count": 19,
   "metadata": {},
   "outputs": [],
   "source": [
    "class TorchDataset(torch.utils.data.Dataset):\n",
    "    def __init__(self, encodings, labels):\n",
    "        self.encodings = encodings\n",
    "        self.labels = labels\n",
    "\n",
    "    def __getitem__(self, idx):\n",
    "        item = {key: torch.tensor(val[idx]) for key, val in self.encodings.items()}\n",
    "        item['labels'] = torch.tensor(self.labels[idx]).long()\n",
    "        return item\n",
    "\n",
    "    def __len__(self):\n",
    "        return len(self.labels)"
   ]
  },
  {
   "cell_type": "code",
   "execution_count": 20,
   "metadata": {},
   "outputs": [],
   "source": [
    "train_dataset = TorchDataset(train_encodings, np.array(train_labels))\n",
    "test_dataset = TorchDataset(test_encodings, np.array(test_labels))\n",
    "valid_dataset = TorchDataset(valid_encodings, np.array(valid_labels))"
   ]
  },
  {
   "cell_type": "code",
   "execution_count": 21,
   "metadata": {},
   "outputs": [],
   "source": [
    "train_loader = torch.utils.data.DataLoader(train_dataset, batch_size=16, shuffle=True)\n",
    "test_loader = torch.utils.data.DataLoader(test_dataset, batch_size=16, shuffle=False)\n",
    "valid_loader = torch.utils.data.DataLoader(valid_dataset, batch_size=16, shuffle=False)"
   ]
  },
  {
   "cell_type": "markdown",
   "metadata": {},
   "source": [
    "Для оценки качества модели создадим функцию расчета точности предсказаний, которая сравнивает предсказание класса с истинным значением и рассчитывает долю правильных предсказаний."
   ]
  },
  {
   "cell_type": "code",
   "execution_count": 22,
   "metadata": {},
   "outputs": [],
   "source": [
    "def compute_accuracy(model, data_loader, device):\n",
    "    with torch.no_grad():\n",
    "        correct_pred, num_examples = 0, 0\n",
    "\n",
    "        for batch_idx, batch in enumerate(data_loader):\n",
    "\n",
    "            input_ids = batch['input_ids'].to(device)\n",
    "            attention_mask = batch['attention_mask'].to(device)\n",
    "            labels = batch['labels'].to(device)\n",
    "            outputs = model(input_ids, attention_mask=attention_mask)\n",
    "            logits = outputs['logits']\n",
    "            predicted_labels = torch.argmax(logits, 1)\n",
    "            num_examples += labels.size(0)\n",
    "            correct_pred += (predicted_labels == labels).sum()\n",
    "\n",
    "        return correct_pred.float()/num_examples * 100"
   ]
  },
  {
   "cell_type": "markdown",
   "metadata": {},
   "source": [
    "Загрузим модель DistilBert с помощью библиотеки transformers. В данном случае задача представляет собой классификацию с использованием 5 классов. Укажем это с помощью аргумента при задании модели (num_labels = 5). В качестве оптимизатора выберем Adam, скорость обучения = lr=1e-5."
   ]
  },
  {
   "cell_type": "code",
   "execution_count": 23,
   "metadata": {},
   "outputs": [
    {
     "name": "stdout",
     "output_type": "stream",
     "text": [
      "DEVICE:  cuda\n"
     ]
    },
    {
     "name": "stderr",
     "output_type": "stream",
     "text": [
      "Some weights of DistilBertForSequenceClassification were not initialized from the model checkpoint at distilbert-base-uncased and are newly initialized: ['classifier.bias', 'classifier.weight', 'pre_classifier.bias', 'pre_classifier.weight']\n",
      "You should probably TRAIN this model on a down-stream task to be able to use it for predictions and inference.\n"
     ]
    }
   ],
   "source": [
    "DEVICE = torch.device('cuda' if torch.cuda.is_available() else 'cpu')\n",
    "print(\"DEVICE: \", DEVICE)\n",
    "model_bert = transformers.DistilBertForSequenceClassification.from_pretrained('distilbert-base-uncased', num_labels = 5)\n",
    "model_bert.to(DEVICE)\n",
    "model_bert.train()\n",
    "\n",
    "optim = torch.optim.Adam(model_bert.parameters(), lr=1e-5)"
   ]
  },
  {
   "cell_type": "markdown",
   "metadata": {},
   "source": [
    "Как и в случае модели логистической регрессии, выполним балансировку классов. Однако в отличие от модели логистической регрессии в моделей глубинного обучения отсутствует удобный инструмент балансировки классов. Поэтому приходится рассчитывать веса с помощью библиотеки sklearn и вводить рассчитанные поправки в функцию потерь CrossEntropyLoss. Необходимо отметить, что изначально данная корректировка не была внесена в модель, и, тем не менее, модель демонстрировала отличные результаты. Внесение поправки не улучшило результатов, однако отражает правильный подход в случае несбалансированных классов."
   ]
  },
  {
   "cell_type": "code",
   "execution_count": 24,
   "metadata": {},
   "outputs": [],
   "source": [
    "from sklearn.utils.class_weight import compute_class_weight\n",
    "import torch.nn as nn\n",
    "\n",
    "class_weights = compute_class_weight(class_weight='balanced', classes=np.unique(train_labels), y=train_labels)\n",
    "\n",
    "class_weights_tensor = torch.tensor(class_weights, dtype=torch.float32).to(DEVICE)\n",
    "\n",
    "loss_fn = nn.CrossEntropyLoss(weight=class_weights_tensor)"
   ]
  },
  {
   "cell_type": "markdown",
   "metadata": {},
   "source": [
    "Проведем обучение и оценку качества модели на обучающих и тестовых данных. В конце будет выполнена проверка качества модели на валидационных данных."
   ]
  },
  {
   "cell_type": "code",
   "execution_count": 25,
   "metadata": {},
   "outputs": [
    {
     "name": "stdout",
     "output_type": "stream",
     "text": [
      "Epoch: 0001/0004 | Batch 0000/0111 | Loss: 1.6301\n",
      "Epoch: 0001/0004 | Batch 0030/0111 | Loss: 1.3137\n",
      "Epoch: 0001/0004 | Batch 0060/0111 | Loss: 0.8163\n",
      "Epoch: 0001/0004 | Batch 0090/0111 | Loss: 0.4038\n",
      "Training accuracy: 97.41%\n",
      "Test accuracy: 98.03%\n",
      "Time elapsed: 1.85 min\n",
      "\n",
      "Epoch: 0002/0004 | Batch 0000/0111 | Loss: 0.2808\n",
      "Epoch: 0002/0004 | Batch 0030/0111 | Loss: 0.2931\n",
      "Epoch: 0002/0004 | Batch 0060/0111 | Loss: 0.1240\n",
      "Epoch: 0002/0004 | Batch 0090/0111 | Loss: 0.1399\n",
      "Training accuracy: 99.27%\n",
      "Test accuracy: 98.60%\n",
      "Time elapsed: 3.73 min\n",
      "\n",
      "Epoch: 0003/0004 | Batch 0000/0111 | Loss: 0.0714\n",
      "Epoch: 0003/0004 | Batch 0030/0111 | Loss: 0.0693\n",
      "Epoch: 0003/0004 | Batch 0060/0111 | Loss: 0.0416\n",
      "Epoch: 0003/0004 | Batch 0090/0111 | Loss: 0.0789\n",
      "Training accuracy: 99.49%\n",
      "Test accuracy: 98.88%\n",
      "Time elapsed: 5.61 min\n",
      "\n",
      "Epoch: 0004/0004 | Batch 0000/0111 | Loss: 0.0362\n",
      "Epoch: 0004/0004 | Batch 0030/0111 | Loss: 0.0277\n",
      "Epoch: 0004/0004 | Batch 0060/0111 | Loss: 0.0277\n",
      "Epoch: 0004/0004 | Batch 0090/0111 | Loss: 0.0290\n",
      "Training accuracy: 99.66%\n",
      "Test accuracy: 98.88%\n",
      "Time elapsed: 7.61 min\n",
      "\n",
      "Total Training Time: 7.61 min\n",
      "Valid accuracy: 100.00%\n"
     ]
    }
   ],
   "source": [
    "import time\n",
    "start_time = time.time()\n",
    "\n",
    "n_epochs = 4\n",
    "for epoch in range(n_epochs):\n",
    "\n",
    "    model_bert.train()\n",
    "\n",
    "    for batch_idx, batch in enumerate(train_loader):\n",
    "\n",
    "        input_ids = batch['input_ids'].to(DEVICE)\n",
    "        attention_mask = batch['attention_mask'].to(DEVICE)\n",
    "        labels = batch['labels'].to(DEVICE)\n",
    "\n",
    "        outputs = model_bert(input_ids, attention_mask=attention_mask, labels=labels)\n",
    "        logits = outputs['logits']\n",
    "        loss = loss_fn(logits, labels)\n",
    "\n",
    "        optim.zero_grad()\n",
    "        loss.backward()\n",
    "        optim.step()\n",
    "\n",
    "        if not batch_idx % 30:\n",
    "            print (f'Epoch: {epoch+1:04d}/{n_epochs:04d} | '\n",
    "                   f'Batch {batch_idx:04d}/{len(train_loader):04d} | '\n",
    "                   f'Loss: {loss:.4f}')\n",
    "\n",
    "    model_bert.eval()\n",
    "\n",
    "    with torch.no_grad():\n",
    "        print(f'Training accuracy: '\n",
    "              f'{compute_accuracy(model_bert, train_loader, DEVICE):.2f}%'\n",
    "              f'\\nTest accuracy: '\n",
    "              f'{compute_accuracy(model_bert, test_loader, DEVICE):.2f}%')\n",
    "\n",
    "    print(f'Time elapsed: {(time.time() - start_time)/60:.2f} min\\n')\n",
    "\n",
    "print(f'Total Training Time: {(time.time() - start_time)/60:.2f} min')\n",
    "print(f'Valid accuracy: {compute_accuracy(model_bert, valid_loader, DEVICE):.2f}%')"
   ]
  },
  {
   "cell_type": "markdown",
   "metadata": {},
   "source": [
    "Рассчитаем функцию потерь на тестовой выборке (test_loader)."
   ]
  },
  {
   "cell_type": "code",
   "execution_count": 26,
   "metadata": {},
   "outputs": [
    {
     "name": "stdout",
     "output_type": "stream",
     "text": [
      "\n",
      "Test Loss: 0.0470\n",
      "Test Accuracy: 98.88%\n",
      "\n"
     ]
    }
   ],
   "source": [
    "DEVICE = torch.device('cuda' if torch.cuda.is_available() else 'cpu')\n",
    "model_bert.eval()\n",
    "\n",
    "test_loss = 0.0\n",
    "correct = 0\n",
    "\n",
    "with torch.no_grad():\n",
    "    for batch in test_loader:\n",
    "        input_ids = batch['input_ids'].to(DEVICE)\n",
    "        attention_mask = batch['attention_mask'].to(DEVICE)\n",
    "        labels = batch['labels'].to(DEVICE)\n",
    "\n",
    "        outputs = model_bert(input_ids, attention_mask=attention_mask, labels=labels)\n",
    "        logits = outputs['logits']\n",
    "\n",
    "        loss = loss_fn(logits, labels)\n",
    "        test_loss += loss.item()\n",
    "\n",
    "        predicted_labels = torch.argmax(logits, dim=1)\n",
    "        correct += (predicted_labels == labels).sum().item()\n",
    "\n",
    "test_loss /= len(test_loader)\n",
    "\n",
    "test_accuracy = correct / len(test_loader.dataset) * 100.\n",
    "\n",
    "print(f'\\nTest Loss: {test_loss:.4f}')\n",
    "print(f'Test Accuracy: {test_accuracy:.2f}%\\n')"
   ]
  },
  {
   "cell_type": "markdown",
   "metadata": {},
   "source": [
    "Модель DistilBert демонстрирует отличные результаты. Для всех выборок получены результаты, близкие к 100 %. Значения функции потерь для обучающей и тестовой выборок низкие, что свидетельствует о хорошо подобранных параметрах модели."
   ]
  },
  {
   "cell_type": "markdown",
   "metadata": {},
   "source": [
    "### 4. Обучение модели DistilBert с помощью Trainer (необязательная часть, в исследовательских целях)"
   ]
  },
  {
   "cell_type": "markdown",
   "metadata": {},
   "source": [
    "Для обучения с помощью Trainer загрузим отдельную модель. Зададим для процесса обучения те же параметры, что и для предыдущей модели (num_classes, batch, lr). Однако в данном случае не будем осуществлять балансировку классов вследствие расчета функции потерь самим Trainer \"под капотом\"."
   ]
  },
  {
   "cell_type": "code",
   "execution_count": 27,
   "metadata": {},
   "outputs": [
    {
     "name": "stderr",
     "output_type": "stream",
     "text": [
      "Some weights of DistilBertForSequenceClassification were not initialized from the model checkpoint at distilbert-base-uncased and are newly initialized: ['classifier.bias', 'classifier.weight', 'pre_classifier.bias', 'pre_classifier.weight']\n",
      "You should probably TRAIN this model on a down-stream task to be able to use it for predictions and inference.\n"
     ]
    }
   ],
   "source": [
    "DEVICE = torch.device('cuda' if torch.cuda.is_available() else 'cpu')\n",
    "model_hugg_bert = transformers.DistilBertForSequenceClassification.from_pretrained('distilbert-base-uncased', num_labels = 5)\n",
    "model_hugg_bert.to(DEVICE)\n",
    "model_hugg_bert.train()\n",
    "\n",
    "optim = torch.optim.Adam(model_hugg_bert.parameters(), lr=1e-5)\n",
    "metric = load(\"accuracy\")\n",
    "\n",
    "training_args = TrainingArguments(\n",
    "    output_dir='results',\n",
    "    num_train_epochs=4,\n",
    "    per_device_train_batch_size=16,\n",
    "    per_device_eval_batch_size=16,\n",
    "    logging_dir='logs',\n",
    "    logging_steps=30,\n",
    ")"
   ]
  },
  {
   "cell_type": "code",
   "execution_count": 28,
   "metadata": {},
   "outputs": [],
   "source": [
    "def compute_metrics_trainer(eval_pred):\n",
    "    logits, labels = eval_pred\n",
    "    predictions = np.argmax(logits, axis=-1)\n",
    "    return metric.compute(\n",
    "               predictions=predictions, references=labels)"
   ]
  },
  {
   "cell_type": "code",
   "execution_count": 29,
   "metadata": {},
   "outputs": [],
   "source": [
    "trainer = Trainer(\n",
    "    model=model_hugg_bert,\n",
    "    compute_metrics=compute_metrics_trainer,\n",
    "    args=training_args,\n",
    "    train_dataset=train_dataset,\n",
    "    eval_dataset=test_dataset,\n",
    "    optimizers=(optim, None)\n",
    ")"
   ]
  },
  {
   "cell_type": "code",
   "execution_count": 30,
   "metadata": {},
   "outputs": [
    {
     "data": {
      "text/html": [
       "\n",
       "    <div>\n",
       "      \n",
       "      <progress value='444' max='444' style='width:300px; height:20px; vertical-align: middle;'></progress>\n",
       "      [444/444 06:11, Epoch 4/4]\n",
       "    </div>\n",
       "    <table border=\"1\" class=\"dataframe\">\n",
       "  <thead>\n",
       " <tr style=\"text-align: left;\">\n",
       "      <th>Step</th>\n",
       "      <th>Training Loss</th>\n",
       "    </tr>\n",
       "  </thead>\n",
       "  <tbody>\n",
       "    <tr>\n",
       "      <td>30</td>\n",
       "      <td>1.511900</td>\n",
       "    </tr>\n",
       "    <tr>\n",
       "      <td>60</td>\n",
       "      <td>1.121400</td>\n",
       "    </tr>\n",
       "    <tr>\n",
       "      <td>90</td>\n",
       "      <td>0.709000</td>\n",
       "    </tr>\n",
       "    <tr>\n",
       "      <td>120</td>\n",
       "      <td>0.439500</td>\n",
       "    </tr>\n",
       "    <tr>\n",
       "      <td>150</td>\n",
       "      <td>0.281500</td>\n",
       "    </tr>\n",
       "    <tr>\n",
       "      <td>180</td>\n",
       "      <td>0.194900</td>\n",
       "    </tr>\n",
       "    <tr>\n",
       "      <td>210</td>\n",
       "      <td>0.179300</td>\n",
       "    </tr>\n",
       "    <tr>\n",
       "      <td>240</td>\n",
       "      <td>0.115200</td>\n",
       "    </tr>\n",
       "    <tr>\n",
       "      <td>270</td>\n",
       "      <td>0.094700</td>\n",
       "    </tr>\n",
       "    <tr>\n",
       "      <td>300</td>\n",
       "      <td>0.095400</td>\n",
       "    </tr>\n",
       "    <tr>\n",
       "      <td>330</td>\n",
       "      <td>0.087500</td>\n",
       "    </tr>\n",
       "    <tr>\n",
       "      <td>360</td>\n",
       "      <td>0.076100</td>\n",
       "    </tr>\n",
       "    <tr>\n",
       "      <td>390</td>\n",
       "      <td>0.058300</td>\n",
       "    </tr>\n",
       "    <tr>\n",
       "      <td>420</td>\n",
       "      <td>0.072000</td>\n",
       "    </tr>\n",
       "  </tbody>\n",
       "</table><p>"
      ],
      "text/plain": [
       "<IPython.core.display.HTML object>"
      ]
     },
     "metadata": {},
     "output_type": "display_data"
    },
    {
     "name": "stdout",
     "output_type": "stream",
     "text": [
      "Total Training Time: 6.22 min\n"
     ]
    }
   ],
   "source": [
    "import time\n",
    "\n",
    "start_time = time.time()\n",
    "trainer.train()\n",
    "print(f'Total Training Time: {(time.time() - start_time)/60:.2f} min')"
   ]
  },
  {
   "cell_type": "code",
   "execution_count": 31,
   "metadata": {},
   "outputs": [
    {
     "data": {
      "text/html": [
       "\n",
       "    <div>\n",
       "      \n",
       "      <progress value='23' max='23' style='width:300px; height:20px; vertical-align: middle;'></progress>\n",
       "      [23/23 00:05]\n",
       "    </div>\n",
       "    "
      ],
      "text/plain": [
       "<IPython.core.display.HTML object>"
      ]
     },
     "metadata": {},
     "output_type": "display_data"
    },
    {
     "data": {
      "text/plain": [
       "{'eval_loss': 0.07398007810115814,\n",
       " 'eval_accuracy': 0.9887640449438202,\n",
       " 'eval_runtime': 5.3575,\n",
       " 'eval_samples_per_second': 66.448,\n",
       " 'eval_steps_per_second': 4.293,\n",
       " 'epoch': 4.0}"
      ]
     },
     "execution_count": 31,
     "metadata": {},
     "output_type": "execute_result"
    }
   ],
   "source": [
    "trainer.evaluate()"
   ]
  },
  {
   "cell_type": "code",
   "execution_count": 32,
   "metadata": {},
   "outputs": [
    {
     "name": "stdout",
     "output_type": "stream",
     "text": [
      "Train accuracy: 99.27%\n",
      "Test accuracy: 98.88%\n",
      "Valid accuracy: 100.00%\n"
     ]
    }
   ],
   "source": [
    "model_hugg_bert.eval()\n",
    "model_hugg_bert.to(DEVICE)\n",
    "print(f'Train accuracy: {compute_accuracy(model_hugg_bert, train_loader, DEVICE):.2f}%')\n",
    "print(f'Test accuracy: {compute_accuracy(model_hugg_bert, test_loader, DEVICE):.2f}%')\n",
    "print(f'Valid accuracy: {compute_accuracy(model_hugg_bert, valid_loader, DEVICE):.2f}%')"
   ]
  },
  {
   "cell_type": "markdown",
   "metadata": {},
   "source": [
    "Результаты обучения модели DistilBert с помощью Trainer также отличные. Они идентичны результатам, полученным для этой же модели, но без использования Trainer."
   ]
  },
  {
   "cell_type": "markdown",
   "metadata": {},
   "source": [
    "### 5. Оформление решения с помощью Pipeline"
   ]
  },
  {
   "cell_type": "markdown",
   "metadata": {},
   "source": [
    "Оформим представленное выше решение с помощью Pipeline. Пайплайн должен включать три основых этапа обучения модели: подготовка текста, его векторизация с предварительной токенизацией и само обучение с использованием модели логистической регрессии."
   ]
  },
  {
   "cell_type": "markdown",
   "metadata": {},
   "source": [
    "Для выполнения предподготовки текста у нас уже была сформирована функция preprocess_text, которая применялась в BbcDataset. На ее основе создадим класс TextPreprocessor. Это необходимо для последующего включения этого класса в пайплайн наряду с векторизатором и самой функцией машинного обучения. Созданный пайплайн используем для обучения на обучающей выборке и выплнения предсказания с помощью функции predict_log, получая на выходе предсказание класса в виде его метки и вероятности предсказания именно этого класса."
   ]
  },
  {
   "cell_type": "code",
   "execution_count": 33,
   "metadata": {},
   "outputs": [],
   "source": [
    "from sklearn.base import BaseEstimator, TransformerMixin\n",
    "\n",
    "class TextPreprocessor(BaseEstimator, TransformerMixin):\n",
    "    def __init__(self):\n",
    "        self.mystopwords = stopwords.words('english') + ['also', 'the', 'this', 'that', 'not', 'would', 'could', 'did']\n",
    "        self.lemmatizer = WordNetLemmatizer()\n",
    "\n",
    "    def fit(self, X, y=None):\n",
    "        return self\n",
    "\n",
    "    def transform(self, X):\n",
    "        return [self.preprocess_text(text) for text in X]\n",
    "\n",
    "    def preprocess_text(self, text: str) -> str:\n",
    "        \"\"\"\n",
    "        Удаляет все, кроме английских букв и пробелов, затем лемматизирует и удаляет стоп-слова\n",
    "        :param text: Текст для обработки\n",
    "        :return: Обработанная строка текста\n",
    "        \"\"\"\n",
    "        def remove_stopwords(text, mystopwords=self.mystopwords):\n",
    "            text = re.sub(r'[^a-zA-Z\\s]', '', text)\n",
    "            return \" \".join([token for token in text.split() if token.lower() not in mystopwords])\n",
    "\n",
    "        def lemmatize(text):\n",
    "            tokens = word_tokenize(text)\n",
    "            return \" \".join([self.lemmatizer.lemmatize(word) for word in tokens])\n",
    "\n",
    "        text = remove_stopwords(text)\n",
    "        text = lemmatize(text)\n",
    "\n",
    "        return text\n",
    "\n",
    "\n",
    "logistic_regression_pipeline = Pipeline([\n",
    "    ('preprocessor', TextPreprocessor()),\n",
    "    ('vectorization', TfidfVectorizer(tokenizer=word_tokenize)),\n",
    "    ('classifier', LogisticRegression())\n",
    "])\n",
    "\n",
    "logistic_regression_pipeline.fit(train_texts, train_labels)\n",
    "\n",
    "def predict_log(article):\n",
    "    predictions = logistic_regression_pipeline.predict(article)\n",
    "    probabilities = logistic_regression_pipeline.predict_proba(article)\n",
    "    return predictions, probabilities"
   ]
  },
  {
   "cell_type": "markdown",
   "metadata": {},
   "source": [
    "Создадим пайплайн и для модели model_bert (модель DistilBert, без Trainer)"
   ]
  },
  {
   "cell_type": "code",
   "execution_count": 34,
   "metadata": {},
   "outputs": [],
   "source": [
    "DEVICE = torch.device('cuda' if torch.cuda.is_available() else 'cpu')\n",
    "\n",
    "def preprocess_text(text: str) -> str:\n",
    "    \"\"\"\n",
    "    Удаляет все, кроме английских букв и пробелов, затем лемматизирует и удаляет стоп-слова\n",
    "    :param text: Текст для обработки\n",
    "    :return: Обработанная строка текста\n",
    "    \"\"\"\n",
    "\n",
    "    mystopwords = stopwords.words('english') + ['also', 'the', 'this', 'that', 'not', 'would', 'could', 'did']\n",
    "\n",
    "    def remove_stopwords(text, mystopwords=mystopwords):\n",
    "        text = re.sub(r'[^a-zA-Z\\s]', '', text)\n",
    "        return \" \".join([token for token in text.split() if token.lower() not in mystopwords])\n",
    "\n",
    "    def lemmatize(text):\n",
    "        lemmatizer = WordNetLemmatizer()\n",
    "        tokens = word_tokenize(text)\n",
    "        return \" \".join([lemmatizer.lemmatize(word) for word in tokens])\n",
    "\n",
    "    text = remove_stopwords(text)\n",
    "    text = lemmatize(text)\n",
    "\n",
    "    return text\n",
    "\n",
    "class DistillBertPipeline:\n",
    "    def __init__(self, model, tokenizer, preprocess_func, device=DEVICE):\n",
    "        self.model = model\n",
    "        self.tokenizer = tokenizer\n",
    "        self.preprocess_func = preprocess_func\n",
    "        self.device = device\n",
    "\n",
    "    def predict(self, texts):\n",
    "        preprocessed_text = [self.preprocess_func(text) for text in texts]\n",
    "\n",
    "        self.model.eval()\n",
    "        encodings = self.tokenizer(preprocessed_text, truncation=True, padding=True, return_tensors='pt').to(self.device)\n",
    "        with torch.no_grad():\n",
    "            outputs = self.model(**encodings)\n",
    "        logits = outputs.logits\n",
    "        probabilities = torch.softmax(logits, dim=1).cpu().numpy()\n",
    "        predictions = torch.argmax(logits, dim=1).cpu().numpy()\n",
    "        return predictions, probabilities\n",
    "\n",
    "distillbert_pipeline = DistillBertPipeline(model_bert, tokenizer_bert, preprocess_func=preprocess_text, device=DEVICE)\n",
    "\n",
    "def predict_distillbert(texts):\n",
    "    return distillbert_pipeline.predict(texts)"
   ]
  },
  {
   "cell_type": "markdown",
   "metadata": {},
   "source": [
    "### 6. Предсказание класса статей"
   ]
  },
  {
   "cell_type": "markdown",
   "metadata": {},
   "source": [
    "Для удобства изучения полученных результатов предсказания представим полученные данные в формате таблицы pandas, включающей 3 столбца: статья (article), метка класса (но в текстовом, а не числовом выражении), а также вероятность предсказания класса."
   ]
  },
  {
   "cell_type": "code",
   "execution_count": 35,
   "metadata": {},
   "outputs": [],
   "source": [
    "def predictions_to_dataset(predict_function, article_set, model_name=\"log\"):\n",
    "    all_articles = []\n",
    "    predicted_classes = []\n",
    "    predicted_probabilities = []\n",
    "    \n",
    "    for articles in article_set:\n",
    "        for article in articles:\n",
    "            predictions, probabilities = predict_function([article])\n",
    "            predicted_class = bbc_pandas_dataset.label_encoder.inverse_transform(predictions)\n",
    "            \n",
    "            all_articles.append(article)\n",
    "            predicted_classes.append(predicted_class[0])\n",
    "            predicted_probabilities.append(probabilities[0][int(predictions)])\n",
    "    \n",
    "    df = pd.DataFrame({\n",
    "        \"article\": all_articles,\n",
    "        \"label_\"+model_name: predicted_classes,\n",
    "        \"probability_\"+model_name: predicted_probabilities\n",
    "    })\n",
    "    \n",
    "    return df"
   ]
  },
  {
   "cell_type": "markdown",
   "metadata": {},
   "source": [
    "Сформируем набор статей с сайта bbc.com. По 5 статей для каждого класса"
   ]
  },
  {
   "cell_type": "code",
   "execution_count": 36,
   "metadata": {},
   "outputs": [],
   "source": [
    "articles_business = [\"From chatbots to intelligent toys: How AI is booming in China Head in hands, eight-year-old Timmy muttered to himself as he tried to beat a robot powered by artificial intelligence at a game of chess. But this was not an AI showroom or laboratory – this robot was living on a coffee table in a Beijing apartment, along with Timmy. The first night it came home, Timmy hugged his little robot friend before heading to bed. He doesn't have a name for it – yet. Its like a little teacher or a little friend, the boy said, as he showed his mum the next move he was considering on the chess board. Moments later, the robot chimed in: Congrats! You win. Round eyes blinking on the screen, it began rearranging the pieces to start a new game as it continued in Mandarin: Ive seen your ability, I will do better next time. China is embracing AI in its bid to become a tech superpower by 2030. DeepSeek, the breakthrough Chinese chatbot that caught the world's attention in January, was just the first hint of that ambition. Money is pouring into AI businesses seeking more capital, fuelling domestic competition. There are more than 4,500 firms developing and selling AI, schools in the capital Beijing are introducing AI courses for primary and secondary students later this year, and universities have increased the number of places available for students studying AI.\",\n",
    "                      \"Trump doubles planned tariffs on Canadian metal US President Donald Trump has said he will double the tariffs he previously announced on Canadian steel and aluminium imports into the US, taking the levies to 50% in total. In the latest twist in a deepening trade war, Trump said it was in retaliation for 25% tariffs Ontario placed on electricity it sends to northern US states. Trump said if tariffs including those on agricultural products were not dropped, he would hike taxes on the car industry, which will, essentially, permanently shut down the automobile manufacturing business in Canada. Ontario premier Doug Ford said: Until the threat of tariffs is gone for good, we won't back down. Ford added in a post on X that Trump had launched an unprovoked trade and tariff war with America's closest friend and ally. Writing on his social media platform Truth Social, Trump said his tariffs would go into effect on Wednesday morning, and that he would declare a national emergency on electricity in those states. He also said Canada relied on the US for military protection, and reiterated that he wanted the country to become the 51st US state. He add that it would make all tariffs, and everything else, totally disappear, if Canada were to join the US as a state. Canadian Prime Minister-designate Mark Carney has previously said Canada will never be part of America in any way, shape or form.\",\n",
    "                      \"European stocks steady after US markets plunge A sell-off in global shares eased in Europe on Tuesday following a sharp fall in US stocks that came as investors raised concerns about the negative economic impact of President Donald Trump's tariffs. It followed the president saying in a TV interview that the world's biggest economy was in a period of transition, when asked about suggestions of a potential recession. Since those remarks were broadcast on Sunday, top Trump officials and advisers have sought to calm investor fears. The US S&P 500 share index fell nearly 3% on Monday, but in Europe most of the major markets opened little changed. In a Fox News interview broadcast at the weekend but recorded on Thursday, Trump appeared to acknowledge concerns about the economy. I hate to predict things like that, he said. There is a period of transition because what we're doing is very big. We're bringing wealth back to America. That's a big thing. Charu Chanana, an investment strategist at investment bank Saxo, told the BBC: The previous notion of Trump being a stock market president is being re-evaluated. On Monday in New York, the S&P 500, which tracks the biggest companies listed in the US, ended the trading day 2.7% lower, while the Dow Jones Industrial Average dropped 2%. The tech-heavy Nasdaq share index was hit particularly hard, sinking 4%.\",\n",
    "                      \"Starmer says benefit system unfair and indefensible Sir Keir Starmer has called the current benefits system unsustainable, indefensible and unfair, and said the government could not shrug its shoulders and look away. Addressing Labour MPs on Monday evening, the prime minister said the current welfare system was the worst of all worlds, discouraging people from working while producing a spiralling bill. The comments come as Work and Pensions Secretary Liz Kendall prepares to set out changes to the welfare system and cut the benefits bill in the coming weeks. Chancellor Rachel Reeves has earmarked several billion pounds in draft spending cuts to welfare and other government departments ahead of the Spring Statement. Changes likely to be announced in the coming days include restrictions on eligibility for the Personal Independent Payment, which provides help with extra living costs to those with a long-term physical or mental health condition, and cuts to incapacity benefits for people unable to work and receiving Universal Credit. There is unease over the plans within the party, with Labour MP Rachael Maskell warning against draconian cuts that risk pushing disabled people into poverty. Maskell told the BBC she had picked up deep, deep concern among Labour MPs. She said: I look in the past at what Labour has achieved in this space and believe that we can hold on to our values, ensure that we're helping people and not harming people. Another Labour MP, Neil Duncan-Jordan, also expressed concern, telling Newsnight: If we are going to make poor people poorer then there will be a number of MPs who won't be able to sign up to that. It feels like it could be a re-run of austerity and I'm worried about that.\",\n",
    "                      \"Luxury lounges: Credit card perks 'we are all paying for' I'm standing in what feels like a suite in a posh hotel - all soft lighting, marble counter tops, plush seating and parquet-style flooring. An ornate platter of food catches the corner of my eye. That is a seafood tower as a welcome food amenity, as well as caviar, and you can also see the champagne there for guests to enjoy, says Dana Pouwels, head of airport lounge benefits at US bank Chase. She is showing me around Chase's new Sapphire Lounge at New York's La Guardia Airport. This is what waiting to catch a flight can look like these days – if you can afford to pay $550 (£433) a year to have the correct credit card required to gain entry. Then once inside Chase's new La Guardia lounge you can then choose to pay up to $3,000 to access a private suite for a few hours. It is all part of what has been described as a global arms race among the credit card companies that you are probably entirely unaware of – they are competing to outdo each other with bigger, better, bolder airport lounges. And while most of us don't have access to these lounges, experts say we are almost certainly helping pay for them. And they don't come cheap. Yes, it's an arms race, and they're getting extraordinary, says Clint Thompson, the news editor at the flight and travel website The Points Guy. From what we do know, we're talking up to tens of millions of dollars per lounge.\"]\n",
    "links_business = [\"https://www.bbc.com/news/articles/ckg8jqj393eo\",\n",
    "                  \"https://www.bbc.com/news/articles/cm2y811g1dgo\",\n",
    "                  \"https://www.bbc.com/news/articles/c4gdwgjkk1no\",\n",
    "                  \"https://www.bbc.com/news/articles/c0kgpyz3mmpo\",\n",
    "                  \"https://www.bbc.com/news/articles/c5yen4k1xnko\"]\n",
    "\n",
    "\n",
    "articles_sport = [\"Golden Ace wins dramatic Champion Hurdle at 25-1 Golden Ace was a shock 25-1 winner of the Champion Hurdle at Cheltenham after previous victors Constitution Hill and State Man fell. The 2023 champion Constitution Hill was sent off odds-on favourite but came down early in the big race. Last year's winner State Man looked set to claim victory before a dramatic fall at the last hurdle. That left Golden Ace, ridden by Lorcan Williams for trainer Jeremy Scott, to come through and win by nine lengths from 66-1 outsider Burdett Road. Both Constitution Hill and State Man galloped away unscathed from their falls. I'm lost for words. This is the best day of my life by far, said Williams who shrugged his shoulder after a first top-level Grade One win. You dream of these moments as a kid. I hope the others are OK - Constitution Hill and State Man are iconic horses. Somerset-based Scott said: It's marred by the two horses who came down, but I'm just delighted the gods favoured us. The trainer had been persuaded to run in the feature race, rather than the Mares' Hurdle, by owner Ian Gosden. Borrowing a line from Only Fools and Horses, Gosden said: He who dares, wins, Rodney. Constitution Hill, trained by Nicky Henderson, had recovered from a respiratory issue and suspected colic since his triumph two years ago to go into the race unbeaten from 10 starts. He was sent off the 1-2 favourite and his fall at the fifth hurdle is estimated to have saved bookmakers a £10m payout. Nobody is hurt, they're two jockeys and two horses who've had proper old falls but they're all OK. That's the main thing, said Henderson.\",\n",
    "                  \"'Wales cannot let England win title in Cardiff' Wales lock Dafydd Jenkins says his side cannot let England realise their Six Nations title ambitions in Cardiff this weekend. Steve Borthwick's side will arrive at the Principality Stadium on Saturday afternoon hoping they can win the title, although France remain favourites when they host Scotland after events in Cardiff have finished. In contrast to the title contenders, Wales have lost 16 successive internationals and are bottom of the table hoping to avoid another Wooden Spoon. England hooker Jamie George has called the game Wales' World Cup final. This is the game you dream of playing in as a kid, said Jenkins. This game is a special one, and one we're definitely up for. They can win the championship, so we can't be having that in Cardiff. Jenkins plays his club rugby in Exeter so bragging rights are also important. Exeter centre Henry Slade is in the England squad, but missed Sunday's 42-17 win against Italy because of injury. If I go back to Exeter with a win I'd be a lot happier, in terms of you can start ripping into a few of the other boys, said Jenkins. I've taken my fair share of stick off them, so it'd be nice to hand out a bit. To derail's England's hopes, Wales have to win a Test match for the first time since October 2023. Wales have also lost their past eight home matches and previous eight Six Nations games played at the Principality Stadium.\",\n",
    "                  \"'Boxing's not broken' - Hearn responds to White's new league Eddie Hearn denies boxing is broken after UFC president Dana White signed a deal with Saudi Arabian investors to create a new boxing league. Details of this league are unclear, with White declaring in some interviews they will rebuild boxing from the ground up and have their own world titles, while in others saying the league would focus on young talent. Hearn, one of the biggest boxing promoters in the world, took issue with White suggesting boxing is broken. I think it's great for boxing, Matchroom's Hearn said on 5 Live Boxing with Steve Bunce podcast. One thing I disagree with, is boxing's not broken. Boxing is in a great place, it always has been. There's always ways we can improve it, but the fact those guys want to come into boxing shows where it's at. White will partner with Turki Alalshikh, chairman of Saudi Arabia's general entertainment authority, who has spearheaded the Saudi investment in boxing in the last two years. The new outfit will fall under the TKO banner, which owns the UFC and WWE. The UFC use a league system in MMA, signing fighters to long-term, exclusive deals and having their own promotional world title. TKO is expected to take over the operation of some of Saudi's major boxing events, including the mooted super-fight between Saul 'Canelo' Alvarez and Terence Crawford in September in Las Vegas. MMA in America, however, is not bound by the 2000 Ali Act and Professional Boxing Safety Act 1996, which set legal guidelines for writing contracts and limits to the amount of time fighters can be signed to a promotion. TKO president Mark Shapiro has spoken out against Ali Act recently, and Hearn is unsure if the UFC model can thrive in boxing.\",\n",
    "                  \"Scots call up 'two for the future' Miller & Wilson Uncapped teenagers Lennon Miller and James Wilson have been named in Scotland's squad for this month's Nations League play-off matches with Greece. Meanwhile, Lewis Ferguson, Kevin Nisbet and Kieran Tierney have been recalled by Steve Clarke. Motherwell midfielder Miller and Hearts forward Wilson, both 18, have represented their country at age grade level. Well regular Miller has captained his club side of late while Wilson, who also qualifies for Northern Ireland, has broken into the Hearts team in recent months, scoring six times. A lot of call-offs, a lot of injuries, especially in middle to forward areas, Clarke said. I just felt it was a chance to have a look at two young boys, who've caught the eye - Lennon certainly over the last 18 months and James over the last six months. Two for the future but also can help us just now. Lennon plays with a maturity beyond his year. Good qualities, he can play deep in midfield, can play higher midfield, good delivery, box-to-box, good energy. Now we have to see if he can fit in among the group. [James] is someone who catches your eye, runs behind, looks to score goals, which is a great trait. We're always looking for goal scorers.\",\n",
    "                  \"Bradley and Ballard out as Hale named in NI squad Conor Bradley and Daniel Ballard will miss Northern Ireland's friendlies with Switzerland and Sweden, while there is a first call-up for striker Ronan Hale. Ross County's Hale has been included after his international clearance came through in January after switching his allegiance from the Republic of Ireland. Northern Ireland host Switzerland at Windsor Park on Friday, 21 March before Michael O'Neill's side face Sweden in Stockholm four days later - with both matches available to watch on BBC Sport and BBC Northern Ireland. Michael O'Neill has made a number of changes to his squad from November's Nations League matches. Key defenders Bradley and Ballard are left out through injury, as is midfielder Ali McCann, while goalkeeper Bailey Peacock-Farrell and striker Josh Magennis drop to the standby list. Caolan Boyd-Munce, Jamie Reid and Jamal Lewis miss out on O'Neill's 25-man squad. With Magennis' omission, Paddy McNair is the sole remaining player from the Euro 2016 squad as he returns from injury, while goalkeeper Conor Hazard, defenders Eoin Toal and Aaron Donnelly and forward Dale Taylor have also been recalled. Portsmouth's Terry Devlin, who can play at right-back or in midfield, is the only uncapped player in O'Neill's squad.\"]\n",
    "links_sport = [\"https://www.bbc.com/sport/horse-racing/articles/cwygpwxpdeyo\",\n",
    "               \"https://www.bbc.com/sport/rugby-union/articles/c2kgp212nkzo\",\n",
    "               \"https://www.bbc.com/sport/articles/cjevzl9v58yo\",\n",
    "               \"https://www.bbc.com/sport/football/articles/cr52zdm88pro\",\n",
    "               \"https://www.bbc.com/sport/football/articles/cx2edk25wvxo\"]\n",
    "\n",
    "\n",
    "articles_politics = [\"How JD Vance sees the world - and why that matters An argument in the White House tore apart the US alliance with Ukraine, shook European leaders and highlighted JD Vance's key role in forcefully expressing Donald Trump's foreign policy. The vice-president has come out punching on the global stage - so what is it that drives his worldview? Vance's first major foreign speech, at the Munich Security Conference in mid-February, caught many by surprise. Rather than focusing on the war raging in Ukraine, the US vice-president only briefly mentioned the bloodiest European conflict since World War Two. Instead, he used his debut on the international stage to berate close US allies about immigration and free speech, suggesting the European establishment was anti-democratic. He accused them of ignoring the wills of their people and questioned what shared values they were truly banding together with the US to defend. If you are running in fear of your own voters, there is nothing America can do for you, nor for that matter is there anything you can do for the American people, he warned. It was a bold and perhaps unexpected way to introduce himself to the world - by angering European allies. But days later he was back in the news, at the centre of a blistering row with Ukrainian President Volodymyr Zelensky, whom he accused of being ungrateful. For those who have been studying the rise of Vance, these two episodes came as no surprise. The vice-president has come to represent an intellectual wing of the conservative movement that gives expression to Trumpism and in particular how its America First mantra applies beyond its borders. In writings and interviews, Vance has expressed an ideology that seems to join the dots between American workers, global elites and the role of the US in the wider world.\",\n",
    "                    \"Pakistan militants attack train and take passengers hostage Armed militants in Pakistan's Balochistan region have attacked a train carrying hundreds of passengers and taken a number of hostages, military sources have told the BBC. The Baloch Liberation Army (BLA) fired at the Jaffar Express Train as it travelled from Quetta to Peshawar. A statement from the separatist group said it had bombed the track before storming the train in remote Sibi district. It claimed the train was under its control. Pakistani police told local reporters at least three people, including the train driver, had been injured. Security forces have been sent to the scene, as well as helicopters to try to rescue hostages, police told the BBC. There were reports of intense firing at the train, a Balochistan government spokesman told local newspaper Dawn. A senior police official said it remains stuck just before a tunnel surrounded by mountains, AFP news agency reports. A senior army official confirmed to the BBC that there were more than 100 army personnel travelling from Quetta on the train. The Baloch Liberation Army has warned of severe consequences if an attempt is made to rescue those it is holding. It has waged a decades-long insurgency to gain independence and has launched numerous deadly attacks, often targeting police stations, railway lines and highways. The Pakistani authorities - as well as several Western countries, including the UK and US - have designated the BLA as a terrorist organisation.\",\n",
    "                    \"Sweden says Russia is greatest threat to its security Russia poses the greatest threat to Sweden due to its aggressive attitude towards the West, the Scandinavian nation's security service Sapo has said. It wrote in its annual report that while Sweden joining the Nato military alliance had strengthened its security, it had also led to increased Russian intelligence activity. Russia denies any wrongdoing. Sapo also said that the security situation in Sweden was serious - with foreign powers operating in more threatening ways, with hybrid warfare, alongside incidents of violent extremism. Charlotte von Essen, the head of Sapo, said there was a tangible risk that the security situation can deteriorate further in a way that may be hard to predict. Sweden became a Nato member last year, seeing it as the best guarantee against Russia following its full-scale invasion of Ukraine in February 2022. That January, its civil defence minister warned there could be war in Sweden in the near future due to Russian aggression. Sapo said on Tuesday that Russia's intelligence activities were primarily aimed at undermining cohesion between Nato members, counteracting Western support for Ukraine, and circumventing sanctions. It said these activities showed Russia was becoming increasingly offensive and risk-prone in the face of a build-up of Swedish, and wider European, defences. When gathering intelligence, the Russian security and intelligence services use a wide range of resources and different platforms, the agency wrote, adding that these activities had been limited by expelling intelligence officers. Ms von Essen said Swedes needed to be vigilant about widespread anti-state narratives and conspiracy theories that seek to act as a destabilising force, adding that it was important that we do not normalise the new situation. In its report, Sapo mentioned suspicious incidents involving infrastructure and which countries may have been behind them in some cases\",\n",
    "                    \"Greenland goes to polls in vote dominated by Trump and independence Residents of Greenland are going to the polls in a vote that in previous years has drawn little outside attention - but which may prove pivotal for the Arctic territory's future. US President Donald Trump's repeated interest in acquiring Greenland has put it firmly in the spotlight and fuelled the longstanding debate on the island's future ties with Copenhagen. There's never been a spotlight like this on Greenland before, says Nauja Bianco, a Danish-Greenlandic policy expert on the Arctic. Greenland has been controlled by Denmark – nearly 3,000km (1,860 miles) away – for about 300 years. It governs its own domestic affairs, but decisions on foreign and defence policy are made in Copenhagen. Now, five out of six parties on the ballot favour Greenland's independence from Denmark, differing only on how quickly that should come about. Voting takes place over 11 hours at 72 polling stations, and ends at 20:00 local time on Tuesday (22:00G). The debate over independence has been put on steroids by Trump, says Masaana Egede, editor of Greenlandic newspaper Sermitsiaq. The island's strategic location and untapped mineral resources have caught the US president's eye. He first floated the idea of buying Greenland during his first term in 2019. Since taking office again in January, he has reiterated his intention to acquire the territory. Greenland and Denmark's leaders have repeatedly rebuffed his demands. Addressing the US Congress last week, however, Trump again doubled down. We need Greenland for national security. One way or the other we're gonna get it, he said, prompting applause and laughter from a number of politicians, including Vice-President JD Vance.\",\n",
    "                    \"Kurdish-led SDF agrees to integrate with Syrian government forces A Kurdish-led militia alliance which controls north-eastern Syria has signed a deal to integrate all military and civilian institutions into the Syrian state, the country's presidency says. The agreement, which includes a complete cessation of hostilities, says the US-backed Syrian Democratic Forces (SDF) will hand over control of the region's border posts, airport, and vital oil and gas fields. It also recognises the Kurdish minority as an integral part of the Syrian state and guarantees the rights of all Syrians to representation and participation in the political process. SDF commander Mazloum Abdi called the deal a real opportunity to build a new Syria. We are committed to building a better future that guarantees the rights of all Syrians and fulfils their aspirations for peace and dignity, he wrote on X after signing the deal in Damascus on Monday alongside interim President Ahmed al-Sharaa. The deal represents a major step towards Sharaa's goal to unify the fractured country after his Sunni Islamist group led the rebel offensive that overthrew president Bashar al-Assad in December and ended 13 years of devastating civil war. It could also de-escalate the SDF's conflict with neighbouring Turkey and Turkish-backed Syrian former rebel factions allied to the government, which are trying to push the alliance out of areas near the border. There were celebrations welcoming the announcement of the deal on the streets of several cities on Monday night, with many people expressing relief at a time when Syria is facing several other threats to its stability.\"]\n",
    "links_politics = [\"https://www.bbc.com/news/articles/cly82yx09zeo\",\n",
    "                  \"https://www.bbc.com/news/articles/c5y2q5v9249o\",\n",
    "                  \"https://www.bbc.com/news/articles/c89y8gn2w8vo\",\n",
    "                  \"https://www.bbc.com/news/articles/cr4236e2wz2o\",\n",
    "                  \"https://www.bbc.com/news/articles/cedlx0511w7o\"]\n",
    "\n",
    "\n",
    "articles_tech = [\"How a tiny village became India's YouTube capital In Tulsi, a village in central India, social media has sparked an economic and social revolution. It's a microcosm of YouTube's effect on the world. As villagers head into the fields of Tulsi, a village outside Raipur in central India, on a muggy September morning, 32-year-old YouTuber Jai Varma asks a group of women to join him for his latest video. They gather around him – adjusting their sarees and sharing a quick word and a smile.  Varma places an elderly woman on a plastic chair, asks another to touch her feet and a third to serve water, staging a scene of a rural village festival for fans who will enjoy his content from cities and countries thousands of kilometres away. The women, familiar with this kind of work, are happy to oblige. Varma captures the moment, and they return to their farmwork. A few hundred metres away, another group is busy setting up their own production. One holds up a mobile phone, filming as 26-year-old Rajesh Diwar moves to the rhythm of a hip-hop track, his hands and body animated in the expressive style of a seasoned performer. Tulsi is like any other Indian village. The small outpost in the central state of Chhattisgarh is home to one-storey houses and partially paved roads. A water storage tank peers out above the buildings, overseeing the town. Banyan trees with concrete bases serve as gathering spots. But what sets Tulsi apart is its distinction as India's YouTube Village. Some 4,000 people live in Tulsi, and reports suggest more than 1,000 of them work on YouTube in some capacity. Walk around the village itself and it's hard to find someone who hasn't appeared in one of the many videos being filmed there.  The money that YouTube brings has transformed the local economy, locals say, and beyond financial benefits, the social media platform has become an instrument for equality and social change. The residents who've launched successful YouTube channels and found new streams of income include a number of women who previously had few opportunities for advancement in this rural setting. Under the banyan trees, conversations have turned to technology and the internet.\",\n",
    "                 \"Global smartwatch sales fall for first time Global sales of smartwatches have fallen for the first time, new figures indicate, in large part due to a sharp decline in the popularity of market leader, Apple. Market research firm Counterpoint says 7% fewer of the devices were shipped in 2024 compared to the year before. Shipments of Apple Watches fell by 19% in that period, Counterpoint says. It blames the slump on a lack of new features in Apple's latest devices, and the fact a rumoured high-end Ultra 3 model never materialised. The biggest driver of the decline was North America, where the absence of the Ultra 3 and minimal feature upgrades in the S10 lineup led consumers to hold back purchases, said Counterpoint senior research analyst Anshika Jain. Apple was also hit with sales and import bans in the US in late 2023 and early 2024 over a disputed patent regarding blood oxygen level monitoring - which Ms Jain says also contributed to lower sales figures in the first half of 2024. It retained 22% of market share in the final three months of 2024, down from 25% a year earlier. We've been through a period where the smartwatch has gone from being a new and exciting gadget, to something now that's stabilising - the feature set isn't changing very dramatically year over year, said Leo Gebbie, principal analyst at CCS Insight. Despite the overall decline, last year did see a massive rise in sales for Chinese-made smartwatches from brands such as Xiaomi, Huawei and Imoo.\",\n",
    "                 \"'Garbage' to blame Ukraine for massive X outage, experts say Experts have cast doubt on Elon Musk's claim that a large-scale outage which hit X was caused by hackers in Ukraine. Platform monitor Downdetector says it had more than 1.6 million reports of problems with the social media site from users around the world on Monday. We're not sure exactly what happened but there was a massive cyber-attack to try and bring down the X system with IP [Internet Protocol] addresses originating in the Ukraine area, Musk said in an interview with the Fox Business channel. However, Ciaran Martin, professor at Oxford University's Blavatnik School of Government told the BBC that explanation was wholly unconvincingn and pretty much garbage. Prof Martin - former head of the UK's National Cyber Security Centre - says it looks as if X was targeted by what's known as a distributed denial of service (DDoS) attack, where hackers flood a server with internet traffic to prevent users from connecting to a website. It's not that sophisticated - it's a very old technique, Mr Martin told Radio 4's Today programme. I can't think of a company of the size and standing internationally of X that's fallen over to a DDoS attack for a very long time, he added. He said the incident at X doesn't reflect well on their cyber security. Many users trying to access the platform and refresh feeds on its app and desktop site during Monday's outages were met with a loading icon. Musk, who has been a frequent critic of Ukraine and its President Volodymyr Zelensky, has offered no evidence to support his claim and did not say whether or not he thought state actors were involved. He posted on X that either a large, coordinated group and/or a country is involved. But Prof Martin said tracing IP addresses tells you absolutely nothing, because hackers in this situation would hijack devices from all over the world.\",\n",
    "                 \"Deep-sea mining tech advances but doubts remain There's one. And another. This robot was hunting for rocks. A three-pronged claw descended from above and plucked a stone off the seabed. All the while, the autonomous machine's on-board camera scanned for creatures that might be resting on those rocks, to avoid snatching an innocent lifeform from its habitat. The test, carried out in a harbour in November, demonstrated one approach to mining for polymetallic nodules, potato-sized lumps containing metals scattered on the seabed in vast quantities, in much deeper parts of the ocean. Such metals are sought-after for use in renewable energy devices and batteries, for example. But deep-sea mining is a controversial means of obtaining them because of its potentially significant environmental impacts. We felt that a vehicle that used AI to look for life and avoid it could have much less of an environmental footprint, explains Oliver Gunasekara, co-founder and chief executive of Impossible Metals. The firm's system is 95% accurate at detecting lifeforms of 1mm or greater in size, he says. The robot's arms are similar to those that pick and place items in automated warehouses - they are optimised for speed. Plus, each claw kicks up a relatively small puff of sediment as it plucks its target off the seafloor. Impossible Metals aims to further reduce this disturbance. Such a system is not likely to convince everyone that deep-sea mining is a good idea, however. Mining would by its nature remove the very substrate of life in and on the deep seafloor, no matter the technology, says Jessica Battle, who leads the global no deep-seabed mining initiative at the WWF.\",\n",
    "                 \"A dating app for video games tackles one of the industry's big issues Almost 19,000 titles went live on PC games store Steam in 2024 - about 360 a week. There are positive ways to look at this. Tools are more accessible and easier to use, barriers to entry are lower, self-publishing is easier and ideas are never short in supply. But for developers discoverability – getting your new release noticed - has never been more challenging in a landscape dominated by blockbusters and online games such as Fortnite and Call of Duty. It's also harder for potential customers to find them, with recommendations often dictated by search engine and store algorithms. But Ludocene - described as a dating app for video games hopes to change that. Games journalist Andy Robertson, the man behind the project, says the goal is to help people find those ones that got away. In any given year there's just so many games and some of those will rise to the top, they'll get lucky or they'll just be brilliant enough to punch through that noise, he tells BBC Newsbeat. But there's loads of really great games that just get sort of buried and lost in that shuffle. Ludocene itself looks a bit like a game - each title in its database is represented by a card with a trailer on one side and more information on the reverse. The dating app element comes from users swiping to keep - or discard - the suggestions, slowly building up a collection of recommended titles. Ludocene's entries are chosen by a selection of well-known gaming experts – journalists, streamers and other figures.\"]\n",
    "links_tech = [\"https://www.bbc.com/future/article/20250217-how-a-tiny-village-became-indias-youtube-capital\",\n",
    "              \"https://www.bbc.com/news/articles/cx20d3r7p5do\",\n",
    "              \"https://www.bbc.com/news/articles/c62x5k44rl0o\",\n",
    "              \"https://www.bbc.com/news/articles/cg45zwe0v0ro\",\n",
    "              \"https://www.bbc.com/news/articles/cr52rey0ng8o\"]\n",
    "\n",
    "\n",
    "articles_entertainment = [\"Noel Clarke says life 'smashed' by allegations Actor and producer Noel Clarke has accused the publisher of the Guardian of having smashed my life for years as he gave evidence at his High Court libel trial. The star of Doctor Who and Kidulthood began his testimony on Monday. The 49-year-old is suing Guardian News and Media (GNM) for libel over a series of articles from 2021 and 2022 that included allegations of sexually inappropriate behaviour. Clarke denies the allegations, while GNM is defending its reporting as being both true and in the public interest. Asked about his alleged inappropriate sexual behaviour towards an actress who appeared in a film he was involved with, he became quite emotional and tearful, telling the Guardian's barrister Gavin Millar KC: They have smashed my life for years with this rubbish. You know what you're doing. You make me sick, I would not do this. Mr Millar asked Mr Clarke about an allegation that while working on Doctor Who, he made an inappropriate sexual suggestion to a female costume assistant. He replied: I don't remember that incident, I don't remember the woman in question. So I say it didn't happen. Mr Millar asked: It didn't happen or you don't remember it? Mr Clarke replied: It didn't happen. He was also asked about his interactions with a woman whom he worked with in the run-up to a particular project, where it was alleged that he physically pushed his body against her in a sexual way, and groped her.\",\n",
    "                        \"From Doechii to Nicole Kidman: Why celebrities and Gen Z women love the jacket-and-tie look From the catwalk to the red carpet, the jacket-and-necktie combo is back for women – it's a statement of power and authority, say fans of the look. The jacket-and-necktie combination has been a staple of male dress for centuries, but it's always been most striking and subversive when worn by women. Now, it's making a comeback in women's fashion once more. On runways, designers are re-inventing the look. In her recent London Fashion Week collection, Tolu Coker showcased oversized leather blazers, paired with satin ties and tailored shirts. While at New York Fashion Week, Thom Browne teamed classic pattern ties with structured patchwork jackets.   The trend isn't limited to the catwalk. Viewers of the recent Grammy awards may have noticed Sabrina Carpenter's Dolce & Gabbana show-girl outfit, a Swarovski crystal-encrusted black blazer, with matching tie and skirt. Billie Eilish even offers a tie as part of her official merchandise. The red carpet is adopting the look, too. At the Berlin Film Festival, Vicky Krieps wore an oversized Bottega Veneta suit. Meanwhile, Doechii styled a Thom Browne exaggerated trouser with a cropped jacket and tie to accept her Grammy win. Nicole Kidman has gone for the jacket-and-tie look too in YSL, joining a growing list of celebrities including Rihanna, Bella Hadid and Iris Law, who have all embraced the label's style of tailoring. Yasmine Tangou is also in the fan club. The content creator and architect, who lives in Paris, likes the oversized, masculine style of a YSL suit, in contrast to other styles of jacket that accentuate curves.\",\n",
    "                        \"Anna Foster replaces Husain on Radio 4's Today Anna Foster is to join BBC Radio 4's Today programme as one of the programme's main presenters, following the departure of Mishal Husain in December. Foster is a former Middle East correspondent and has also previously presented BBC Radio 5 Live Drive and Radio 1's Newsbeat, as well as the corporation's flagship TV news bulletins. She will present many editions of Today from Salford, as part of the BBC's efforts to better represent more areas of the UK beyond London. In a statement, Foster said: There are few more exciting opportunities for a journalist than presenting Today, and I'm thrilled to be joining the team. I've always loved making important, agenda-setting, engaging radio, and there's nowhere better to do that. It's such a beloved programme to so many people, and I can't wait to be a part of it. The BBC said that, in addition to presenting Today, Foster would continue to play a key role in helping to lead the BBC's coverage of foreign news and will still be seen on TV news bulletins for major stories. Bosses are reported to have been keen to ensure the presenter replacing Husain had a similar level of international reporting knowledge and experience. She brings important international reporting experience at a time when it is needed so urgently by listeners to Radio 4, said the station's controller Mohit Bakaya. Foster is one of several correspondents and presenters who have co-hosted episodes of Today in recent weeks following Husain's departure.\",\n",
    "                        \"Dancing on Ice winner crowned after 'brilliant' performance The latest series of Dancing on Ice has drawn to a close after its winners were announced following a public vote. Coronation Street actor Sam Aston and his skating partner Molly Lanaghan were crowned winners of the ice-skating competition on Sunday. BBC Springwatch presenter Michaela Strachan was the runner-up alongside her ice skating partner Mark Hanretty after former English footballer Anton Ferdinand and his skating partner Annette Dytrt lost the public vote. Former Olympic figure skater Christopher Dean, who was involved in choreographing the showcase routines of all three finalists, told Aston that tonight, everything came together. Before the winners were revealed, the Coronation Street star said his time on the competition had been such a journey, it's a mad one. The 31-year-old was seen covering his face with his hands after he was announced as the winner. Aston and Lanaghan performed to The Pink Panther Theme, after which Dean told Aston he was really proud of you. Dean, alongside fellow former Olympic figure skater Jayne Torvill, choreographed the showcase performances of all three finalists. After Ferdinand lost the public vote, Aston and Strachan performed the pair's Olympic gold medal winning Bolero routine, after which Torvill described Aston's performance as brilliant. I mean tonight, everything came together, Dean said. Your skating skills are always on show, but you had to have timing and acting, Ferdinand and Dytrt were the first finalists to perform in the final episode and impressed the judges with their showcase routine to Let's Go Crazy by Prince And The Revolution.\",\n",
    "                        \"Next James Bond should be British, Pierce Brosnan says Actor Pierce Brosnan has said it is a given that the next James Bond should be British. In an interview with the Sunday Telegraph, the former Bond also said he thought it was the right decision for the franchise's long-standing producers to hand creative control to Amazon. It takes great courage for them to let go, said Brosnan, who is Irish. I hope that [Amazon] handles the work and the character with dignity and imagination and respect. The choice of Daniel Craig's successor will be a decision for Amazon MGM Studios. James Norton, Aaron Taylor-Johnson and Theo James - who are all English - are among the bookmakers' favourites to fill Craig's shoes. Bond has been played by two non-British actors in the past - Australian George Lazenby as well as Irishman Brosnan - but 007 has never been an American, and among the names mooted for the role is California-born Austin Butler. Other non-British names that have been suggested include Irish stars Paul Mescal, Cillian Murphy and Aidan Turner, or Australian Jacob Elordi. American Clint Eastwood once reportedly turned down the role, with the Hollywood legend previously claiming he was approached to take over after Sean Connery in 1967 but said: It didn't feel right for me to be doing it. According to author Ian Fleming's novels, Bond had a Scottish father and Swiss mother. Under the deal announced last month, Bond producers Barbara Broccoli and Michael G Wilson will remain co-owners of the franchise but Amazon MGM Studios will gain creative control.\"]\n",
    "links_entertainment = [\"https://www.bbc.com/news/articles/c74kje402klo\",\n",
    "                       \"https://www.bbc.com/culture/article/20250310-why-celebrities-and-gen-z-women-love-the-jacket-and-tie-look\",\n",
    "                       \"https://www.bbc.com/news/articles/cpwdvex0587o\",\n",
    "                       \"https://www.bbc.com/news/articles/cx2edpdwk7qo\",\n",
    "                       \"https://www.bbc.com/news/articles/c4g0wldz314o\"]\n",
    "\n",
    "all_articles = [articles_business, articles_sport, articles_politics, articles_tech, articles_entertainment]\n",
    "all_links = [links_business, links_sport, links_politics, links_tech, links_entertainment]"
   ]
  },
  {
   "cell_type": "markdown",
   "metadata": {},
   "source": [
    "Представим собранные статьи в формате таблицы pandas"
   ]
  },
  {
   "cell_type": "code",
   "execution_count": 37,
   "metadata": {},
   "outputs": [
    {
     "data": {
      "application/vnd.microsoft.datawrangler.viewer.v0+json": {
       "columns": [
        {
         "name": "index",
         "rawType": "int64",
         "type": "integer"
        },
        {
         "name": "article",
         "rawType": "object",
         "type": "string"
        },
        {
         "name": "link",
         "rawType": "object",
         "type": "string"
        },
        {
         "name": "label",
         "rawType": "object",
         "type": "string"
        }
       ],
       "conversionMethod": "pd.DataFrame",
       "ref": "29c8a57f-4ba5-417b-94e1-a0e9a09d94d5",
       "rows": [
        [
         "0",
         "From chatbots to intelligent toys: How AI is booming in China Head in hands, eight-year-old Timmy muttered to himself as he tried to beat a robot powered by artificial intelligence at a game of chess. But this was not an AI showroom or laboratory – this robot was living on a coffee table in a Beijing apartment, along with Timmy. The first night it came home, Timmy hugged his little robot friend before heading to bed. He doesn't have a name for it – yet. Its like a little teacher or a little friend, the boy said, as he showed his mum the next move he was considering on the chess board. Moments later, the robot chimed in: Congrats! You win. Round eyes blinking on the screen, it began rearranging the pieces to start a new game as it continued in Mandarin: Ive seen your ability, I will do better next time. China is embracing AI in its bid to become a tech superpower by 2030. DeepSeek, the breakthrough Chinese chatbot that caught the world's attention in January, was just the first hint of that ambition. Money is pouring into AI businesses seeking more capital, fuelling domestic competition. There are more than 4,500 firms developing and selling AI, schools in the capital Beijing are introducing AI courses for primary and secondary students later this year, and universities have increased the number of places available for students studying AI.",
         "https://www.bbc.com/news/articles/ckg8jqj393eo",
         "business"
        ],
        [
         "1",
         "Trump doubles planned tariffs on Canadian metal US President Donald Trump has said he will double the tariffs he previously announced on Canadian steel and aluminium imports into the US, taking the levies to 50% in total. In the latest twist in a deepening trade war, Trump said it was in retaliation for 25% tariffs Ontario placed on electricity it sends to northern US states. Trump said if tariffs including those on agricultural products were not dropped, he would hike taxes on the car industry, which will, essentially, permanently shut down the automobile manufacturing business in Canada. Ontario premier Doug Ford said: Until the threat of tariffs is gone for good, we won't back down. Ford added in a post on X that Trump had launched an unprovoked trade and tariff war with America's closest friend and ally. Writing on his social media platform Truth Social, Trump said his tariffs would go into effect on Wednesday morning, and that he would declare a national emergency on electricity in those states. He also said Canada relied on the US for military protection, and reiterated that he wanted the country to become the 51st US state. He add that it would make all tariffs, and everything else, totally disappear, if Canada were to join the US as a state. Canadian Prime Minister-designate Mark Carney has previously said Canada will never be part of America in any way, shape or form.",
         "https://www.bbc.com/news/articles/cm2y811g1dgo",
         "business"
        ],
        [
         "2",
         "European stocks steady after US markets plunge A sell-off in global shares eased in Europe on Tuesday following a sharp fall in US stocks that came as investors raised concerns about the negative economic impact of President Donald Trump's tariffs. It followed the president saying in a TV interview that the world's biggest economy was in a period of transition, when asked about suggestions of a potential recession. Since those remarks were broadcast on Sunday, top Trump officials and advisers have sought to calm investor fears. The US S&P 500 share index fell nearly 3% on Monday, but in Europe most of the major markets opened little changed. In a Fox News interview broadcast at the weekend but recorded on Thursday, Trump appeared to acknowledge concerns about the economy. I hate to predict things like that, he said. There is a period of transition because what we're doing is very big. We're bringing wealth back to America. That's a big thing. Charu Chanana, an investment strategist at investment bank Saxo, told the BBC: The previous notion of Trump being a stock market president is being re-evaluated. On Monday in New York, the S&P 500, which tracks the biggest companies listed in the US, ended the trading day 2.7% lower, while the Dow Jones Industrial Average dropped 2%. The tech-heavy Nasdaq share index was hit particularly hard, sinking 4%.",
         "https://www.bbc.com/news/articles/c4gdwgjkk1no",
         "business"
        ],
        [
         "3",
         "Starmer says benefit system unfair and indefensible Sir Keir Starmer has called the current benefits system unsustainable, indefensible and unfair, and said the government could not shrug its shoulders and look away. Addressing Labour MPs on Monday evening, the prime minister said the current welfare system was the worst of all worlds, discouraging people from working while producing a spiralling bill. The comments come as Work and Pensions Secretary Liz Kendall prepares to set out changes to the welfare system and cut the benefits bill in the coming weeks. Chancellor Rachel Reeves has earmarked several billion pounds in draft spending cuts to welfare and other government departments ahead of the Spring Statement. Changes likely to be announced in the coming days include restrictions on eligibility for the Personal Independent Payment, which provides help with extra living costs to those with a long-term physical or mental health condition, and cuts to incapacity benefits for people unable to work and receiving Universal Credit. There is unease over the plans within the party, with Labour MP Rachael Maskell warning against draconian cuts that risk pushing disabled people into poverty. Maskell told the BBC she had picked up deep, deep concern among Labour MPs. She said: I look in the past at what Labour has achieved in this space and believe that we can hold on to our values, ensure that we're helping people and not harming people. Another Labour MP, Neil Duncan-Jordan, also expressed concern, telling Newsnight: If we are going to make poor people poorer then there will be a number of MPs who won't be able to sign up to that. It feels like it could be a re-run of austerity and I'm worried about that.",
         "https://www.bbc.com/news/articles/c0kgpyz3mmpo",
         "business"
        ],
        [
         "4",
         "Luxury lounges: Credit card perks 'we are all paying for' I'm standing in what feels like a suite in a posh hotel - all soft lighting, marble counter tops, plush seating and parquet-style flooring. An ornate platter of food catches the corner of my eye. That is a seafood tower as a welcome food amenity, as well as caviar, and you can also see the champagne there for guests to enjoy, says Dana Pouwels, head of airport lounge benefits at US bank Chase. She is showing me around Chase's new Sapphire Lounge at New York's La Guardia Airport. This is what waiting to catch a flight can look like these days – if you can afford to pay $550 (£433) a year to have the correct credit card required to gain entry. Then once inside Chase's new La Guardia lounge you can then choose to pay up to $3,000 to access a private suite for a few hours. It is all part of what has been described as a global arms race among the credit card companies that you are probably entirely unaware of – they are competing to outdo each other with bigger, better, bolder airport lounges. And while most of us don't have access to these lounges, experts say we are almost certainly helping pay for them. And they don't come cheap. Yes, it's an arms race, and they're getting extraordinary, says Clint Thompson, the news editor at the flight and travel website The Points Guy. From what we do know, we're talking up to tens of millions of dollars per lounge.",
         "https://www.bbc.com/news/articles/c5yen4k1xnko",
         "business"
        ],
        [
         "5",
         "Golden Ace wins dramatic Champion Hurdle at 25-1 Golden Ace was a shock 25-1 winner of the Champion Hurdle at Cheltenham after previous victors Constitution Hill and State Man fell. The 2023 champion Constitution Hill was sent off odds-on favourite but came down early in the big race. Last year's winner State Man looked set to claim victory before a dramatic fall at the last hurdle. That left Golden Ace, ridden by Lorcan Williams for trainer Jeremy Scott, to come through and win by nine lengths from 66-1 outsider Burdett Road. Both Constitution Hill and State Man galloped away unscathed from their falls. I'm lost for words. This is the best day of my life by far, said Williams who shrugged his shoulder after a first top-level Grade One win. You dream of these moments as a kid. I hope the others are OK - Constitution Hill and State Man are iconic horses. Somerset-based Scott said: It's marred by the two horses who came down, but I'm just delighted the gods favoured us. The trainer had been persuaded to run in the feature race, rather than the Mares' Hurdle, by owner Ian Gosden. Borrowing a line from Only Fools and Horses, Gosden said: He who dares, wins, Rodney. Constitution Hill, trained by Nicky Henderson, had recovered from a respiratory issue and suspected colic since his triumph two years ago to go into the race unbeaten from 10 starts. He was sent off the 1-2 favourite and his fall at the fifth hurdle is estimated to have saved bookmakers a £10m payout. Nobody is hurt, they're two jockeys and two horses who've had proper old falls but they're all OK. That's the main thing, said Henderson.",
         "https://www.bbc.com/sport/horse-racing/articles/cwygpwxpdeyo",
         "sport"
        ],
        [
         "6",
         "'Wales cannot let England win title in Cardiff' Wales lock Dafydd Jenkins says his side cannot let England realise their Six Nations title ambitions in Cardiff this weekend. Steve Borthwick's side will arrive at the Principality Stadium on Saturday afternoon hoping they can win the title, although France remain favourites when they host Scotland after events in Cardiff have finished. In contrast to the title contenders, Wales have lost 16 successive internationals and are bottom of the table hoping to avoid another Wooden Spoon. England hooker Jamie George has called the game Wales' World Cup final. This is the game you dream of playing in as a kid, said Jenkins. This game is a special one, and one we're definitely up for. They can win the championship, so we can't be having that in Cardiff. Jenkins plays his club rugby in Exeter so bragging rights are also important. Exeter centre Henry Slade is in the England squad, but missed Sunday's 42-17 win against Italy because of injury. If I go back to Exeter with a win I'd be a lot happier, in terms of you can start ripping into a few of the other boys, said Jenkins. I've taken my fair share of stick off them, so it'd be nice to hand out a bit. To derail's England's hopes, Wales have to win a Test match for the first time since October 2023. Wales have also lost their past eight home matches and previous eight Six Nations games played at the Principality Stadium.",
         "https://www.bbc.com/sport/rugby-union/articles/c2kgp212nkzo",
         "sport"
        ],
        [
         "7",
         "'Boxing's not broken' - Hearn responds to White's new league Eddie Hearn denies boxing is broken after UFC president Dana White signed a deal with Saudi Arabian investors to create a new boxing league. Details of this league are unclear, with White declaring in some interviews they will rebuild boxing from the ground up and have their own world titles, while in others saying the league would focus on young talent. Hearn, one of the biggest boxing promoters in the world, took issue with White suggesting boxing is broken. I think it's great for boxing, Matchroom's Hearn said on 5 Live Boxing with Steve Bunce podcast. One thing I disagree with, is boxing's not broken. Boxing is in a great place, it always has been. There's always ways we can improve it, but the fact those guys want to come into boxing shows where it's at. White will partner with Turki Alalshikh, chairman of Saudi Arabia's general entertainment authority, who has spearheaded the Saudi investment in boxing in the last two years. The new outfit will fall under the TKO banner, which owns the UFC and WWE. The UFC use a league system in MMA, signing fighters to long-term, exclusive deals and having their own promotional world title. TKO is expected to take over the operation of some of Saudi's major boxing events, including the mooted super-fight between Saul 'Canelo' Alvarez and Terence Crawford in September in Las Vegas. MMA in America, however, is not bound by the 2000 Ali Act and Professional Boxing Safety Act 1996, which set legal guidelines for writing contracts and limits to the amount of time fighters can be signed to a promotion. TKO president Mark Shapiro has spoken out against Ali Act recently, and Hearn is unsure if the UFC model can thrive in boxing.",
         "https://www.bbc.com/sport/articles/cjevzl9v58yo",
         "sport"
        ],
        [
         "8",
         "Scots call up 'two for the future' Miller & Wilson Uncapped teenagers Lennon Miller and James Wilson have been named in Scotland's squad for this month's Nations League play-off matches with Greece. Meanwhile, Lewis Ferguson, Kevin Nisbet and Kieran Tierney have been recalled by Steve Clarke. Motherwell midfielder Miller and Hearts forward Wilson, both 18, have represented their country at age grade level. Well regular Miller has captained his club side of late while Wilson, who also qualifies for Northern Ireland, has broken into the Hearts team in recent months, scoring six times. A lot of call-offs, a lot of injuries, especially in middle to forward areas, Clarke said. I just felt it was a chance to have a look at two young boys, who've caught the eye - Lennon certainly over the last 18 months and James over the last six months. Two for the future but also can help us just now. Lennon plays with a maturity beyond his year. Good qualities, he can play deep in midfield, can play higher midfield, good delivery, box-to-box, good energy. Now we have to see if he can fit in among the group. [James] is someone who catches your eye, runs behind, looks to score goals, which is a great trait. We're always looking for goal scorers.",
         "https://www.bbc.com/sport/football/articles/cr52zdm88pro",
         "sport"
        ],
        [
         "9",
         "Bradley and Ballard out as Hale named in NI squad Conor Bradley and Daniel Ballard will miss Northern Ireland's friendlies with Switzerland and Sweden, while there is a first call-up for striker Ronan Hale. Ross County's Hale has been included after his international clearance came through in January after switching his allegiance from the Republic of Ireland. Northern Ireland host Switzerland at Windsor Park on Friday, 21 March before Michael O'Neill's side face Sweden in Stockholm four days later - with both matches available to watch on BBC Sport and BBC Northern Ireland. Michael O'Neill has made a number of changes to his squad from November's Nations League matches. Key defenders Bradley and Ballard are left out through injury, as is midfielder Ali McCann, while goalkeeper Bailey Peacock-Farrell and striker Josh Magennis drop to the standby list. Caolan Boyd-Munce, Jamie Reid and Jamal Lewis miss out on O'Neill's 25-man squad. With Magennis' omission, Paddy McNair is the sole remaining player from the Euro 2016 squad as he returns from injury, while goalkeeper Conor Hazard, defenders Eoin Toal and Aaron Donnelly and forward Dale Taylor have also been recalled. Portsmouth's Terry Devlin, who can play at right-back or in midfield, is the only uncapped player in O'Neill's squad.",
         "https://www.bbc.com/sport/football/articles/cx2edk25wvxo",
         "sport"
        ],
        [
         "10",
         "How JD Vance sees the world - and why that matters An argument in the White House tore apart the US alliance with Ukraine, shook European leaders and highlighted JD Vance's key role in forcefully expressing Donald Trump's foreign policy. The vice-president has come out punching on the global stage - so what is it that drives his worldview? Vance's first major foreign speech, at the Munich Security Conference in mid-February, caught many by surprise. Rather than focusing on the war raging in Ukraine, the US vice-president only briefly mentioned the bloodiest European conflict since World War Two. Instead, he used his debut on the international stage to berate close US allies about immigration and free speech, suggesting the European establishment was anti-democratic. He accused them of ignoring the wills of their people and questioned what shared values they were truly banding together with the US to defend. If you are running in fear of your own voters, there is nothing America can do for you, nor for that matter is there anything you can do for the American people, he warned. It was a bold and perhaps unexpected way to introduce himself to the world - by angering European allies. But days later he was back in the news, at the centre of a blistering row with Ukrainian President Volodymyr Zelensky, whom he accused of being ungrateful. For those who have been studying the rise of Vance, these two episodes came as no surprise. The vice-president has come to represent an intellectual wing of the conservative movement that gives expression to Trumpism and in particular how its America First mantra applies beyond its borders. In writings and interviews, Vance has expressed an ideology that seems to join the dots between American workers, global elites and the role of the US in the wider world.",
         "https://www.bbc.com/news/articles/cly82yx09zeo",
         "politics"
        ],
        [
         "11",
         "Pakistan militants attack train and take passengers hostage Armed militants in Pakistan's Balochistan region have attacked a train carrying hundreds of passengers and taken a number of hostages, military sources have told the BBC. The Baloch Liberation Army (BLA) fired at the Jaffar Express Train as it travelled from Quetta to Peshawar. A statement from the separatist group said it had bombed the track before storming the train in remote Sibi district. It claimed the train was under its control. Pakistani police told local reporters at least three people, including the train driver, had been injured. Security forces have been sent to the scene, as well as helicopters to try to rescue hostages, police told the BBC. There were reports of intense firing at the train, a Balochistan government spokesman told local newspaper Dawn. A senior police official said it remains stuck just before a tunnel surrounded by mountains, AFP news agency reports. A senior army official confirmed to the BBC that there were more than 100 army personnel travelling from Quetta on the train. The Baloch Liberation Army has warned of severe consequences if an attempt is made to rescue those it is holding. It has waged a decades-long insurgency to gain independence and has launched numerous deadly attacks, often targeting police stations, railway lines and highways. The Pakistani authorities - as well as several Western countries, including the UK and US - have designated the BLA as a terrorist organisation.",
         "https://www.bbc.com/news/articles/c5y2q5v9249o",
         "politics"
        ],
        [
         "12",
         "Sweden says Russia is greatest threat to its security Russia poses the greatest threat to Sweden due to its aggressive attitude towards the West, the Scandinavian nation's security service Sapo has said. It wrote in its annual report that while Sweden joining the Nato military alliance had strengthened its security, it had also led to increased Russian intelligence activity. Russia denies any wrongdoing. Sapo also said that the security situation in Sweden was serious - with foreign powers operating in more threatening ways, with hybrid warfare, alongside incidents of violent extremism. Charlotte von Essen, the head of Sapo, said there was a tangible risk that the security situation can deteriorate further in a way that may be hard to predict. Sweden became a Nato member last year, seeing it as the best guarantee against Russia following its full-scale invasion of Ukraine in February 2022. That January, its civil defence minister warned there could be war in Sweden in the near future due to Russian aggression. Sapo said on Tuesday that Russia's intelligence activities were primarily aimed at undermining cohesion between Nato members, counteracting Western support for Ukraine, and circumventing sanctions. It said these activities showed Russia was becoming increasingly offensive and risk-prone in the face of a build-up of Swedish, and wider European, defences. When gathering intelligence, the Russian security and intelligence services use a wide range of resources and different platforms, the agency wrote, adding that these activities had been limited by expelling intelligence officers. Ms von Essen said Swedes needed to be vigilant about widespread anti-state narratives and conspiracy theories that seek to act as a destabilising force, adding that it was important that we do not normalise the new situation. In its report, Sapo mentioned suspicious incidents involving infrastructure and which countries may have been behind them in some cases",
         "https://www.bbc.com/news/articles/c89y8gn2w8vo",
         "politics"
        ],
        [
         "13",
         "Greenland goes to polls in vote dominated by Trump and independence Residents of Greenland are going to the polls in a vote that in previous years has drawn little outside attention - but which may prove pivotal for the Arctic territory's future. US President Donald Trump's repeated interest in acquiring Greenland has put it firmly in the spotlight and fuelled the longstanding debate on the island's future ties with Copenhagen. There's never been a spotlight like this on Greenland before, says Nauja Bianco, a Danish-Greenlandic policy expert on the Arctic. Greenland has been controlled by Denmark – nearly 3,000km (1,860 miles) away – for about 300 years. It governs its own domestic affairs, but decisions on foreign and defence policy are made in Copenhagen. Now, five out of six parties on the ballot favour Greenland's independence from Denmark, differing only on how quickly that should come about. Voting takes place over 11 hours at 72 polling stations, and ends at 20:00 local time on Tuesday (22:00G). The debate over independence has been put on steroids by Trump, says Masaana Egede, editor of Greenlandic newspaper Sermitsiaq. The island's strategic location and untapped mineral resources have caught the US president's eye. He first floated the idea of buying Greenland during his first term in 2019. Since taking office again in January, he has reiterated his intention to acquire the territory. Greenland and Denmark's leaders have repeatedly rebuffed his demands. Addressing the US Congress last week, however, Trump again doubled down. We need Greenland for national security. One way or the other we're gonna get it, he said, prompting applause and laughter from a number of politicians, including Vice-President JD Vance.",
         "https://www.bbc.com/news/articles/cr4236e2wz2o",
         "politics"
        ],
        [
         "14",
         "Kurdish-led SDF agrees to integrate with Syrian government forces A Kurdish-led militia alliance which controls north-eastern Syria has signed a deal to integrate all military and civilian institutions into the Syrian state, the country's presidency says. The agreement, which includes a complete cessation of hostilities, says the US-backed Syrian Democratic Forces (SDF) will hand over control of the region's border posts, airport, and vital oil and gas fields. It also recognises the Kurdish minority as an integral part of the Syrian state and guarantees the rights of all Syrians to representation and participation in the political process. SDF commander Mazloum Abdi called the deal a real opportunity to build a new Syria. We are committed to building a better future that guarantees the rights of all Syrians and fulfils their aspirations for peace and dignity, he wrote on X after signing the deal in Damascus on Monday alongside interim President Ahmed al-Sharaa. The deal represents a major step towards Sharaa's goal to unify the fractured country after his Sunni Islamist group led the rebel offensive that overthrew president Bashar al-Assad in December and ended 13 years of devastating civil war. It could also de-escalate the SDF's conflict with neighbouring Turkey and Turkish-backed Syrian former rebel factions allied to the government, which are trying to push the alliance out of areas near the border. There were celebrations welcoming the announcement of the deal on the streets of several cities on Monday night, with many people expressing relief at a time when Syria is facing several other threats to its stability.",
         "https://www.bbc.com/news/articles/cedlx0511w7o",
         "politics"
        ],
        [
         "15",
         "How a tiny village became India's YouTube capital In Tulsi, a village in central India, social media has sparked an economic and social revolution. It's a microcosm of YouTube's effect on the world. As villagers head into the fields of Tulsi, a village outside Raipur in central India, on a muggy September morning, 32-year-old YouTuber Jai Varma asks a group of women to join him for his latest video. They gather around him – adjusting their sarees and sharing a quick word and a smile.  Varma places an elderly woman on a plastic chair, asks another to touch her feet and a third to serve water, staging a scene of a rural village festival for fans who will enjoy his content from cities and countries thousands of kilometres away. The women, familiar with this kind of work, are happy to oblige. Varma captures the moment, and they return to their farmwork. A few hundred metres away, another group is busy setting up their own production. One holds up a mobile phone, filming as 26-year-old Rajesh Diwar moves to the rhythm of a hip-hop track, his hands and body animated in the expressive style of a seasoned performer. Tulsi is like any other Indian village. The small outpost in the central state of Chhattisgarh is home to one-storey houses and partially paved roads. A water storage tank peers out above the buildings, overseeing the town. Banyan trees with concrete bases serve as gathering spots. But what sets Tulsi apart is its distinction as India's YouTube Village. Some 4,000 people live in Tulsi, and reports suggest more than 1,000 of them work on YouTube in some capacity. Walk around the village itself and it's hard to find someone who hasn't appeared in one of the many videos being filmed there.  The money that YouTube brings has transformed the local economy, locals say, and beyond financial benefits, the social media platform has become an instrument for equality and social change. The residents who've launched successful YouTube channels and found new streams of income include a number of women who previously had few opportunities for advancement in this rural setting. Under the banyan trees, conversations have turned to technology and the internet.",
         "https://www.bbc.com/future/article/20250217-how-a-tiny-village-became-indias-youtube-capital",
         "tech"
        ],
        [
         "16",
         "Global smartwatch sales fall for first time Global sales of smartwatches have fallen for the first time, new figures indicate, in large part due to a sharp decline in the popularity of market leader, Apple. Market research firm Counterpoint says 7% fewer of the devices were shipped in 2024 compared to the year before. Shipments of Apple Watches fell by 19% in that period, Counterpoint says. It blames the slump on a lack of new features in Apple's latest devices, and the fact a rumoured high-end Ultra 3 model never materialised. The biggest driver of the decline was North America, where the absence of the Ultra 3 and minimal feature upgrades in the S10 lineup led consumers to hold back purchases, said Counterpoint senior research analyst Anshika Jain. Apple was also hit with sales and import bans in the US in late 2023 and early 2024 over a disputed patent regarding blood oxygen level monitoring - which Ms Jain says also contributed to lower sales figures in the first half of 2024. It retained 22% of market share in the final three months of 2024, down from 25% a year earlier. We've been through a period where the smartwatch has gone from being a new and exciting gadget, to something now that's stabilising - the feature set isn't changing very dramatically year over year, said Leo Gebbie, principal analyst at CCS Insight. Despite the overall decline, last year did see a massive rise in sales for Chinese-made smartwatches from brands such as Xiaomi, Huawei and Imoo.",
         "https://www.bbc.com/news/articles/cx20d3r7p5do",
         "tech"
        ],
        [
         "17",
         "'Garbage' to blame Ukraine for massive X outage, experts say Experts have cast doubt on Elon Musk's claim that a large-scale outage which hit X was caused by hackers in Ukraine. Platform monitor Downdetector says it had more than 1.6 million reports of problems with the social media site from users around the world on Monday. We're not sure exactly what happened but there was a massive cyber-attack to try and bring down the X system with IP [Internet Protocol] addresses originating in the Ukraine area, Musk said in an interview with the Fox Business channel. However, Ciaran Martin, professor at Oxford University's Blavatnik School of Government told the BBC that explanation was wholly unconvincingn and pretty much garbage. Prof Martin - former head of the UK's National Cyber Security Centre - says it looks as if X was targeted by what's known as a distributed denial of service (DDoS) attack, where hackers flood a server with internet traffic to prevent users from connecting to a website. It's not that sophisticated - it's a very old technique, Mr Martin told Radio 4's Today programme. I can't think of a company of the size and standing internationally of X that's fallen over to a DDoS attack for a very long time, he added. He said the incident at X doesn't reflect well on their cyber security. Many users trying to access the platform and refresh feeds on its app and desktop site during Monday's outages were met with a loading icon. Musk, who has been a frequent critic of Ukraine and its President Volodymyr Zelensky, has offered no evidence to support his claim and did not say whether or not he thought state actors were involved. He posted on X that either a large, coordinated group and/or a country is involved. But Prof Martin said tracing IP addresses tells you absolutely nothing, because hackers in this situation would hijack devices from all over the world.",
         "https://www.bbc.com/news/articles/c62x5k44rl0o",
         "tech"
        ],
        [
         "18",
         "Deep-sea mining tech advances but doubts remain There's one. And another. This robot was hunting for rocks. A three-pronged claw descended from above and plucked a stone off the seabed. All the while, the autonomous machine's on-board camera scanned for creatures that might be resting on those rocks, to avoid snatching an innocent lifeform from its habitat. The test, carried out in a harbour in November, demonstrated one approach to mining for polymetallic nodules, potato-sized lumps containing metals scattered on the seabed in vast quantities, in much deeper parts of the ocean. Such metals are sought-after for use in renewable energy devices and batteries, for example. But deep-sea mining is a controversial means of obtaining them because of its potentially significant environmental impacts. We felt that a vehicle that used AI to look for life and avoid it could have much less of an environmental footprint, explains Oliver Gunasekara, co-founder and chief executive of Impossible Metals. The firm's system is 95% accurate at detecting lifeforms of 1mm or greater in size, he says. The robot's arms are similar to those that pick and place items in automated warehouses - they are optimised for speed. Plus, each claw kicks up a relatively small puff of sediment as it plucks its target off the seafloor. Impossible Metals aims to further reduce this disturbance. Such a system is not likely to convince everyone that deep-sea mining is a good idea, however. Mining would by its nature remove the very substrate of life in and on the deep seafloor, no matter the technology, says Jessica Battle, who leads the global no deep-seabed mining initiative at the WWF.",
         "https://www.bbc.com/news/articles/cg45zwe0v0ro",
         "tech"
        ],
        [
         "19",
         "A dating app for video games tackles one of the industry's big issues Almost 19,000 titles went live on PC games store Steam in 2024 - about 360 a week. There are positive ways to look at this. Tools are more accessible and easier to use, barriers to entry are lower, self-publishing is easier and ideas are never short in supply. But for developers discoverability – getting your new release noticed - has never been more challenging in a landscape dominated by blockbusters and online games such as Fortnite and Call of Duty. It's also harder for potential customers to find them, with recommendations often dictated by search engine and store algorithms. But Ludocene - described as a dating app for video games hopes to change that. Games journalist Andy Robertson, the man behind the project, says the goal is to help people find those ones that got away. In any given year there's just so many games and some of those will rise to the top, they'll get lucky or they'll just be brilliant enough to punch through that noise, he tells BBC Newsbeat. But there's loads of really great games that just get sort of buried and lost in that shuffle. Ludocene itself looks a bit like a game - each title in its database is represented by a card with a trailer on one side and more information on the reverse. The dating app element comes from users swiping to keep - or discard - the suggestions, slowly building up a collection of recommended titles. Ludocene's entries are chosen by a selection of well-known gaming experts – journalists, streamers and other figures.",
         "https://www.bbc.com/news/articles/cr52rey0ng8o",
         "tech"
        ],
        [
         "20",
         "Noel Clarke says life 'smashed' by allegations Actor and producer Noel Clarke has accused the publisher of the Guardian of having smashed my life for years as he gave evidence at his High Court libel trial. The star of Doctor Who and Kidulthood began his testimony on Monday. The 49-year-old is suing Guardian News and Media (GNM) for libel over a series of articles from 2021 and 2022 that included allegations of sexually inappropriate behaviour. Clarke denies the allegations, while GNM is defending its reporting as being both true and in the public interest. Asked about his alleged inappropriate sexual behaviour towards an actress who appeared in a film he was involved with, he became quite emotional and tearful, telling the Guardian's barrister Gavin Millar KC: They have smashed my life for years with this rubbish. You know what you're doing. You make me sick, I would not do this. Mr Millar asked Mr Clarke about an allegation that while working on Doctor Who, he made an inappropriate sexual suggestion to a female costume assistant. He replied: I don't remember that incident, I don't remember the woman in question. So I say it didn't happen. Mr Millar asked: It didn't happen or you don't remember it? Mr Clarke replied: It didn't happen. He was also asked about his interactions with a woman whom he worked with in the run-up to a particular project, where it was alleged that he physically pushed his body against her in a sexual way, and groped her.",
         "https://www.bbc.com/news/articles/c74kje402klo",
         "entertainment"
        ],
        [
         "21",
         "From Doechii to Nicole Kidman: Why celebrities and Gen Z women love the jacket-and-tie look From the catwalk to the red carpet, the jacket-and-necktie combo is back for women – it's a statement of power and authority, say fans of the look. The jacket-and-necktie combination has been a staple of male dress for centuries, but it's always been most striking and subversive when worn by women. Now, it's making a comeback in women's fashion once more. On runways, designers are re-inventing the look. In her recent London Fashion Week collection, Tolu Coker showcased oversized leather blazers, paired with satin ties and tailored shirts. While at New York Fashion Week, Thom Browne teamed classic pattern ties with structured patchwork jackets.   The trend isn't limited to the catwalk. Viewers of the recent Grammy awards may have noticed Sabrina Carpenter's Dolce & Gabbana show-girl outfit, a Swarovski crystal-encrusted black blazer, with matching tie and skirt. Billie Eilish even offers a tie as part of her official merchandise. The red carpet is adopting the look, too. At the Berlin Film Festival, Vicky Krieps wore an oversized Bottega Veneta suit. Meanwhile, Doechii styled a Thom Browne exaggerated trouser with a cropped jacket and tie to accept her Grammy win. Nicole Kidman has gone for the jacket-and-tie look too in YSL, joining a growing list of celebrities including Rihanna, Bella Hadid and Iris Law, who have all embraced the label's style of tailoring. Yasmine Tangou is also in the fan club. The content creator and architect, who lives in Paris, likes the oversized, masculine style of a YSL suit, in contrast to other styles of jacket that accentuate curves.",
         "https://www.bbc.com/culture/article/20250310-why-celebrities-and-gen-z-women-love-the-jacket-and-tie-look",
         "entertainment"
        ],
        [
         "22",
         "Anna Foster replaces Husain on Radio 4's Today Anna Foster is to join BBC Radio 4's Today programme as one of the programme's main presenters, following the departure of Mishal Husain in December. Foster is a former Middle East correspondent and has also previously presented BBC Radio 5 Live Drive and Radio 1's Newsbeat, as well as the corporation's flagship TV news bulletins. She will present many editions of Today from Salford, as part of the BBC's efforts to better represent more areas of the UK beyond London. In a statement, Foster said: There are few more exciting opportunities for a journalist than presenting Today, and I'm thrilled to be joining the team. I've always loved making important, agenda-setting, engaging radio, and there's nowhere better to do that. It's such a beloved programme to so many people, and I can't wait to be a part of it. The BBC said that, in addition to presenting Today, Foster would continue to play a key role in helping to lead the BBC's coverage of foreign news and will still be seen on TV news bulletins for major stories. Bosses are reported to have been keen to ensure the presenter replacing Husain had a similar level of international reporting knowledge and experience. She brings important international reporting experience at a time when it is needed so urgently by listeners to Radio 4, said the station's controller Mohit Bakaya. Foster is one of several correspondents and presenters who have co-hosted episodes of Today in recent weeks following Husain's departure.",
         "https://www.bbc.com/news/articles/cpwdvex0587o",
         "entertainment"
        ],
        [
         "23",
         "Dancing on Ice winner crowned after 'brilliant' performance The latest series of Dancing on Ice has drawn to a close after its winners were announced following a public vote. Coronation Street actor Sam Aston and his skating partner Molly Lanaghan were crowned winners of the ice-skating competition on Sunday. BBC Springwatch presenter Michaela Strachan was the runner-up alongside her ice skating partner Mark Hanretty after former English footballer Anton Ferdinand and his skating partner Annette Dytrt lost the public vote. Former Olympic figure skater Christopher Dean, who was involved in choreographing the showcase routines of all three finalists, told Aston that tonight, everything came together. Before the winners were revealed, the Coronation Street star said his time on the competition had been such a journey, it's a mad one. The 31-year-old was seen covering his face with his hands after he was announced as the winner. Aston and Lanaghan performed to The Pink Panther Theme, after which Dean told Aston he was really proud of you. Dean, alongside fellow former Olympic figure skater Jayne Torvill, choreographed the showcase performances of all three finalists. After Ferdinand lost the public vote, Aston and Strachan performed the pair's Olympic gold medal winning Bolero routine, after which Torvill described Aston's performance as brilliant. I mean tonight, everything came together, Dean said. Your skating skills are always on show, but you had to have timing and acting, Ferdinand and Dytrt were the first finalists to perform in the final episode and impressed the judges with their showcase routine to Let's Go Crazy by Prince And The Revolution.",
         "https://www.bbc.com/news/articles/cx2edpdwk7qo",
         "entertainment"
        ],
        [
         "24",
         "Next James Bond should be British, Pierce Brosnan says Actor Pierce Brosnan has said it is a given that the next James Bond should be British. In an interview with the Sunday Telegraph, the former Bond also said he thought it was the right decision for the franchise's long-standing producers to hand creative control to Amazon. It takes great courage for them to let go, said Brosnan, who is Irish. I hope that [Amazon] handles the work and the character with dignity and imagination and respect. The choice of Daniel Craig's successor will be a decision for Amazon MGM Studios. James Norton, Aaron Taylor-Johnson and Theo James - who are all English - are among the bookmakers' favourites to fill Craig's shoes. Bond has been played by two non-British actors in the past - Australian George Lazenby as well as Irishman Brosnan - but 007 has never been an American, and among the names mooted for the role is California-born Austin Butler. Other non-British names that have been suggested include Irish stars Paul Mescal, Cillian Murphy and Aidan Turner, or Australian Jacob Elordi. American Clint Eastwood once reportedly turned down the role, with the Hollywood legend previously claiming he was approached to take over after Sean Connery in 1967 but said: It didn't feel right for me to be doing it. According to author Ian Fleming's novels, Bond had a Scottish father and Swiss mother. Under the deal announced last month, Bond producers Barbara Broccoli and Michael G Wilson will remain co-owners of the franchise but Amazon MGM Studios will gain creative control.",
         "https://www.bbc.com/news/articles/c4g0wldz314o",
         "entertainment"
        ]
       ],
       "shape": {
        "columns": 3,
        "rows": 25
       }
      },
      "text/html": [
       "<div>\n",
       "<style scoped>\n",
       "    .dataframe tbody tr th:only-of-type {\n",
       "        vertical-align: middle;\n",
       "    }\n",
       "\n",
       "    .dataframe tbody tr th {\n",
       "        vertical-align: top;\n",
       "    }\n",
       "\n",
       "    .dataframe thead th {\n",
       "        text-align: right;\n",
       "    }\n",
       "</style>\n",
       "<table border=\"1\" class=\"dataframe\">\n",
       "  <thead>\n",
       "    <tr style=\"text-align: right;\">\n",
       "      <th></th>\n",
       "      <th>article</th>\n",
       "      <th>link</th>\n",
       "      <th>label</th>\n",
       "    </tr>\n",
       "  </thead>\n",
       "  <tbody>\n",
       "    <tr>\n",
       "      <th>0</th>\n",
       "      <td>From chatbots to intelligent toys: How AI is b...</td>\n",
       "      <td>https://www.bbc.com/news/articles/ckg8jqj393eo</td>\n",
       "      <td>business</td>\n",
       "    </tr>\n",
       "    <tr>\n",
       "      <th>1</th>\n",
       "      <td>Trump doubles planned tariffs on Canadian meta...</td>\n",
       "      <td>https://www.bbc.com/news/articles/cm2y811g1dgo</td>\n",
       "      <td>business</td>\n",
       "    </tr>\n",
       "    <tr>\n",
       "      <th>2</th>\n",
       "      <td>European stocks steady after US markets plunge...</td>\n",
       "      <td>https://www.bbc.com/news/articles/c4gdwgjkk1no</td>\n",
       "      <td>business</td>\n",
       "    </tr>\n",
       "    <tr>\n",
       "      <th>3</th>\n",
       "      <td>Starmer says benefit system unfair and indefen...</td>\n",
       "      <td>https://www.bbc.com/news/articles/c0kgpyz3mmpo</td>\n",
       "      <td>business</td>\n",
       "    </tr>\n",
       "    <tr>\n",
       "      <th>4</th>\n",
       "      <td>Luxury lounges: Credit card perks 'we are all ...</td>\n",
       "      <td>https://www.bbc.com/news/articles/c5yen4k1xnko</td>\n",
       "      <td>business</td>\n",
       "    </tr>\n",
       "    <tr>\n",
       "      <th>5</th>\n",
       "      <td>Golden Ace wins dramatic Champion Hurdle at 25...</td>\n",
       "      <td>https://www.bbc.com/sport/horse-racing/article...</td>\n",
       "      <td>sport</td>\n",
       "    </tr>\n",
       "    <tr>\n",
       "      <th>6</th>\n",
       "      <td>'Wales cannot let England win title in Cardiff...</td>\n",
       "      <td>https://www.bbc.com/sport/rugby-union/articles...</td>\n",
       "      <td>sport</td>\n",
       "    </tr>\n",
       "    <tr>\n",
       "      <th>7</th>\n",
       "      <td>'Boxing's not broken' - Hearn responds to Whit...</td>\n",
       "      <td>https://www.bbc.com/sport/articles/cjevzl9v58yo</td>\n",
       "      <td>sport</td>\n",
       "    </tr>\n",
       "    <tr>\n",
       "      <th>8</th>\n",
       "      <td>Scots call up 'two for the future' Miller &amp; Wi...</td>\n",
       "      <td>https://www.bbc.com/sport/football/articles/cr...</td>\n",
       "      <td>sport</td>\n",
       "    </tr>\n",
       "    <tr>\n",
       "      <th>9</th>\n",
       "      <td>Bradley and Ballard out as Hale named in NI sq...</td>\n",
       "      <td>https://www.bbc.com/sport/football/articles/cx...</td>\n",
       "      <td>sport</td>\n",
       "    </tr>\n",
       "    <tr>\n",
       "      <th>10</th>\n",
       "      <td>How JD Vance sees the world - and why that mat...</td>\n",
       "      <td>https://www.bbc.com/news/articles/cly82yx09zeo</td>\n",
       "      <td>politics</td>\n",
       "    </tr>\n",
       "    <tr>\n",
       "      <th>11</th>\n",
       "      <td>Pakistan militants attack train and take passe...</td>\n",
       "      <td>https://www.bbc.com/news/articles/c5y2q5v9249o</td>\n",
       "      <td>politics</td>\n",
       "    </tr>\n",
       "    <tr>\n",
       "      <th>12</th>\n",
       "      <td>Sweden says Russia is greatest threat to its s...</td>\n",
       "      <td>https://www.bbc.com/news/articles/c89y8gn2w8vo</td>\n",
       "      <td>politics</td>\n",
       "    </tr>\n",
       "    <tr>\n",
       "      <th>13</th>\n",
       "      <td>Greenland goes to polls in vote dominated by T...</td>\n",
       "      <td>https://www.bbc.com/news/articles/cr4236e2wz2o</td>\n",
       "      <td>politics</td>\n",
       "    </tr>\n",
       "    <tr>\n",
       "      <th>14</th>\n",
       "      <td>Kurdish-led SDF agrees to integrate with Syria...</td>\n",
       "      <td>https://www.bbc.com/news/articles/cedlx0511w7o</td>\n",
       "      <td>politics</td>\n",
       "    </tr>\n",
       "    <tr>\n",
       "      <th>15</th>\n",
       "      <td>How a tiny village became India's YouTube capi...</td>\n",
       "      <td>https://www.bbc.com/future/article/20250217-ho...</td>\n",
       "      <td>tech</td>\n",
       "    </tr>\n",
       "    <tr>\n",
       "      <th>16</th>\n",
       "      <td>Global smartwatch sales fall for first time Gl...</td>\n",
       "      <td>https://www.bbc.com/news/articles/cx20d3r7p5do</td>\n",
       "      <td>tech</td>\n",
       "    </tr>\n",
       "    <tr>\n",
       "      <th>17</th>\n",
       "      <td>'Garbage' to blame Ukraine for massive X outag...</td>\n",
       "      <td>https://www.bbc.com/news/articles/c62x5k44rl0o</td>\n",
       "      <td>tech</td>\n",
       "    </tr>\n",
       "    <tr>\n",
       "      <th>18</th>\n",
       "      <td>Deep-sea mining tech advances but doubts remai...</td>\n",
       "      <td>https://www.bbc.com/news/articles/cg45zwe0v0ro</td>\n",
       "      <td>tech</td>\n",
       "    </tr>\n",
       "    <tr>\n",
       "      <th>19</th>\n",
       "      <td>A dating app for video games tackles one of th...</td>\n",
       "      <td>https://www.bbc.com/news/articles/cr52rey0ng8o</td>\n",
       "      <td>tech</td>\n",
       "    </tr>\n",
       "    <tr>\n",
       "      <th>20</th>\n",
       "      <td>Noel Clarke says life 'smashed' by allegations...</td>\n",
       "      <td>https://www.bbc.com/news/articles/c74kje402klo</td>\n",
       "      <td>entertainment</td>\n",
       "    </tr>\n",
       "    <tr>\n",
       "      <th>21</th>\n",
       "      <td>From Doechii to Nicole Kidman: Why celebrities...</td>\n",
       "      <td>https://www.bbc.com/culture/article/20250310-w...</td>\n",
       "      <td>entertainment</td>\n",
       "    </tr>\n",
       "    <tr>\n",
       "      <th>22</th>\n",
       "      <td>Anna Foster replaces Husain on Radio 4's Today...</td>\n",
       "      <td>https://www.bbc.com/news/articles/cpwdvex0587o</td>\n",
       "      <td>entertainment</td>\n",
       "    </tr>\n",
       "    <tr>\n",
       "      <th>23</th>\n",
       "      <td>Dancing on Ice winner crowned after 'brilliant...</td>\n",
       "      <td>https://www.bbc.com/news/articles/cx2edpdwk7qo</td>\n",
       "      <td>entertainment</td>\n",
       "    </tr>\n",
       "    <tr>\n",
       "      <th>24</th>\n",
       "      <td>Next James Bond should be British, Pierce Bros...</td>\n",
       "      <td>https://www.bbc.com/news/articles/c4g0wldz314o</td>\n",
       "      <td>entertainment</td>\n",
       "    </tr>\n",
       "  </tbody>\n",
       "</table>\n",
       "</div>"
      ],
      "text/plain": [
       "                                              article  \\\n",
       "0   From chatbots to intelligent toys: How AI is b...   \n",
       "1   Trump doubles planned tariffs on Canadian meta...   \n",
       "2   European stocks steady after US markets plunge...   \n",
       "3   Starmer says benefit system unfair and indefen...   \n",
       "4   Luxury lounges: Credit card perks 'we are all ...   \n",
       "5   Golden Ace wins dramatic Champion Hurdle at 25...   \n",
       "6   'Wales cannot let England win title in Cardiff...   \n",
       "7   'Boxing's not broken' - Hearn responds to Whit...   \n",
       "8   Scots call up 'two for the future' Miller & Wi...   \n",
       "9   Bradley and Ballard out as Hale named in NI sq...   \n",
       "10  How JD Vance sees the world - and why that mat...   \n",
       "11  Pakistan militants attack train and take passe...   \n",
       "12  Sweden says Russia is greatest threat to its s...   \n",
       "13  Greenland goes to polls in vote dominated by T...   \n",
       "14  Kurdish-led SDF agrees to integrate with Syria...   \n",
       "15  How a tiny village became India's YouTube capi...   \n",
       "16  Global smartwatch sales fall for first time Gl...   \n",
       "17  'Garbage' to blame Ukraine for massive X outag...   \n",
       "18  Deep-sea mining tech advances but doubts remai...   \n",
       "19  A dating app for video games tackles one of th...   \n",
       "20  Noel Clarke says life 'smashed' by allegations...   \n",
       "21  From Doechii to Nicole Kidman: Why celebrities...   \n",
       "22  Anna Foster replaces Husain on Radio 4's Today...   \n",
       "23  Dancing on Ice winner crowned after 'brilliant...   \n",
       "24  Next James Bond should be British, Pierce Bros...   \n",
       "\n",
       "                                                 link          label  \n",
       "0      https://www.bbc.com/news/articles/ckg8jqj393eo       business  \n",
       "1      https://www.bbc.com/news/articles/cm2y811g1dgo       business  \n",
       "2      https://www.bbc.com/news/articles/c4gdwgjkk1no       business  \n",
       "3      https://www.bbc.com/news/articles/c0kgpyz3mmpo       business  \n",
       "4      https://www.bbc.com/news/articles/c5yen4k1xnko       business  \n",
       "5   https://www.bbc.com/sport/horse-racing/article...          sport  \n",
       "6   https://www.bbc.com/sport/rugby-union/articles...          sport  \n",
       "7     https://www.bbc.com/sport/articles/cjevzl9v58yo          sport  \n",
       "8   https://www.bbc.com/sport/football/articles/cr...          sport  \n",
       "9   https://www.bbc.com/sport/football/articles/cx...          sport  \n",
       "10     https://www.bbc.com/news/articles/cly82yx09zeo       politics  \n",
       "11     https://www.bbc.com/news/articles/c5y2q5v9249o       politics  \n",
       "12     https://www.bbc.com/news/articles/c89y8gn2w8vo       politics  \n",
       "13     https://www.bbc.com/news/articles/cr4236e2wz2o       politics  \n",
       "14     https://www.bbc.com/news/articles/cedlx0511w7o       politics  \n",
       "15  https://www.bbc.com/future/article/20250217-ho...           tech  \n",
       "16     https://www.bbc.com/news/articles/cx20d3r7p5do           tech  \n",
       "17     https://www.bbc.com/news/articles/c62x5k44rl0o           tech  \n",
       "18     https://www.bbc.com/news/articles/cg45zwe0v0ro           tech  \n",
       "19     https://www.bbc.com/news/articles/cr52rey0ng8o           tech  \n",
       "20     https://www.bbc.com/news/articles/c74kje402klo  entertainment  \n",
       "21  https://www.bbc.com/culture/article/20250310-w...  entertainment  \n",
       "22     https://www.bbc.com/news/articles/cpwdvex0587o  entertainment  \n",
       "23     https://www.bbc.com/news/articles/cx2edpdwk7qo  entertainment  \n",
       "24     https://www.bbc.com/news/articles/c4g0wldz314o  entertainment  "
      ]
     },
     "execution_count": 37,
     "metadata": {},
     "output_type": "execute_result"
    }
   ],
   "source": [
    "articles_classes = [\"business\", \"sport\", \"politics\", \"tech\", \"entertainment\"]\n",
    "control_dataset = pd.DataFrame(columns=[\"article\", \"link\", \"label\"])\n",
    "for article, link, label in zip(all_articles, all_links, articles_classes):\n",
    "    df = pd.DataFrame({\n",
    "                        \"article\": article,\n",
    "                        \"link\": link,\n",
    "                        \"label\": [label] * len(article),     \n",
    "                        })\n",
    "    control_dataset = pd.concat([control_dataset, df], ignore_index=True)\n",
    "\n",
    "control_dataset"
   ]
  },
  {
   "cell_type": "markdown",
   "metadata": {},
   "source": [
    "Используя созданную выше функцию представления результатов предсказания в табличном виде, представим результаты классификации новостей с помощью модели логистической регрессии и модели DistilBert, после чего объединим все эти таблицы в одну."
   ]
  },
  {
   "cell_type": "code",
   "execution_count": 38,
   "metadata": {},
   "outputs": [
    {
     "data": {
      "application/vnd.microsoft.datawrangler.viewer.v0+json": {
       "columns": [
        {
         "name": "index",
         "rawType": "int64",
         "type": "integer"
        },
        {
         "name": "article",
         "rawType": "object",
         "type": "string"
        },
        {
         "name": "label_log",
         "rawType": "object",
         "type": "string"
        },
        {
         "name": "probability_log",
         "rawType": "float64",
         "type": "float"
        }
       ],
       "conversionMethod": "pd.DataFrame",
       "ref": "96e4e031-7dac-43b4-8599-e34fdc826228",
       "rows": [
        [
         "0",
         "From chatbots to intelligent toys: How AI is booming in China Head in hands, eight-year-old Timmy muttered to himself as he tried to beat a robot powered by artificial intelligence at a game of chess. But this was not an AI showroom or laboratory – this robot was living on a coffee table in a Beijing apartment, along with Timmy. The first night it came home, Timmy hugged his little robot friend before heading to bed. He doesn't have a name for it – yet. Its like a little teacher or a little friend, the boy said, as he showed his mum the next move he was considering on the chess board. Moments later, the robot chimed in: Congrats! You win. Round eyes blinking on the screen, it began rearranging the pieces to start a new game as it continued in Mandarin: Ive seen your ability, I will do better next time. China is embracing AI in its bid to become a tech superpower by 2030. DeepSeek, the breakthrough Chinese chatbot that caught the world's attention in January, was just the first hint of that ambition. Money is pouring into AI businesses seeking more capital, fuelling domestic competition. There are more than 4,500 firms developing and selling AI, schools in the capital Beijing are introducing AI courses for primary and secondary students later this year, and universities have increased the number of places available for students studying AI.",
         "tech",
         "0.2567023839518641"
        ],
        [
         "1",
         "Trump doubles planned tariffs on Canadian metal US President Donald Trump has said he will double the tariffs he previously announced on Canadian steel and aluminium imports into the US, taking the levies to 50% in total. In the latest twist in a deepening trade war, Trump said it was in retaliation for 25% tariffs Ontario placed on electricity it sends to northern US states. Trump said if tariffs including those on agricultural products were not dropped, he would hike taxes on the car industry, which will, essentially, permanently shut down the automobile manufacturing business in Canada. Ontario premier Doug Ford said: Until the threat of tariffs is gone for good, we won't back down. Ford added in a post on X that Trump had launched an unprovoked trade and tariff war with America's closest friend and ally. Writing on his social media platform Truth Social, Trump said his tariffs would go into effect on Wednesday morning, and that he would declare a national emergency on electricity in those states. He also said Canada relied on the US for military protection, and reiterated that he wanted the country to become the 51st US state. He add that it would make all tariffs, and everything else, totally disappear, if Canada were to join the US as a state. Canadian Prime Minister-designate Mark Carney has previously said Canada will never be part of America in any way, shape or form.",
         "business",
         "0.3834863282615071"
        ],
        [
         "2",
         "European stocks steady after US markets plunge A sell-off in global shares eased in Europe on Tuesday following a sharp fall in US stocks that came as investors raised concerns about the negative economic impact of President Donald Trump's tariffs. It followed the president saying in a TV interview that the world's biggest economy was in a period of transition, when asked about suggestions of a potential recession. Since those remarks were broadcast on Sunday, top Trump officials and advisers have sought to calm investor fears. The US S&P 500 share index fell nearly 3% on Monday, but in Europe most of the major markets opened little changed. In a Fox News interview broadcast at the weekend but recorded on Thursday, Trump appeared to acknowledge concerns about the economy. I hate to predict things like that, he said. There is a period of transition because what we're doing is very big. We're bringing wealth back to America. That's a big thing. Charu Chanana, an investment strategist at investment bank Saxo, told the BBC: The previous notion of Trump being a stock market president is being re-evaluated. On Monday in New York, the S&P 500, which tracks the biggest companies listed in the US, ended the trading day 2.7% lower, while the Dow Jones Industrial Average dropped 2%. The tech-heavy Nasdaq share index was hit particularly hard, sinking 4%.",
         "business",
         "0.7974019756169503"
        ],
        [
         "3",
         "Starmer says benefit system unfair and indefensible Sir Keir Starmer has called the current benefits system unsustainable, indefensible and unfair, and said the government could not shrug its shoulders and look away. Addressing Labour MPs on Monday evening, the prime minister said the current welfare system was the worst of all worlds, discouraging people from working while producing a spiralling bill. The comments come as Work and Pensions Secretary Liz Kendall prepares to set out changes to the welfare system and cut the benefits bill in the coming weeks. Chancellor Rachel Reeves has earmarked several billion pounds in draft spending cuts to welfare and other government departments ahead of the Spring Statement. Changes likely to be announced in the coming days include restrictions on eligibility for the Personal Independent Payment, which provides help with extra living costs to those with a long-term physical or mental health condition, and cuts to incapacity benefits for people unable to work and receiving Universal Credit. There is unease over the plans within the party, with Labour MP Rachael Maskell warning against draconian cuts that risk pushing disabled people into poverty. Maskell told the BBC she had picked up deep, deep concern among Labour MPs. She said: I look in the past at what Labour has achieved in this space and believe that we can hold on to our values, ensure that we're helping people and not harming people. Another Labour MP, Neil Duncan-Jordan, also expressed concern, telling Newsnight: If we are going to make poor people poorer then there will be a number of MPs who won't be able to sign up to that. It feels like it could be a re-run of austerity and I'm worried about that.",
         "politics",
         "0.7203808916572951"
        ],
        [
         "4",
         "Luxury lounges: Credit card perks 'we are all paying for' I'm standing in what feels like a suite in a posh hotel - all soft lighting, marble counter tops, plush seating and parquet-style flooring. An ornate platter of food catches the corner of my eye. That is a seafood tower as a welcome food amenity, as well as caviar, and you can also see the champagne there for guests to enjoy, says Dana Pouwels, head of airport lounge benefits at US bank Chase. She is showing me around Chase's new Sapphire Lounge at New York's La Guardia Airport. This is what waiting to catch a flight can look like these days – if you can afford to pay $550 (£433) a year to have the correct credit card required to gain entry. Then once inside Chase's new La Guardia lounge you can then choose to pay up to $3,000 to access a private suite for a few hours. It is all part of what has been described as a global arms race among the credit card companies that you are probably entirely unaware of – they are competing to outdo each other with bigger, better, bolder airport lounges. And while most of us don't have access to these lounges, experts say we are almost certainly helping pay for them. And they don't come cheap. Yes, it's an arms race, and they're getting extraordinary, says Clint Thompson, the news editor at the flight and travel website The Points Guy. From what we do know, we're talking up to tens of millions of dollars per lounge.",
         "business",
         "0.3021357363635725"
        ],
        [
         "5",
         "Golden Ace wins dramatic Champion Hurdle at 25-1 Golden Ace was a shock 25-1 winner of the Champion Hurdle at Cheltenham after previous victors Constitution Hill and State Man fell. The 2023 champion Constitution Hill was sent off odds-on favourite but came down early in the big race. Last year's winner State Man looked set to claim victory before a dramatic fall at the last hurdle. That left Golden Ace, ridden by Lorcan Williams for trainer Jeremy Scott, to come through and win by nine lengths from 66-1 outsider Burdett Road. Both Constitution Hill and State Man galloped away unscathed from their falls. I'm lost for words. This is the best day of my life by far, said Williams who shrugged his shoulder after a first top-level Grade One win. You dream of these moments as a kid. I hope the others are OK - Constitution Hill and State Man are iconic horses. Somerset-based Scott said: It's marred by the two horses who came down, but I'm just delighted the gods favoured us. The trainer had been persuaded to run in the feature race, rather than the Mares' Hurdle, by owner Ian Gosden. Borrowing a line from Only Fools and Horses, Gosden said: He who dares, wins, Rodney. Constitution Hill, trained by Nicky Henderson, had recovered from a respiratory issue and suspected colic since his triumph two years ago to go into the race unbeaten from 10 starts. He was sent off the 1-2 favourite and his fall at the fifth hurdle is estimated to have saved bookmakers a £10m payout. Nobody is hurt, they're two jockeys and two horses who've had proper old falls but they're all OK. That's the main thing, said Henderson.",
         "sport",
         "0.5063489785705898"
        ],
        [
         "6",
         "'Wales cannot let England win title in Cardiff' Wales lock Dafydd Jenkins says his side cannot let England realise their Six Nations title ambitions in Cardiff this weekend. Steve Borthwick's side will arrive at the Principality Stadium on Saturday afternoon hoping they can win the title, although France remain favourites when they host Scotland after events in Cardiff have finished. In contrast to the title contenders, Wales have lost 16 successive internationals and are bottom of the table hoping to avoid another Wooden Spoon. England hooker Jamie George has called the game Wales' World Cup final. This is the game you dream of playing in as a kid, said Jenkins. This game is a special one, and one we're definitely up for. They can win the championship, so we can't be having that in Cardiff. Jenkins plays his club rugby in Exeter so bragging rights are also important. Exeter centre Henry Slade is in the England squad, but missed Sunday's 42-17 win against Italy because of injury. If I go back to Exeter with a win I'd be a lot happier, in terms of you can start ripping into a few of the other boys, said Jenkins. I've taken my fair share of stick off them, so it'd be nice to hand out a bit. To derail's England's hopes, Wales have to win a Test match for the first time since October 2023. Wales have also lost their past eight home matches and previous eight Six Nations games played at the Principality Stadium.",
         "sport",
         "0.9096915850859493"
        ],
        [
         "7",
         "'Boxing's not broken' - Hearn responds to White's new league Eddie Hearn denies boxing is broken after UFC president Dana White signed a deal with Saudi Arabian investors to create a new boxing league. Details of this league are unclear, with White declaring in some interviews they will rebuild boxing from the ground up and have their own world titles, while in others saying the league would focus on young talent. Hearn, one of the biggest boxing promoters in the world, took issue with White suggesting boxing is broken. I think it's great for boxing, Matchroom's Hearn said on 5 Live Boxing with Steve Bunce podcast. One thing I disagree with, is boxing's not broken. Boxing is in a great place, it always has been. There's always ways we can improve it, but the fact those guys want to come into boxing shows where it's at. White will partner with Turki Alalshikh, chairman of Saudi Arabia's general entertainment authority, who has spearheaded the Saudi investment in boxing in the last two years. The new outfit will fall under the TKO banner, which owns the UFC and WWE. The UFC use a league system in MMA, signing fighters to long-term, exclusive deals and having their own promotional world title. TKO is expected to take over the operation of some of Saudi's major boxing events, including the mooted super-fight between Saul 'Canelo' Alvarez and Terence Crawford in September in Las Vegas. MMA in America, however, is not bound by the 2000 Ali Act and Professional Boxing Safety Act 1996, which set legal guidelines for writing contracts and limits to the amount of time fighters can be signed to a promotion. TKO president Mark Shapiro has spoken out against Ali Act recently, and Hearn is unsure if the UFC model can thrive in boxing.",
         "sport",
         "0.3047669442022251"
        ],
        [
         "8",
         "Scots call up 'two for the future' Miller & Wilson Uncapped teenagers Lennon Miller and James Wilson have been named in Scotland's squad for this month's Nations League play-off matches with Greece. Meanwhile, Lewis Ferguson, Kevin Nisbet and Kieran Tierney have been recalled by Steve Clarke. Motherwell midfielder Miller and Hearts forward Wilson, both 18, have represented their country at age grade level. Well regular Miller has captained his club side of late while Wilson, who also qualifies for Northern Ireland, has broken into the Hearts team in recent months, scoring six times. A lot of call-offs, a lot of injuries, especially in middle to forward areas, Clarke said. I just felt it was a chance to have a look at two young boys, who've caught the eye - Lennon certainly over the last 18 months and James over the last six months. Two for the future but also can help us just now. Lennon plays with a maturity beyond his year. Good qualities, he can play deep in midfield, can play higher midfield, good delivery, box-to-box, good energy. Now we have to see if he can fit in among the group. [James] is someone who catches your eye, runs behind, looks to score goals, which is a great trait. We're always looking for goal scorers.",
         "sport",
         "0.6957748301886406"
        ],
        [
         "9",
         "Bradley and Ballard out as Hale named in NI squad Conor Bradley and Daniel Ballard will miss Northern Ireland's friendlies with Switzerland and Sweden, while there is a first call-up for striker Ronan Hale. Ross County's Hale has been included after his international clearance came through in January after switching his allegiance from the Republic of Ireland. Northern Ireland host Switzerland at Windsor Park on Friday, 21 March before Michael O'Neill's side face Sweden in Stockholm four days later - with both matches available to watch on BBC Sport and BBC Northern Ireland. Michael O'Neill has made a number of changes to his squad from November's Nations League matches. Key defenders Bradley and Ballard are left out through injury, as is midfielder Ali McCann, while goalkeeper Bailey Peacock-Farrell and striker Josh Magennis drop to the standby list. Caolan Boyd-Munce, Jamie Reid and Jamal Lewis miss out on O'Neill's 25-man squad. With Magennis' omission, Paddy McNair is the sole remaining player from the Euro 2016 squad as he returns from injury, while goalkeeper Conor Hazard, defenders Eoin Toal and Aaron Donnelly and forward Dale Taylor have also been recalled. Portsmouth's Terry Devlin, who can play at right-back or in midfield, is the only uncapped player in O'Neill's squad.",
         "sport",
         "0.7256883915191168"
        ],
        [
         "10",
         "How JD Vance sees the world - and why that matters An argument in the White House tore apart the US alliance with Ukraine, shook European leaders and highlighted JD Vance's key role in forcefully expressing Donald Trump's foreign policy. The vice-president has come out punching on the global stage - so what is it that drives his worldview? Vance's first major foreign speech, at the Munich Security Conference in mid-February, caught many by surprise. Rather than focusing on the war raging in Ukraine, the US vice-president only briefly mentioned the bloodiest European conflict since World War Two. Instead, he used his debut on the international stage to berate close US allies about immigration and free speech, suggesting the European establishment was anti-democratic. He accused them of ignoring the wills of their people and questioned what shared values they were truly banding together with the US to defend. If you are running in fear of your own voters, there is nothing America can do for you, nor for that matter is there anything you can do for the American people, he warned. It was a bold and perhaps unexpected way to introduce himself to the world - by angering European allies. But days later he was back in the news, at the centre of a blistering row with Ukrainian President Volodymyr Zelensky, whom he accused of being ungrateful. For those who have been studying the rise of Vance, these two episodes came as no surprise. The vice-president has come to represent an intellectual wing of the conservative movement that gives expression to Trumpism and in particular how its America First mantra applies beyond its borders. In writings and interviews, Vance has expressed an ideology that seems to join the dots between American workers, global elites and the role of the US in the wider world.",
         "business",
         "0.25129449274611915"
        ],
        [
         "11",
         "Pakistan militants attack train and take passengers hostage Armed militants in Pakistan's Balochistan region have attacked a train carrying hundreds of passengers and taken a number of hostages, military sources have told the BBC. The Baloch Liberation Army (BLA) fired at the Jaffar Express Train as it travelled from Quetta to Peshawar. A statement from the separatist group said it had bombed the track before storming the train in remote Sibi district. It claimed the train was under its control. Pakistani police told local reporters at least three people, including the train driver, had been injured. Security forces have been sent to the scene, as well as helicopters to try to rescue hostages, police told the BBC. There were reports of intense firing at the train, a Balochistan government spokesman told local newspaper Dawn. A senior police official said it remains stuck just before a tunnel surrounded by mountains, AFP news agency reports. A senior army official confirmed to the BBC that there were more than 100 army personnel travelling from Quetta on the train. The Baloch Liberation Army has warned of severe consequences if an attempt is made to rescue those it is holding. It has waged a decades-long insurgency to gain independence and has launched numerous deadly attacks, often targeting police stations, railway lines and highways. The Pakistani authorities - as well as several Western countries, including the UK and US - have designated the BLA as a terrorist organisation.",
         "politics",
         "0.3270004657331264"
        ],
        [
         "12",
         "Sweden says Russia is greatest threat to its security Russia poses the greatest threat to Sweden due to its aggressive attitude towards the West, the Scandinavian nation's security service Sapo has said. It wrote in its annual report that while Sweden joining the Nato military alliance had strengthened its security, it had also led to increased Russian intelligence activity. Russia denies any wrongdoing. Sapo also said that the security situation in Sweden was serious - with foreign powers operating in more threatening ways, with hybrid warfare, alongside incidents of violent extremism. Charlotte von Essen, the head of Sapo, said there was a tangible risk that the security situation can deteriorate further in a way that may be hard to predict. Sweden became a Nato member last year, seeing it as the best guarantee against Russia following its full-scale invasion of Ukraine in February 2022. That January, its civil defence minister warned there could be war in Sweden in the near future due to Russian aggression. Sapo said on Tuesday that Russia's intelligence activities were primarily aimed at undermining cohesion between Nato members, counteracting Western support for Ukraine, and circumventing sanctions. It said these activities showed Russia was becoming increasingly offensive and risk-prone in the face of a build-up of Swedish, and wider European, defences. When gathering intelligence, the Russian security and intelligence services use a wide range of resources and different platforms, the agency wrote, adding that these activities had been limited by expelling intelligence officers. Ms von Essen said Swedes needed to be vigilant about widespread anti-state narratives and conspiracy theories that seek to act as a destabilising force, adding that it was important that we do not normalise the new situation. In its report, Sapo mentioned suspicious incidents involving infrastructure and which countries may have been behind them in some cases",
         "business",
         "0.3491263720366407"
        ],
        [
         "13",
         "Greenland goes to polls in vote dominated by Trump and independence Residents of Greenland are going to the polls in a vote that in previous years has drawn little outside attention - but which may prove pivotal for the Arctic territory's future. US President Donald Trump's repeated interest in acquiring Greenland has put it firmly in the spotlight and fuelled the longstanding debate on the island's future ties with Copenhagen. There's never been a spotlight like this on Greenland before, says Nauja Bianco, a Danish-Greenlandic policy expert on the Arctic. Greenland has been controlled by Denmark – nearly 3,000km (1,860 miles) away – for about 300 years. It governs its own domestic affairs, but decisions on foreign and defence policy are made in Copenhagen. Now, five out of six parties on the ballot favour Greenland's independence from Denmark, differing only on how quickly that should come about. Voting takes place over 11 hours at 72 polling stations, and ends at 20:00 local time on Tuesday (22:00G). The debate over independence has been put on steroids by Trump, says Masaana Egede, editor of Greenlandic newspaper Sermitsiaq. The island's strategic location and untapped mineral resources have caught the US president's eye. He first floated the idea of buying Greenland during his first term in 2019. Since taking office again in January, he has reiterated his intention to acquire the territory. Greenland and Denmark's leaders have repeatedly rebuffed his demands. Addressing the US Congress last week, however, Trump again doubled down. We need Greenland for national security. One way or the other we're gonna get it, he said, prompting applause and laughter from a number of politicians, including Vice-President JD Vance.",
         "politics",
         "0.2741936448654327"
        ],
        [
         "14",
         "Kurdish-led SDF agrees to integrate with Syrian government forces A Kurdish-led militia alliance which controls north-eastern Syria has signed a deal to integrate all military and civilian institutions into the Syrian state, the country's presidency says. The agreement, which includes a complete cessation of hostilities, says the US-backed Syrian Democratic Forces (SDF) will hand over control of the region's border posts, airport, and vital oil and gas fields. It also recognises the Kurdish minority as an integral part of the Syrian state and guarantees the rights of all Syrians to representation and participation in the political process. SDF commander Mazloum Abdi called the deal a real opportunity to build a new Syria. We are committed to building a better future that guarantees the rights of all Syrians and fulfils their aspirations for peace and dignity, he wrote on X after signing the deal in Damascus on Monday alongside interim President Ahmed al-Sharaa. The deal represents a major step towards Sharaa's goal to unify the fractured country after his Sunni Islamist group led the rebel offensive that overthrew president Bashar al-Assad in December and ended 13 years of devastating civil war. It could also de-escalate the SDF's conflict with neighbouring Turkey and Turkish-backed Syrian former rebel factions allied to the government, which are trying to push the alliance out of areas near the border. There were celebrations welcoming the announcement of the deal on the streets of several cities on Monday night, with many people expressing relief at a time when Syria is facing several other threats to its stability.",
         "business",
         "0.3610972069414813"
        ],
        [
         "15",
         "How a tiny village became India's YouTube capital In Tulsi, a village in central India, social media has sparked an economic and social revolution. It's a microcosm of YouTube's effect on the world. As villagers head into the fields of Tulsi, a village outside Raipur in central India, on a muggy September morning, 32-year-old YouTuber Jai Varma asks a group of women to join him for his latest video. They gather around him – adjusting their sarees and sharing a quick word and a smile.  Varma places an elderly woman on a plastic chair, asks another to touch her feet and a third to serve water, staging a scene of a rural village festival for fans who will enjoy his content from cities and countries thousands of kilometres away. The women, familiar with this kind of work, are happy to oblige. Varma captures the moment, and they return to their farmwork. A few hundred metres away, another group is busy setting up their own production. One holds up a mobile phone, filming as 26-year-old Rajesh Diwar moves to the rhythm of a hip-hop track, his hands and body animated in the expressive style of a seasoned performer. Tulsi is like any other Indian village. The small outpost in the central state of Chhattisgarh is home to one-storey houses and partially paved roads. A water storage tank peers out above the buildings, overseeing the town. Banyan trees with concrete bases serve as gathering spots. But what sets Tulsi apart is its distinction as India's YouTube Village. Some 4,000 people live in Tulsi, and reports suggest more than 1,000 of them work on YouTube in some capacity. Walk around the village itself and it's hard to find someone who hasn't appeared in one of the many videos being filmed there.  The money that YouTube brings has transformed the local economy, locals say, and beyond financial benefits, the social media platform has become an instrument for equality and social change. The residents who've launched successful YouTube channels and found new streams of income include a number of women who previously had few opportunities for advancement in this rural setting. Under the banyan trees, conversations have turned to technology and the internet.",
         "tech",
         "0.2954755961152331"
        ],
        [
         "16",
         "Global smartwatch sales fall for first time Global sales of smartwatches have fallen for the first time, new figures indicate, in large part due to a sharp decline in the popularity of market leader, Apple. Market research firm Counterpoint says 7% fewer of the devices were shipped in 2024 compared to the year before. Shipments of Apple Watches fell by 19% in that period, Counterpoint says. It blames the slump on a lack of new features in Apple's latest devices, and the fact a rumoured high-end Ultra 3 model never materialised. The biggest driver of the decline was North America, where the absence of the Ultra 3 and minimal feature upgrades in the S10 lineup led consumers to hold back purchases, said Counterpoint senior research analyst Anshika Jain. Apple was also hit with sales and import bans in the US in late 2023 and early 2024 over a disputed patent regarding blood oxygen level monitoring - which Ms Jain says also contributed to lower sales figures in the first half of 2024. It retained 22% of market share in the final three months of 2024, down from 25% a year earlier. We've been through a period where the smartwatch has gone from being a new and exciting gadget, to something now that's stabilising - the feature set isn't changing very dramatically year over year, said Leo Gebbie, principal analyst at CCS Insight. Despite the overall decline, last year did see a massive rise in sales for Chinese-made smartwatches from brands such as Xiaomi, Huawei and Imoo.",
         "business",
         "0.554581171581006"
        ],
        [
         "17",
         "'Garbage' to blame Ukraine for massive X outage, experts say Experts have cast doubt on Elon Musk's claim that a large-scale outage which hit X was caused by hackers in Ukraine. Platform monitor Downdetector says it had more than 1.6 million reports of problems with the social media site from users around the world on Monday. We're not sure exactly what happened but there was a massive cyber-attack to try and bring down the X system with IP [Internet Protocol] addresses originating in the Ukraine area, Musk said in an interview with the Fox Business channel. However, Ciaran Martin, professor at Oxford University's Blavatnik School of Government told the BBC that explanation was wholly unconvincingn and pretty much garbage. Prof Martin - former head of the UK's National Cyber Security Centre - says it looks as if X was targeted by what's known as a distributed denial of service (DDoS) attack, where hackers flood a server with internet traffic to prevent users from connecting to a website. It's not that sophisticated - it's a very old technique, Mr Martin told Radio 4's Today programme. I can't think of a company of the size and standing internationally of X that's fallen over to a DDoS attack for a very long time, he added. He said the incident at X doesn't reflect well on their cyber security. Many users trying to access the platform and refresh feeds on its app and desktop site during Monday's outages were met with a loading icon. Musk, who has been a frequent critic of Ukraine and its President Volodymyr Zelensky, has offered no evidence to support his claim and did not say whether or not he thought state actors were involved. He posted on X that either a large, coordinated group and/or a country is involved. But Prof Martin said tracing IP addresses tells you absolutely nothing, because hackers in this situation would hijack devices from all over the world.",
         "tech",
         "0.393813195926687"
        ],
        [
         "18",
         "Deep-sea mining tech advances but doubts remain There's one. And another. This robot was hunting for rocks. A three-pronged claw descended from above and plucked a stone off the seabed. All the while, the autonomous machine's on-board camera scanned for creatures that might be resting on those rocks, to avoid snatching an innocent lifeform from its habitat. The test, carried out in a harbour in November, demonstrated one approach to mining for polymetallic nodules, potato-sized lumps containing metals scattered on the seabed in vast quantities, in much deeper parts of the ocean. Such metals are sought-after for use in renewable energy devices and batteries, for example. But deep-sea mining is a controversial means of obtaining them because of its potentially significant environmental impacts. We felt that a vehicle that used AI to look for life and avoid it could have much less of an environmental footprint, explains Oliver Gunasekara, co-founder and chief executive of Impossible Metals. The firm's system is 95% accurate at detecting lifeforms of 1mm or greater in size, he says. The robot's arms are similar to those that pick and place items in automated warehouses - they are optimised for speed. Plus, each claw kicks up a relatively small puff of sediment as it plucks its target off the seafloor. Impossible Metals aims to further reduce this disturbance. Such a system is not likely to convince everyone that deep-sea mining is a good idea, however. Mining would by its nature remove the very substrate of life in and on the deep seafloor, no matter the technology, says Jessica Battle, who leads the global no deep-seabed mining initiative at the WWF.",
         "tech",
         "0.35701848005478776"
        ],
        [
         "19",
         "A dating app for video games tackles one of the industry's big issues Almost 19,000 titles went live on PC games store Steam in 2024 - about 360 a week. There are positive ways to look at this. Tools are more accessible and easier to use, barriers to entry are lower, self-publishing is easier and ideas are never short in supply. But for developers discoverability – getting your new release noticed - has never been more challenging in a landscape dominated by blockbusters and online games such as Fortnite and Call of Duty. It's also harder for potential customers to find them, with recommendations often dictated by search engine and store algorithms. But Ludocene - described as a dating app for video games hopes to change that. Games journalist Andy Robertson, the man behind the project, says the goal is to help people find those ones that got away. In any given year there's just so many games and some of those will rise to the top, they'll get lucky or they'll just be brilliant enough to punch through that noise, he tells BBC Newsbeat. But there's loads of really great games that just get sort of buried and lost in that shuffle. Ludocene itself looks a bit like a game - each title in its database is represented by a card with a trailer on one side and more information on the reverse. The dating app element comes from users swiping to keep - or discard - the suggestions, slowly building up a collection of recommended titles. Ludocene's entries are chosen by a selection of well-known gaming experts – journalists, streamers and other figures.",
         "tech",
         "0.6909931091269068"
        ],
        [
         "20",
         "Noel Clarke says life 'smashed' by allegations Actor and producer Noel Clarke has accused the publisher of the Guardian of having smashed my life for years as he gave evidence at his High Court libel trial. The star of Doctor Who and Kidulthood began his testimony on Monday. The 49-year-old is suing Guardian News and Media (GNM) for libel over a series of articles from 2021 and 2022 that included allegations of sexually inappropriate behaviour. Clarke denies the allegations, while GNM is defending its reporting as being both true and in the public interest. Asked about his alleged inappropriate sexual behaviour towards an actress who appeared in a film he was involved with, he became quite emotional and tearful, telling the Guardian's barrister Gavin Millar KC: They have smashed my life for years with this rubbish. You know what you're doing. You make me sick, I would not do this. Mr Millar asked Mr Clarke about an allegation that while working on Doctor Who, he made an inappropriate sexual suggestion to a female costume assistant. He replied: I don't remember that incident, I don't remember the woman in question. So I say it didn't happen. Mr Millar asked: It didn't happen or you don't remember it? Mr Clarke replied: It didn't happen. He was also asked about his interactions with a woman whom he worked with in the run-up to a particular project, where it was alleged that he physically pushed his body against her in a sexual way, and groped her.",
         "entertainment",
         "0.32689594010732187"
        ],
        [
         "21",
         "From Doechii to Nicole Kidman: Why celebrities and Gen Z women love the jacket-and-tie look From the catwalk to the red carpet, the jacket-and-necktie combo is back for women – it's a statement of power and authority, say fans of the look. The jacket-and-necktie combination has been a staple of male dress for centuries, but it's always been most striking and subversive when worn by women. Now, it's making a comeback in women's fashion once more. On runways, designers are re-inventing the look. In her recent London Fashion Week collection, Tolu Coker showcased oversized leather blazers, paired with satin ties and tailored shirts. While at New York Fashion Week, Thom Browne teamed classic pattern ties with structured patchwork jackets.   The trend isn't limited to the catwalk. Viewers of the recent Grammy awards may have noticed Sabrina Carpenter's Dolce & Gabbana show-girl outfit, a Swarovski crystal-encrusted black blazer, with matching tie and skirt. Billie Eilish even offers a tie as part of her official merchandise. The red carpet is adopting the look, too. At the Berlin Film Festival, Vicky Krieps wore an oversized Bottega Veneta suit. Meanwhile, Doechii styled a Thom Browne exaggerated trouser with a cropped jacket and tie to accept her Grammy win. Nicole Kidman has gone for the jacket-and-tie look too in YSL, joining a growing list of celebrities including Rihanna, Bella Hadid and Iris Law, who have all embraced the label's style of tailoring. Yasmine Tangou is also in the fan club. The content creator and architect, who lives in Paris, likes the oversized, masculine style of a YSL suit, in contrast to other styles of jacket that accentuate curves.",
         "entertainment",
         "0.3821991043252324"
        ],
        [
         "22",
         "Anna Foster replaces Husain on Radio 4's Today Anna Foster is to join BBC Radio 4's Today programme as one of the programme's main presenters, following the departure of Mishal Husain in December. Foster is a former Middle East correspondent and has also previously presented BBC Radio 5 Live Drive and Radio 1's Newsbeat, as well as the corporation's flagship TV news bulletins. She will present many editions of Today from Salford, as part of the BBC's efforts to better represent more areas of the UK beyond London. In a statement, Foster said: There are few more exciting opportunities for a journalist than presenting Today, and I'm thrilled to be joining the team. I've always loved making important, agenda-setting, engaging radio, and there's nowhere better to do that. It's such a beloved programme to so many people, and I can't wait to be a part of it. The BBC said that, in addition to presenting Today, Foster would continue to play a key role in helping to lead the BBC's coverage of foreign news and will still be seen on TV news bulletins for major stories. Bosses are reported to have been keen to ensure the presenter replacing Husain had a similar level of international reporting knowledge and experience. She brings important international reporting experience at a time when it is needed so urgently by listeners to Radio 4, said the station's controller Mohit Bakaya. Foster is one of several correspondents and presenters who have co-hosted episodes of Today in recent weeks following Husain's departure.",
         "entertainment",
         "0.2838642020038917"
        ],
        [
         "23",
         "Dancing on Ice winner crowned after 'brilliant' performance The latest series of Dancing on Ice has drawn to a close after its winners were announced following a public vote. Coronation Street actor Sam Aston and his skating partner Molly Lanaghan were crowned winners of the ice-skating competition on Sunday. BBC Springwatch presenter Michaela Strachan was the runner-up alongside her ice skating partner Mark Hanretty after former English footballer Anton Ferdinand and his skating partner Annette Dytrt lost the public vote. Former Olympic figure skater Christopher Dean, who was involved in choreographing the showcase routines of all three finalists, told Aston that tonight, everything came together. Before the winners were revealed, the Coronation Street star said his time on the competition had been such a journey, it's a mad one. The 31-year-old was seen covering his face with his hands after he was announced as the winner. Aston and Lanaghan performed to The Pink Panther Theme, after which Dean told Aston he was really proud of you. Dean, alongside fellow former Olympic figure skater Jayne Torvill, choreographed the showcase performances of all three finalists. After Ferdinand lost the public vote, Aston and Strachan performed the pair's Olympic gold medal winning Bolero routine, after which Torvill described Aston's performance as brilliant. I mean tonight, everything came together, Dean said. Your skating skills are always on show, but you had to have timing and acting, Ferdinand and Dytrt were the first finalists to perform in the final episode and impressed the judges with their showcase routine to Let's Go Crazy by Prince And The Revolution.",
         "entertainment",
         "0.35388066041675376"
        ],
        [
         "24",
         "Next James Bond should be British, Pierce Brosnan says Actor Pierce Brosnan has said it is a given that the next James Bond should be British. In an interview with the Sunday Telegraph, the former Bond also said he thought it was the right decision for the franchise's long-standing producers to hand creative control to Amazon. It takes great courage for them to let go, said Brosnan, who is Irish. I hope that [Amazon] handles the work and the character with dignity and imagination and respect. The choice of Daniel Craig's successor will be a decision for Amazon MGM Studios. James Norton, Aaron Taylor-Johnson and Theo James - who are all English - are among the bookmakers' favourites to fill Craig's shoes. Bond has been played by two non-British actors in the past - Australian George Lazenby as well as Irishman Brosnan - but 007 has never been an American, and among the names mooted for the role is California-born Austin Butler. Other non-British names that have been suggested include Irish stars Paul Mescal, Cillian Murphy and Aidan Turner, or Australian Jacob Elordi. American Clint Eastwood once reportedly turned down the role, with the Hollywood legend previously claiming he was approached to take over after Sean Connery in 1967 but said: It didn't feel right for me to be doing it. According to author Ian Fleming's novels, Bond had a Scottish father and Swiss mother. Under the deal announced last month, Bond producers Barbara Broccoli and Michael G Wilson will remain co-owners of the franchise but Amazon MGM Studios will gain creative control.",
         "entertainment",
         "0.3753741171836836"
        ]
       ],
       "shape": {
        "columns": 3,
        "rows": 25
       }
      },
      "text/html": [
       "<div>\n",
       "<style scoped>\n",
       "    .dataframe tbody tr th:only-of-type {\n",
       "        vertical-align: middle;\n",
       "    }\n",
       "\n",
       "    .dataframe tbody tr th {\n",
       "        vertical-align: top;\n",
       "    }\n",
       "\n",
       "    .dataframe thead th {\n",
       "        text-align: right;\n",
       "    }\n",
       "</style>\n",
       "<table border=\"1\" class=\"dataframe\">\n",
       "  <thead>\n",
       "    <tr style=\"text-align: right;\">\n",
       "      <th></th>\n",
       "      <th>article</th>\n",
       "      <th>label_log</th>\n",
       "      <th>probability_log</th>\n",
       "    </tr>\n",
       "  </thead>\n",
       "  <tbody>\n",
       "    <tr>\n",
       "      <th>0</th>\n",
       "      <td>From chatbots to intelligent toys: How AI is b...</td>\n",
       "      <td>tech</td>\n",
       "      <td>0.256702</td>\n",
       "    </tr>\n",
       "    <tr>\n",
       "      <th>1</th>\n",
       "      <td>Trump doubles planned tariffs on Canadian meta...</td>\n",
       "      <td>business</td>\n",
       "      <td>0.383486</td>\n",
       "    </tr>\n",
       "    <tr>\n",
       "      <th>2</th>\n",
       "      <td>European stocks steady after US markets plunge...</td>\n",
       "      <td>business</td>\n",
       "      <td>0.797402</td>\n",
       "    </tr>\n",
       "    <tr>\n",
       "      <th>3</th>\n",
       "      <td>Starmer says benefit system unfair and indefen...</td>\n",
       "      <td>politics</td>\n",
       "      <td>0.720381</td>\n",
       "    </tr>\n",
       "    <tr>\n",
       "      <th>4</th>\n",
       "      <td>Luxury lounges: Credit card perks 'we are all ...</td>\n",
       "      <td>business</td>\n",
       "      <td>0.302136</td>\n",
       "    </tr>\n",
       "    <tr>\n",
       "      <th>5</th>\n",
       "      <td>Golden Ace wins dramatic Champion Hurdle at 25...</td>\n",
       "      <td>sport</td>\n",
       "      <td>0.506349</td>\n",
       "    </tr>\n",
       "    <tr>\n",
       "      <th>6</th>\n",
       "      <td>'Wales cannot let England win title in Cardiff...</td>\n",
       "      <td>sport</td>\n",
       "      <td>0.909692</td>\n",
       "    </tr>\n",
       "    <tr>\n",
       "      <th>7</th>\n",
       "      <td>'Boxing's not broken' - Hearn responds to Whit...</td>\n",
       "      <td>sport</td>\n",
       "      <td>0.304767</td>\n",
       "    </tr>\n",
       "    <tr>\n",
       "      <th>8</th>\n",
       "      <td>Scots call up 'two for the future' Miller &amp; Wi...</td>\n",
       "      <td>sport</td>\n",
       "      <td>0.695775</td>\n",
       "    </tr>\n",
       "    <tr>\n",
       "      <th>9</th>\n",
       "      <td>Bradley and Ballard out as Hale named in NI sq...</td>\n",
       "      <td>sport</td>\n",
       "      <td>0.725688</td>\n",
       "    </tr>\n",
       "    <tr>\n",
       "      <th>10</th>\n",
       "      <td>How JD Vance sees the world - and why that mat...</td>\n",
       "      <td>business</td>\n",
       "      <td>0.251294</td>\n",
       "    </tr>\n",
       "    <tr>\n",
       "      <th>11</th>\n",
       "      <td>Pakistan militants attack train and take passe...</td>\n",
       "      <td>politics</td>\n",
       "      <td>0.327000</td>\n",
       "    </tr>\n",
       "    <tr>\n",
       "      <th>12</th>\n",
       "      <td>Sweden says Russia is greatest threat to its s...</td>\n",
       "      <td>business</td>\n",
       "      <td>0.349126</td>\n",
       "    </tr>\n",
       "    <tr>\n",
       "      <th>13</th>\n",
       "      <td>Greenland goes to polls in vote dominated by T...</td>\n",
       "      <td>politics</td>\n",
       "      <td>0.274194</td>\n",
       "    </tr>\n",
       "    <tr>\n",
       "      <th>14</th>\n",
       "      <td>Kurdish-led SDF agrees to integrate with Syria...</td>\n",
       "      <td>business</td>\n",
       "      <td>0.361097</td>\n",
       "    </tr>\n",
       "    <tr>\n",
       "      <th>15</th>\n",
       "      <td>How a tiny village became India's YouTube capi...</td>\n",
       "      <td>tech</td>\n",
       "      <td>0.295476</td>\n",
       "    </tr>\n",
       "    <tr>\n",
       "      <th>16</th>\n",
       "      <td>Global smartwatch sales fall for first time Gl...</td>\n",
       "      <td>business</td>\n",
       "      <td>0.554581</td>\n",
       "    </tr>\n",
       "    <tr>\n",
       "      <th>17</th>\n",
       "      <td>'Garbage' to blame Ukraine for massive X outag...</td>\n",
       "      <td>tech</td>\n",
       "      <td>0.393813</td>\n",
       "    </tr>\n",
       "    <tr>\n",
       "      <th>18</th>\n",
       "      <td>Deep-sea mining tech advances but doubts remai...</td>\n",
       "      <td>tech</td>\n",
       "      <td>0.357018</td>\n",
       "    </tr>\n",
       "    <tr>\n",
       "      <th>19</th>\n",
       "      <td>A dating app for video games tackles one of th...</td>\n",
       "      <td>tech</td>\n",
       "      <td>0.690993</td>\n",
       "    </tr>\n",
       "    <tr>\n",
       "      <th>20</th>\n",
       "      <td>Noel Clarke says life 'smashed' by allegations...</td>\n",
       "      <td>entertainment</td>\n",
       "      <td>0.326896</td>\n",
       "    </tr>\n",
       "    <tr>\n",
       "      <th>21</th>\n",
       "      <td>From Doechii to Nicole Kidman: Why celebrities...</td>\n",
       "      <td>entertainment</td>\n",
       "      <td>0.382199</td>\n",
       "    </tr>\n",
       "    <tr>\n",
       "      <th>22</th>\n",
       "      <td>Anna Foster replaces Husain on Radio 4's Today...</td>\n",
       "      <td>entertainment</td>\n",
       "      <td>0.283864</td>\n",
       "    </tr>\n",
       "    <tr>\n",
       "      <th>23</th>\n",
       "      <td>Dancing on Ice winner crowned after 'brilliant...</td>\n",
       "      <td>entertainment</td>\n",
       "      <td>0.353881</td>\n",
       "    </tr>\n",
       "    <tr>\n",
       "      <th>24</th>\n",
       "      <td>Next James Bond should be British, Pierce Bros...</td>\n",
       "      <td>entertainment</td>\n",
       "      <td>0.375374</td>\n",
       "    </tr>\n",
       "  </tbody>\n",
       "</table>\n",
       "</div>"
      ],
      "text/plain": [
       "                                              article      label_log  \\\n",
       "0   From chatbots to intelligent toys: How AI is b...           tech   \n",
       "1   Trump doubles planned tariffs on Canadian meta...       business   \n",
       "2   European stocks steady after US markets plunge...       business   \n",
       "3   Starmer says benefit system unfair and indefen...       politics   \n",
       "4   Luxury lounges: Credit card perks 'we are all ...       business   \n",
       "5   Golden Ace wins dramatic Champion Hurdle at 25...          sport   \n",
       "6   'Wales cannot let England win title in Cardiff...          sport   \n",
       "7   'Boxing's not broken' - Hearn responds to Whit...          sport   \n",
       "8   Scots call up 'two for the future' Miller & Wi...          sport   \n",
       "9   Bradley and Ballard out as Hale named in NI sq...          sport   \n",
       "10  How JD Vance sees the world - and why that mat...       business   \n",
       "11  Pakistan militants attack train and take passe...       politics   \n",
       "12  Sweden says Russia is greatest threat to its s...       business   \n",
       "13  Greenland goes to polls in vote dominated by T...       politics   \n",
       "14  Kurdish-led SDF agrees to integrate with Syria...       business   \n",
       "15  How a tiny village became India's YouTube capi...           tech   \n",
       "16  Global smartwatch sales fall for first time Gl...       business   \n",
       "17  'Garbage' to blame Ukraine for massive X outag...           tech   \n",
       "18  Deep-sea mining tech advances but doubts remai...           tech   \n",
       "19  A dating app for video games tackles one of th...           tech   \n",
       "20  Noel Clarke says life 'smashed' by allegations...  entertainment   \n",
       "21  From Doechii to Nicole Kidman: Why celebrities...  entertainment   \n",
       "22  Anna Foster replaces Husain on Radio 4's Today...  entertainment   \n",
       "23  Dancing on Ice winner crowned after 'brilliant...  entertainment   \n",
       "24  Next James Bond should be British, Pierce Bros...  entertainment   \n",
       "\n",
       "    probability_log  \n",
       "0          0.256702  \n",
       "1          0.383486  \n",
       "2          0.797402  \n",
       "3          0.720381  \n",
       "4          0.302136  \n",
       "5          0.506349  \n",
       "6          0.909692  \n",
       "7          0.304767  \n",
       "8          0.695775  \n",
       "9          0.725688  \n",
       "10         0.251294  \n",
       "11         0.327000  \n",
       "12         0.349126  \n",
       "13         0.274194  \n",
       "14         0.361097  \n",
       "15         0.295476  \n",
       "16         0.554581  \n",
       "17         0.393813  \n",
       "18         0.357018  \n",
       "19         0.690993  \n",
       "20         0.326896  \n",
       "21         0.382199  \n",
       "22         0.283864  \n",
       "23         0.353881  \n",
       "24         0.375374  "
      ]
     },
     "execution_count": 38,
     "metadata": {},
     "output_type": "execute_result"
    }
   ],
   "source": [
    "predictions_log = predictions_to_dataset(predict_log, all_articles, \"log\")\n",
    "predictions_log"
   ]
  },
  {
   "cell_type": "code",
   "execution_count": 39,
   "metadata": {},
   "outputs": [
    {
     "data": {
      "application/vnd.microsoft.datawrangler.viewer.v0+json": {
       "columns": [
        {
         "name": "index",
         "rawType": "int64",
         "type": "integer"
        },
        {
         "name": "article",
         "rawType": "object",
         "type": "string"
        },
        {
         "name": "label_bert",
         "rawType": "object",
         "type": "string"
        },
        {
         "name": "probability_bert",
         "rawType": "float32",
         "type": "float"
        }
       ],
       "conversionMethod": "pd.DataFrame",
       "ref": "4a95264a-92f2-49d0-bdec-e3507a7e1ef0",
       "rows": [
        [
         "0",
         "From chatbots to intelligent toys: How AI is booming in China Head in hands, eight-year-old Timmy muttered to himself as he tried to beat a robot powered by artificial intelligence at a game of chess. But this was not an AI showroom or laboratory – this robot was living on a coffee table in a Beijing apartment, along with Timmy. The first night it came home, Timmy hugged his little robot friend before heading to bed. He doesn't have a name for it – yet. Its like a little teacher or a little friend, the boy said, as he showed his mum the next move he was considering on the chess board. Moments later, the robot chimed in: Congrats! You win. Round eyes blinking on the screen, it began rearranging the pieces to start a new game as it continued in Mandarin: Ive seen your ability, I will do better next time. China is embracing AI in its bid to become a tech superpower by 2030. DeepSeek, the breakthrough Chinese chatbot that caught the world's attention in January, was just the first hint of that ambition. Money is pouring into AI businesses seeking more capital, fuelling domestic competition. There are more than 4,500 firms developing and selling AI, schools in the capital Beijing are introducing AI courses for primary and secondary students later this year, and universities have increased the number of places available for students studying AI.",
         "business",
         "0.56532675"
        ],
        [
         "1",
         "Trump doubles planned tariffs on Canadian metal US President Donald Trump has said he will double the tariffs he previously announced on Canadian steel and aluminium imports into the US, taking the levies to 50% in total. In the latest twist in a deepening trade war, Trump said it was in retaliation for 25% tariffs Ontario placed on electricity it sends to northern US states. Trump said if tariffs including those on agricultural products were not dropped, he would hike taxes on the car industry, which will, essentially, permanently shut down the automobile manufacturing business in Canada. Ontario premier Doug Ford said: Until the threat of tariffs is gone for good, we won't back down. Ford added in a post on X that Trump had launched an unprovoked trade and tariff war with America's closest friend and ally. Writing on his social media platform Truth Social, Trump said his tariffs would go into effect on Wednesday morning, and that he would declare a national emergency on electricity in those states. He also said Canada relied on the US for military protection, and reiterated that he wanted the country to become the 51st US state. He add that it would make all tariffs, and everything else, totally disappear, if Canada were to join the US as a state. Canadian Prime Minister-designate Mark Carney has previously said Canada will never be part of America in any way, shape or form.",
         "business",
         "0.83220327"
        ],
        [
         "2",
         "European stocks steady after US markets plunge A sell-off in global shares eased in Europe on Tuesday following a sharp fall in US stocks that came as investors raised concerns about the negative economic impact of President Donald Trump's tariffs. It followed the president saying in a TV interview that the world's biggest economy was in a period of transition, when asked about suggestions of a potential recession. Since those remarks were broadcast on Sunday, top Trump officials and advisers have sought to calm investor fears. The US S&P 500 share index fell nearly 3% on Monday, but in Europe most of the major markets opened little changed. In a Fox News interview broadcast at the weekend but recorded on Thursday, Trump appeared to acknowledge concerns about the economy. I hate to predict things like that, he said. There is a period of transition because what we're doing is very big. We're bringing wealth back to America. That's a big thing. Charu Chanana, an investment strategist at investment bank Saxo, told the BBC: The previous notion of Trump being a stock market president is being re-evaluated. On Monday in New York, the S&P 500, which tracks the biggest companies listed in the US, ended the trading day 2.7% lower, while the Dow Jones Industrial Average dropped 2%. The tech-heavy Nasdaq share index was hit particularly hard, sinking 4%.",
         "business",
         "0.9816257"
        ],
        [
         "3",
         "Starmer says benefit system unfair and indefensible Sir Keir Starmer has called the current benefits system unsustainable, indefensible and unfair, and said the government could not shrug its shoulders and look away. Addressing Labour MPs on Monday evening, the prime minister said the current welfare system was the worst of all worlds, discouraging people from working while producing a spiralling bill. The comments come as Work and Pensions Secretary Liz Kendall prepares to set out changes to the welfare system and cut the benefits bill in the coming weeks. Chancellor Rachel Reeves has earmarked several billion pounds in draft spending cuts to welfare and other government departments ahead of the Spring Statement. Changes likely to be announced in the coming days include restrictions on eligibility for the Personal Independent Payment, which provides help with extra living costs to those with a long-term physical or mental health condition, and cuts to incapacity benefits for people unable to work and receiving Universal Credit. There is unease over the plans within the party, with Labour MP Rachael Maskell warning against draconian cuts that risk pushing disabled people into poverty. Maskell told the BBC she had picked up deep, deep concern among Labour MPs. She said: I look in the past at what Labour has achieved in this space and believe that we can hold on to our values, ensure that we're helping people and not harming people. Another Labour MP, Neil Duncan-Jordan, also expressed concern, telling Newsnight: If we are going to make poor people poorer then there will be a number of MPs who won't be able to sign up to that. It feels like it could be a re-run of austerity and I'm worried about that.",
         "politics",
         "0.9847084"
        ],
        [
         "4",
         "Luxury lounges: Credit card perks 'we are all paying for' I'm standing in what feels like a suite in a posh hotel - all soft lighting, marble counter tops, plush seating and parquet-style flooring. An ornate platter of food catches the corner of my eye. That is a seafood tower as a welcome food amenity, as well as caviar, and you can also see the champagne there for guests to enjoy, says Dana Pouwels, head of airport lounge benefits at US bank Chase. She is showing me around Chase's new Sapphire Lounge at New York's La Guardia Airport. This is what waiting to catch a flight can look like these days – if you can afford to pay $550 (£433) a year to have the correct credit card required to gain entry. Then once inside Chase's new La Guardia lounge you can then choose to pay up to $3,000 to access a private suite for a few hours. It is all part of what has been described as a global arms race among the credit card companies that you are probably entirely unaware of – they are competing to outdo each other with bigger, better, bolder airport lounges. And while most of us don't have access to these lounges, experts say we are almost certainly helping pay for them. And they don't come cheap. Yes, it's an arms race, and they're getting extraordinary, says Clint Thompson, the news editor at the flight and travel website The Points Guy. From what we do know, we're talking up to tens of millions of dollars per lounge.",
         "business",
         "0.9450922"
        ],
        [
         "5",
         "Golden Ace wins dramatic Champion Hurdle at 25-1 Golden Ace was a shock 25-1 winner of the Champion Hurdle at Cheltenham after previous victors Constitution Hill and State Man fell. The 2023 champion Constitution Hill was sent off odds-on favourite but came down early in the big race. Last year's winner State Man looked set to claim victory before a dramatic fall at the last hurdle. That left Golden Ace, ridden by Lorcan Williams for trainer Jeremy Scott, to come through and win by nine lengths from 66-1 outsider Burdett Road. Both Constitution Hill and State Man galloped away unscathed from their falls. I'm lost for words. This is the best day of my life by far, said Williams who shrugged his shoulder after a first top-level Grade One win. You dream of these moments as a kid. I hope the others are OK - Constitution Hill and State Man are iconic horses. Somerset-based Scott said: It's marred by the two horses who came down, but I'm just delighted the gods favoured us. The trainer had been persuaded to run in the feature race, rather than the Mares' Hurdle, by owner Ian Gosden. Borrowing a line from Only Fools and Horses, Gosden said: He who dares, wins, Rodney. Constitution Hill, trained by Nicky Henderson, had recovered from a respiratory issue and suspected colic since his triumph two years ago to go into the race unbeaten from 10 starts. He was sent off the 1-2 favourite and his fall at the fifth hurdle is estimated to have saved bookmakers a £10m payout. Nobody is hurt, they're two jockeys and two horses who've had proper old falls but they're all OK. That's the main thing, said Henderson.",
         "sport",
         "0.8890499"
        ],
        [
         "6",
         "'Wales cannot let England win title in Cardiff' Wales lock Dafydd Jenkins says his side cannot let England realise their Six Nations title ambitions in Cardiff this weekend. Steve Borthwick's side will arrive at the Principality Stadium on Saturday afternoon hoping they can win the title, although France remain favourites when they host Scotland after events in Cardiff have finished. In contrast to the title contenders, Wales have lost 16 successive internationals and are bottom of the table hoping to avoid another Wooden Spoon. England hooker Jamie George has called the game Wales' World Cup final. This is the game you dream of playing in as a kid, said Jenkins. This game is a special one, and one we're definitely up for. They can win the championship, so we can't be having that in Cardiff. Jenkins plays his club rugby in Exeter so bragging rights are also important. Exeter centre Henry Slade is in the England squad, but missed Sunday's 42-17 win against Italy because of injury. If I go back to Exeter with a win I'd be a lot happier, in terms of you can start ripping into a few of the other boys, said Jenkins. I've taken my fair share of stick off them, so it'd be nice to hand out a bit. To derail's England's hopes, Wales have to win a Test match for the first time since October 2023. Wales have also lost their past eight home matches and previous eight Six Nations games played at the Principality Stadium.",
         "sport",
         "0.98873913"
        ],
        [
         "7",
         "'Boxing's not broken' - Hearn responds to White's new league Eddie Hearn denies boxing is broken after UFC president Dana White signed a deal with Saudi Arabian investors to create a new boxing league. Details of this league are unclear, with White declaring in some interviews they will rebuild boxing from the ground up and have their own world titles, while in others saying the league would focus on young talent. Hearn, one of the biggest boxing promoters in the world, took issue with White suggesting boxing is broken. I think it's great for boxing, Matchroom's Hearn said on 5 Live Boxing with Steve Bunce podcast. One thing I disagree with, is boxing's not broken. Boxing is in a great place, it always has been. There's always ways we can improve it, but the fact those guys want to come into boxing shows where it's at. White will partner with Turki Alalshikh, chairman of Saudi Arabia's general entertainment authority, who has spearheaded the Saudi investment in boxing in the last two years. The new outfit will fall under the TKO banner, which owns the UFC and WWE. The UFC use a league system in MMA, signing fighters to long-term, exclusive deals and having their own promotional world title. TKO is expected to take over the operation of some of Saudi's major boxing events, including the mooted super-fight between Saul 'Canelo' Alvarez and Terence Crawford in September in Las Vegas. MMA in America, however, is not bound by the 2000 Ali Act and Professional Boxing Safety Act 1996, which set legal guidelines for writing contracts and limits to the amount of time fighters can be signed to a promotion. TKO president Mark Shapiro has spoken out against Ali Act recently, and Hearn is unsure if the UFC model can thrive in boxing.",
         "sport",
         "0.7805029"
        ],
        [
         "8",
         "Scots call up 'two for the future' Miller & Wilson Uncapped teenagers Lennon Miller and James Wilson have been named in Scotland's squad for this month's Nations League play-off matches with Greece. Meanwhile, Lewis Ferguson, Kevin Nisbet and Kieran Tierney have been recalled by Steve Clarke. Motherwell midfielder Miller and Hearts forward Wilson, both 18, have represented their country at age grade level. Well regular Miller has captained his club side of late while Wilson, who also qualifies for Northern Ireland, has broken into the Hearts team in recent months, scoring six times. A lot of call-offs, a lot of injuries, especially in middle to forward areas, Clarke said. I just felt it was a chance to have a look at two young boys, who've caught the eye - Lennon certainly over the last 18 months and James over the last six months. Two for the future but also can help us just now. Lennon plays with a maturity beyond his year. Good qualities, he can play deep in midfield, can play higher midfield, good delivery, box-to-box, good energy. Now we have to see if he can fit in among the group. [James] is someone who catches your eye, runs behind, looks to score goals, which is a great trait. We're always looking for goal scorers.",
         "sport",
         "0.9892001"
        ],
        [
         "9",
         "Bradley and Ballard out as Hale named in NI squad Conor Bradley and Daniel Ballard will miss Northern Ireland's friendlies with Switzerland and Sweden, while there is a first call-up for striker Ronan Hale. Ross County's Hale has been included after his international clearance came through in January after switching his allegiance from the Republic of Ireland. Northern Ireland host Switzerland at Windsor Park on Friday, 21 March before Michael O'Neill's side face Sweden in Stockholm four days later - with both matches available to watch on BBC Sport and BBC Northern Ireland. Michael O'Neill has made a number of changes to his squad from November's Nations League matches. Key defenders Bradley and Ballard are left out through injury, as is midfielder Ali McCann, while goalkeeper Bailey Peacock-Farrell and striker Josh Magennis drop to the standby list. Caolan Boyd-Munce, Jamie Reid and Jamal Lewis miss out on O'Neill's 25-man squad. With Magennis' omission, Paddy McNair is the sole remaining player from the Euro 2016 squad as he returns from injury, while goalkeeper Conor Hazard, defenders Eoin Toal and Aaron Donnelly and forward Dale Taylor have also been recalled. Portsmouth's Terry Devlin, who can play at right-back or in midfield, is the only uncapped player in O'Neill's squad.",
         "sport",
         "0.9888103"
        ],
        [
         "10",
         "How JD Vance sees the world - and why that matters An argument in the White House tore apart the US alliance with Ukraine, shook European leaders and highlighted JD Vance's key role in forcefully expressing Donald Trump's foreign policy. The vice-president has come out punching on the global stage - so what is it that drives his worldview? Vance's first major foreign speech, at the Munich Security Conference in mid-February, caught many by surprise. Rather than focusing on the war raging in Ukraine, the US vice-president only briefly mentioned the bloodiest European conflict since World War Two. Instead, he used his debut on the international stage to berate close US allies about immigration and free speech, suggesting the European establishment was anti-democratic. He accused them of ignoring the wills of their people and questioned what shared values they were truly banding together with the US to defend. If you are running in fear of your own voters, there is nothing America can do for you, nor for that matter is there anything you can do for the American people, he warned. It was a bold and perhaps unexpected way to introduce himself to the world - by angering European allies. But days later he was back in the news, at the centre of a blistering row with Ukrainian President Volodymyr Zelensky, whom he accused of being ungrateful. For those who have been studying the rise of Vance, these two episodes came as no surprise. The vice-president has come to represent an intellectual wing of the conservative movement that gives expression to Trumpism and in particular how its America First mantra applies beyond its borders. In writings and interviews, Vance has expressed an ideology that seems to join the dots between American workers, global elites and the role of the US in the wider world.",
         "politics",
         "0.97137356"
        ],
        [
         "11",
         "Pakistan militants attack train and take passengers hostage Armed militants in Pakistan's Balochistan region have attacked a train carrying hundreds of passengers and taken a number of hostages, military sources have told the BBC. The Baloch Liberation Army (BLA) fired at the Jaffar Express Train as it travelled from Quetta to Peshawar. A statement from the separatist group said it had bombed the track before storming the train in remote Sibi district. It claimed the train was under its control. Pakistani police told local reporters at least three people, including the train driver, had been injured. Security forces have been sent to the scene, as well as helicopters to try to rescue hostages, police told the BBC. There were reports of intense firing at the train, a Balochistan government spokesman told local newspaper Dawn. A senior police official said it remains stuck just before a tunnel surrounded by mountains, AFP news agency reports. A senior army official confirmed to the BBC that there were more than 100 army personnel travelling from Quetta on the train. The Baloch Liberation Army has warned of severe consequences if an attempt is made to rescue those it is holding. It has waged a decades-long insurgency to gain independence and has launched numerous deadly attacks, often targeting police stations, railway lines and highways. The Pakistani authorities - as well as several Western countries, including the UK and US - have designated the BLA as a terrorist organisation.",
         "politics",
         "0.9490541"
        ],
        [
         "12",
         "Sweden says Russia is greatest threat to its security Russia poses the greatest threat to Sweden due to its aggressive attitude towards the West, the Scandinavian nation's security service Sapo has said. It wrote in its annual report that while Sweden joining the Nato military alliance had strengthened its security, it had also led to increased Russian intelligence activity. Russia denies any wrongdoing. Sapo also said that the security situation in Sweden was serious - with foreign powers operating in more threatening ways, with hybrid warfare, alongside incidents of violent extremism. Charlotte von Essen, the head of Sapo, said there was a tangible risk that the security situation can deteriorate further in a way that may be hard to predict. Sweden became a Nato member last year, seeing it as the best guarantee against Russia following its full-scale invasion of Ukraine in February 2022. That January, its civil defence minister warned there could be war in Sweden in the near future due to Russian aggression. Sapo said on Tuesday that Russia's intelligence activities were primarily aimed at undermining cohesion between Nato members, counteracting Western support for Ukraine, and circumventing sanctions. It said these activities showed Russia was becoming increasingly offensive and risk-prone in the face of a build-up of Swedish, and wider European, defences. When gathering intelligence, the Russian security and intelligence services use a wide range of resources and different platforms, the agency wrote, adding that these activities had been limited by expelling intelligence officers. Ms von Essen said Swedes needed to be vigilant about widespread anti-state narratives and conspiracy theories that seek to act as a destabilising force, adding that it was important that we do not normalise the new situation. In its report, Sapo mentioned suspicious incidents involving infrastructure and which countries may have been behind them in some cases",
         "politics",
         "0.8692587"
        ],
        [
         "13",
         "Greenland goes to polls in vote dominated by Trump and independence Residents of Greenland are going to the polls in a vote that in previous years has drawn little outside attention - but which may prove pivotal for the Arctic territory's future. US President Donald Trump's repeated interest in acquiring Greenland has put it firmly in the spotlight and fuelled the longstanding debate on the island's future ties with Copenhagen. There's never been a spotlight like this on Greenland before, says Nauja Bianco, a Danish-Greenlandic policy expert on the Arctic. Greenland has been controlled by Denmark – nearly 3,000km (1,860 miles) away – for about 300 years. It governs its own domestic affairs, but decisions on foreign and defence policy are made in Copenhagen. Now, five out of six parties on the ballot favour Greenland's independence from Denmark, differing only on how quickly that should come about. Voting takes place over 11 hours at 72 polling stations, and ends at 20:00 local time on Tuesday (22:00G). The debate over independence has been put on steroids by Trump, says Masaana Egede, editor of Greenlandic newspaper Sermitsiaq. The island's strategic location and untapped mineral resources have caught the US president's eye. He first floated the idea of buying Greenland during his first term in 2019. Since taking office again in January, he has reiterated his intention to acquire the territory. Greenland and Denmark's leaders have repeatedly rebuffed his demands. Addressing the US Congress last week, however, Trump again doubled down. We need Greenland for national security. One way or the other we're gonna get it, he said, prompting applause and laughter from a number of politicians, including Vice-President JD Vance.",
         "politics",
         "0.8547962"
        ],
        [
         "14",
         "Kurdish-led SDF agrees to integrate with Syrian government forces A Kurdish-led militia alliance which controls north-eastern Syria has signed a deal to integrate all military and civilian institutions into the Syrian state, the country's presidency says. The agreement, which includes a complete cessation of hostilities, says the US-backed Syrian Democratic Forces (SDF) will hand over control of the region's border posts, airport, and vital oil and gas fields. It also recognises the Kurdish minority as an integral part of the Syrian state and guarantees the rights of all Syrians to representation and participation in the political process. SDF commander Mazloum Abdi called the deal a real opportunity to build a new Syria. We are committed to building a better future that guarantees the rights of all Syrians and fulfils their aspirations for peace and dignity, he wrote on X after signing the deal in Damascus on Monday alongside interim President Ahmed al-Sharaa. The deal represents a major step towards Sharaa's goal to unify the fractured country after his Sunni Islamist group led the rebel offensive that overthrew president Bashar al-Assad in December and ended 13 years of devastating civil war. It could also de-escalate the SDF's conflict with neighbouring Turkey and Turkish-backed Syrian former rebel factions allied to the government, which are trying to push the alliance out of areas near the border. There were celebrations welcoming the announcement of the deal on the streets of several cities on Monday night, with many people expressing relief at a time when Syria is facing several other threats to its stability.",
         "politics",
         "0.8624314"
        ],
        [
         "15",
         "How a tiny village became India's YouTube capital In Tulsi, a village in central India, social media has sparked an economic and social revolution. It's a microcosm of YouTube's effect on the world. As villagers head into the fields of Tulsi, a village outside Raipur in central India, on a muggy September morning, 32-year-old YouTuber Jai Varma asks a group of women to join him for his latest video. They gather around him – adjusting their sarees and sharing a quick word and a smile.  Varma places an elderly woman on a plastic chair, asks another to touch her feet and a third to serve water, staging a scene of a rural village festival for fans who will enjoy his content from cities and countries thousands of kilometres away. The women, familiar with this kind of work, are happy to oblige. Varma captures the moment, and they return to their farmwork. A few hundred metres away, another group is busy setting up their own production. One holds up a mobile phone, filming as 26-year-old Rajesh Diwar moves to the rhythm of a hip-hop track, his hands and body animated in the expressive style of a seasoned performer. Tulsi is like any other Indian village. The small outpost in the central state of Chhattisgarh is home to one-storey houses and partially paved roads. A water storage tank peers out above the buildings, overseeing the town. Banyan trees with concrete bases serve as gathering spots. But what sets Tulsi apart is its distinction as India's YouTube Village. Some 4,000 people live in Tulsi, and reports suggest more than 1,000 of them work on YouTube in some capacity. Walk around the village itself and it's hard to find someone who hasn't appeared in one of the many videos being filmed there.  The money that YouTube brings has transformed the local economy, locals say, and beyond financial benefits, the social media platform has become an instrument for equality and social change. The residents who've launched successful YouTube channels and found new streams of income include a number of women who previously had few opportunities for advancement in this rural setting. Under the banyan trees, conversations have turned to technology and the internet.",
         "tech",
         "0.9536783"
        ],
        [
         "16",
         "Global smartwatch sales fall for first time Global sales of smartwatches have fallen for the first time, new figures indicate, in large part due to a sharp decline in the popularity of market leader, Apple. Market research firm Counterpoint says 7% fewer of the devices were shipped in 2024 compared to the year before. Shipments of Apple Watches fell by 19% in that period, Counterpoint says. It blames the slump on a lack of new features in Apple's latest devices, and the fact a rumoured high-end Ultra 3 model never materialised. The biggest driver of the decline was North America, where the absence of the Ultra 3 and minimal feature upgrades in the S10 lineup led consumers to hold back purchases, said Counterpoint senior research analyst Anshika Jain. Apple was also hit with sales and import bans in the US in late 2023 and early 2024 over a disputed patent regarding blood oxygen level monitoring - which Ms Jain says also contributed to lower sales figures in the first half of 2024. It retained 22% of market share in the final three months of 2024, down from 25% a year earlier. We've been through a period where the smartwatch has gone from being a new and exciting gadget, to something now that's stabilising - the feature set isn't changing very dramatically year over year, said Leo Gebbie, principal analyst at CCS Insight. Despite the overall decline, last year did see a massive rise in sales for Chinese-made smartwatches from brands such as Xiaomi, Huawei and Imoo.",
         "business",
         "0.9278468"
        ],
        [
         "17",
         "'Garbage' to blame Ukraine for massive X outage, experts say Experts have cast doubt on Elon Musk's claim that a large-scale outage which hit X was caused by hackers in Ukraine. Platform monitor Downdetector says it had more than 1.6 million reports of problems with the social media site from users around the world on Monday. We're not sure exactly what happened but there was a massive cyber-attack to try and bring down the X system with IP [Internet Protocol] addresses originating in the Ukraine area, Musk said in an interview with the Fox Business channel. However, Ciaran Martin, professor at Oxford University's Blavatnik School of Government told the BBC that explanation was wholly unconvincingn and pretty much garbage. Prof Martin - former head of the UK's National Cyber Security Centre - says it looks as if X was targeted by what's known as a distributed denial of service (DDoS) attack, where hackers flood a server with internet traffic to prevent users from connecting to a website. It's not that sophisticated - it's a very old technique, Mr Martin told Radio 4's Today programme. I can't think of a company of the size and standing internationally of X that's fallen over to a DDoS attack for a very long time, he added. He said the incident at X doesn't reflect well on their cyber security. Many users trying to access the platform and refresh feeds on its app and desktop site during Monday's outages were met with a loading icon. Musk, who has been a frequent critic of Ukraine and its President Volodymyr Zelensky, has offered no evidence to support his claim and did not say whether or not he thought state actors were involved. He posted on X that either a large, coordinated group and/or a country is involved. But Prof Martin said tracing IP addresses tells you absolutely nothing, because hackers in this situation would hijack devices from all over the world.",
         "tech",
         "0.97926396"
        ],
        [
         "18",
         "Deep-sea mining tech advances but doubts remain There's one. And another. This robot was hunting for rocks. A three-pronged claw descended from above and plucked a stone off the seabed. All the while, the autonomous machine's on-board camera scanned for creatures that might be resting on those rocks, to avoid snatching an innocent lifeform from its habitat. The test, carried out in a harbour in November, demonstrated one approach to mining for polymetallic nodules, potato-sized lumps containing metals scattered on the seabed in vast quantities, in much deeper parts of the ocean. Such metals are sought-after for use in renewable energy devices and batteries, for example. But deep-sea mining is a controversial means of obtaining them because of its potentially significant environmental impacts. We felt that a vehicle that used AI to look for life and avoid it could have much less of an environmental footprint, explains Oliver Gunasekara, co-founder and chief executive of Impossible Metals. The firm's system is 95% accurate at detecting lifeforms of 1mm or greater in size, he says. The robot's arms are similar to those that pick and place items in automated warehouses - they are optimised for speed. Plus, each claw kicks up a relatively small puff of sediment as it plucks its target off the seafloor. Impossible Metals aims to further reduce this disturbance. Such a system is not likely to convince everyone that deep-sea mining is a good idea, however. Mining would by its nature remove the very substrate of life in and on the deep seafloor, no matter the technology, says Jessica Battle, who leads the global no deep-seabed mining initiative at the WWF.",
         "tech",
         "0.9531253"
        ],
        [
         "19",
         "A dating app for video games tackles one of the industry's big issues Almost 19,000 titles went live on PC games store Steam in 2024 - about 360 a week. There are positive ways to look at this. Tools are more accessible and easier to use, barriers to entry are lower, self-publishing is easier and ideas are never short in supply. But for developers discoverability – getting your new release noticed - has never been more challenging in a landscape dominated by blockbusters and online games such as Fortnite and Call of Duty. It's also harder for potential customers to find them, with recommendations often dictated by search engine and store algorithms. But Ludocene - described as a dating app for video games hopes to change that. Games journalist Andy Robertson, the man behind the project, says the goal is to help people find those ones that got away. In any given year there's just so many games and some of those will rise to the top, they'll get lucky or they'll just be brilliant enough to punch through that noise, he tells BBC Newsbeat. But there's loads of really great games that just get sort of buried and lost in that shuffle. Ludocene itself looks a bit like a game - each title in its database is represented by a card with a trailer on one side and more information on the reverse. The dating app element comes from users swiping to keep - or discard - the suggestions, slowly building up a collection of recommended titles. Ludocene's entries are chosen by a selection of well-known gaming experts – journalists, streamers and other figures.",
         "tech",
         "0.98183954"
        ],
        [
         "20",
         "Noel Clarke says life 'smashed' by allegations Actor and producer Noel Clarke has accused the publisher of the Guardian of having smashed my life for years as he gave evidence at his High Court libel trial. The star of Doctor Who and Kidulthood began his testimony on Monday. The 49-year-old is suing Guardian News and Media (GNM) for libel over a series of articles from 2021 and 2022 that included allegations of sexually inappropriate behaviour. Clarke denies the allegations, while GNM is defending its reporting as being both true and in the public interest. Asked about his alleged inappropriate sexual behaviour towards an actress who appeared in a film he was involved with, he became quite emotional and tearful, telling the Guardian's barrister Gavin Millar KC: They have smashed my life for years with this rubbish. You know what you're doing. You make me sick, I would not do this. Mr Millar asked Mr Clarke about an allegation that while working on Doctor Who, he made an inappropriate sexual suggestion to a female costume assistant. He replied: I don't remember that incident, I don't remember the woman in question. So I say it didn't happen. Mr Millar asked: It didn't happen or you don't remember it? Mr Clarke replied: It didn't happen. He was also asked about his interactions with a woman whom he worked with in the run-up to a particular project, where it was alleged that he physically pushed his body against her in a sexual way, and groped her.",
         "entertainment",
         "0.96414196"
        ],
        [
         "21",
         "From Doechii to Nicole Kidman: Why celebrities and Gen Z women love the jacket-and-tie look From the catwalk to the red carpet, the jacket-and-necktie combo is back for women – it's a statement of power and authority, say fans of the look. The jacket-and-necktie combination has been a staple of male dress for centuries, but it's always been most striking and subversive when worn by women. Now, it's making a comeback in women's fashion once more. On runways, designers are re-inventing the look. In her recent London Fashion Week collection, Tolu Coker showcased oversized leather blazers, paired with satin ties and tailored shirts. While at New York Fashion Week, Thom Browne teamed classic pattern ties with structured patchwork jackets.   The trend isn't limited to the catwalk. Viewers of the recent Grammy awards may have noticed Sabrina Carpenter's Dolce & Gabbana show-girl outfit, a Swarovski crystal-encrusted black blazer, with matching tie and skirt. Billie Eilish even offers a tie as part of her official merchandise. The red carpet is adopting the look, too. At the Berlin Film Festival, Vicky Krieps wore an oversized Bottega Veneta suit. Meanwhile, Doechii styled a Thom Browne exaggerated trouser with a cropped jacket and tie to accept her Grammy win. Nicole Kidman has gone for the jacket-and-tie look too in YSL, joining a growing list of celebrities including Rihanna, Bella Hadid and Iris Law, who have all embraced the label's style of tailoring. Yasmine Tangou is also in the fan club. The content creator and architect, who lives in Paris, likes the oversized, masculine style of a YSL suit, in contrast to other styles of jacket that accentuate curves.",
         "entertainment",
         "0.9800212"
        ],
        [
         "22",
         "Anna Foster replaces Husain on Radio 4's Today Anna Foster is to join BBC Radio 4's Today programme as one of the programme's main presenters, following the departure of Mishal Husain in December. Foster is a former Middle East correspondent and has also previously presented BBC Radio 5 Live Drive and Radio 1's Newsbeat, as well as the corporation's flagship TV news bulletins. She will present many editions of Today from Salford, as part of the BBC's efforts to better represent more areas of the UK beyond London. In a statement, Foster said: There are few more exciting opportunities for a journalist than presenting Today, and I'm thrilled to be joining the team. I've always loved making important, agenda-setting, engaging radio, and there's nowhere better to do that. It's such a beloved programme to so many people, and I can't wait to be a part of it. The BBC said that, in addition to presenting Today, Foster would continue to play a key role in helping to lead the BBC's coverage of foreign news and will still be seen on TV news bulletins for major stories. Bosses are reported to have been keen to ensure the presenter replacing Husain had a similar level of international reporting knowledge and experience. She brings important international reporting experience at a time when it is needed so urgently by listeners to Radio 4, said the station's controller Mohit Bakaya. Foster is one of several correspondents and presenters who have co-hosted episodes of Today in recent weeks following Husain's departure.",
         "entertainment",
         "0.93302524"
        ],
        [
         "23",
         "Dancing on Ice winner crowned after 'brilliant' performance The latest series of Dancing on Ice has drawn to a close after its winners were announced following a public vote. Coronation Street actor Sam Aston and his skating partner Molly Lanaghan were crowned winners of the ice-skating competition on Sunday. BBC Springwatch presenter Michaela Strachan was the runner-up alongside her ice skating partner Mark Hanretty after former English footballer Anton Ferdinand and his skating partner Annette Dytrt lost the public vote. Former Olympic figure skater Christopher Dean, who was involved in choreographing the showcase routines of all three finalists, told Aston that tonight, everything came together. Before the winners were revealed, the Coronation Street star said his time on the competition had been such a journey, it's a mad one. The 31-year-old was seen covering his face with his hands after he was announced as the winner. Aston and Lanaghan performed to The Pink Panther Theme, after which Dean told Aston he was really proud of you. Dean, alongside fellow former Olympic figure skater Jayne Torvill, choreographed the showcase performances of all three finalists. After Ferdinand lost the public vote, Aston and Strachan performed the pair's Olympic gold medal winning Bolero routine, after which Torvill described Aston's performance as brilliant. I mean tonight, everything came together, Dean said. Your skating skills are always on show, but you had to have timing and acting, Ferdinand and Dytrt were the first finalists to perform in the final episode and impressed the judges with their showcase routine to Let's Go Crazy by Prince And The Revolution.",
         "entertainment",
         "0.97644687"
        ],
        [
         "24",
         "Next James Bond should be British, Pierce Brosnan says Actor Pierce Brosnan has said it is a given that the next James Bond should be British. In an interview with the Sunday Telegraph, the former Bond also said he thought it was the right decision for the franchise's long-standing producers to hand creative control to Amazon. It takes great courage for them to let go, said Brosnan, who is Irish. I hope that [Amazon] handles the work and the character with dignity and imagination and respect. The choice of Daniel Craig's successor will be a decision for Amazon MGM Studios. James Norton, Aaron Taylor-Johnson and Theo James - who are all English - are among the bookmakers' favourites to fill Craig's shoes. Bond has been played by two non-British actors in the past - Australian George Lazenby as well as Irishman Brosnan - but 007 has never been an American, and among the names mooted for the role is California-born Austin Butler. Other non-British names that have been suggested include Irish stars Paul Mescal, Cillian Murphy and Aidan Turner, or Australian Jacob Elordi. American Clint Eastwood once reportedly turned down the role, with the Hollywood legend previously claiming he was approached to take over after Sean Connery in 1967 but said: It didn't feel right for me to be doing it. According to author Ian Fleming's novels, Bond had a Scottish father and Swiss mother. Under the deal announced last month, Bond producers Barbara Broccoli and Michael G Wilson will remain co-owners of the franchise but Amazon MGM Studios will gain creative control.",
         "entertainment",
         "0.98270065"
        ]
       ],
       "shape": {
        "columns": 3,
        "rows": 25
       }
      },
      "text/html": [
       "<div>\n",
       "<style scoped>\n",
       "    .dataframe tbody tr th:only-of-type {\n",
       "        vertical-align: middle;\n",
       "    }\n",
       "\n",
       "    .dataframe tbody tr th {\n",
       "        vertical-align: top;\n",
       "    }\n",
       "\n",
       "    .dataframe thead th {\n",
       "        text-align: right;\n",
       "    }\n",
       "</style>\n",
       "<table border=\"1\" class=\"dataframe\">\n",
       "  <thead>\n",
       "    <tr style=\"text-align: right;\">\n",
       "      <th></th>\n",
       "      <th>article</th>\n",
       "      <th>label_bert</th>\n",
       "      <th>probability_bert</th>\n",
       "    </tr>\n",
       "  </thead>\n",
       "  <tbody>\n",
       "    <tr>\n",
       "      <th>0</th>\n",
       "      <td>From chatbots to intelligent toys: How AI is b...</td>\n",
       "      <td>business</td>\n",
       "      <td>0.565327</td>\n",
       "    </tr>\n",
       "    <tr>\n",
       "      <th>1</th>\n",
       "      <td>Trump doubles planned tariffs on Canadian meta...</td>\n",
       "      <td>business</td>\n",
       "      <td>0.832203</td>\n",
       "    </tr>\n",
       "    <tr>\n",
       "      <th>2</th>\n",
       "      <td>European stocks steady after US markets plunge...</td>\n",
       "      <td>business</td>\n",
       "      <td>0.981626</td>\n",
       "    </tr>\n",
       "    <tr>\n",
       "      <th>3</th>\n",
       "      <td>Starmer says benefit system unfair and indefen...</td>\n",
       "      <td>politics</td>\n",
       "      <td>0.984708</td>\n",
       "    </tr>\n",
       "    <tr>\n",
       "      <th>4</th>\n",
       "      <td>Luxury lounges: Credit card perks 'we are all ...</td>\n",
       "      <td>business</td>\n",
       "      <td>0.945092</td>\n",
       "    </tr>\n",
       "    <tr>\n",
       "      <th>5</th>\n",
       "      <td>Golden Ace wins dramatic Champion Hurdle at 25...</td>\n",
       "      <td>sport</td>\n",
       "      <td>0.889050</td>\n",
       "    </tr>\n",
       "    <tr>\n",
       "      <th>6</th>\n",
       "      <td>'Wales cannot let England win title in Cardiff...</td>\n",
       "      <td>sport</td>\n",
       "      <td>0.988739</td>\n",
       "    </tr>\n",
       "    <tr>\n",
       "      <th>7</th>\n",
       "      <td>'Boxing's not broken' - Hearn responds to Whit...</td>\n",
       "      <td>sport</td>\n",
       "      <td>0.780503</td>\n",
       "    </tr>\n",
       "    <tr>\n",
       "      <th>8</th>\n",
       "      <td>Scots call up 'two for the future' Miller &amp; Wi...</td>\n",
       "      <td>sport</td>\n",
       "      <td>0.989200</td>\n",
       "    </tr>\n",
       "    <tr>\n",
       "      <th>9</th>\n",
       "      <td>Bradley and Ballard out as Hale named in NI sq...</td>\n",
       "      <td>sport</td>\n",
       "      <td>0.988810</td>\n",
       "    </tr>\n",
       "    <tr>\n",
       "      <th>10</th>\n",
       "      <td>How JD Vance sees the world - and why that mat...</td>\n",
       "      <td>politics</td>\n",
       "      <td>0.971374</td>\n",
       "    </tr>\n",
       "    <tr>\n",
       "      <th>11</th>\n",
       "      <td>Pakistan militants attack train and take passe...</td>\n",
       "      <td>politics</td>\n",
       "      <td>0.949054</td>\n",
       "    </tr>\n",
       "    <tr>\n",
       "      <th>12</th>\n",
       "      <td>Sweden says Russia is greatest threat to its s...</td>\n",
       "      <td>politics</td>\n",
       "      <td>0.869259</td>\n",
       "    </tr>\n",
       "    <tr>\n",
       "      <th>13</th>\n",
       "      <td>Greenland goes to polls in vote dominated by T...</td>\n",
       "      <td>politics</td>\n",
       "      <td>0.854796</td>\n",
       "    </tr>\n",
       "    <tr>\n",
       "      <th>14</th>\n",
       "      <td>Kurdish-led SDF agrees to integrate with Syria...</td>\n",
       "      <td>politics</td>\n",
       "      <td>0.862431</td>\n",
       "    </tr>\n",
       "    <tr>\n",
       "      <th>15</th>\n",
       "      <td>How a tiny village became India's YouTube capi...</td>\n",
       "      <td>tech</td>\n",
       "      <td>0.953678</td>\n",
       "    </tr>\n",
       "    <tr>\n",
       "      <th>16</th>\n",
       "      <td>Global smartwatch sales fall for first time Gl...</td>\n",
       "      <td>business</td>\n",
       "      <td>0.927847</td>\n",
       "    </tr>\n",
       "    <tr>\n",
       "      <th>17</th>\n",
       "      <td>'Garbage' to blame Ukraine for massive X outag...</td>\n",
       "      <td>tech</td>\n",
       "      <td>0.979264</td>\n",
       "    </tr>\n",
       "    <tr>\n",
       "      <th>18</th>\n",
       "      <td>Deep-sea mining tech advances but doubts remai...</td>\n",
       "      <td>tech</td>\n",
       "      <td>0.953125</td>\n",
       "    </tr>\n",
       "    <tr>\n",
       "      <th>19</th>\n",
       "      <td>A dating app for video games tackles one of th...</td>\n",
       "      <td>tech</td>\n",
       "      <td>0.981840</td>\n",
       "    </tr>\n",
       "    <tr>\n",
       "      <th>20</th>\n",
       "      <td>Noel Clarke says life 'smashed' by allegations...</td>\n",
       "      <td>entertainment</td>\n",
       "      <td>0.964142</td>\n",
       "    </tr>\n",
       "    <tr>\n",
       "      <th>21</th>\n",
       "      <td>From Doechii to Nicole Kidman: Why celebrities...</td>\n",
       "      <td>entertainment</td>\n",
       "      <td>0.980021</td>\n",
       "    </tr>\n",
       "    <tr>\n",
       "      <th>22</th>\n",
       "      <td>Anna Foster replaces Husain on Radio 4's Today...</td>\n",
       "      <td>entertainment</td>\n",
       "      <td>0.933025</td>\n",
       "    </tr>\n",
       "    <tr>\n",
       "      <th>23</th>\n",
       "      <td>Dancing on Ice winner crowned after 'brilliant...</td>\n",
       "      <td>entertainment</td>\n",
       "      <td>0.976447</td>\n",
       "    </tr>\n",
       "    <tr>\n",
       "      <th>24</th>\n",
       "      <td>Next James Bond should be British, Pierce Bros...</td>\n",
       "      <td>entertainment</td>\n",
       "      <td>0.982701</td>\n",
       "    </tr>\n",
       "  </tbody>\n",
       "</table>\n",
       "</div>"
      ],
      "text/plain": [
       "                                              article     label_bert  \\\n",
       "0   From chatbots to intelligent toys: How AI is b...       business   \n",
       "1   Trump doubles planned tariffs on Canadian meta...       business   \n",
       "2   European stocks steady after US markets plunge...       business   \n",
       "3   Starmer says benefit system unfair and indefen...       politics   \n",
       "4   Luxury lounges: Credit card perks 'we are all ...       business   \n",
       "5   Golden Ace wins dramatic Champion Hurdle at 25...          sport   \n",
       "6   'Wales cannot let England win title in Cardiff...          sport   \n",
       "7   'Boxing's not broken' - Hearn responds to Whit...          sport   \n",
       "8   Scots call up 'two for the future' Miller & Wi...          sport   \n",
       "9   Bradley and Ballard out as Hale named in NI sq...          sport   \n",
       "10  How JD Vance sees the world - and why that mat...       politics   \n",
       "11  Pakistan militants attack train and take passe...       politics   \n",
       "12  Sweden says Russia is greatest threat to its s...       politics   \n",
       "13  Greenland goes to polls in vote dominated by T...       politics   \n",
       "14  Kurdish-led SDF agrees to integrate with Syria...       politics   \n",
       "15  How a tiny village became India's YouTube capi...           tech   \n",
       "16  Global smartwatch sales fall for first time Gl...       business   \n",
       "17  'Garbage' to blame Ukraine for massive X outag...           tech   \n",
       "18  Deep-sea mining tech advances but doubts remai...           tech   \n",
       "19  A dating app for video games tackles one of th...           tech   \n",
       "20  Noel Clarke says life 'smashed' by allegations...  entertainment   \n",
       "21  From Doechii to Nicole Kidman: Why celebrities...  entertainment   \n",
       "22  Anna Foster replaces Husain on Radio 4's Today...  entertainment   \n",
       "23  Dancing on Ice winner crowned after 'brilliant...  entertainment   \n",
       "24  Next James Bond should be British, Pierce Bros...  entertainment   \n",
       "\n",
       "    probability_bert  \n",
       "0           0.565327  \n",
       "1           0.832203  \n",
       "2           0.981626  \n",
       "3           0.984708  \n",
       "4           0.945092  \n",
       "5           0.889050  \n",
       "6           0.988739  \n",
       "7           0.780503  \n",
       "8           0.989200  \n",
       "9           0.988810  \n",
       "10          0.971374  \n",
       "11          0.949054  \n",
       "12          0.869259  \n",
       "13          0.854796  \n",
       "14          0.862431  \n",
       "15          0.953678  \n",
       "16          0.927847  \n",
       "17          0.979264  \n",
       "18          0.953125  \n",
       "19          0.981840  \n",
       "20          0.964142  \n",
       "21          0.980021  \n",
       "22          0.933025  \n",
       "23          0.976447  \n",
       "24          0.982701  "
      ]
     },
     "execution_count": 39,
     "metadata": {},
     "output_type": "execute_result"
    }
   ],
   "source": [
    "predictions_bert = predictions_to_dataset(predict_distillbert, all_articles, \"bert\")\n",
    "predictions_bert"
   ]
  },
  {
   "cell_type": "code",
   "execution_count": 40,
   "metadata": {},
   "outputs": [],
   "source": [
    "control_dataset = control_dataset.merge(predictions_log, how=\"left\", on=\"article\").merge(predictions_bert, how=\"left\", on=\"article\")\n",
    "control_dataset = control_dataset[[\"link\", \"label\", \"label_log\", \"probability_log\", \"label_bert\", \"probability_bert\"]]"
   ]
  },
  {
   "cell_type": "markdown",
   "metadata": {},
   "source": [
    "Для удобства изучения полученных результатов выделим цветом те ячейки в столбцах с предсказаниями классов новостей, которые не соответствуют истинной классификации."
   ]
  },
  {
   "cell_type": "code",
   "execution_count": 41,
   "metadata": {},
   "outputs": [
    {
     "data": {
      "text/html": [
       "<style type=\"text/css\">\n",
       "#T_4afb2_row0_col2, #T_4afb2_row3_col2, #T_4afb2_row10_col2, #T_4afb2_row12_col2, #T_4afb2_row14_col2, #T_4afb2_row16_col2 {\n",
       "  background-color: red;\n",
       "}\n",
       "#T_4afb2_row3_col4, #T_4afb2_row16_col4 {\n",
       "  background-color: yellow;\n",
       "}\n",
       "</style>\n",
       "<table id=\"T_4afb2\">\n",
       "  <thead>\n",
       "    <tr>\n",
       "      <th class=\"blank level0\" >&nbsp;</th>\n",
       "      <th id=\"T_4afb2_level0_col0\" class=\"col_heading level0 col0\" >link</th>\n",
       "      <th id=\"T_4afb2_level0_col1\" class=\"col_heading level0 col1\" >label</th>\n",
       "      <th id=\"T_4afb2_level0_col2\" class=\"col_heading level0 col2\" >label_log</th>\n",
       "      <th id=\"T_4afb2_level0_col3\" class=\"col_heading level0 col3\" >probability_log</th>\n",
       "      <th id=\"T_4afb2_level0_col4\" class=\"col_heading level0 col4\" >label_bert</th>\n",
       "      <th id=\"T_4afb2_level0_col5\" class=\"col_heading level0 col5\" >probability_bert</th>\n",
       "    </tr>\n",
       "  </thead>\n",
       "  <tbody>\n",
       "    <tr>\n",
       "      <th id=\"T_4afb2_level0_row0\" class=\"row_heading level0 row0\" >0</th>\n",
       "      <td id=\"T_4afb2_row0_col0\" class=\"data row0 col0\" >https://www.bbc.com/news/articles/ckg8jqj393eo</td>\n",
       "      <td id=\"T_4afb2_row0_col1\" class=\"data row0 col1\" >business</td>\n",
       "      <td id=\"T_4afb2_row0_col2\" class=\"data row0 col2\" >tech</td>\n",
       "      <td id=\"T_4afb2_row0_col3\" class=\"data row0 col3\" >0.256702</td>\n",
       "      <td id=\"T_4afb2_row0_col4\" class=\"data row0 col4\" >business</td>\n",
       "      <td id=\"T_4afb2_row0_col5\" class=\"data row0 col5\" >0.565327</td>\n",
       "    </tr>\n",
       "    <tr>\n",
       "      <th id=\"T_4afb2_level0_row1\" class=\"row_heading level0 row1\" >1</th>\n",
       "      <td id=\"T_4afb2_row1_col0\" class=\"data row1 col0\" >https://www.bbc.com/news/articles/cm2y811g1dgo</td>\n",
       "      <td id=\"T_4afb2_row1_col1\" class=\"data row1 col1\" >business</td>\n",
       "      <td id=\"T_4afb2_row1_col2\" class=\"data row1 col2\" >business</td>\n",
       "      <td id=\"T_4afb2_row1_col3\" class=\"data row1 col3\" >0.383486</td>\n",
       "      <td id=\"T_4afb2_row1_col4\" class=\"data row1 col4\" >business</td>\n",
       "      <td id=\"T_4afb2_row1_col5\" class=\"data row1 col5\" >0.832203</td>\n",
       "    </tr>\n",
       "    <tr>\n",
       "      <th id=\"T_4afb2_level0_row2\" class=\"row_heading level0 row2\" >2</th>\n",
       "      <td id=\"T_4afb2_row2_col0\" class=\"data row2 col0\" >https://www.bbc.com/news/articles/c4gdwgjkk1no</td>\n",
       "      <td id=\"T_4afb2_row2_col1\" class=\"data row2 col1\" >business</td>\n",
       "      <td id=\"T_4afb2_row2_col2\" class=\"data row2 col2\" >business</td>\n",
       "      <td id=\"T_4afb2_row2_col3\" class=\"data row2 col3\" >0.797402</td>\n",
       "      <td id=\"T_4afb2_row2_col4\" class=\"data row2 col4\" >business</td>\n",
       "      <td id=\"T_4afb2_row2_col5\" class=\"data row2 col5\" >0.981626</td>\n",
       "    </tr>\n",
       "    <tr>\n",
       "      <th id=\"T_4afb2_level0_row3\" class=\"row_heading level0 row3\" >3</th>\n",
       "      <td id=\"T_4afb2_row3_col0\" class=\"data row3 col0\" >https://www.bbc.com/news/articles/c0kgpyz3mmpo</td>\n",
       "      <td id=\"T_4afb2_row3_col1\" class=\"data row3 col1\" >business</td>\n",
       "      <td id=\"T_4afb2_row3_col2\" class=\"data row3 col2\" >politics</td>\n",
       "      <td id=\"T_4afb2_row3_col3\" class=\"data row3 col3\" >0.720381</td>\n",
       "      <td id=\"T_4afb2_row3_col4\" class=\"data row3 col4\" >politics</td>\n",
       "      <td id=\"T_4afb2_row3_col5\" class=\"data row3 col5\" >0.984708</td>\n",
       "    </tr>\n",
       "    <tr>\n",
       "      <th id=\"T_4afb2_level0_row4\" class=\"row_heading level0 row4\" >4</th>\n",
       "      <td id=\"T_4afb2_row4_col0\" class=\"data row4 col0\" >https://www.bbc.com/news/articles/c5yen4k1xnko</td>\n",
       "      <td id=\"T_4afb2_row4_col1\" class=\"data row4 col1\" >business</td>\n",
       "      <td id=\"T_4afb2_row4_col2\" class=\"data row4 col2\" >business</td>\n",
       "      <td id=\"T_4afb2_row4_col3\" class=\"data row4 col3\" >0.302136</td>\n",
       "      <td id=\"T_4afb2_row4_col4\" class=\"data row4 col4\" >business</td>\n",
       "      <td id=\"T_4afb2_row4_col5\" class=\"data row4 col5\" >0.945092</td>\n",
       "    </tr>\n",
       "    <tr>\n",
       "      <th id=\"T_4afb2_level0_row5\" class=\"row_heading level0 row5\" >5</th>\n",
       "      <td id=\"T_4afb2_row5_col0\" class=\"data row5 col0\" >https://www.bbc.com/sport/horse-racing/articles/cwygpwxpdeyo</td>\n",
       "      <td id=\"T_4afb2_row5_col1\" class=\"data row5 col1\" >sport</td>\n",
       "      <td id=\"T_4afb2_row5_col2\" class=\"data row5 col2\" >sport</td>\n",
       "      <td id=\"T_4afb2_row5_col3\" class=\"data row5 col3\" >0.506349</td>\n",
       "      <td id=\"T_4afb2_row5_col4\" class=\"data row5 col4\" >sport</td>\n",
       "      <td id=\"T_4afb2_row5_col5\" class=\"data row5 col5\" >0.889050</td>\n",
       "    </tr>\n",
       "    <tr>\n",
       "      <th id=\"T_4afb2_level0_row6\" class=\"row_heading level0 row6\" >6</th>\n",
       "      <td id=\"T_4afb2_row6_col0\" class=\"data row6 col0\" >https://www.bbc.com/sport/rugby-union/articles/c2kgp212nkzo</td>\n",
       "      <td id=\"T_4afb2_row6_col1\" class=\"data row6 col1\" >sport</td>\n",
       "      <td id=\"T_4afb2_row6_col2\" class=\"data row6 col2\" >sport</td>\n",
       "      <td id=\"T_4afb2_row6_col3\" class=\"data row6 col3\" >0.909692</td>\n",
       "      <td id=\"T_4afb2_row6_col4\" class=\"data row6 col4\" >sport</td>\n",
       "      <td id=\"T_4afb2_row6_col5\" class=\"data row6 col5\" >0.988739</td>\n",
       "    </tr>\n",
       "    <tr>\n",
       "      <th id=\"T_4afb2_level0_row7\" class=\"row_heading level0 row7\" >7</th>\n",
       "      <td id=\"T_4afb2_row7_col0\" class=\"data row7 col0\" >https://www.bbc.com/sport/articles/cjevzl9v58yo</td>\n",
       "      <td id=\"T_4afb2_row7_col1\" class=\"data row7 col1\" >sport</td>\n",
       "      <td id=\"T_4afb2_row7_col2\" class=\"data row7 col2\" >sport</td>\n",
       "      <td id=\"T_4afb2_row7_col3\" class=\"data row7 col3\" >0.304767</td>\n",
       "      <td id=\"T_4afb2_row7_col4\" class=\"data row7 col4\" >sport</td>\n",
       "      <td id=\"T_4afb2_row7_col5\" class=\"data row7 col5\" >0.780503</td>\n",
       "    </tr>\n",
       "    <tr>\n",
       "      <th id=\"T_4afb2_level0_row8\" class=\"row_heading level0 row8\" >8</th>\n",
       "      <td id=\"T_4afb2_row8_col0\" class=\"data row8 col0\" >https://www.bbc.com/sport/football/articles/cr52zdm88pro</td>\n",
       "      <td id=\"T_4afb2_row8_col1\" class=\"data row8 col1\" >sport</td>\n",
       "      <td id=\"T_4afb2_row8_col2\" class=\"data row8 col2\" >sport</td>\n",
       "      <td id=\"T_4afb2_row8_col3\" class=\"data row8 col3\" >0.695775</td>\n",
       "      <td id=\"T_4afb2_row8_col4\" class=\"data row8 col4\" >sport</td>\n",
       "      <td id=\"T_4afb2_row8_col5\" class=\"data row8 col5\" >0.989200</td>\n",
       "    </tr>\n",
       "    <tr>\n",
       "      <th id=\"T_4afb2_level0_row9\" class=\"row_heading level0 row9\" >9</th>\n",
       "      <td id=\"T_4afb2_row9_col0\" class=\"data row9 col0\" >https://www.bbc.com/sport/football/articles/cx2edk25wvxo</td>\n",
       "      <td id=\"T_4afb2_row9_col1\" class=\"data row9 col1\" >sport</td>\n",
       "      <td id=\"T_4afb2_row9_col2\" class=\"data row9 col2\" >sport</td>\n",
       "      <td id=\"T_4afb2_row9_col3\" class=\"data row9 col3\" >0.725688</td>\n",
       "      <td id=\"T_4afb2_row9_col4\" class=\"data row9 col4\" >sport</td>\n",
       "      <td id=\"T_4afb2_row9_col5\" class=\"data row9 col5\" >0.988810</td>\n",
       "    </tr>\n",
       "    <tr>\n",
       "      <th id=\"T_4afb2_level0_row10\" class=\"row_heading level0 row10\" >10</th>\n",
       "      <td id=\"T_4afb2_row10_col0\" class=\"data row10 col0\" >https://www.bbc.com/news/articles/cly82yx09zeo</td>\n",
       "      <td id=\"T_4afb2_row10_col1\" class=\"data row10 col1\" >politics</td>\n",
       "      <td id=\"T_4afb2_row10_col2\" class=\"data row10 col2\" >business</td>\n",
       "      <td id=\"T_4afb2_row10_col3\" class=\"data row10 col3\" >0.251294</td>\n",
       "      <td id=\"T_4afb2_row10_col4\" class=\"data row10 col4\" >politics</td>\n",
       "      <td id=\"T_4afb2_row10_col5\" class=\"data row10 col5\" >0.971374</td>\n",
       "    </tr>\n",
       "    <tr>\n",
       "      <th id=\"T_4afb2_level0_row11\" class=\"row_heading level0 row11\" >11</th>\n",
       "      <td id=\"T_4afb2_row11_col0\" class=\"data row11 col0\" >https://www.bbc.com/news/articles/c5y2q5v9249o</td>\n",
       "      <td id=\"T_4afb2_row11_col1\" class=\"data row11 col1\" >politics</td>\n",
       "      <td id=\"T_4afb2_row11_col2\" class=\"data row11 col2\" >politics</td>\n",
       "      <td id=\"T_4afb2_row11_col3\" class=\"data row11 col3\" >0.327000</td>\n",
       "      <td id=\"T_4afb2_row11_col4\" class=\"data row11 col4\" >politics</td>\n",
       "      <td id=\"T_4afb2_row11_col5\" class=\"data row11 col5\" >0.949054</td>\n",
       "    </tr>\n",
       "    <tr>\n",
       "      <th id=\"T_4afb2_level0_row12\" class=\"row_heading level0 row12\" >12</th>\n",
       "      <td id=\"T_4afb2_row12_col0\" class=\"data row12 col0\" >https://www.bbc.com/news/articles/c89y8gn2w8vo</td>\n",
       "      <td id=\"T_4afb2_row12_col1\" class=\"data row12 col1\" >politics</td>\n",
       "      <td id=\"T_4afb2_row12_col2\" class=\"data row12 col2\" >business</td>\n",
       "      <td id=\"T_4afb2_row12_col3\" class=\"data row12 col3\" >0.349126</td>\n",
       "      <td id=\"T_4afb2_row12_col4\" class=\"data row12 col4\" >politics</td>\n",
       "      <td id=\"T_4afb2_row12_col5\" class=\"data row12 col5\" >0.869259</td>\n",
       "    </tr>\n",
       "    <tr>\n",
       "      <th id=\"T_4afb2_level0_row13\" class=\"row_heading level0 row13\" >13</th>\n",
       "      <td id=\"T_4afb2_row13_col0\" class=\"data row13 col0\" >https://www.bbc.com/news/articles/cr4236e2wz2o</td>\n",
       "      <td id=\"T_4afb2_row13_col1\" class=\"data row13 col1\" >politics</td>\n",
       "      <td id=\"T_4afb2_row13_col2\" class=\"data row13 col2\" >politics</td>\n",
       "      <td id=\"T_4afb2_row13_col3\" class=\"data row13 col3\" >0.274194</td>\n",
       "      <td id=\"T_4afb2_row13_col4\" class=\"data row13 col4\" >politics</td>\n",
       "      <td id=\"T_4afb2_row13_col5\" class=\"data row13 col5\" >0.854796</td>\n",
       "    </tr>\n",
       "    <tr>\n",
       "      <th id=\"T_4afb2_level0_row14\" class=\"row_heading level0 row14\" >14</th>\n",
       "      <td id=\"T_4afb2_row14_col0\" class=\"data row14 col0\" >https://www.bbc.com/news/articles/cedlx0511w7o</td>\n",
       "      <td id=\"T_4afb2_row14_col1\" class=\"data row14 col1\" >politics</td>\n",
       "      <td id=\"T_4afb2_row14_col2\" class=\"data row14 col2\" >business</td>\n",
       "      <td id=\"T_4afb2_row14_col3\" class=\"data row14 col3\" >0.361097</td>\n",
       "      <td id=\"T_4afb2_row14_col4\" class=\"data row14 col4\" >politics</td>\n",
       "      <td id=\"T_4afb2_row14_col5\" class=\"data row14 col5\" >0.862431</td>\n",
       "    </tr>\n",
       "    <tr>\n",
       "      <th id=\"T_4afb2_level0_row15\" class=\"row_heading level0 row15\" >15</th>\n",
       "      <td id=\"T_4afb2_row15_col0\" class=\"data row15 col0\" >https://www.bbc.com/future/article/20250217-how-a-tiny-village-became-indias-youtube-capital</td>\n",
       "      <td id=\"T_4afb2_row15_col1\" class=\"data row15 col1\" >tech</td>\n",
       "      <td id=\"T_4afb2_row15_col2\" class=\"data row15 col2\" >tech</td>\n",
       "      <td id=\"T_4afb2_row15_col3\" class=\"data row15 col3\" >0.295476</td>\n",
       "      <td id=\"T_4afb2_row15_col4\" class=\"data row15 col4\" >tech</td>\n",
       "      <td id=\"T_4afb2_row15_col5\" class=\"data row15 col5\" >0.953678</td>\n",
       "    </tr>\n",
       "    <tr>\n",
       "      <th id=\"T_4afb2_level0_row16\" class=\"row_heading level0 row16\" >16</th>\n",
       "      <td id=\"T_4afb2_row16_col0\" class=\"data row16 col0\" >https://www.bbc.com/news/articles/cx20d3r7p5do</td>\n",
       "      <td id=\"T_4afb2_row16_col1\" class=\"data row16 col1\" >tech</td>\n",
       "      <td id=\"T_4afb2_row16_col2\" class=\"data row16 col2\" >business</td>\n",
       "      <td id=\"T_4afb2_row16_col3\" class=\"data row16 col3\" >0.554581</td>\n",
       "      <td id=\"T_4afb2_row16_col4\" class=\"data row16 col4\" >business</td>\n",
       "      <td id=\"T_4afb2_row16_col5\" class=\"data row16 col5\" >0.927847</td>\n",
       "    </tr>\n",
       "    <tr>\n",
       "      <th id=\"T_4afb2_level0_row17\" class=\"row_heading level0 row17\" >17</th>\n",
       "      <td id=\"T_4afb2_row17_col0\" class=\"data row17 col0\" >https://www.bbc.com/news/articles/c62x5k44rl0o</td>\n",
       "      <td id=\"T_4afb2_row17_col1\" class=\"data row17 col1\" >tech</td>\n",
       "      <td id=\"T_4afb2_row17_col2\" class=\"data row17 col2\" >tech</td>\n",
       "      <td id=\"T_4afb2_row17_col3\" class=\"data row17 col3\" >0.393813</td>\n",
       "      <td id=\"T_4afb2_row17_col4\" class=\"data row17 col4\" >tech</td>\n",
       "      <td id=\"T_4afb2_row17_col5\" class=\"data row17 col5\" >0.979264</td>\n",
       "    </tr>\n",
       "    <tr>\n",
       "      <th id=\"T_4afb2_level0_row18\" class=\"row_heading level0 row18\" >18</th>\n",
       "      <td id=\"T_4afb2_row18_col0\" class=\"data row18 col0\" >https://www.bbc.com/news/articles/cg45zwe0v0ro</td>\n",
       "      <td id=\"T_4afb2_row18_col1\" class=\"data row18 col1\" >tech</td>\n",
       "      <td id=\"T_4afb2_row18_col2\" class=\"data row18 col2\" >tech</td>\n",
       "      <td id=\"T_4afb2_row18_col3\" class=\"data row18 col3\" >0.357018</td>\n",
       "      <td id=\"T_4afb2_row18_col4\" class=\"data row18 col4\" >tech</td>\n",
       "      <td id=\"T_4afb2_row18_col5\" class=\"data row18 col5\" >0.953125</td>\n",
       "    </tr>\n",
       "    <tr>\n",
       "      <th id=\"T_4afb2_level0_row19\" class=\"row_heading level0 row19\" >19</th>\n",
       "      <td id=\"T_4afb2_row19_col0\" class=\"data row19 col0\" >https://www.bbc.com/news/articles/cr52rey0ng8o</td>\n",
       "      <td id=\"T_4afb2_row19_col1\" class=\"data row19 col1\" >tech</td>\n",
       "      <td id=\"T_4afb2_row19_col2\" class=\"data row19 col2\" >tech</td>\n",
       "      <td id=\"T_4afb2_row19_col3\" class=\"data row19 col3\" >0.690993</td>\n",
       "      <td id=\"T_4afb2_row19_col4\" class=\"data row19 col4\" >tech</td>\n",
       "      <td id=\"T_4afb2_row19_col5\" class=\"data row19 col5\" >0.981840</td>\n",
       "    </tr>\n",
       "    <tr>\n",
       "      <th id=\"T_4afb2_level0_row20\" class=\"row_heading level0 row20\" >20</th>\n",
       "      <td id=\"T_4afb2_row20_col0\" class=\"data row20 col0\" >https://www.bbc.com/news/articles/c74kje402klo</td>\n",
       "      <td id=\"T_4afb2_row20_col1\" class=\"data row20 col1\" >entertainment</td>\n",
       "      <td id=\"T_4afb2_row20_col2\" class=\"data row20 col2\" >entertainment</td>\n",
       "      <td id=\"T_4afb2_row20_col3\" class=\"data row20 col3\" >0.326896</td>\n",
       "      <td id=\"T_4afb2_row20_col4\" class=\"data row20 col4\" >entertainment</td>\n",
       "      <td id=\"T_4afb2_row20_col5\" class=\"data row20 col5\" >0.964142</td>\n",
       "    </tr>\n",
       "    <tr>\n",
       "      <th id=\"T_4afb2_level0_row21\" class=\"row_heading level0 row21\" >21</th>\n",
       "      <td id=\"T_4afb2_row21_col0\" class=\"data row21 col0\" >https://www.bbc.com/culture/article/20250310-why-celebrities-and-gen-z-women-love-the-jacket-and-tie-look</td>\n",
       "      <td id=\"T_4afb2_row21_col1\" class=\"data row21 col1\" >entertainment</td>\n",
       "      <td id=\"T_4afb2_row21_col2\" class=\"data row21 col2\" >entertainment</td>\n",
       "      <td id=\"T_4afb2_row21_col3\" class=\"data row21 col3\" >0.382199</td>\n",
       "      <td id=\"T_4afb2_row21_col4\" class=\"data row21 col4\" >entertainment</td>\n",
       "      <td id=\"T_4afb2_row21_col5\" class=\"data row21 col5\" >0.980021</td>\n",
       "    </tr>\n",
       "    <tr>\n",
       "      <th id=\"T_4afb2_level0_row22\" class=\"row_heading level0 row22\" >22</th>\n",
       "      <td id=\"T_4afb2_row22_col0\" class=\"data row22 col0\" >https://www.bbc.com/news/articles/cpwdvex0587o</td>\n",
       "      <td id=\"T_4afb2_row22_col1\" class=\"data row22 col1\" >entertainment</td>\n",
       "      <td id=\"T_4afb2_row22_col2\" class=\"data row22 col2\" >entertainment</td>\n",
       "      <td id=\"T_4afb2_row22_col3\" class=\"data row22 col3\" >0.283864</td>\n",
       "      <td id=\"T_4afb2_row22_col4\" class=\"data row22 col4\" >entertainment</td>\n",
       "      <td id=\"T_4afb2_row22_col5\" class=\"data row22 col5\" >0.933025</td>\n",
       "    </tr>\n",
       "    <tr>\n",
       "      <th id=\"T_4afb2_level0_row23\" class=\"row_heading level0 row23\" >23</th>\n",
       "      <td id=\"T_4afb2_row23_col0\" class=\"data row23 col0\" >https://www.bbc.com/news/articles/cx2edpdwk7qo</td>\n",
       "      <td id=\"T_4afb2_row23_col1\" class=\"data row23 col1\" >entertainment</td>\n",
       "      <td id=\"T_4afb2_row23_col2\" class=\"data row23 col2\" >entertainment</td>\n",
       "      <td id=\"T_4afb2_row23_col3\" class=\"data row23 col3\" >0.353881</td>\n",
       "      <td id=\"T_4afb2_row23_col4\" class=\"data row23 col4\" >entertainment</td>\n",
       "      <td id=\"T_4afb2_row23_col5\" class=\"data row23 col5\" >0.976447</td>\n",
       "    </tr>\n",
       "    <tr>\n",
       "      <th id=\"T_4afb2_level0_row24\" class=\"row_heading level0 row24\" >24</th>\n",
       "      <td id=\"T_4afb2_row24_col0\" class=\"data row24 col0\" >https://www.bbc.com/news/articles/c4g0wldz314o</td>\n",
       "      <td id=\"T_4afb2_row24_col1\" class=\"data row24 col1\" >entertainment</td>\n",
       "      <td id=\"T_4afb2_row24_col2\" class=\"data row24 col2\" >entertainment</td>\n",
       "      <td id=\"T_4afb2_row24_col3\" class=\"data row24 col3\" >0.375374</td>\n",
       "      <td id=\"T_4afb2_row24_col4\" class=\"data row24 col4\" >entertainment</td>\n",
       "      <td id=\"T_4afb2_row24_col5\" class=\"data row24 col5\" >0.982701</td>\n",
       "    </tr>\n",
       "  </tbody>\n",
       "</table>\n"
      ],
      "text/plain": [
       "<pandas.io.formats.style.Styler at 0x230a42af3b0>"
      ]
     },
     "execution_count": 41,
     "metadata": {},
     "output_type": "execute_result"
    }
   ],
   "source": [
    "def highlight_cell(row):\n",
    "    color_log = 'red' if row['label'] != row['label_log'] else ''\n",
    "    color_bert = 'yellow' if row['label'] != row['label_bert'] else ''\n",
    "    \n",
    "    return [\n",
    "        f'background-color: {color_log}' if col == 'label_log' and color_log else \n",
    "        f'background-color: {color_bert}' if col == 'label_bert' and color_bert else ''\n",
    "        for col in row.index\n",
    "    ]\n",
    "\n",
    "df_styled = control_dataset.style.apply(highlight_cell, axis=1, subset=[\"label\", \"label_log\", \"label_bert\"])\n",
    "df_styled"
   ]
  },
  {
   "cell_type": "markdown",
   "metadata": {},
   "source": [
    "## Заключение"
   ]
  },
  {
   "cell_type": "markdown",
   "metadata": {},
   "source": [
    "Итоговая таблица показывает, что обе модели хорошо справляются с предсказанием класса новостей, однако модель DistilBert дает гораздо более уверенные ответы (вероятность многих ответов превышает 80 % и 90 %). Новости, относящиеся к классам спорт и развлечения, обеими моделями предсказываются с 100 % точностью. Однако для классов бизнес, политика и технологии модели допустили ошибки, причем модель логистической регрессии ошибалась чаще. Однако надо признать, что ряд новостей, касающихся бизнеса и политики, можно было отнести к разным классам. Более того, на портале bbc.com эти статьи были опубликованы в разных новостных разделах, т.е. их классификация неоднозначна. Учитывая эту информации можно судить о том, что обе модели хорошо осуществляют классификацию новостей по классам. Однако модель логистической регрессии требовало существенно меньше ресурсов и работала на порядки быстрее. При этом модель DistilBert была более точной в предсказаниях и давала более уверенные ответы."
   ]
  }
 ],
 "metadata": {
  "kernelspec": {
   "display_name": "Python 3",
   "language": "python",
   "name": "python3"
  },
  "language_info": {
   "codemirror_mode": {
    "name": "ipython",
    "version": 3
   },
   "file_extension": ".py",
   "mimetype": "text/x-python",
   "name": "python",
   "nbconvert_exporter": "python",
   "pygments_lexer": "ipython3",
   "version": "3.12.8"
  }
 },
 "nbformat": 4,
 "nbformat_minor": 2
}
