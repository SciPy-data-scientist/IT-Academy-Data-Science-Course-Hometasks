{
 "cells": [
  {
   "cell_type": "markdown",
   "metadata": {
    "id": "MMg4R2lp-u7l"
   },
   "source": [
    "## A/B - тестирование\n",
    "\n",
    "\n",
    "Внутри увидите пример как формируются результаты по аб-тестированию. Прочтите сначала его, затем приступайте к выполнению задания.\n",
    "\n",
    "В папке присутствует файл ab_test_ensembles.csv , который содержит реальные данные ab теста, когда-то проходившего у меня. Вам необходимо провести стандартный пайплайн, начав с ознакомления данных до вывода отчета. Условие гипотезы такое же как и в примере, нам необходимо нашим новым вариантом увеличить коэффициент конверсии на 2%, коэффициенты конверсии одинаковы с файлом из примера (плюс/минус) поэтому с этим проблем быть не должно. Условия гипотез теже.\n",
    "\n",
    "В A/B тесте было два варианта работы сервиса - standard и svm_ensemble_v_1_22, где работала модель классификации пользователей.\n",
    "\n",
    "Ответьте на 2 вопроса:\n",
    "\n",
    "1. Стоит ли нам оставить старый вариант работы или заменить на вариант svm_ensemble_v_1_22 (используем всю выборку 200к+ записей)\n",
    "2. Так же посчитайте вывод для типа пользователей (user_type) стоит ли для новых/старых пользователей (new/registered user) оставить старый / новый вариант работы (разделяем всю выборку 200к+ записей на группы)\n",
    "\n",
    "Также необходимо провести небольшое EDA по представленному датасету, нарисовать два графика на ваш вкус.\n",
    "\n",
    "---\n",
    "\n",
    "**Баллы могут быть снижены** за качество кода - старайтесь чтобы код был максимально лаконичным. Названия переменных (если они используются) должны отражать максимальную ее сущность.\n",
    "\n",
    "**Комментарии по сдаче практического задания**:\n",
    "1. Залить в репу на github в папку module_2/ab_test_inference\n",
    "2. Ссылку на репо отправлять мне на почту alexadevv@gmail.com не позднее дедлайна.\n",
    "3. Тема письма: Домашнее задание по модулю 2 <Фамилия Имя>\n",
    "4. После дедлайна, неотправленные на почту задания, оцениваются максимум в 7 баллов."
   ]
  },
  {
   "cell_type": "markdown",
   "metadata": {},
   "source": [
    "# Решение задания 1. Стоит ли нам оставить старый вариант работы или заменить на вариант svm_ensemble_v_1_22?"
   ]
  },
  {
   "cell_type": "markdown",
   "metadata": {},
   "source": [
    "Загружаем необходимые библиотеки и задаем параметры визуализации в библиотеке Seaborn, после чего загружаем датасет"
   ]
  },
  {
   "cell_type": "code",
   "execution_count": 446,
   "metadata": {
    "id": "JQJeO58Q-8fc"
   },
   "outputs": [],
   "source": [
    "import numpy as np\n",
    "import pandas as pd\n",
    "import scipy.stats as stats\n",
    "import statsmodels.stats.api as sms\n",
    "import matplotlib as mpl\n",
    "import matplotlib.pyplot as plt\n",
    "import seaborn as sns\n",
    "from math import ceil\n",
    "import missingno as msno\n",
    "\n",
    "import warnings\n",
    "warnings.filterwarnings(\"ignore\")\n",
    "\n",
    "%matplotlib inline"
   ]
  },
  {
   "cell_type": "code",
   "execution_count": 447,
   "metadata": {},
   "outputs": [],
   "source": [
    "plt.style.use('seaborn-v0_8-whitegrid')\n",
    "font = {'family' : 'Arial',\n",
    "        'weight' : 'bold',\n",
    "        'size'   : 14}\n",
    "mpl.rc('font', **font)"
   ]
  },
  {
   "cell_type": "code",
   "execution_count": 448,
   "metadata": {},
   "outputs": [
    {
     "data": {
      "text/html": [
       "<div>\n",
       "<style scoped>\n",
       "    .dataframe tbody tr th:only-of-type {\n",
       "        vertical-align: middle;\n",
       "    }\n",
       "\n",
       "    .dataframe tbody tr th {\n",
       "        vertical-align: top;\n",
       "    }\n",
       "\n",
       "    .dataframe thead th {\n",
       "        text-align: right;\n",
       "    }\n",
       "</style>\n",
       "<table border=\"1\" class=\"dataframe\">\n",
       "  <thead>\n",
       "    <tr style=\"text-align: right;\">\n",
       "      <th></th>\n",
       "      <th>user_id</th>\n",
       "      <th>timestamp</th>\n",
       "      <th>group</th>\n",
       "      <th>variants</th>\n",
       "      <th>converted</th>\n",
       "      <th>location</th>\n",
       "      <th>age_group</th>\n",
       "      <th>user_type</th>\n",
       "    </tr>\n",
       "  </thead>\n",
       "  <tbody>\n",
       "    <tr>\n",
       "      <th>0</th>\n",
       "      <td>9109b0dc-d393-497f-8d63-ba9a25dd16b4</td>\n",
       "      <td>2022-05-21 22:11:48.556739</td>\n",
       "      <td>control</td>\n",
       "      <td>standard</td>\n",
       "      <td>0</td>\n",
       "      <td>United Kingdom</td>\n",
       "      <td>18-25</td>\n",
       "      <td>registered_user</td>\n",
       "    </tr>\n",
       "    <tr>\n",
       "      <th>1</th>\n",
       "      <td>2430c3d2-f75b-4b31-8271-51b6a76c2652</td>\n",
       "      <td>2022-05-12 08:01:45.159739</td>\n",
       "      <td>control</td>\n",
       "      <td>standard</td>\n",
       "      <td>0</td>\n",
       "      <td>United Kingdom</td>\n",
       "      <td>42-49</td>\n",
       "      <td>registered_user</td>\n",
       "    </tr>\n",
       "    <tr>\n",
       "      <th>2</th>\n",
       "      <td>44788c4e-8dd2-4fad-b986-75e76f4adb64</td>\n",
       "      <td>2022-05-11 16:55:06.154213</td>\n",
       "      <td>treatment</td>\n",
       "      <td>svm_ensemble_v_1_22</td>\n",
       "      <td>0</td>\n",
       "      <td>United Kingdom</td>\n",
       "      <td>26-33</td>\n",
       "      <td>new_user</td>\n",
       "    </tr>\n",
       "    <tr>\n",
       "      <th>3</th>\n",
       "      <td>4699a417-506d-41b8-a354-6af6ad576963</td>\n",
       "      <td>2022-05-08 18:28:03.143765</td>\n",
       "      <td>treatment</td>\n",
       "      <td>svm_ensemble_v_1_22</td>\n",
       "      <td>0</td>\n",
       "      <td>United Kingdom</td>\n",
       "      <td>42-49</td>\n",
       "      <td>registered_user</td>\n",
       "    </tr>\n",
       "    <tr>\n",
       "      <th>4</th>\n",
       "      <td>304b0d28-bcdf-401a-9dff-66230d3ba0bc</td>\n",
       "      <td>2022-05-21 01:52:26.210827</td>\n",
       "      <td>control</td>\n",
       "      <td>standard</td>\n",
       "      <td>1</td>\n",
       "      <td>United Kingdom</td>\n",
       "      <td>42-49</td>\n",
       "      <td>registered_user</td>\n",
       "    </tr>\n",
       "  </tbody>\n",
       "</table>\n",
       "</div>"
      ],
      "text/plain": [
       "                                user_id                   timestamp  \\\n",
       "0  9109b0dc-d393-497f-8d63-ba9a25dd16b4  2022-05-21 22:11:48.556739   \n",
       "1  2430c3d2-f75b-4b31-8271-51b6a76c2652  2022-05-12 08:01:45.159739   \n",
       "2  44788c4e-8dd2-4fad-b986-75e76f4adb64  2022-05-11 16:55:06.154213   \n",
       "3  4699a417-506d-41b8-a354-6af6ad576963  2022-05-08 18:28:03.143765   \n",
       "4  304b0d28-bcdf-401a-9dff-66230d3ba0bc  2022-05-21 01:52:26.210827   \n",
       "\n",
       "       group             variants  converted        location age_group  \\\n",
       "0    control             standard          0  United Kingdom     18-25   \n",
       "1    control             standard          0  United Kingdom     42-49   \n",
       "2  treatment  svm_ensemble_v_1_22          0  United Kingdom     26-33   \n",
       "3  treatment  svm_ensemble_v_1_22          0  United Kingdom     42-49   \n",
       "4    control             standard          1  United Kingdom     42-49   \n",
       "\n",
       "         user_type  \n",
       "0  registered_user  \n",
       "1  registered_user  \n",
       "2         new_user  \n",
       "3  registered_user  \n",
       "4  registered_user  "
      ]
     },
     "execution_count": 448,
     "metadata": {},
     "output_type": "execute_result"
    }
   ],
   "source": [
    "df = pd.read_csv('ab_test_ensembles.csv')\n",
    "df.head()"
   ]
  },
  {
   "cell_type": "markdown",
   "metadata": {},
   "source": [
    "Анализ датасета с помощью функции .info() показывает отсутствие в датасете нулевых значений. Основные для анализа features (group, variants, converted, user_type) имеют необходимый тип данных."
   ]
  },
  {
   "cell_type": "code",
   "execution_count": 449,
   "metadata": {},
   "outputs": [
    {
     "name": "stdout",
     "output_type": "stream",
     "text": [
      "<class 'pandas.core.frame.DataFrame'>\n",
      "RangeIndex: 294478 entries, 0 to 294477\n",
      "Data columns (total 8 columns):\n",
      " #   Column     Non-Null Count   Dtype \n",
      "---  ------     --------------   ----- \n",
      " 0   user_id    294478 non-null  object\n",
      " 1   timestamp  294478 non-null  object\n",
      " 2   group      294478 non-null  object\n",
      " 3   variants   294478 non-null  object\n",
      " 4   converted  294478 non-null  int64 \n",
      " 5   location   294478 non-null  object\n",
      " 6   age_group  294478 non-null  object\n",
      " 7   user_type  294478 non-null  object\n",
      "dtypes: int64(1), object(7)\n",
      "memory usage: 18.0+ MB\n"
     ]
    }
   ],
   "source": [
    "df.info()"
   ]
  },
  {
   "cell_type": "markdown",
   "metadata": {},
   "source": [
    "Подтвердим вывод об отсутствии нулевых значений в датасете матрицей, построенной с помощью пакета missingno. Отсутствие горизонтальных белых линий в столбцах подтверждает, что нулевых значений в датасете нет."
   ]
  },
  {
   "cell_type": "code",
   "execution_count": 450,
   "metadata": {},
   "outputs": [
    {
     "data": {
      "text/plain": [
       "<Axes: >"
      ]
     },
     "execution_count": 450,
     "metadata": {},
     "output_type": "execute_result"
    },
    {
     "data": {
      "image/png": "[encoded data removed]",
      "text/plain": [
       "<Figure size 2500x1000 with 2 Axes>"
      ]
     },
     "metadata": {},
     "output_type": "display_data"
    }
   ],
   "source": [
    "msno.matrix(df)"
   ]
  },
  {
   "cell_type": "markdown",
   "metadata": {},
   "source": [
    "При сборе данных и формировании датасета возможно дублирование строк, что может исказить результаты анализа. Поэтому выполним проверку на отсутствие дубликатов строк."
   ]
  },
  {
   "cell_type": "code",
   "execution_count": 451,
   "metadata": {},
   "outputs": [
    {
     "name": "stdout",
     "output_type": "stream",
     "text": [
      "0\n"
     ]
    }
   ],
   "source": [
    "print(df.duplicated().sum())"
   ]
  },
  {
   "cell_type": "markdown",
   "metadata": {},
   "source": [
    "Кроме того, возможны ситуации, когда один и тот же пользователь осуществил несколько транзакций. Проверка на наличие таких пользователей свидетельствует о том, что такие пользователи отсутствуют."
   ]
  },
  {
   "cell_type": "code",
   "execution_count": 452,
   "metadata": {},
   "outputs": [
    {
     "name": "stdout",
     "output_type": "stream",
     "text": [
      "0\n"
     ]
    }
   ],
   "source": [
    "sessions = df['user_id'].value_counts(ascending=False)\n",
    "duplicate_users = sessions[sessions > 1].count()\n",
    "print(duplicate_users)"
   ]
  },
  {
   "cell_type": "markdown",
   "metadata": {},
   "source": [
    "Предварительный анализ данных свидетельствует о том, что датасет пригоден для выполнения основного анализа.\n",
    "\n",
    "Изучим распределение пользователей по группам (control и treatment). Данные свидетельствуют о равномерном распределении."
   ]
  },
  {
   "cell_type": "code",
   "execution_count": 453,
   "metadata": {},
   "outputs": [
    {
     "data": {
      "text/plain": [
       "group\n",
       "treatment    0.500126\n",
       "control      0.499874\n",
       "Name: proportion, dtype: float64"
      ]
     },
     "execution_count": 453,
     "metadata": {},
     "output_type": "execute_result"
    }
   ],
   "source": [
    "df.group.value_counts(normalize=True)"
   ]
  },
  {
   "cell_type": "markdown",
   "metadata": {},
   "source": [
    "Изучим данные о конверсии в зависимости от группы пользователей и варианта работы сервиса (в относительных и абсолютных величинах). Данные первой таблицы показывают, что коэффициенты конверсии в каждой группе и подгруппе (в зависимости от варианта работы сервиса) составляют около 12 %. Это позволяет нам сделать предварительное заключение о том, что коэффициенты конверсии не изменяются в зависимости от варианта работы сервиса, но это утверждение следует проверить на основе статистических методов. Кроме того, вторая таблица содержит данные о конверсии в группе treatment при использовании варианта работы сервиса \"standard\". Эти данные не требуются для проведения А/Б теста (как и данные в группе control при использовании варианта работы сервиса \"svm_ensemble_v_1_22\"), поэтому они будут исключены из последующего А/Б теста. Однако их можно использовать для проведения А/А теста с целью подтверждения полной идентичности анализируемых групп (control и treatment)."
   ]
  },
  {
   "cell_type": "code",
   "execution_count": 454,
   "metadata": {},
   "outputs": [
    {
     "data": {
      "text/html": [
       "<div>\n",
       "<style scoped>\n",
       "    .dataframe tbody tr th:only-of-type {\n",
       "        vertical-align: middle;\n",
       "    }\n",
       "\n",
       "    .dataframe tbody tr th {\n",
       "        vertical-align: top;\n",
       "    }\n",
       "\n",
       "    .dataframe thead th {\n",
       "        text-align: right;\n",
       "    }\n",
       "</style>\n",
       "<table border=\"1\" class=\"dataframe\">\n",
       "  <thead>\n",
       "    <tr style=\"text-align: right;\">\n",
       "      <th></th>\n",
       "      <th>converted</th>\n",
       "      <th>0</th>\n",
       "      <th>1</th>\n",
       "    </tr>\n",
       "    <tr>\n",
       "      <th>group</th>\n",
       "      <th>variants</th>\n",
       "      <th></th>\n",
       "      <th></th>\n",
       "    </tr>\n",
       "  </thead>\n",
       "  <tbody>\n",
       "    <tr>\n",
       "      <th rowspan=\"2\" valign=\"top\">control</th>\n",
       "      <th>standard</th>\n",
       "      <td>0.879614</td>\n",
       "      <td>0.120386</td>\n",
       "    </tr>\n",
       "    <tr>\n",
       "      <th>svm_ensemble_v_1_22</th>\n",
       "      <td>0.878631</td>\n",
       "      <td>0.121369</td>\n",
       "    </tr>\n",
       "    <tr>\n",
       "      <th rowspan=\"2\" valign=\"top\">treatment</th>\n",
       "      <th>standard</th>\n",
       "      <td>0.872774</td>\n",
       "      <td>0.127226</td>\n",
       "    </tr>\n",
       "    <tr>\n",
       "      <th>svm_ensemble_v_1_22</th>\n",
       "      <td>0.881193</td>\n",
       "      <td>0.118807</td>\n",
       "    </tr>\n",
       "  </tbody>\n",
       "</table>\n",
       "</div>"
      ],
      "text/plain": [
       "converted                             0         1\n",
       "group     variants                               \n",
       "control   standard             0.879614  0.120386\n",
       "          svm_ensemble_v_1_22  0.878631  0.121369\n",
       "treatment standard             0.872774  0.127226\n",
       "          svm_ensemble_v_1_22  0.881193  0.118807"
      ]
     },
     "execution_count": 454,
     "metadata": {},
     "output_type": "execute_result"
    }
   ],
   "source": [
    "df.groupby([\"group\", \"variants\"])[\"converted\"].value_counts(normalize=True).unstack()"
   ]
  },
  {
   "cell_type": "code",
   "execution_count": 455,
   "metadata": {},
   "outputs": [
    {
     "data": {
      "text/html": [
       "<div>\n",
       "<style scoped>\n",
       "    .dataframe tbody tr th:only-of-type {\n",
       "        vertical-align: middle;\n",
       "    }\n",
       "\n",
       "    .dataframe tbody tr th {\n",
       "        vertical-align: top;\n",
       "    }\n",
       "\n",
       "    .dataframe thead th {\n",
       "        text-align: right;\n",
       "    }\n",
       "</style>\n",
       "<table border=\"1\" class=\"dataframe\">\n",
       "  <thead>\n",
       "    <tr style=\"text-align: right;\">\n",
       "      <th></th>\n",
       "      <th>converted</th>\n",
       "      <th>0</th>\n",
       "      <th>1</th>\n",
       "    </tr>\n",
       "    <tr>\n",
       "      <th>group</th>\n",
       "      <th>variants</th>\n",
       "      <th></th>\n",
       "      <th></th>\n",
       "    </tr>\n",
       "  </thead>\n",
       "  <tbody>\n",
       "    <tr>\n",
       "      <th rowspan=\"2\" valign=\"top\">control</th>\n",
       "      <th>standard</th>\n",
       "      <td>127785</td>\n",
       "      <td>17489</td>\n",
       "    </tr>\n",
       "    <tr>\n",
       "      <th>svm_ensemble_v_1_22</th>\n",
       "      <td>1694</td>\n",
       "      <td>234</td>\n",
       "    </tr>\n",
       "    <tr>\n",
       "      <th rowspan=\"2\" valign=\"top\">treatment</th>\n",
       "      <th>standard</th>\n",
       "      <td>1715</td>\n",
       "      <td>250</td>\n",
       "    </tr>\n",
       "    <tr>\n",
       "      <th>svm_ensemble_v_1_22</th>\n",
       "      <td>128047</td>\n",
       "      <td>17264</td>\n",
       "    </tr>\n",
       "  </tbody>\n",
       "</table>\n",
       "</div>"
      ],
      "text/plain": [
       "converted                           0      1\n",
       "group     variants                          \n",
       "control   standard             127785  17489\n",
       "          svm_ensemble_v_1_22    1694    234\n",
       "treatment standard               1715    250\n",
       "          svm_ensemble_v_1_22  128047  17264"
      ]
     },
     "execution_count": 455,
     "metadata": {},
     "output_type": "execute_result"
    }
   ],
   "source": [
    "df.groupby([\"group\", \"variants\"])[\"converted\"].value_counts().unstack()"
   ]
  },
  {
   "cell_type": "markdown",
   "metadata": {},
   "source": [
    "Построим столбчатую диаграмму для распределения коэффициента конверсии в зависимости от группы (control и treatment) и варианта работы сервиса (standard и svm_ensemble_v_1_22). Поскольку подобные графики будут использоваться и в дальнейшем в данном анализе создадим функцию bar_plot для удобного построения таких диаграмм."
   ]
  },
  {
   "cell_type": "code",
   "execution_count": 456,
   "metadata": {},
   "outputs": [],
   "source": [
    "def bar_plot(data, x, y=\"converted\", hue=None, errorbar=None):\n",
    "\n",
    "    if hue != x and hue != y:\n",
    "        plt.figure(figsize=(8, 6))\n",
    "        plt.title(f'Conversion rate by {x} and {hue}')\n",
    "        plt.ylim(0, 0.17)\n",
    "        plt.legend(loc='upper right')\n",
    "    else:\n",
    "        plt.figure(figsize=(6, 4))\n",
    "        plt.title(f'Conversion rate by {x}')\n",
    "        plt.ylim(0, 0.15)\n",
    "\n",
    "    ax = sns.barplot(data=data, x=x, y=y, hue=hue, errorbar=errorbar)\n",
    "    plt.ylabel('Conversion rate (%)')\n",
    "\n",
    "    for i in ax.containers:\n",
    "        ax.bar_label(i)\n",
    "\n",
    "    plt.show()"
   ]
  },
  {
   "cell_type": "code",
   "execution_count": 457,
   "metadata": {},
   "outputs": [
    {
     "data": {
      "image/png": "[encoded data removed]",
      "text/plain": [
       "<Figure size 800x600 with 1 Axes>"
      ]
     },
     "metadata": {},
     "output_type": "display_data"
    }
   ],
   "source": [
    "bar_plot(df, x='group', y='converted', hue='variants')"
   ]
  },
  {
   "cell_type": "markdown",
   "metadata": {},
   "source": [
    "### 1.1 Проведение А/А теста для групп control и treatment"
   ]
  },
  {
   "cell_type": "markdown",
   "metadata": {},
   "source": [
    "Определим количество пользователей в группе treatment, для которых использовался вариант работы сервиса \"standard\". Полученный результат (1965) легко проверить с помощью приведенной выше таблицы (1715 + 250 = 1965)."
   ]
  },
  {
   "cell_type": "code",
   "execution_count": 458,
   "metadata": {},
   "outputs": [
    {
     "data": {
      "text/plain": [
       "1965"
      ]
     },
     "execution_count": 458,
     "metadata": {},
     "output_type": "execute_result"
    }
   ],
   "source": [
    "n_obs_aa_test = len(df[(df[\"group\"] == \"treatment\") & (df[\"variants\"] == \"standard\")])\n",
    "n_obs_aa_test"
   ]
  },
  {
   "cell_type": "markdown",
   "metadata": {},
   "source": [
    "Для проведения А/А теста осуществим выборку пользователей из группы treatment и аналогичную по количеству выборку из группы control, для которых использовали вариант работы сервиса \"standard\" (df_treatment_aa_test и df_control_aa_test соответственно). Убеждаемся, что в каждой выборке по 1965 пользователей."
   ]
  },
  {
   "cell_type": "code",
   "execution_count": 459,
   "metadata": {},
   "outputs": [
    {
     "name": "stdout",
     "output_type": "stream",
     "text": [
      "<class 'pandas.core.frame.DataFrame'>\n",
      "Index: 1965 entries, 98845 to 80892\n",
      "Data columns (total 8 columns):\n",
      " #   Column     Non-Null Count  Dtype \n",
      "---  ------     --------------  ----- \n",
      " 0   user_id    1965 non-null   object\n",
      " 1   timestamp  1965 non-null   object\n",
      " 2   group      1965 non-null   object\n",
      " 3   variants   1965 non-null   object\n",
      " 4   converted  1965 non-null   int64 \n",
      " 5   location   1965 non-null   object\n",
      " 6   age_group  1965 non-null   object\n",
      " 7   user_type  1965 non-null   object\n",
      "dtypes: int64(1), object(7)\n",
      "memory usage: 138.2+ KB\n"
     ]
    }
   ],
   "source": [
    "df_control_aa_test = df[(df[\"group\"] == \"control\") & (df[\"variants\"] == \"standard\")].sample(n=n_obs_aa_test, random_state=13)\n",
    "df_treatment_aa_test = df[(df[\"group\"] == \"treatment\") & (df[\"variants\"] == \"standard\")].sample(n=n_obs_aa_test, random_state=13)\n",
    "df_control_aa_test.info()"
   ]
  },
  {
   "cell_type": "code",
   "execution_count": 460,
   "metadata": {},
   "outputs": [
    {
     "name": "stdout",
     "output_type": "stream",
     "text": [
      "<class 'pandas.core.frame.DataFrame'>\n",
      "Index: 1965 entries, 89288 to 47370\n",
      "Data columns (total 8 columns):\n",
      " #   Column     Non-Null Count  Dtype \n",
      "---  ------     --------------  ----- \n",
      " 0   user_id    1965 non-null   object\n",
      " 1   timestamp  1965 non-null   object\n",
      " 2   group      1965 non-null   object\n",
      " 3   variants   1965 non-null   object\n",
      " 4   converted  1965 non-null   int64 \n",
      " 5   location   1965 non-null   object\n",
      " 6   age_group  1965 non-null   object\n",
      " 7   user_type  1965 non-null   object\n",
      "dtypes: int64(1), object(7)\n",
      "memory usage: 138.2+ KB\n"
     ]
    }
   ],
   "source": [
    "df_treatment_aa_test.info()"
   ]
  },
  {
   "cell_type": "markdown",
   "metadata": {},
   "source": [
    "Определим коэффициенты конверсии для каждой группы (control и treatment). Они составляют 11,9 % и 12,7 % соответственно."
   ]
  },
  {
   "cell_type": "code",
   "execution_count": 461,
   "metadata": {},
   "outputs": [
    {
     "name": "stdout",
     "output_type": "stream",
     "text": [
      "converted\n",
      "0    0.880916\n",
      "1    0.119084\n",
      "Name: proportion, dtype: float64\n",
      "converted\n",
      "0    0.872774\n",
      "1    0.127226\n",
      "Name: proportion, dtype: float64\n"
     ]
    }
   ],
   "source": [
    "print(df_control_aa_test[\"converted\"].value_counts(normalize=True))\n",
    "print(df_treatment_aa_test[\"converted\"].value_counts(normalize=True))"
   ]
  },
  {
   "cell_type": "markdown",
   "metadata": {},
   "source": [
    "Для подтверждения идентичности групп control и treatment необходимо с помощью статистических методов убедиться, что значения коэффициента конверсии для этих групп не отличаются друг от друга со статистической достоверностью.\n",
    "Выдвиним нулевую гипотезу Н_0 о том, что значения коэффициента конверсии в обеих группах равны, а также альтернативную гипотезу Н_1 о том, что они не равны. Примем альфа = 0,05."
   ]
  },
  {
   "cell_type": "code",
   "execution_count": 462,
   "metadata": {},
   "outputs": [],
   "source": [
    "from statsmodels.stats.proportion import proportions_ztest, proportion_confint\n",
    "\n",
    "def AA_AB_test(control_results, treatment_results, alpha=0.05):\n",
    "    n_contr = control_results.count()\n",
    "    n_treat = treatment_results.count()\n",
    "    successes = [control_results.sum(), treatment_results.sum()]\n",
    "    nobs = [n_contr, n_treat]\n",
    "\n",
    "    z_stat, pval = proportions_ztest(successes, nobs=nobs)\n",
    "    (lower_contr, lower_treat), (upper_contr, upper_treat) = proportion_confint(successes, nobs=nobs, alpha=alpha)\n",
    "\n",
    "    return f'Z-statistic: {z_stat:.2f}', f'p-value: {pval:.3f}', f'CI 95% for control group: [{lower_contr:.3f}, {upper_contr:.3f}]', f'CI 95% for treatment group: [{lower_treat:.3f}, {upper_treat:.3f}]'"
   ]
  },
  {
   "cell_type": "code",
   "execution_count": 463,
   "metadata": {},
   "outputs": [
    {
     "data": {
      "text/plain": [
       "('Z-statistic: -0.78',\n",
       " 'p-value: 0.437',\n",
       " 'CI 95% for control group: [0.105, 0.133]',\n",
       " 'CI 95% for treatment group: [0.112, 0.142]')"
      ]
     },
     "execution_count": 463,
     "metadata": {},
     "output_type": "execute_result"
    }
   ],
   "source": [
    "AA_AB_test(df_control_aa_test['converted'], df_treatment_aa_test['converted'])"
   ]
  },
  {
   "cell_type": "markdown",
   "metadata": {},
   "source": [
    "Полученное р-значение (0,437), которое превышает выбранный уровень альфа (0,05), указывает, что мы не можем отклонить нулевую гипотезу и должны вынести заключение о равенстве значений коэффициента конверсии в группах control и treatment при использовании варианта работы сервиса \"standard\". Т.е. А/А тест подтвердил идентичности групп control и treatment, что позволяет нам провести А/Б тест."
   ]
  },
  {
   "cell_type": "markdown",
   "metadata": {},
   "source": [
    "### 1.2 Проведение А/Б теста для групп control и treatment (весь датасет)"
   ]
  },
  {
   "cell_type": "markdown",
   "metadata": {},
   "source": [
    "Ранее мы отмечали, что в группе treatment пользователи иногда применяли вариант работы сервиса \"standard\", а в группе control - вариант работы сервиса \"svm_ensemble_v_1_22\":"
   ]
  },
  {
   "cell_type": "code",
   "execution_count": 464,
   "metadata": {},
   "outputs": [
    {
     "data": {
      "text/html": [
       "<div>\n",
       "<style scoped>\n",
       "    .dataframe tbody tr th:only-of-type {\n",
       "        vertical-align: middle;\n",
       "    }\n",
       "\n",
       "    .dataframe tbody tr th {\n",
       "        vertical-align: top;\n",
       "    }\n",
       "\n",
       "    .dataframe thead th {\n",
       "        text-align: right;\n",
       "    }\n",
       "</style>\n",
       "<table border=\"1\" class=\"dataframe\">\n",
       "  <thead>\n",
       "    <tr style=\"text-align: right;\">\n",
       "      <th></th>\n",
       "      <th>converted</th>\n",
       "      <th>0</th>\n",
       "      <th>1</th>\n",
       "    </tr>\n",
       "    <tr>\n",
       "      <th>group</th>\n",
       "      <th>variants</th>\n",
       "      <th></th>\n",
       "      <th></th>\n",
       "    </tr>\n",
       "  </thead>\n",
       "  <tbody>\n",
       "    <tr>\n",
       "      <th rowspan=\"2\" valign=\"top\">control</th>\n",
       "      <th>standard</th>\n",
       "      <td>127785</td>\n",
       "      <td>17489</td>\n",
       "    </tr>\n",
       "    <tr>\n",
       "      <th>svm_ensemble_v_1_22</th>\n",
       "      <td>1694</td>\n",
       "      <td>234</td>\n",
       "    </tr>\n",
       "    <tr>\n",
       "      <th rowspan=\"2\" valign=\"top\">treatment</th>\n",
       "      <th>standard</th>\n",
       "      <td>1715</td>\n",
       "      <td>250</td>\n",
       "    </tr>\n",
       "    <tr>\n",
       "      <th>svm_ensemble_v_1_22</th>\n",
       "      <td>128047</td>\n",
       "      <td>17264</td>\n",
       "    </tr>\n",
       "  </tbody>\n",
       "</table>\n",
       "</div>"
      ],
      "text/plain": [
       "converted                           0      1\n",
       "group     variants                          \n",
       "control   standard             127785  17489\n",
       "          svm_ensemble_v_1_22    1694    234\n",
       "treatment standard               1715    250\n",
       "          svm_ensemble_v_1_22  128047  17264"
      ]
     },
     "execution_count": 464,
     "metadata": {},
     "output_type": "execute_result"
    }
   ],
   "source": [
    "df.groupby([\"group\", \"variants\"])[\"converted\"].value_counts().unstack()"
   ]
  },
  {
   "cell_type": "markdown",
   "metadata": {},
   "source": [
    "Эти данные могут исказить результаты А/Б теста (строго говоря, в рассматриваемом нами случае искажения результата, скорее всего, не будет, поскольку коэффициент конверсии в каждой подгруппе практически идентичен, однако в любом ином случае это утверждение может оказаться ложным), поэтому их следует исключить из анализа. Выполним выборку, исключив указанные выше данные и изучим полученный датасет."
   ]
  },
  {
   "cell_type": "code",
   "execution_count": 465,
   "metadata": {},
   "outputs": [
    {
     "name": "stdout",
     "output_type": "stream",
     "text": [
      "<class 'pandas.core.frame.DataFrame'>\n",
      "Index: 290585 entries, 0 to 294477\n",
      "Data columns (total 8 columns):\n",
      " #   Column     Non-Null Count   Dtype \n",
      "---  ------     --------------   ----- \n",
      " 0   user_id    290585 non-null  object\n",
      " 1   timestamp  290585 non-null  object\n",
      " 2   group      290585 non-null  object\n",
      " 3   variants   290585 non-null  object\n",
      " 4   converted  290585 non-null  int64 \n",
      " 5   location   290585 non-null  object\n",
      " 6   age_group  290585 non-null  object\n",
      " 7   user_type  290585 non-null  object\n",
      "dtypes: int64(1), object(7)\n",
      "memory usage: 20.0+ MB\n"
     ]
    }
   ],
   "source": [
    "df_corr = df[~((df[\"group\"] == \"control\") & (df[\"variants\"] == \"svm_ensemble_v_1_22\")) & ~((df[\"group\"] == \"treatment\") & (df[\"variants\"] == \"standard\"))]\n",
    "df_corr.info()"
   ]
  },
  {
   "cell_type": "markdown",
   "metadata": {},
   "source": [
    "Убедимся, что после устранения искажающих данных пользователи в группах control и treatment использовали только варианты работы сервиса \"standard\" и \"svm_ensemble_v_1_22\" соответственно. Кроме того, отметим, что значения коэффициентов конверсии в обеих группах составляют 12 % и 11,9 % соответственно."
   ]
  },
  {
   "cell_type": "code",
   "execution_count": 466,
   "metadata": {},
   "outputs": [
    {
     "name": "stdout",
     "output_type": "stream",
     "text": [
      "Конверсия пользователей в зависимости от группы (control или treatment), в относительных величинах:\n"
     ]
    },
    {
     "data": {
      "text/html": [
       "<div>\n",
       "<style scoped>\n",
       "    .dataframe tbody tr th:only-of-type {\n",
       "        vertical-align: middle;\n",
       "    }\n",
       "\n",
       "    .dataframe tbody tr th {\n",
       "        vertical-align: top;\n",
       "    }\n",
       "\n",
       "    .dataframe thead th {\n",
       "        text-align: right;\n",
       "    }\n",
       "</style>\n",
       "<table border=\"1\" class=\"dataframe\">\n",
       "  <thead>\n",
       "    <tr style=\"text-align: right;\">\n",
       "      <th></th>\n",
       "      <th>converted</th>\n",
       "      <th>0</th>\n",
       "      <th>1</th>\n",
       "    </tr>\n",
       "    <tr>\n",
       "      <th>group</th>\n",
       "      <th>variants</th>\n",
       "      <th></th>\n",
       "      <th></th>\n",
       "    </tr>\n",
       "  </thead>\n",
       "  <tbody>\n",
       "    <tr>\n",
       "      <th>control</th>\n",
       "      <th>standard</th>\n",
       "      <td>0.879614</td>\n",
       "      <td>0.120386</td>\n",
       "    </tr>\n",
       "    <tr>\n",
       "      <th>treatment</th>\n",
       "      <th>svm_ensemble_v_1_22</th>\n",
       "      <td>0.881193</td>\n",
       "      <td>0.118807</td>\n",
       "    </tr>\n",
       "  </tbody>\n",
       "</table>\n",
       "</div>"
      ],
      "text/plain": [
       "converted                             0         1\n",
       "group     variants                               \n",
       "control   standard             0.879614  0.120386\n",
       "treatment svm_ensemble_v_1_22  0.881193  0.118807"
      ]
     },
     "execution_count": 466,
     "metadata": {},
     "output_type": "execute_result"
    }
   ],
   "source": [
    "print(\"Конверсия пользователей в зависимости от группы (control или treatment), в относительных величинах:\")\n",
    "df_corr.groupby([\"group\", \"variants\"])[\"converted\"].value_counts(normalize=True).unstack()"
   ]
  },
  {
   "cell_type": "markdown",
   "metadata": {},
   "source": [
    "Представим эти данные в форме столбчатой диаграммы."
   ]
  },
  {
   "cell_type": "code",
   "execution_count": 467,
   "metadata": {},
   "outputs": [
    {
     "data": {
      "image/png": "[encoded data removed]",
      "text/plain": [
       "<Figure size 600x400 with 1 Axes>"
      ]
     },
     "metadata": {},
     "output_type": "display_data"
    }
   ],
   "source": [
    "bar_plot(df_corr, x=\"group\", y=\"converted\", hue=\"group\")"
   ]
  },
  {
   "cell_type": "markdown",
   "metadata": {},
   "source": [
    "В соответствии с условиями задания нам необходимо определить, позволит ли новый вариант работы сервиса увеличить коэффициент конверсии на 2 %. Исходя из приведенных выше данных, в контрольной группе коэффициент конверсии для старого варианта работы сервиса составляет 12 %.\n",
    "Определим необходимый размер выборки для гарантии того, что при заданном уровне мощности теста (power = 0,8) и уровне значимости (alpha = 0,05) мы сможем обнаружить разность в значениях коэффициента конверсии не менее 2 %. Для этого создадим функцию required_sample, которая в качестве аргументов принимает исходное и целевое значение коэффициента вариации (raw_CR, target_CR), а также значения power, alpha и ratio (соотношение выборок для разных групп)"
   ]
  },
  {
   "cell_type": "code",
   "execution_count": 468,
   "metadata": {},
   "outputs": [],
   "source": [
    "def required_sample(raw_CR, target_CR, alpha=0.05, power=0.8, ratio=1):\n",
    "    effect_size = sms.proportion_effectsize(raw_CR, target_CR)\n",
    "    required_n = sms.NormalIndPower().solve_power(effect_size, power=power, alpha=alpha, ratio=ratio)\n",
    "    required_n = ceil(required_n)\n",
    "    return required_n"
   ]
  },
  {
   "cell_type": "markdown",
   "metadata": {},
   "source": [
    "Рассчитаем необходимый объем выборки для выбранного исходного и целевого значений коэффициента вариации (0,12 и 0,14)"
   ]
  },
  {
   "cell_type": "code",
   "execution_count": 469,
   "metadata": {},
   "outputs": [
    {
     "data": {
      "text/plain": [
       "4433"
      ]
     },
     "execution_count": 469,
     "metadata": {},
     "output_type": "execute_result"
    }
   ],
   "source": [
    "required_sample(0.12, 0.14)"
   ]
  },
  {
   "cell_type": "markdown",
   "metadata": {},
   "source": [
    "Сформируем соответствующие выборки для группы control и группы treatment, после чего объединим их в один датасет df_ab_test"
   ]
  },
  {
   "cell_type": "code",
   "execution_count": 470,
   "metadata": {},
   "outputs": [],
   "source": [
    "def ab_dataset(data):\n",
    "    df_control = data[[\"group\", \"converted\"]][data['group'] == 'control'].sample(n=required_sample(0.12, 0.14), random_state=13)\n",
    "    df_treatment = data[[\"group\", \"converted\"]][data['group'] == 'treatment'].sample(n=required_sample(0.12, 0.14), random_state=13)\n",
    "    df = pd.concat([df_control, df_treatment], axis=0)\n",
    "    df.reset_index(drop=True, inplace=True)\n",
    "    return df"
   ]
  },
  {
   "cell_type": "code",
   "execution_count": 471,
   "metadata": {},
   "outputs": [
    {
     "data": {
      "text/html": [
       "<div>\n",
       "<style scoped>\n",
       "    .dataframe tbody tr th:only-of-type {\n",
       "        vertical-align: middle;\n",
       "    }\n",
       "\n",
       "    .dataframe tbody tr th {\n",
       "        vertical-align: top;\n",
       "    }\n",
       "\n",
       "    .dataframe thead th {\n",
       "        text-align: right;\n",
       "    }\n",
       "</style>\n",
       "<table border=\"1\" class=\"dataframe\">\n",
       "  <thead>\n",
       "    <tr style=\"text-align: right;\">\n",
       "      <th></th>\n",
       "      <th>group</th>\n",
       "      <th>converted</th>\n",
       "    </tr>\n",
       "  </thead>\n",
       "  <tbody>\n",
       "    <tr>\n",
       "      <th>0</th>\n",
       "      <td>control</td>\n",
       "      <td>1</td>\n",
       "    </tr>\n",
       "    <tr>\n",
       "      <th>1</th>\n",
       "      <td>control</td>\n",
       "      <td>0</td>\n",
       "    </tr>\n",
       "    <tr>\n",
       "      <th>2</th>\n",
       "      <td>control</td>\n",
       "      <td>1</td>\n",
       "    </tr>\n",
       "    <tr>\n",
       "      <th>3</th>\n",
       "      <td>control</td>\n",
       "      <td>0</td>\n",
       "    </tr>\n",
       "    <tr>\n",
       "      <th>4</th>\n",
       "      <td>control</td>\n",
       "      <td>0</td>\n",
       "    </tr>\n",
       "    <tr>\n",
       "      <th>...</th>\n",
       "      <td>...</td>\n",
       "      <td>...</td>\n",
       "    </tr>\n",
       "    <tr>\n",
       "      <th>8861</th>\n",
       "      <td>treatment</td>\n",
       "      <td>0</td>\n",
       "    </tr>\n",
       "    <tr>\n",
       "      <th>8862</th>\n",
       "      <td>treatment</td>\n",
       "      <td>0</td>\n",
       "    </tr>\n",
       "    <tr>\n",
       "      <th>8863</th>\n",
       "      <td>treatment</td>\n",
       "      <td>0</td>\n",
       "    </tr>\n",
       "    <tr>\n",
       "      <th>8864</th>\n",
       "      <td>treatment</td>\n",
       "      <td>1</td>\n",
       "    </tr>\n",
       "    <tr>\n",
       "      <th>8865</th>\n",
       "      <td>treatment</td>\n",
       "      <td>0</td>\n",
       "    </tr>\n",
       "  </tbody>\n",
       "</table>\n",
       "<p>8866 rows × 2 columns</p>\n",
       "</div>"
      ],
      "text/plain": [
       "          group  converted\n",
       "0       control          1\n",
       "1       control          0\n",
       "2       control          1\n",
       "3       control          0\n",
       "4       control          0\n",
       "...         ...        ...\n",
       "8861  treatment          0\n",
       "8862  treatment          0\n",
       "8863  treatment          0\n",
       "8864  treatment          1\n",
       "8865  treatment          0\n",
       "\n",
       "[8866 rows x 2 columns]"
      ]
     },
     "execution_count": 471,
     "metadata": {},
     "output_type": "execute_result"
    }
   ],
   "source": [
    "df_ab_test = ab_dataset(df_corr)\n",
    "df_ab_test"
   ]
  },
  {
   "cell_type": "markdown",
   "metadata": {},
   "source": [
    "При изучении датасета df_ab_test отмечаем, что количество строк в датасете составляет 8866, т.е. соответствует удвоенному рассчитанному объему выборки для каждой группы"
   ]
  },
  {
   "cell_type": "markdown",
   "metadata": {},
   "source": [
    "Как и предполагалось, распределение пользователей между группами control и treatment полностью равномерно."
   ]
  },
  {
   "cell_type": "code",
   "execution_count": 472,
   "metadata": {},
   "outputs": [
    {
     "data": {
      "text/plain": [
       "group\n",
       "control      0.5\n",
       "treatment    0.5\n",
       "Name: proportion, dtype: float64"
      ]
     },
     "execution_count": 472,
     "metadata": {},
     "output_type": "execute_result"
    }
   ],
   "source": [
    "df_ab_test[\"group\"].value_counts(normalize=True)"
   ]
  },
  {
   "cell_type": "markdown",
   "metadata": {},
   "source": [
    "Для расчета среднего значения коэффициента конверсии, а также стандартного отклонения и стандартной ошибки создадим функцию conversion_rates, которая в качестве аргументов принимает датасет, группируемый столбец и целевой столбец, для которого следует провести расчет"
   ]
  },
  {
   "cell_type": "code",
   "execution_count": 473,
   "metadata": {},
   "outputs": [],
   "source": [
    "def conversion_rates(data, group_column:str, target_column:str):\n",
    "    conversion_rates = data.groupby(group_column)[target_column]\n",
    "    std_proportion = lambda x: np.std(x, ddof=0)\n",
    "    se_proportion = lambda x: stats.sem(x, ddof=0)\n",
    "\n",
    "    conversion_rates = conversion_rates.agg([\"mean\", std_proportion, se_proportion]).rename(columns={'mean':'CR mean', '<lambda_0>':'CR std', '<lambda_1>':'CR se'})\n",
    "    \n",
    "    return conversion_rates"
   ]
  },
  {
   "cell_type": "markdown",
   "metadata": {},
   "source": [
    "Исходя из представленных ниже данных, статистики коэффициента конверсии в группах control и treatment практически идентичны."
   ]
  },
  {
   "cell_type": "code",
   "execution_count": 474,
   "metadata": {},
   "outputs": [
    {
     "data": {
      "text/html": [
       "<div>\n",
       "<style scoped>\n",
       "    .dataframe tbody tr th:only-of-type {\n",
       "        vertical-align: middle;\n",
       "    }\n",
       "\n",
       "    .dataframe tbody tr th {\n",
       "        vertical-align: top;\n",
       "    }\n",
       "\n",
       "    .dataframe thead th {\n",
       "        text-align: right;\n",
       "    }\n",
       "</style>\n",
       "<table border=\"1\" class=\"dataframe\">\n",
       "  <thead>\n",
       "    <tr style=\"text-align: right;\">\n",
       "      <th></th>\n",
       "      <th>CR mean</th>\n",
       "      <th>CR std</th>\n",
       "      <th>CR se</th>\n",
       "    </tr>\n",
       "    <tr>\n",
       "      <th>group</th>\n",
       "      <th></th>\n",
       "      <th></th>\n",
       "      <th></th>\n",
       "    </tr>\n",
       "  </thead>\n",
       "  <tbody>\n",
       "    <tr>\n",
       "      <th>control</th>\n",
       "      <td>0.115949</td>\n",
       "      <td>0.320163</td>\n",
       "      <td>0.004809</td>\n",
       "    </tr>\n",
       "    <tr>\n",
       "      <th>treatment</th>\n",
       "      <td>0.119107</td>\n",
       "      <td>0.323914</td>\n",
       "      <td>0.004865</td>\n",
       "    </tr>\n",
       "  </tbody>\n",
       "</table>\n",
       "</div>"
      ],
      "text/plain": [
       "            CR mean    CR std     CR se\n",
       "group                                  \n",
       "control    0.115949  0.320163  0.004809\n",
       "treatment  0.119107  0.323914  0.004865"
      ]
     },
     "execution_count": 474,
     "metadata": {},
     "output_type": "execute_result"
    }
   ],
   "source": [
    "conversion_rates(df_ab_test, \"group\", \"converted\")"
   ]
  },
  {
   "cell_type": "markdown",
   "metadata": {},
   "source": [
    "Графическое представление данных о среднем значении коэффициента конверсии для групп control и treatment"
   ]
  },
  {
   "cell_type": "code",
   "execution_count": 475,
   "metadata": {},
   "outputs": [
    {
     "data": {
      "image/png": "[encoded data removed]",
      "text/plain": [
       "<Figure size 600x400 with 1 Axes>"
      ]
     },
     "metadata": {},
     "output_type": "display_data"
    }
   ],
   "source": [
    "bar_plot(df_ab_test, x='group', y='converted', hue='group')"
   ]
  },
  {
   "cell_type": "markdown",
   "metadata": {},
   "source": [
    "Для подтверждения предварительного заключения о равенстве средних значений коэффициента конверсии в группах control и treatment проведем А/Б тест, используя для этого функцию AA_AB_test и данные из датасета df_ab_test. Нулевая гипотеза Н_0 будет гласить о равенстве средних значений в обеих группах, а альтернативная гипотеза Н_1 - об их неравенстве. Уровень значимости альфа примем равным 0,05."
   ]
  },
  {
   "cell_type": "code",
   "execution_count": 476,
   "metadata": {},
   "outputs": [
    {
     "data": {
      "text/plain": [
       "('Z-statistic: -0.46',\n",
       " 'p-value: 0.644',\n",
       " 'CI 95% for control group: [0.107, 0.125]',\n",
       " 'CI 95% for treatment group: [0.110, 0.129]')"
      ]
     },
     "execution_count": 476,
     "metadata": {},
     "output_type": "execute_result"
    }
   ],
   "source": [
    "AA_AB_test(df_ab_test[df_ab_test['group'] == 'control']['converted'], df_ab_test[df_ab_test['group'] == 'treatment']['converted'])"
   ]
  },
  {
   "cell_type": "markdown",
   "metadata": {},
   "source": [
    "Полученное р-значение (0,644), которое превышает выбранный уровень альфа (0,05), указывает, что мы не можем отклонить нулевую гипотезу и должны вынести заключение о равенстве значений коэффициента конверсии в группах control и treatment при использовании варианта работы сервиса \"standard\" и \"svm_ensemble_v_1_22\" соответственно, т.е. новый вариант работы сервиса не приводит к увеличению коэффициента конверсии."
   ]
  },
  {
   "cell_type": "markdown",
   "metadata": {},
   "source": [
    "# Решение задания 2. Стоит ли для новых/старых пользователей (new/registered user) оставить старый/новый вариант работы?"
   ]
  },
  {
   "cell_type": "markdown",
   "metadata": {},
   "source": [
    "### 2.1 Проведение А/А теста для групп control и treatment среди новых пользователей (new_user)"
   ]
  },
  {
   "cell_type": "markdown",
   "metadata": {},
   "source": [
    "Как и для полного датасета, отмечаем, что для пользователей new_user группа treatment также использовали вариант работы сервиса \"standard\" (871 + 135 = 1006 пользователей), хотя основной целью А/Б теста было использование в этой группе варианта \"svm_ensemble_v_1_22\". Данные, полученные для варианта работы сервиса \"standard\" среди новых пользователей в группе treatment, оказываются полезными для проведения А/А теста."
   ]
  },
  {
   "cell_type": "code",
   "execution_count": 477,
   "metadata": {},
   "outputs": [
    {
     "data": {
      "text/html": [
       "<div>\n",
       "<style scoped>\n",
       "    .dataframe tbody tr th:only-of-type {\n",
       "        vertical-align: middle;\n",
       "    }\n",
       "\n",
       "    .dataframe tbody tr th {\n",
       "        vertical-align: top;\n",
       "    }\n",
       "\n",
       "    .dataframe thead th {\n",
       "        text-align: right;\n",
       "    }\n",
       "</style>\n",
       "<table border=\"1\" class=\"dataframe\">\n",
       "  <thead>\n",
       "    <tr style=\"text-align: right;\">\n",
       "      <th></th>\n",
       "      <th></th>\n",
       "      <th>converted</th>\n",
       "      <th>0</th>\n",
       "      <th>1</th>\n",
       "    </tr>\n",
       "    <tr>\n",
       "      <th>user_type</th>\n",
       "      <th>group</th>\n",
       "      <th>variants</th>\n",
       "      <th></th>\n",
       "      <th></th>\n",
       "    </tr>\n",
       "  </thead>\n",
       "  <tbody>\n",
       "    <tr>\n",
       "      <th rowspan=\"4\" valign=\"top\">new_user</th>\n",
       "      <th rowspan=\"2\" valign=\"top\">control</th>\n",
       "      <th>standard</th>\n",
       "      <td>63991</td>\n",
       "      <td>8800</td>\n",
       "    </tr>\n",
       "    <tr>\n",
       "      <th>svm_ensemble_v_1_22</th>\n",
       "      <td>854</td>\n",
       "      <td>105</td>\n",
       "    </tr>\n",
       "    <tr>\n",
       "      <th rowspan=\"2\" valign=\"top\">treatment</th>\n",
       "      <th>standard</th>\n",
       "      <td>871</td>\n",
       "      <td>135</td>\n",
       "    </tr>\n",
       "    <tr>\n",
       "      <th>svm_ensemble_v_1_22</th>\n",
       "      <td>63978</td>\n",
       "      <td>8504</td>\n",
       "    </tr>\n",
       "    <tr>\n",
       "      <th rowspan=\"4\" valign=\"top\">registered_user</th>\n",
       "      <th rowspan=\"2\" valign=\"top\">control</th>\n",
       "      <th>standard</th>\n",
       "      <td>63794</td>\n",
       "      <td>8689</td>\n",
       "    </tr>\n",
       "    <tr>\n",
       "      <th>svm_ensemble_v_1_22</th>\n",
       "      <td>840</td>\n",
       "      <td>129</td>\n",
       "    </tr>\n",
       "    <tr>\n",
       "      <th rowspan=\"2\" valign=\"top\">treatment</th>\n",
       "      <th>standard</th>\n",
       "      <td>844</td>\n",
       "      <td>115</td>\n",
       "    </tr>\n",
       "    <tr>\n",
       "      <th>svm_ensemble_v_1_22</th>\n",
       "      <td>64069</td>\n",
       "      <td>8760</td>\n",
       "    </tr>\n",
       "  </tbody>\n",
       "</table>\n",
       "</div>"
      ],
      "text/plain": [
       "converted                                          0     1\n",
       "user_type       group     variants                        \n",
       "new_user        control   standard             63991  8800\n",
       "                          svm_ensemble_v_1_22    854   105\n",
       "                treatment standard               871   135\n",
       "                          svm_ensemble_v_1_22  63978  8504\n",
       "registered_user control   standard             63794  8689\n",
       "                          svm_ensemble_v_1_22    840   129\n",
       "                treatment standard               844   115\n",
       "                          svm_ensemble_v_1_22  64069  8760"
      ]
     },
     "execution_count": 477,
     "metadata": {},
     "output_type": "execute_result"
    }
   ],
   "source": [
    "df.groupby([\"user_type\", \"group\", \"variants\"])[\"converted\"].value_counts().unstack()"
   ]
  },
  {
   "cell_type": "markdown",
   "metadata": {},
   "source": [
    "Для проведения А/А теста осуществим выборку новых пользователей (new_user) для группы treatment и аналогичную по количеству выборку новых пользователей для группы control, для которых использовали вариант работы сервиса \"standard\" (df_new_user_treatment_aa_test и df_new_user_control_aa_test соответственно). Убеждаемся, что в каждой выборке по 1006 пользователей."
   ]
  },
  {
   "cell_type": "code",
   "execution_count": 478,
   "metadata": {},
   "outputs": [
    {
     "data": {
      "text/plain": [
       "1006"
      ]
     },
     "execution_count": 478,
     "metadata": {},
     "output_type": "execute_result"
    }
   ],
   "source": [
    "n_obs_new_user_aa_test = len(df[(df[\"user_type\"] == \"new_user\") & (df[\"group\"] == \"treatment\") & (df[\"variants\"] == \"standard\")])\n",
    "n_obs_new_user_aa_test"
   ]
  },
  {
   "cell_type": "code",
   "execution_count": 479,
   "metadata": {},
   "outputs": [
    {
     "data": {
      "text/plain": [
       "(1006, 8)"
      ]
     },
     "execution_count": 479,
     "metadata": {},
     "output_type": "execute_result"
    }
   ],
   "source": [
    "df_new_user_control_aa_test = df[(df[\"user_type\"] == \"new_user\") & (df[\"group\"] == \"control\") & (df[\"variants\"] == \"standard\")].sample(n=n_obs_new_user_aa_test, random_state=13)\n",
    "df_new_user_treatment_aa_test = df[(df[\"user_type\"] == \"new_user\") & (df[\"group\"] == \"treatment\") & (df[\"variants\"] == \"standard\")].sample(n=n_obs_new_user_aa_test, random_state=13)\n",
    "df_new_user_control_aa_test.shape"
   ]
  },
  {
   "cell_type": "code",
   "execution_count": 480,
   "metadata": {},
   "outputs": [
    {
     "data": {
      "text/plain": [
       "(1006, 8)"
      ]
     },
     "execution_count": 480,
     "metadata": {},
     "output_type": "execute_result"
    }
   ],
   "source": [
    "df_new_user_treatment_aa_test.shape"
   ]
  },
  {
   "cell_type": "markdown",
   "metadata": {},
   "source": [
    "Определим коэффициенты конверсии для каждой группы (control и treatment) среди новых пользователей. Они составляют 12,5 % и 13,4 % соответственно."
   ]
  },
  {
   "cell_type": "code",
   "execution_count": 481,
   "metadata": {},
   "outputs": [
    {
     "name": "stdout",
     "output_type": "stream",
     "text": [
      "converted\n",
      "0    0.874751\n",
      "1    0.125249\n",
      "Name: proportion, dtype: float64\n",
      "converted\n",
      "0    0.865805\n",
      "1    0.134195\n",
      "Name: proportion, dtype: float64\n"
     ]
    }
   ],
   "source": [
    "print(df_new_user_control_aa_test[\"converted\"].value_counts(normalize=True))\n",
    "print(df_new_user_treatment_aa_test[\"converted\"].value_counts(normalize=True))"
   ]
  },
  {
   "cell_type": "markdown",
   "metadata": {},
   "source": [
    "Для подтверждения идентичности групп control и treatment среди новых пользователей необходимо с помощью статистических методов убедиться, что значения коэффициента конверсии для этих групп не отличаются друг от друга со статистической достоверностью.\n",
    "Выдвинем нулевую гипотезу Н_0 о том, что значения коэффициента конверсии в обеих группах равны, а также альтернативную гипотезу Н_1 о том, что они не равны. Примем альфа = 0,05."
   ]
  },
  {
   "cell_type": "code",
   "execution_count": 482,
   "metadata": {},
   "outputs": [
    {
     "data": {
      "text/plain": [
       "('Z-statistic: -0.60',\n",
       " 'p-value: 0.550',\n",
       " 'CI 95% for control group: [0.105, 0.146]',\n",
       " 'CI 95% for treatment group: [0.113, 0.155]')"
      ]
     },
     "execution_count": 482,
     "metadata": {},
     "output_type": "execute_result"
    }
   ],
   "source": [
    "AA_AB_test(df_new_user_control_aa_test['converted'], df_new_user_treatment_aa_test['converted'])"
   ]
  },
  {
   "cell_type": "markdown",
   "metadata": {},
   "source": [
    "Полученное р-значение (0,550), которое превышает выбранный уровень альфа (0,05), указывает, что мы не можем отклонить нулевую гипотезу и должны вынести заключение о равенстве значений коэффициента конверсии в группах control и treatment среди новых пользователей при использовании варианта работы сервиса \"standard\". Т.е. А/А тест подтвердил идентичности групп control и treatment новых пользователей, что позволяет нам провести А/Б тест."
   ]
  },
  {
   "cell_type": "markdown",
   "metadata": {},
   "source": [
    "### 2.2 Проведение А/Б теста для новых пользователей (new_user)"
   ]
  },
  {
   "cell_type": "markdown",
   "metadata": {},
   "source": [
    "Определим значения коэффициента конверсии в разных подгруппах в зависимости от группы пользователей (control/treatment) и типа пользователей (user_type). Как видим, значения коэффициента конверсии в каждой подгруппе равны около 12 %."
   ]
  },
  {
   "cell_type": "code",
   "execution_count": 501,
   "metadata": {},
   "outputs": [
    {
     "data": {
      "text/html": [
       "<div>\n",
       "<style scoped>\n",
       "    .dataframe tbody tr th:only-of-type {\n",
       "        vertical-align: middle;\n",
       "    }\n",
       "\n",
       "    .dataframe tbody tr th {\n",
       "        vertical-align: top;\n",
       "    }\n",
       "\n",
       "    .dataframe thead th {\n",
       "        text-align: right;\n",
       "    }\n",
       "</style>\n",
       "<table border=\"1\" class=\"dataframe\">\n",
       "  <thead>\n",
       "    <tr style=\"text-align: right;\">\n",
       "      <th></th>\n",
       "      <th></th>\n",
       "      <th>converted</th>\n",
       "      <th>0</th>\n",
       "      <th>1</th>\n",
       "    </tr>\n",
       "    <tr>\n",
       "      <th>user_type</th>\n",
       "      <th>group</th>\n",
       "      <th>variants</th>\n",
       "      <th></th>\n",
       "      <th></th>\n",
       "    </tr>\n",
       "  </thead>\n",
       "  <tbody>\n",
       "    <tr>\n",
       "      <th rowspan=\"2\" valign=\"top\">new_user</th>\n",
       "      <th>control</th>\n",
       "      <th>standard</th>\n",
       "      <td>0.879106</td>\n",
       "      <td>0.120894</td>\n",
       "    </tr>\n",
       "    <tr>\n",
       "      <th>treatment</th>\n",
       "      <th>svm_ensemble_v_1_22</th>\n",
       "      <td>0.882674</td>\n",
       "      <td>0.117326</td>\n",
       "    </tr>\n",
       "    <tr>\n",
       "      <th rowspan=\"2\" valign=\"top\">registered_user</th>\n",
       "      <th>control</th>\n",
       "      <th>standard</th>\n",
       "      <td>0.880124</td>\n",
       "      <td>0.119876</td>\n",
       "    </tr>\n",
       "    <tr>\n",
       "      <th>treatment</th>\n",
       "      <th>svm_ensemble_v_1_22</th>\n",
       "      <td>0.879718</td>\n",
       "      <td>0.120282</td>\n",
       "    </tr>\n",
       "  </tbody>\n",
       "</table>\n",
       "</div>"
      ],
      "text/plain": [
       "converted                                             0         1\n",
       "user_type       group     variants                               \n",
       "new_user        control   standard             0.879106  0.120894\n",
       "                treatment svm_ensemble_v_1_22  0.882674  0.117326\n",
       "registered_user control   standard             0.880124  0.119876\n",
       "                treatment svm_ensemble_v_1_22  0.879718  0.120282"
      ]
     },
     "execution_count": 501,
     "metadata": {},
     "output_type": "execute_result"
    }
   ],
   "source": [
    "df_corr.groupby(['user_type', \"group\", \"variants\"])[\"converted\"].value_counts(normalize=True).unstack()"
   ]
  },
  {
   "cell_type": "markdown",
   "metadata": {},
   "source": [
    "Графическое представление приведенных выше данных"
   ]
  },
  {
   "cell_type": "code",
   "execution_count": 484,
   "metadata": {},
   "outputs": [
    {
     "data": {
      "image/png": "[encoded data removed]",
      "text/plain": [
       "<Figure size 800x600 with 1 Axes>"
      ]
     },
     "metadata": {},
     "output_type": "display_data"
    }
   ],
   "source": [
    "bar_plot(df_corr, x='user_type', y='converted', hue='group')"
   ]
  },
  {
   "cell_type": "markdown",
   "metadata": {},
   "source": [
    "Выберем данные, относящиеся к новым пользователям (new_user), и сформируем датасет df_new_user. Изучим значения коэффициентов конверсии в подгруппах control и treatment. Данные свидетельствуют о том, что значения коэффициентов конверсии составляют 12,1 % и 11,7 % соответственно."
   ]
  },
  {
   "cell_type": "code",
   "execution_count": 485,
   "metadata": {},
   "outputs": [
    {
     "data": {
      "text/html": [
       "<div>\n",
       "<style scoped>\n",
       "    .dataframe tbody tr th:only-of-type {\n",
       "        vertical-align: middle;\n",
       "    }\n",
       "\n",
       "    .dataframe tbody tr th {\n",
       "        vertical-align: top;\n",
       "    }\n",
       "\n",
       "    .dataframe thead th {\n",
       "        text-align: right;\n",
       "    }\n",
       "</style>\n",
       "<table border=\"1\" class=\"dataframe\">\n",
       "  <thead>\n",
       "    <tr style=\"text-align: right;\">\n",
       "      <th></th>\n",
       "      <th>converted</th>\n",
       "      <th>0</th>\n",
       "      <th>1</th>\n",
       "    </tr>\n",
       "    <tr>\n",
       "      <th>user_type</th>\n",
       "      <th>group</th>\n",
       "      <th></th>\n",
       "      <th></th>\n",
       "    </tr>\n",
       "  </thead>\n",
       "  <tbody>\n",
       "    <tr>\n",
       "      <th rowspan=\"2\" valign=\"top\">new_user</th>\n",
       "      <th>control</th>\n",
       "      <td>0.879106</td>\n",
       "      <td>0.120894</td>\n",
       "    </tr>\n",
       "    <tr>\n",
       "      <th>treatment</th>\n",
       "      <td>0.882674</td>\n",
       "      <td>0.117326</td>\n",
       "    </tr>\n",
       "  </tbody>\n",
       "</table>\n",
       "</div>"
      ],
      "text/plain": [
       "converted                   0         1\n",
       "user_type group                        \n",
       "new_user  control    0.879106  0.120894\n",
       "          treatment  0.882674  0.117326"
      ]
     },
     "execution_count": 485,
     "metadata": {},
     "output_type": "execute_result"
    }
   ],
   "source": [
    "df_new_user = df_corr[df_corr['user_type'] == 'new_user']\n",
    "df_new_user.groupby([\"user_type\", \"group\"])[\"converted\"].value_counts(normalize=True).unstack()"
   ]
  },
  {
   "cell_type": "markdown",
   "metadata": {},
   "source": [
    "Для проверки того, что представленные выше значения коэффициентов конверсии равны, проведем А/Б тестирование.\n",
    "Сформируем выборку для проведения А/Б теста, объем которой соответствует рассчитанному выше (по 4433 пользователей из каждой группы control и treatment)."
   ]
  },
  {
   "cell_type": "code",
   "execution_count": 486,
   "metadata": {},
   "outputs": [
    {
     "data": {
      "text/html": [
       "<div>\n",
       "<style scoped>\n",
       "    .dataframe tbody tr th:only-of-type {\n",
       "        vertical-align: middle;\n",
       "    }\n",
       "\n",
       "    .dataframe tbody tr th {\n",
       "        vertical-align: top;\n",
       "    }\n",
       "\n",
       "    .dataframe thead th {\n",
       "        text-align: right;\n",
       "    }\n",
       "</style>\n",
       "<table border=\"1\" class=\"dataframe\">\n",
       "  <thead>\n",
       "    <tr style=\"text-align: right;\">\n",
       "      <th></th>\n",
       "      <th>group</th>\n",
       "      <th>converted</th>\n",
       "    </tr>\n",
       "  </thead>\n",
       "  <tbody>\n",
       "    <tr>\n",
       "      <th>0</th>\n",
       "      <td>control</td>\n",
       "      <td>0</td>\n",
       "    </tr>\n",
       "    <tr>\n",
       "      <th>1</th>\n",
       "      <td>control</td>\n",
       "      <td>0</td>\n",
       "    </tr>\n",
       "    <tr>\n",
       "      <th>2</th>\n",
       "      <td>control</td>\n",
       "      <td>1</td>\n",
       "    </tr>\n",
       "    <tr>\n",
       "      <th>3</th>\n",
       "      <td>control</td>\n",
       "      <td>1</td>\n",
       "    </tr>\n",
       "    <tr>\n",
       "      <th>4</th>\n",
       "      <td>control</td>\n",
       "      <td>1</td>\n",
       "    </tr>\n",
       "    <tr>\n",
       "      <th>...</th>\n",
       "      <td>...</td>\n",
       "      <td>...</td>\n",
       "    </tr>\n",
       "    <tr>\n",
       "      <th>8861</th>\n",
       "      <td>treatment</td>\n",
       "      <td>0</td>\n",
       "    </tr>\n",
       "    <tr>\n",
       "      <th>8862</th>\n",
       "      <td>treatment</td>\n",
       "      <td>0</td>\n",
       "    </tr>\n",
       "    <tr>\n",
       "      <th>8863</th>\n",
       "      <td>treatment</td>\n",
       "      <td>0</td>\n",
       "    </tr>\n",
       "    <tr>\n",
       "      <th>8864</th>\n",
       "      <td>treatment</td>\n",
       "      <td>0</td>\n",
       "    </tr>\n",
       "    <tr>\n",
       "      <th>8865</th>\n",
       "      <td>treatment</td>\n",
       "      <td>0</td>\n",
       "    </tr>\n",
       "  </tbody>\n",
       "</table>\n",
       "<p>8866 rows × 2 columns</p>\n",
       "</div>"
      ],
      "text/plain": [
       "          group  converted\n",
       "0       control          0\n",
       "1       control          0\n",
       "2       control          1\n",
       "3       control          1\n",
       "4       control          1\n",
       "...         ...        ...\n",
       "8861  treatment          0\n",
       "8862  treatment          0\n",
       "8863  treatment          0\n",
       "8864  treatment          0\n",
       "8865  treatment          0\n",
       "\n",
       "[8866 rows x 2 columns]"
      ]
     },
     "execution_count": 486,
     "metadata": {},
     "output_type": "execute_result"
    }
   ],
   "source": [
    "df_new_user_ab_test = ab_dataset(df_new_user)\n",
    "df_new_user_ab_test"
   ]
  },
  {
   "cell_type": "markdown",
   "metadata": {},
   "source": [
    "Рассчитаем статистические характеристики для каждой группы (control и treatment) в сформированной выборке новых пользователей"
   ]
  },
  {
   "cell_type": "code",
   "execution_count": 487,
   "metadata": {},
   "outputs": [
    {
     "data": {
      "text/html": [
       "<div>\n",
       "<style scoped>\n",
       "    .dataframe tbody tr th:only-of-type {\n",
       "        vertical-align: middle;\n",
       "    }\n",
       "\n",
       "    .dataframe tbody tr th {\n",
       "        vertical-align: top;\n",
       "    }\n",
       "\n",
       "    .dataframe thead th {\n",
       "        text-align: right;\n",
       "    }\n",
       "</style>\n",
       "<table border=\"1\" class=\"dataframe\">\n",
       "  <thead>\n",
       "    <tr style=\"text-align: right;\">\n",
       "      <th></th>\n",
       "      <th>CR mean</th>\n",
       "      <th>CR std</th>\n",
       "      <th>CR se</th>\n",
       "    </tr>\n",
       "    <tr>\n",
       "      <th>group</th>\n",
       "      <th></th>\n",
       "      <th></th>\n",
       "      <th></th>\n",
       "    </tr>\n",
       "  </thead>\n",
       "  <tbody>\n",
       "    <tr>\n",
       "      <th>control</th>\n",
       "      <td>0.119107</td>\n",
       "      <td>0.323914</td>\n",
       "      <td>0.004865</td>\n",
       "    </tr>\n",
       "    <tr>\n",
       "      <th>treatment</th>\n",
       "      <td>0.114595</td>\n",
       "      <td>0.318533</td>\n",
       "      <td>0.004784</td>\n",
       "    </tr>\n",
       "  </tbody>\n",
       "</table>\n",
       "</div>"
      ],
      "text/plain": [
       "            CR mean    CR std     CR se\n",
       "group                                  \n",
       "control    0.119107  0.323914  0.004865\n",
       "treatment  0.114595  0.318533  0.004784"
      ]
     },
     "execution_count": 487,
     "metadata": {},
     "output_type": "execute_result"
    }
   ],
   "source": [
    "conversion_rates(df_new_user_ab_test, \"group\", \"converted\")"
   ]
  },
  {
   "cell_type": "code",
   "execution_count": 488,
   "metadata": {},
   "outputs": [
    {
     "data": {
      "image/png": "[encoded data removed]",
      "text/plain": [
       "<Figure size 600x400 with 1 Axes>"
      ]
     },
     "metadata": {},
     "output_type": "display_data"
    }
   ],
   "source": [
    "bar_plot(df_new_user_ab_test, x='group', y='converted', hue='group')"
   ]
  },
  {
   "cell_type": "markdown",
   "metadata": {},
   "source": [
    "Проведем А/Б тест, используя датасет df_new_user_ab_test и функцию АА_AB_test. В качестве нулевой гипотезы Н_0 примем, что средние значения коэффициентов вариации равны, а в качестве альтернативной гипотезы Н_1 - то, что они не равны. Уровень значимости альфа примем равным 0,05."
   ]
  },
  {
   "cell_type": "code",
   "execution_count": 489,
   "metadata": {},
   "outputs": [
    {
     "data": {
      "text/plain": [
       "('Z-statistic: 0.66',\n",
       " 'p-value: 0.508',\n",
       " 'CI 95% for control group: [0.110, 0.129]',\n",
       " 'CI 95% for treatment group: [0.105, 0.124]')"
      ]
     },
     "execution_count": 489,
     "metadata": {},
     "output_type": "execute_result"
    }
   ],
   "source": [
    "AA_AB_test(df_new_user_ab_test[df_new_user_ab_test['group'] == 'control']['converted'], df_new_user_ab_test[df_new_user_ab_test['group'] == 'treatment']['converted'])"
   ]
  },
  {
   "cell_type": "markdown",
   "metadata": {},
   "source": [
    "Полученное р-значение (0,508), которое превышает выбранный уровень альфа (0,05), указывает, что мы не можем отклонить нулевую гипотезу и должны вынести заключение о равенстве значений коэффициента конверсии в случае новых пользователей (new_user) в группах control и treatment при использовании варианта работы сервиса \"standard\" и \"svm_ensemble_v_1_22\" соответственно, т.е. новый вариант работы сервиса не приводит к увеличению коэффициента конверсии среди новых пользователей."
   ]
  },
  {
   "cell_type": "markdown",
   "metadata": {},
   "source": [
    "### 2.3 Проведение А/А теста для групп control и treatment среди зарегистрированных пользователей (registered_user)"
   ]
  },
  {
   "cell_type": "markdown",
   "metadata": {},
   "source": [
    "Как и для полного датасета, отмечаем, что для зарегистрированных пользователей registered_user в группе treatment также использовали вариант работы сервиса \"standard\" (844 + 115 = 959 пользователей), хотя основной целью А/Б теста было использование в этой группе варианта \"svm_ensemble_v_1_22\". Данные, полученные для варианта работы сервиса \"standard\" среди зарегистрированных пользователей в группе treatment, оказываются полезными для проведения А/А теста."
   ]
  },
  {
   "cell_type": "code",
   "execution_count": 490,
   "metadata": {},
   "outputs": [
    {
     "data": {
      "text/html": [
       "<div>\n",
       "<style scoped>\n",
       "    .dataframe tbody tr th:only-of-type {\n",
       "        vertical-align: middle;\n",
       "    }\n",
       "\n",
       "    .dataframe tbody tr th {\n",
       "        vertical-align: top;\n",
       "    }\n",
       "\n",
       "    .dataframe thead th {\n",
       "        text-align: right;\n",
       "    }\n",
       "</style>\n",
       "<table border=\"1\" class=\"dataframe\">\n",
       "  <thead>\n",
       "    <tr style=\"text-align: right;\">\n",
       "      <th></th>\n",
       "      <th></th>\n",
       "      <th>converted</th>\n",
       "      <th>0</th>\n",
       "      <th>1</th>\n",
       "    </tr>\n",
       "    <tr>\n",
       "      <th>user_type</th>\n",
       "      <th>group</th>\n",
       "      <th>variants</th>\n",
       "      <th></th>\n",
       "      <th></th>\n",
       "    </tr>\n",
       "  </thead>\n",
       "  <tbody>\n",
       "    <tr>\n",
       "      <th rowspan=\"4\" valign=\"top\">new_user</th>\n",
       "      <th rowspan=\"2\" valign=\"top\">control</th>\n",
       "      <th>standard</th>\n",
       "      <td>63991</td>\n",
       "      <td>8800</td>\n",
       "    </tr>\n",
       "    <tr>\n",
       "      <th>svm_ensemble_v_1_22</th>\n",
       "      <td>854</td>\n",
       "      <td>105</td>\n",
       "    </tr>\n",
       "    <tr>\n",
       "      <th rowspan=\"2\" valign=\"top\">treatment</th>\n",
       "      <th>standard</th>\n",
       "      <td>871</td>\n",
       "      <td>135</td>\n",
       "    </tr>\n",
       "    <tr>\n",
       "      <th>svm_ensemble_v_1_22</th>\n",
       "      <td>63978</td>\n",
       "      <td>8504</td>\n",
       "    </tr>\n",
       "    <tr>\n",
       "      <th rowspan=\"4\" valign=\"top\">registered_user</th>\n",
       "      <th rowspan=\"2\" valign=\"top\">control</th>\n",
       "      <th>standard</th>\n",
       "      <td>63794</td>\n",
       "      <td>8689</td>\n",
       "    </tr>\n",
       "    <tr>\n",
       "      <th>svm_ensemble_v_1_22</th>\n",
       "      <td>840</td>\n",
       "      <td>129</td>\n",
       "    </tr>\n",
       "    <tr>\n",
       "      <th rowspan=\"2\" valign=\"top\">treatment</th>\n",
       "      <th>standard</th>\n",
       "      <td>844</td>\n",
       "      <td>115</td>\n",
       "    </tr>\n",
       "    <tr>\n",
       "      <th>svm_ensemble_v_1_22</th>\n",
       "      <td>64069</td>\n",
       "      <td>8760</td>\n",
       "    </tr>\n",
       "  </tbody>\n",
       "</table>\n",
       "</div>"
      ],
      "text/plain": [
       "converted                                          0     1\n",
       "user_type       group     variants                        \n",
       "new_user        control   standard             63991  8800\n",
       "                          svm_ensemble_v_1_22    854   105\n",
       "                treatment standard               871   135\n",
       "                          svm_ensemble_v_1_22  63978  8504\n",
       "registered_user control   standard             63794  8689\n",
       "                          svm_ensemble_v_1_22    840   129\n",
       "                treatment standard               844   115\n",
       "                          svm_ensemble_v_1_22  64069  8760"
      ]
     },
     "execution_count": 490,
     "metadata": {},
     "output_type": "execute_result"
    }
   ],
   "source": [
    "df.groupby([\"user_type\", \"group\", \"variants\"])[\"converted\"].value_counts().unstack()"
   ]
  },
  {
   "cell_type": "markdown",
   "metadata": {},
   "source": [
    "Для проведения А/А теста осуществим выборку зарегистрированных пользователей (registered_user) для группы treatment и аналогичную по количеству выборку зарегистрированных пользователей для группы control, для которых использовали вариант работы сервиса \"standard\" (df_reg_user_treatment_aa_test и df_reg_user_control_aa_test соответственно). Убеждаемся, что в каждой выборке по 959 пользователей."
   ]
  },
  {
   "cell_type": "code",
   "execution_count": 491,
   "metadata": {},
   "outputs": [
    {
     "data": {
      "text/plain": [
       "959"
      ]
     },
     "execution_count": 491,
     "metadata": {},
     "output_type": "execute_result"
    }
   ],
   "source": [
    "n_obs_reg_user_aa_test = len(df[(df[\"user_type\"] == \"registered_user\") & (df[\"group\"] == \"treatment\") & (df[\"variants\"] == \"standard\")])\n",
    "n_obs_reg_user_aa_test"
   ]
  },
  {
   "cell_type": "code",
   "execution_count": 492,
   "metadata": {},
   "outputs": [
    {
     "data": {
      "text/plain": [
       "(959, 8)"
      ]
     },
     "execution_count": 492,
     "metadata": {},
     "output_type": "execute_result"
    }
   ],
   "source": [
    "df_reg_user_control_aa_test = df[(df[\"user_type\"] == \"registered_user\") & (df[\"group\"] == \"control\") & (df[\"variants\"] == \"standard\")].sample(n=n_obs_reg_user_aa_test, random_state=13)\n",
    "df_reg_user_treatment_aa_test = df[(df[\"user_type\"] == \"registered_user\") & (df[\"group\"] == \"treatment\") & (df[\"variants\"] == \"standard\")].sample(n=n_obs_reg_user_aa_test, random_state=13)\n",
    "df_reg_user_control_aa_test.shape"
   ]
  },
  {
   "cell_type": "code",
   "execution_count": 493,
   "metadata": {},
   "outputs": [
    {
     "data": {
      "text/plain": [
       "(959, 8)"
      ]
     },
     "execution_count": 493,
     "metadata": {},
     "output_type": "execute_result"
    }
   ],
   "source": [
    "df_reg_user_treatment_aa_test.shape"
   ]
  },
  {
   "cell_type": "markdown",
   "metadata": {},
   "source": [
    "Определим коэффициенты конверсии для каждой группы (control и treatment) среди зарегистрированных пользователей. Они составляют 12,1 % и 12,0 % соответственно."
   ]
  },
  {
   "cell_type": "code",
   "execution_count": 494,
   "metadata": {},
   "outputs": [
    {
     "name": "stdout",
     "output_type": "stream",
     "text": [
      "converted\n",
      "0    0.879041\n",
      "1    0.120959\n",
      "Name: proportion, dtype: float64\n",
      "converted\n",
      "0    0.880083\n",
      "1    0.119917\n",
      "Name: proportion, dtype: float64\n"
     ]
    }
   ],
   "source": [
    "print(df_reg_user_control_aa_test[\"converted\"].value_counts(normalize=True))\n",
    "print(df_reg_user_treatment_aa_test[\"converted\"].value_counts(normalize=True))"
   ]
  },
  {
   "cell_type": "markdown",
   "metadata": {},
   "source": [
    "Для подтверждения идентичности групп control и treatment среди зарегистрированных пользователей необходимо с помощью статистических методов убедиться, что значения коэффициента конверсии для этих групп не отличаются друг от друга со статистической достоверностью.\n",
    "Выдвинем нулевую гипотезу Н_0 о том, что значения коэффициента конверсии в обеих группах равны, а также альтернативную гипотезу Н_1 о том, что они не равны. Примем альфа = 0,05."
   ]
  },
  {
   "cell_type": "code",
   "execution_count": 495,
   "metadata": {},
   "outputs": [
    {
     "data": {
      "text/plain": [
       "('Z-statistic: 0.07',\n",
       " 'p-value: 0.944',\n",
       " 'CI 95% for control group: [0.100, 0.142]',\n",
       " 'CI 95% for treatment group: [0.099, 0.140]')"
      ]
     },
     "execution_count": 495,
     "metadata": {},
     "output_type": "execute_result"
    }
   ],
   "source": [
    "AA_AB_test(df_reg_user_control_aa_test['converted'], df_reg_user_treatment_aa_test['converted'])"
   ]
  },
  {
   "cell_type": "markdown",
   "metadata": {},
   "source": [
    "Полученное значение р-значения (0,944), которое превышает выбранный уровень альфа (0,05), указывает, что мы не можем отклонить нулевую гипотезу и должны вынести заключение о равенстве значений коэффициента конверсии в группах control и treatment среди зарегистрированных пользователей при использовании варианта работы сервиса \"standard\". Т.е. А/А тест подтвердил идентичности групп control и treatment среди зарегистрированных пользователей, что позволяет нам провести А/Б тест."
   ]
  },
  {
   "cell_type": "markdown",
   "metadata": {},
   "source": [
    "### 2.4 Проведение А/Б теста для зарегистрированных пользователей пользователей (registered_user)"
   ]
  },
  {
   "cell_type": "markdown",
   "metadata": {},
   "source": [
    "Выберем данные, относящиеся к зарегистрированным пользователям (registered_user), и сформируем датасет df_reg_user. Изучим значения коэффициентов конверсии в подгруппах control и treatment. Данные свидетельствуют о том, что значения коэффициентов конверсии составляют 12 % соответственно."
   ]
  },
  {
   "cell_type": "code",
   "execution_count": 496,
   "metadata": {},
   "outputs": [
    {
     "data": {
      "text/html": [
       "<div>\n",
       "<style scoped>\n",
       "    .dataframe tbody tr th:only-of-type {\n",
       "        vertical-align: middle;\n",
       "    }\n",
       "\n",
       "    .dataframe tbody tr th {\n",
       "        vertical-align: top;\n",
       "    }\n",
       "\n",
       "    .dataframe thead th {\n",
       "        text-align: right;\n",
       "    }\n",
       "</style>\n",
       "<table border=\"1\" class=\"dataframe\">\n",
       "  <thead>\n",
       "    <tr style=\"text-align: right;\">\n",
       "      <th></th>\n",
       "      <th>converted</th>\n",
       "      <th>0</th>\n",
       "      <th>1</th>\n",
       "    </tr>\n",
       "    <tr>\n",
       "      <th>user_type</th>\n",
       "      <th>group</th>\n",
       "      <th></th>\n",
       "      <th></th>\n",
       "    </tr>\n",
       "  </thead>\n",
       "  <tbody>\n",
       "    <tr>\n",
       "      <th rowspan=\"2\" valign=\"top\">registered_user</th>\n",
       "      <th>control</th>\n",
       "      <td>0.880124</td>\n",
       "      <td>0.119876</td>\n",
       "    </tr>\n",
       "    <tr>\n",
       "      <th>treatment</th>\n",
       "      <td>0.879718</td>\n",
       "      <td>0.120282</td>\n",
       "    </tr>\n",
       "  </tbody>\n",
       "</table>\n",
       "</div>"
      ],
      "text/plain": [
       "converted                         0         1\n",
       "user_type       group                        \n",
       "registered_user control    0.880124  0.119876\n",
       "                treatment  0.879718  0.120282"
      ]
     },
     "execution_count": 496,
     "metadata": {},
     "output_type": "execute_result"
    }
   ],
   "source": [
    "df_reg_user = df_corr[df_corr['user_type'] == 'registered_user']\n",
    "df_reg_user.groupby([\"user_type\", \"group\"])[\"converted\"].value_counts(normalize=True).unstack()"
   ]
  },
  {
   "cell_type": "markdown",
   "metadata": {},
   "source": [
    "Для проверки того, что представленные выше значения коэффициентов конверсии равны, проведем А/Б тестирование. Сформируем выборку для проведения А/Б теста, объем которой соответствует рассчитанному выше (по 4433 пользователей из каждой группы control и treatment)."
   ]
  },
  {
   "cell_type": "code",
   "execution_count": 497,
   "metadata": {},
   "outputs": [
    {
     "data": {
      "text/html": [
       "<div>\n",
       "<style scoped>\n",
       "    .dataframe tbody tr th:only-of-type {\n",
       "        vertical-align: middle;\n",
       "    }\n",
       "\n",
       "    .dataframe tbody tr th {\n",
       "        vertical-align: top;\n",
       "    }\n",
       "\n",
       "    .dataframe thead th {\n",
       "        text-align: right;\n",
       "    }\n",
       "</style>\n",
       "<table border=\"1\" class=\"dataframe\">\n",
       "  <thead>\n",
       "    <tr style=\"text-align: right;\">\n",
       "      <th></th>\n",
       "      <th>group</th>\n",
       "      <th>converted</th>\n",
       "    </tr>\n",
       "  </thead>\n",
       "  <tbody>\n",
       "    <tr>\n",
       "      <th>0</th>\n",
       "      <td>control</td>\n",
       "      <td>0</td>\n",
       "    </tr>\n",
       "    <tr>\n",
       "      <th>1</th>\n",
       "      <td>control</td>\n",
       "      <td>0</td>\n",
       "    </tr>\n",
       "    <tr>\n",
       "      <th>2</th>\n",
       "      <td>control</td>\n",
       "      <td>0</td>\n",
       "    </tr>\n",
       "    <tr>\n",
       "      <th>3</th>\n",
       "      <td>control</td>\n",
       "      <td>1</td>\n",
       "    </tr>\n",
       "    <tr>\n",
       "      <th>4</th>\n",
       "      <td>control</td>\n",
       "      <td>0</td>\n",
       "    </tr>\n",
       "    <tr>\n",
       "      <th>...</th>\n",
       "      <td>...</td>\n",
       "      <td>...</td>\n",
       "    </tr>\n",
       "    <tr>\n",
       "      <th>8861</th>\n",
       "      <td>treatment</td>\n",
       "      <td>0</td>\n",
       "    </tr>\n",
       "    <tr>\n",
       "      <th>8862</th>\n",
       "      <td>treatment</td>\n",
       "      <td>0</td>\n",
       "    </tr>\n",
       "    <tr>\n",
       "      <th>8863</th>\n",
       "      <td>treatment</td>\n",
       "      <td>0</td>\n",
       "    </tr>\n",
       "    <tr>\n",
       "      <th>8864</th>\n",
       "      <td>treatment</td>\n",
       "      <td>0</td>\n",
       "    </tr>\n",
       "    <tr>\n",
       "      <th>8865</th>\n",
       "      <td>treatment</td>\n",
       "      <td>0</td>\n",
       "    </tr>\n",
       "  </tbody>\n",
       "</table>\n",
       "<p>8866 rows × 2 columns</p>\n",
       "</div>"
      ],
      "text/plain": [
       "          group  converted\n",
       "0       control          0\n",
       "1       control          0\n",
       "2       control          0\n",
       "3       control          1\n",
       "4       control          0\n",
       "...         ...        ...\n",
       "8861  treatment          0\n",
       "8862  treatment          0\n",
       "8863  treatment          0\n",
       "8864  treatment          0\n",
       "8865  treatment          0\n",
       "\n",
       "[8866 rows x 2 columns]"
      ]
     },
     "execution_count": 497,
     "metadata": {},
     "output_type": "execute_result"
    }
   ],
   "source": [
    "df_reg_user_ab_test = ab_dataset(df_reg_user)\n",
    "df_reg_user_ab_test"
   ]
  },
  {
   "cell_type": "markdown",
   "metadata": {},
   "source": [
    "Рассчитаем статистические характеристики для каждой группы (control и treatment) в сформированной выборке зарегистрированных пользователей"
   ]
  },
  {
   "cell_type": "code",
   "execution_count": 498,
   "metadata": {},
   "outputs": [
    {
     "data": {
      "text/html": [
       "<div>\n",
       "<style scoped>\n",
       "    .dataframe tbody tr th:only-of-type {\n",
       "        vertical-align: middle;\n",
       "    }\n",
       "\n",
       "    .dataframe tbody tr th {\n",
       "        vertical-align: top;\n",
       "    }\n",
       "\n",
       "    .dataframe thead th {\n",
       "        text-align: right;\n",
       "    }\n",
       "</style>\n",
       "<table border=\"1\" class=\"dataframe\">\n",
       "  <thead>\n",
       "    <tr style=\"text-align: right;\">\n",
       "      <th></th>\n",
       "      <th>CR mean</th>\n",
       "      <th>CR std</th>\n",
       "      <th>CR se</th>\n",
       "    </tr>\n",
       "    <tr>\n",
       "      <th>group</th>\n",
       "      <th></th>\n",
       "      <th></th>\n",
       "      <th></th>\n",
       "    </tr>\n",
       "  </thead>\n",
       "  <tbody>\n",
       "    <tr>\n",
       "      <th>control</th>\n",
       "      <td>0.118204</td>\n",
       "      <td>0.322850</td>\n",
       "      <td>0.004849</td>\n",
       "    </tr>\n",
       "    <tr>\n",
       "      <th>treatment</th>\n",
       "      <td>0.117979</td>\n",
       "      <td>0.322583</td>\n",
       "      <td>0.004845</td>\n",
       "    </tr>\n",
       "  </tbody>\n",
       "</table>\n",
       "</div>"
      ],
      "text/plain": [
       "            CR mean    CR std     CR se\n",
       "group                                  \n",
       "control    0.118204  0.322850  0.004849\n",
       "treatment  0.117979  0.322583  0.004845"
      ]
     },
     "execution_count": 498,
     "metadata": {},
     "output_type": "execute_result"
    }
   ],
   "source": [
    "conversion_rates(df_reg_user_ab_test, \"group\", \"converted\")"
   ]
  },
  {
   "cell_type": "code",
   "execution_count": 499,
   "metadata": {},
   "outputs": [
    {
     "data": {
      "image/png": "[encoded data removed]",
      "text/plain": [
       "<Figure size 600x400 with 1 Axes>"
      ]
     },
     "metadata": {},
     "output_type": "display_data"
    }
   ],
   "source": [
    "bar_plot(df_reg_user_ab_test, x='group', y='converted', hue='group')"
   ]
  },
  {
   "cell_type": "markdown",
   "metadata": {},
   "source": [
    "Проведем А/Б тест, используя датасет df_reg_user_ab_test и функцию АА_AB_test. В качестве нулевой гипотезы Н_0 примем, что средние значения коэффициентов вариации равны, а в качестве альтернативной гипотезы Н_1 - то, что они не равны. Уровень значимости альфа примем равным 0,05."
   ]
  },
  {
   "cell_type": "code",
   "execution_count": 500,
   "metadata": {},
   "outputs": [
    {
     "data": {
      "text/plain": [
       "('Z-statistic: 0.03',\n",
       " 'p-value: 0.974',\n",
       " 'CI 95% for control group: [0.109, 0.128]',\n",
       " 'CI 95% for treatment group: [0.108, 0.127]')"
      ]
     },
     "execution_count": 500,
     "metadata": {},
     "output_type": "execute_result"
    }
   ],
   "source": [
    "AA_AB_test(df_reg_user_ab_test[df_reg_user_ab_test['group'] == 'control']['converted'], df_reg_user_ab_test[df_reg_user_ab_test['group'] == 'treatment']['converted'])"
   ]
  },
  {
   "cell_type": "markdown",
   "metadata": {},
   "source": [
    "Полученное значение р-значения (0,974), которое превышает выбранный уровень альфа (0,05), указывает, что мы не можем отклонить нулевую гипотезу и должны вынести заключение о равенстве значений коэффициента конверсии в случае зарегистрированных пользователей (registered_user) в группах control и treatment при использовании варианта работы сервиса \"standard\" и \"svm_ensemble_v_1_22\" соответственно, т.е. новый вариант работы сервиса не приводит к увеличению коэффициента конверсии среди зарегистрированных пользователей."
   ]
  },
  {
   "cell_type": "markdown",
   "metadata": {},
   "source": [
    "#### Заключение: по результатам А/А теста установлено, что группы control и treatment для всего датасета и для отдельных подгрупп (новые и уже зарегистрированные пользователи) являются сбалансированными и идентичными. Поэтому проведение А/Б теста правомерно. По результатам А/Б теста для всего датасета и в отдельных подгруппах (новые и уже зарегистрированные пользователи) показано, что новый вариант работы сервиса \"svm_ensemble_v_1_22\" не позволяет добиться 2 % улучшения коэффициента конверсии в сравнении со стандартным вариантом работы сервиса."
   ]
  }
 ],
 "metadata": {
  "colab": {
   "provenance": []
  },
  "kernelspec": {
   "display_name": "Python 3",
   "language": "python",
   "name": "python3"
  },
  "language_info": {
   "codemirror_mode": {
    "name": "ipython",
    "version": 3
   },
   "file_extension": ".py",
   "mimetype": "text/x-python",
   "name": "python",
   "nbconvert_exporter": "python",
   "pygments_lexer": "ipython3",
   "version": "3.13.0"
  }
 },
 "nbformat": 4,
 "nbformat_minor": 0
}
