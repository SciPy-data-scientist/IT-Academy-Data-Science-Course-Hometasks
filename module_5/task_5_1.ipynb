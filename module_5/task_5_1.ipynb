{
 "cells": [
  {
   "cell_type": "markdown",
   "metadata": {},
   "source": [
    "## Задача\n",
    "\n",
    "Обучите простую рекуррентную нейронную сеть (без GRU/LSTM, без внимания) решать задачу дешифровки шифра Цезаря:\n",
    "1. Написать алгоритм шифра Цезаря для генерации выборки (сдвиг на N каждой буквы). Например если N=2, то буква A переходит в букву C. Можно поиграться с языком на выбор (немецкий, русский и т.д.)\n",
    "2. Создать архитектуру рекуррентной нейронной сети.\n",
    "3. Обучить ее (вход - зашифрованная фраза, выход - дешифрованная фраза).\n",
    "4. Проверить качество модели."
   ]
  },
  {
   "cell_type": "markdown",
   "metadata": {},
   "source": [
    "## Решение"
   ]
  },
  {
   "cell_type": "code",
   "execution_count": 1,
   "metadata": {},
   "outputs": [],
   "source": [
    "import torch\n",
    "import torch.nn as nn\n",
    "\n",
    "import time\n",
    "import numpy as np\n",
    "\n",
    "import matplotlib.pyplot as plt"
   ]
  },
  {
   "cell_type": "markdown",
   "metadata": {},
   "source": [
    "Зададим генераторы случайных чисел и тензоров"
   ]
  },
  {
   "cell_type": "code",
   "execution_count": 2,
   "metadata": {},
   "outputs": [
    {
     "data": {
      "text/plain": [
       "<torch._C.Generator at 0x22d2d23bef0>"
      ]
     },
     "execution_count": 2,
     "metadata": {},
     "output_type": "execute_result"
    }
   ],
   "source": [
    "rng = np.random.default_rng(seed=31)\n",
    "torch.manual_seed(31)"
   ]
  },
  {
   "cell_type": "markdown",
   "metadata": {},
   "source": [
    "Зададим алфавит"
   ]
  },
  {
   "cell_type": "code",
   "execution_count": 3,
   "metadata": {},
   "outputs": [],
   "source": [
    "rus_alphabet = 'абвгдеёжзийклмнопрстуфхцчшщъыьэюя'"
   ]
  },
  {
   "cell_type": "markdown",
   "metadata": {},
   "source": [
    "Создадим класс CaesarEncoder, который позволяет на основе заданного алфавита создать алфавит со смещением, а также словарь преобразования букв в цифры следующего вида {буква алфавита : порядковый номер буквы} (этот словарь необходим для преобразования последовательности букв в незашифрованной фразе в последовательность цифр для последующего формирования зашифрованной фразы) и словарь преобразования цифр в букву следующего вида {порядковый номер буквы : буква алфавита} (этот словарь необходим для преобразования последовательности цифр, полученных для фразы, в последовательность букв). "
   ]
  },
  {
   "cell_type": "code",
   "execution_count": 4,
   "metadata": {},
   "outputs": [],
   "source": [
    "class CaesarEncoder(nn.Module):\n",
    "    \"\"\"Класс для шифрования текста с помощью шифра Цезаря с функцией сдвига\"\"\"\n",
    "\n",
    "    def __init__(self, alphabet):\n",
    "        \"\"\"Инициализирует класс CaesarEncoder со случайным сдвигом.\n",
    "\n",
    "        Аргументы:\n",
    "            alphabet (list): Алфавит, который используется для шифрования.\n",
    "        \"\"\"\n",
    "        super().__init__()\n",
    "        self.alphabet = alphabet\n",
    "        self.shift = rng.integers(1, len(alphabet))\n",
    "\n",
    "    def shift_alphabet(self, alphabet, shift):\n",
    "        \"\"\"Сдвигает алфавит на заданное количество позиций.\n",
    "\n",
    "        Аргументы:\n",
    "            alphabet (list): Алфавит, который используется для шифрования.\n",
    "            shift (int): Случайное значение сдвига для шифра Цезаря.\n",
    "\n",
    "        Возвращает:\n",
    "            tuple: Кортеж из двух списков:\n",
    "                - Исходный алфавит.\n",
    "                - Алфавит, сдвинутый на указанное количество позиций.\n",
    "        \"\"\"\n",
    "        x = [alphabet[i] for i in range(len(alphabet))]\n",
    "        y = [\n",
    "            alphabet[len(alphabet) - shift + i] if i < shift else alphabet[i - shift]\n",
    "            for i in range(len(alphabet))\n",
    "        ]\n",
    "        return x, y\n",
    "\n",
    "    def letter_to_index(self, alphabet):\n",
    "        \"\"\"Создает словарь, который сопоставляет каждой букве алфавита ее индекс.\n",
    "\n",
    "        Аргументы:\n",
    "            alphabet (list): Алфавит, который используется для шифрования.\n",
    "\n",
    "        Возвращает:\n",
    "            dict: Словарь, где ключ — это буква, а значение — ее индекс.\n",
    "                  Также включает ключи \"none\" (значение 0) и пробел (значение 1).\n",
    "        \"\"\"\n",
    "        return {w: i for i, w in enumerate([\"none\"] + [\" \"] + alphabet)}\n",
    "\n",
    "    def index_to_letter(self, alphabet):\n",
    "        \"\"\"Создает словарь, который сопоставляет каждому индексу соответствующую букву алфавита.\n",
    "\n",
    "        Аргументы:\n",
    "            alphabet (list): Алфавит для создания отображения.\n",
    "\n",
    "        Возвращает:\n",
    "            dict: Словарь, где ключ — это индекс, а значение — буква.\n",
    "                  Также включает значения \"none\" (ключ 0) и пробел (ключ 1).\n",
    "        \"\"\"\n",
    "        return {i: w for i, w in enumerate([\"none\"] + [\" \"] + alphabet)}\n"
   ]
  },
  {
   "cell_type": "markdown",
   "metadata": {},
   "source": [
    "Создадим экземпляр класса CaesarEncoder, задав в качестве аргумента русский алфавит rus_alphabet:"
   ]
  },
  {
   "cell_type": "code",
   "execution_count": 5,
   "metadata": {},
   "outputs": [],
   "source": [
    "caesar_encoder = CaesarEncoder(rus_alphabet)"
   ]
  },
  {
   "cell_type": "markdown",
   "metadata": {},
   "source": [
    "Создадим исходный алфавит и алфавит со сдвигом в форме списков."
   ]
  },
  {
   "cell_type": "code",
   "execution_count": 6,
   "metadata": {},
   "outputs": [
    {
     "data": {
      "text/plain": [
       "(['а', 'б', 'в', 'г', 'д'], ['о', 'п', 'р', 'с', 'т'])"
      ]
     },
     "execution_count": 6,
     "metadata": {},
     "output_type": "execute_result"
    }
   ],
   "source": [
    "shift = caesar_encoder.shift\n",
    "original_alphabet, shifted_alphabet = caesar_encoder.shift_alphabet(rus_alphabet, shift)\n",
    "original_alphabet[0:5], shifted_alphabet[0:5]"
   ]
  },
  {
   "cell_type": "markdown",
   "metadata": {},
   "source": [
    "Сформируем словарь вида \"буква : порядковый номер\" для преобразования исходного алфавита. В данном словаре первые значения 0 и 1 присвоены \"none\" и пробелу, поэтому букве \"а\" присвоен порядковый номер 2."
   ]
  },
  {
   "cell_type": "code",
   "execution_count": 7,
   "metadata": {},
   "outputs": [
    {
     "data": {
      "text/plain": [
       "2"
      ]
     },
     "execution_count": 7,
     "metadata": {},
     "output_type": "execute_result"
    }
   ],
   "source": [
    "letter_to_index_original = caesar_encoder.letter_to_index(original_alphabet)\n",
    "letter_to_index_original[\"а\"]"
   ]
  },
  {
   "cell_type": "markdown",
   "metadata": {},
   "source": [
    "Создадим словари вида \"порядковый номер буквы : буква\" для преобразования исходного алфавита и алфавита со сдвигом"
   ]
  },
  {
   "cell_type": "code",
   "execution_count": 8,
   "metadata": {},
   "outputs": [],
   "source": [
    "index_to_letter_original = caesar_encoder.index_to_letter(original_alphabet)\n",
    "index_to_letter_shifted = caesar_encoder.index_to_letter(shifted_alphabet)"
   ]
  },
  {
   "cell_type": "markdown",
   "metadata": {},
   "source": [
    "Приведем несколько крылатых выражений, приписываемых Юлию Цезарю, в качестве фраз, которые будут служить в качестве обучающей выборки для модели."
   ]
  },
  {
   "cell_type": "code",
   "execution_count": 9,
   "metadata": {},
   "outputs": [],
   "source": [
    "train_original_phrases = [\n",
    "    \"пришёл увидел победил\",\n",
    "    \"люди охотно верят тому чему желают верить\",\n",
    "    \"никакая победа не принесет столько сколько может отнять одно поражение\",\n",
    "    \"величайший враг спрячется там где вы будете меньше всего искать\",\n",
    "    \"никто не отважен настолько чтобы не испугаться неожиданного\",\n",
    "    \"правителя не так легко столкнуть с первого места на второе как потом со второго на последнее\",\n",
    "    \"великие дела надо совершать не раздумывая чтобы мысль об опасности не ослабляла отвагу и быстроту\",\n",
    "    \"лучше сразу умереть нежели жить ожиданием смерти\",\n",
    "    \"победители и влюбленные не болеют\",\n",
    "    \"не теряет лишь тот кто ничего не имеет\",\n",
    "    \"ццццццццццц\",\n",
    "    \"ээээээээээээ\",\n",
    "    \"щщщщщщщщщщщщ\"\n",
    "]"
   ]
  },
  {
   "cell_type": "markdown",
   "metadata": {},
   "source": [
    "Зашифруем данные фразы с учетом выбранного значения сдвига shift:"
   ]
  },
  {
   "cell_type": "code",
   "execution_count": 10,
   "metadata": {},
   "outputs": [],
   "source": [
    "def encrypt(phrases: list) -> list:\n",
    "    \"\"\"Функция шифрования текста.\n",
    "\n",
    "    Аргументы:\n",
    "        phrases (list): Список фраз на оригинальном языке.\n",
    "\n",
    "    Возвращает:\n",
    "        list: Список зашифрованных фраз в виде списка списков.\n",
    "    \"\"\"\n",
    "    return [\n",
    "        [index_to_letter_shifted[letter_to_index_original[j]] for j in i] for i in phrases\n",
    "    ]"
   ]
  },
  {
   "cell_type": "markdown",
   "metadata": {},
   "source": [
    "Представим зашифрованные фразы"
   ]
  },
  {
   "cell_type": "code",
   "execution_count": 11,
   "metadata": {},
   "outputs": [
    {
     "name": "stdout",
     "output_type": "stream",
     "text": [
      "юячжфъ врчтуъ юэпутчъ\n",
      "ъмтч эдэбьэ руянб бэыв ёуыв хуъомб руячбк\n",
      "ьчщощон юэпуто ьу юячьуауб абэъкщэ ащэъкщэ ыэхуб эбьнбк этьэ юэяохуьчу\n",
      "руъчёошжчш ряос аюянёубан боы сту рй пвтубу ыуькжу раусэ чащобк\n",
      "ьчщбэ ьу эброхуь ьоабэъкщэ ёбэпй ьу чаювсобкан ьуэхчтоььэсэ\n",
      "юяорчбуън ьу бощ ъусщэ абэъщьвбк а юуярэсэ ыуабо ьо рбэяэу щощ юэбэы аэ рбэяэсэ ьо юэаъутьуу\n",
      "руъчщчу туъо ьотэ аэруяжобк ьу яоцтвыйрон ёбэпй ыйаък эп эюоаьэабч ьу эаъопънъо эбросв ч пйабяэбв\n",
      "ъвёжу аяоцв выуяубк ьухуъч хчбк эхчтоьчуы аыуябч\n",
      "юэпутчбуъч ч ръмпъуььйу ьу пэъумб\n",
      "ьу буянуб ъчжк бэб щбэ ьчёусэ ьу чыууб\n",
      "еееееееееее\n",
      "лллллллллллл\n",
      "зззззззззззз\n"
     ]
    }
   ],
   "source": [
    "for phrase in encrypt(train_original_phrases):\n",
    "    letters = \"\"\n",
    "    for letter in phrase:\n",
    "        letters += letter\n",
    "    print(letters)"
   ]
  },
  {
   "cell_type": "markdown",
   "metadata": {},
   "source": [
    "### 2. Создание архитектуры рекуррентной нейронной сети"
   ]
  },
  {
   "cell_type": "markdown",
   "metadata": {},
   "source": [
    "Создадим тензоры для зашифрованных фраз (Х) и оригинальных фраз (y). Данные тензоры будут использоваться для обучения модели и оценки ее качества. Эти тензоры будут созданы как нулевые тензоры, размер которых определяется длиной фразы, но не более максимального значения (максимальная длина фразы, равная 100 символам; если длина фразы будет превышать данное значение, то избыточная часть фразы будет удалена). Это обеспечивает одинаковый размер всех тензоров (соответствует максимальной длине фразы). Каждой букве в фразе с помощью словаря letter_to_index_original будет присвоен соответствующий номер."
   ]
  },
  {
   "cell_type": "code",
   "execution_count": 12,
   "metadata": {},
   "outputs": [],
   "source": [
    "max_phrase_length = 100\n",
    "\n",
    "X = torch.zeros((len(encrypt(train_original_phrases)), max_phrase_length), dtype=torch.long)\n",
    "for i in range(len(encrypt(train_original_phrases))):\n",
    "    for j, w in enumerate(encrypt(train_original_phrases)[i]):\n",
    "        if j >= max_phrase_length:\n",
    "            break\n",
    "        X[i, j] = letter_to_index_original.get(w, letter_to_index_original[\"none\"])\n",
    "\n",
    "y = torch.zeros((len(train_original_phrases), max_phrase_length), dtype=torch.long)\n",
    "for i in range(len(train_original_phrases)):\n",
    "    for j, w in enumerate(train_original_phrases[i]):\n",
    "        if j >= max_phrase_length:\n",
    "            break\n",
    "        y[i, j] = letter_to_index_original.get(w, letter_to_index_original[\"none\"])"
   ]
  },
  {
   "cell_type": "markdown",
   "metadata": {},
   "source": [
    "Создадим модель рекуррентной нейронной сети на основе nn.Module. Данная модель будет включать несколько слоев. Первый слой - слой создания векторов, каждый из которых будет кодировать букву (вернее, ее порядковый номер) с помощью 30 параметров. Второй слой - сама рекуррентная нейронная сеть, имеющая 256 скрытых состояний. Кроме того, присутствуют несколько слоев Dropout, которые \"выключают\", т.е. обнуляют 20 % узлов, а также несколько слоев функции активации ReLU. Последний слой - линейный слой, который получает на вход 128 состояний и отдает тензор, размер которого равен размеру словаря."
   ]
  },
  {
   "cell_type": "code",
   "execution_count": 13,
   "metadata": {},
   "outputs": [],
   "source": [
    "class NetworkRNN(nn.Module):\n",
    "    \"\"\"Реализация сети RNN для обработки последовательностей.\n",
    "\n",
    "    Атрибуты:\n",
    "        embed (nn.Embedding): Слой для преобразования входных данных в векторы фиксированной размерности.\n",
    "        rnn (nn.RNN): Слой RNN для обработки последовательностей.\n",
    "        relu1 (nn.ReLU): Функция активации ReLU.\n",
    "        dropout1 (nn.Dropout): Слой Dropout для регуляризации.\n",
    "        linear1 (nn.Linear): Линейный слой для преобразования выходных данных.\n",
    "        relu2 (nn.ReLU): Функция активации ReLU.\n",
    "        dropout2 (nn.Dropout): Слой Dropout для регуляризации.\n",
    "        linear2 (nn.Linear): Линейный слой для получения окончательных предсказаний.\n",
    "    \"\"\"\n",
    "\n",
    "    def __init__(self):\n",
    "        \"\"\"Инициализирует все слои сети.\"\"\"\n",
    "        super().__init__()\n",
    "        self.embed = nn.Embedding(len(letter_to_index_original), 30)\n",
    "        self.rnn = nn.RNN(30, 256, batch_first=True)\n",
    "        self.relu = nn.ReLU()\n",
    "        self.dropout = nn.Dropout(0.2)\n",
    "        self.linear = nn.Linear(256, 128)\n",
    "        self.output = nn.Linear(128, len(letter_to_index_original))\n",
    "\n",
    "    def forward(self, text, state=None):\n",
    "        \"\"\"Прямой проход через модель.\n",
    "\n",
    "        Аргументы:\n",
    "            text (Tensor): Входной текст в виде тензора.\n",
    "            state (Tensor, optional): Состояние RNN, если оно доступно.\n",
    "\n",
    "        Возвращает:\n",
    "            tuple: Выход сети и состояние RNN.\n",
    "        \"\"\"\n",
    "        embed = self.embed(text)\n",
    "        out, state = self.rnn(embed, state)\n",
    "        out = self.linear(self.dropout(self.relu(out)))\n",
    "        output = self.output(self.dropout(self.relu(out)))\n",
    "        return output, state"
   ]
  },
  {
   "cell_type": "markdown",
   "metadata": {},
   "source": [
    "### 3. Обучение модели"
   ]
  },
  {
   "cell_type": "markdown",
   "metadata": {},
   "source": [
    "Создадим экземпляр модели нейронной сети. В качестве функции loss будем использовать CrossEntropyLoss, а в качестве оптимизатора - оптимизатор Adam при learning rate = 0,001."
   ]
  },
  {
   "cell_type": "code",
   "execution_count": 14,
   "metadata": {},
   "outputs": [],
   "source": [
    "def initialize_model(lr=0.001):\n",
    "    \"\"\"\n",
    "    Инициализирует модель с указанным рекуррентным слоем (RNN, LSTM или GRU), \n",
    "    функцией потерь и оптимизатором.\n",
    "\n",
    "    Параметры\n",
    "    ----------\n",
    "    lr : float, optional\n",
    "        Значение скорости обучения модели.\n",
    "\n",
    "    Возвращает\n",
    "    ---------\n",
    "    model : torch.nn.Module\n",
    "        Инициализированная модель.\n",
    "    criterion : torch.nn.Module\n",
    "        Функция потерь (кросс-энтропия).\n",
    "    optimizer : torch.optim.Optimizer\n",
    "        Оптимизатор Adam.\n",
    "    \"\"\"\n",
    "\n",
    "    model = NetworkRNN()\n",
    "    criterion = nn.CrossEntropyLoss()\n",
    "    optimizer = torch.optim.Adam(model.parameters(), lr=lr)\n",
    "\n",
    "    return model, criterion, optimizer"
   ]
  },
  {
   "cell_type": "code",
   "execution_count": 15,
   "metadata": {},
   "outputs": [],
   "source": [
    "model, criterion, optimizer = initialize_model()"
   ]
  },
  {
   "cell_type": "markdown",
   "metadata": {},
   "source": [
    "Создадим функцию для обучения модели, которая будет принимать на вход модель, оптимизатор, функцию loss, а также тензоры Х и y. Функция будет возвращать накопленное усредненное значение функции loss. В данной функции для каждой фразы, применяемой для обучения, используем только ненулевые значения, чтобы снизить шум. Поскольку text_len представляет собой одномерный тензор, а функция forward (как функция модели RNN) ожидает двумерный тензор, добавим размерность с помощью функции unsqueeze(0), после чего преобразуем размерность тензора с помощью функции view в соответствии с размером словаря, поскольку мы хотим получить значения вероятности для соответствующих букв в словаре."
   ]
  },
  {
   "cell_type": "code",
   "execution_count": 16,
   "metadata": {},
   "outputs": [],
   "source": [
    "def train_loss(model, optimizer, criterion, x, y):\n",
    "    model.train()\n",
    "    total_loss = 0\n",
    "    for i in range(len(x)):\n",
    "        optimizer.zero_grad()\n",
    "        \n",
    "        text_len = (x[i] != letter_to_index_original[\"none\"]).sum().item()\n",
    "        \n",
    "        answers, _ = model.forward(x[i][:text_len].unsqueeze(0), state=None)\n",
    "        answers = answers.view(-1, len(letter_to_index_original))\n",
    "        \n",
    "        loss = criterion(answers, y[i][:text_len].flatten())\n",
    "        total_loss += loss.item()\n",
    "        \n",
    "        loss.backward()\n",
    "        optimizer.step()\n",
    "    \n",
    "    return total_loss / len(x)"
   ]
  },
  {
   "cell_type": "markdown",
   "metadata": {},
   "source": [
    "Создадим функцию для управления процессом обучения и визуализации изменения функции потерь в зависимости от количества эпох обучения"
   ]
  },
  {
   "cell_type": "code",
   "execution_count": 17,
   "metadata": {},
   "outputs": [],
   "source": [
    "def train_loss_control(model, optimizer, criterion, x, y, n_epochs=50):\n",
    "    \"\"\"\n",
    "    Управляет процессом обучения модели, отслеживает значения функции потерь и выводит их график.\n",
    "\n",
    "    Параметры\n",
    "    ---------\n",
    "    model : torch.nn.Module\n",
    "        Модель, которая будет обучаться.\n",
    "    optimizer : torch.optim.Optimizer\n",
    "        Оптимизатор для обновления весов модели.\n",
    "    criterion : torch.nn.Module\n",
    "        Функция потерь для оптимизации.\n",
    "    X : torch.Tensor\n",
    "        Входные данные для обучения.\n",
    "    y : torch.Tensor\n",
    "        Целевые метки для обучения.\n",
    "    n_epochs : int, optional\n",
    "        Количество эпох обучения (по умолчанию 50).\n",
    "\n",
    "    Возвращает\n",
    "    ----------\n",
    "    list\n",
    "        Список значений функции потерь на каждой эпохе.\n",
    "    \"\"\"\n",
    "    loss_values = []\n",
    "    for epoch in range(n_epochs):\n",
    "        start = time.time()\n",
    "        train_loss_value = train_loss(model, optimizer, criterion, x, y)\n",
    "        loss_values.append(train_loss_value)\n",
    "        if epoch % 10 == 0:\n",
    "            print(f\"Epoch {epoch}. Time: {time.time() - start:.3f}, Train loss: {train_loss_value:.3f}\")\n",
    "\n",
    "    plt.plot(loss_values)\n",
    "    plt.xlabel(\"Epochs\")\n",
    "    plt.ylabel(\"Loss\")\n",
    "    plt.title(f\"Training Loss over Epochs: {model.rnn}\")\n",
    "    plt.show()\n",
    "\n",
    "    return loss_values"
   ]
  },
  {
   "cell_type": "markdown",
   "metadata": {},
   "source": [
    "Проведем обучение модели на 50 эпохах и визуализируем снижение значения loss с увеличением эпох"
   ]
  },
  {
   "cell_type": "code",
   "execution_count": 18,
   "metadata": {},
   "outputs": [
    {
     "name": "stdout",
     "output_type": "stream",
     "text": [
      "Epoch 0. Time: 0.266, Train loss: 3.492\n",
      "Epoch 10. Time: 0.127, Train loss: 0.197\n",
      "Epoch 20. Time: 0.124, Train loss: 0.028\n",
      "Epoch 30. Time: 0.121, Train loss: 0.012\n",
      "Epoch 40. Time: 0.123, Train loss: 0.006\n"
     ]
    },
    {
     "data": {
      "image/png": "[encoded data removed]",
      "text/plain": [
       "<Figure size 640x480 with 1 Axes>"
      ]
     },
     "metadata": {},
     "output_type": "display_data"
    }
   ],
   "source": [
    "loss_values = train_loss_control(model, optimizer, criterion, X, y, n_epochs=50)"
   ]
  },
  {
   "cell_type": "markdown",
   "metadata": {},
   "source": [
    "### 4. Оценка качества предсказаний, выполненных с помощью модели"
   ]
  },
  {
   "cell_type": "markdown",
   "metadata": {},
   "source": [
    "Создадим функцию, которая будет расшифровывать фразу, созданную с помощью шифра Юлия Цезаря. Эта функция принимает на вход зашифрованную фразу, расшифрованную фразу (для оценки точности дешифровки), словари для преобразования буквы в индекс и обратно индекса в букву, а также значение максимальной длины фразы."
   ]
  },
  {
   "cell_type": "code",
   "execution_count": 19,
   "metadata": {},
   "outputs": [],
   "source": [
    "def decrypt(model, encrypted_phrase, original_phrase, letter_to_index, index_to_letter, max_phrase_length=100):\n",
    "    \"\"\"\n",
    "    Функция для дешифровки текста с помощью обученной модели.\n",
    "    \n",
    "    model: обученная модель.\n",
    "    encrypted_phrase: зашифрованная фраза.\n",
    "    original_phrase: исходная фраза.\n",
    "    letter_to_index: словарь для преобразования символов в индексы.\n",
    "    index_to_letter: словарь для преобразования индексов в символы.\n",
    "    max_phrase_length: максимальная длина фразы (должна быть равна длине зашифрованного текста).\n",
    "    \"\"\"\n",
    "    # Преобразуем зашифрованный текст в индексы\n",
    "    X = torch.zeros((1, max_phrase_length), dtype=int)\n",
    "    for i, char in enumerate(encrypted_phrase):\n",
    "        if i >= max_phrase_length:\n",
    "            break\n",
    "        X[0, i] = letter_to_index.get(char, letter_to_index[\"none\"])\n",
    "\n",
    "    model.eval()\n",
    "    with torch.no_grad():\n",
    "        output, _ = model(X)\n",
    "\n",
    "        predicted_phrase = []\n",
    "        correct = 0\n",
    "        total = len(original_phrase)\n",
    "\n",
    "        for i in range(output.size(1)):\n",
    "            predicted_index = output[0, i].argmax().item()\n",
    "            predicted_char = index_to_letter.get(predicted_index, \"none\")\n",
    "            predicted_phrase.append(predicted_char)\n",
    "\n",
    "            correct += (predicted_char == original_phrase[i])\n",
    "        accuracy = correct / total * 100\n",
    "\n",
    "    print(f\"\\nAccuracy: {round(accuracy, 2)} %\")\n",
    "    print(f\"Original phrase: {original_phrase}\")\n",
    "\n",
    "    return ''.join(predicted_phrase).strip()"
   ]
  },
  {
   "cell_type": "markdown",
   "metadata": {},
   "source": [
    "Отберем несколько фраз, приписываемых Юлию Цезарю, которые будут служить в качестве контрольных фраз."
   ]
  },
  {
   "cell_type": "code",
   "execution_count": 20,
   "metadata": {},
   "outputs": [],
   "source": [
    "test_original_phrases = [\n",
    "                         \"лучше быть первым в провинции чем вторым в риме\",\n",
    "                         \"сегодня эта победа осталась бы за противниками если бы у них было кому победить\",\n",
    "                         \"власть только выигрывает и усиливается оттого когда ею пользуются умеренно\"\n",
    "                         ]"
   ]
  },
  {
   "cell_type": "markdown",
   "metadata": {},
   "source": [
    "Зашифруем эти фразы с помощью шифра Юлия Цезаря для получения контрольных зашифрованных фраз"
   ]
  },
  {
   "cell_type": "code",
   "execution_count": 21,
   "metadata": {},
   "outputs": [
    {
     "name": "stdout",
     "output_type": "stream",
     "text": [
      "ъвёжу пйбк юуярйы р юяэрчьечч ёуы рбэяйы р ячыу\n",
      "аусэтьн лбо юэпуто эабоъоак пй цо юяэбчрьчщоыч уаъч пй в ьчд пйъэ щэыв юэпутчбк\n",
      "ръоабк бэъкщэ рйчсяйроуб ч вачъчроубан эббэсэ щэсто ум юэъкцвмбан выуяуььэ\n"
     ]
    }
   ],
   "source": [
    "for phrase in encrypt(test_original_phrases):\n",
    "    letters = \"\"\n",
    "    for letter in phrase:\n",
    "        letters += letter\n",
    "    print(letters)"
   ]
  },
  {
   "cell_type": "markdown",
   "metadata": {},
   "source": [
    "Используя созданную функцию дешифровки, преобразуем созданные зашифрованные фразы в исходные контрольные фразы."
   ]
  },
  {
   "cell_type": "code",
   "execution_count": 22,
   "metadata": {},
   "outputs": [
    {
     "name": "stdout",
     "output_type": "stream",
     "text": [
      "\n",
      "Accuracy: 100.0 %\n",
      "Original phrase: лучше быть первым в провинции чем вторым в риме\n",
      "Decrypted phrase: лучше быть первым в провинции чем вторым в риме\n",
      "\n",
      "\n",
      "Accuracy: 100.0 %\n",
      "Original phrase: сегодня эта победа осталась бы за противниками если бы у них было кому победить\n",
      "Decrypted phrase: сегодня эта победа осталась бы за противниками если бы у них было кому победить\n",
      "\n",
      "\n",
      "Accuracy: 100.0 %\n",
      "Original phrase: власть только выигрывает и усиливается оттого когда ею пользуются умеренно\n",
      "Decrypted phrase: власть только выигрывает и усиливается оттого когда ею пользуются умеренно\n",
      "\n"
     ]
    }
   ],
   "source": [
    "for i, j in zip(encrypt(test_original_phrases), test_original_phrases):\n",
    "    decrypted_phrase = decrypt(model, i, j, letter_to_index_original, index_to_letter_original, max_phrase_length=len(i))\n",
    "    print(f\"Decrypted phrase: {decrypted_phrase}\\n\")"
   ]
  },
  {
   "cell_type": "markdown",
   "metadata": {},
   "source": [
    "## Заключение"
   ]
  },
  {
   "cell_type": "markdown",
   "metadata": {},
   "source": [
    "Созданная модель на основе RNN демонстрирует отличные результаты. Достоверность предсказаний равна 100 %. Однако на предшествующих этапах тестирования качества созданной модели было обнаружено, что модель допускает ошибки в отдельных буквах (э, ц, щ) (точность предсказания фраз составляла менее 100 %). Было выдвинуто предположение о том, что эти ошибки не были связаны с нелинейностью сдвига алфавита (для тех букв, которые из конца алфавита переносятся в его начало, величина сдвига увеличивается на 2, поскольку в начале алфавита добавляются \"none\" и пробел), поскольку другие буквы, находящиеся рядом с ними (например, я, ы и др.), предсказывались моделью хорошо. Была выдвинута гипотеза о том, что проблема заключается в недостаточной обученности модели в отношении этих букв. Именно поэтому в набор фраз для обучения (train_original_phrases) были добавлены строки с буквами \"э\", \"ц\" и \"щ\". Это дало результат: качество предсказания модели достигло 100 %. Проблема была устранена."
   ]
  }
 ],
 "metadata": {
  "kernelspec": {
   "display_name": "Python 3",
   "language": "python",
   "name": "python3"
  },
  "language_info": {
   "codemirror_mode": {
    "name": "ipython",
    "version": 3
   },
   "file_extension": ".py",
   "mimetype": "text/x-python",
   "name": "python",
   "nbconvert_exporter": "python",
   "pygments_lexer": "ipython3",
   "version": "3.12.8"
  }
 },
 "nbformat": 4,
 "nbformat_minor": 2
}
