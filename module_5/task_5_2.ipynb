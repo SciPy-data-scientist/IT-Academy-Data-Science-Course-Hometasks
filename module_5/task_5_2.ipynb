{
 "cells": [
  {
   "cell_type": "markdown",
   "metadata": {},
   "source": [
    "## Задача"
   ]
  },
  {
   "cell_type": "markdown",
   "metadata": {},
   "source": [
    "Сгенерировать последовательности, которые состоят из цифр (от 0 до 9) и задаются следующим образом:\n",
    "\n",
    "x - последовательность цифр,\n",
    "y1 = x1,\n",
    "yi = xi + x1, если yi >= 10, то yi = yi - 10.\n",
    "\n",
    "Научить модель рекуррентной нейронной сети предсказывать yi по xi. Использовать: RNN, LSTM, GRU"
   ]
  },
  {
   "cell_type": "markdown",
   "metadata": {},
   "source": [
    "## Решение"
   ]
  },
  {
   "cell_type": "code",
   "execution_count": 1,
   "metadata": {},
   "outputs": [],
   "source": [
    "import numpy as np\n",
    "import pandas as pd\n",
    "\n",
    "import torch\n",
    "import torch.nn as nn\n",
    "import torch.optim as optim\n",
    "\n",
    "import time\n",
    "\n",
    "import matplotlib.pyplot as plt"
   ]
  },
  {
   "cell_type": "markdown",
   "metadata": {},
   "source": [
    "### 1. Генерация последовательностей х и y"
   ]
  },
  {
   "cell_type": "markdown",
   "metadata": {},
   "source": [
    "Зададим генераторы случайных чисел и тензоров"
   ]
  },
  {
   "cell_type": "code",
   "execution_count": 2,
   "metadata": {},
   "outputs": [
    {
     "data": {
      "text/plain": [
       "<torch._C.Generator at 0x209bd3f8150>"
      ]
     },
     "execution_count": 2,
     "metadata": {},
     "output_type": "execute_result"
    }
   ],
   "source": [
    "rng = np.random.default_rng(seed=111)\n",
    "torch.manual_seed(111)"
   ]
  },
  {
   "cell_type": "markdown",
   "metadata": {},
   "source": [
    "Зададим максимальную длину последовательности и количество последовательностей в одном наборе данных"
   ]
  },
  {
   "cell_type": "code",
   "execution_count": 3,
   "metadata": {},
   "outputs": [],
   "source": [
    "# Максимальная длина последовательности х\n",
    "X_MAX_LENGTH = 12\n",
    "\n",
    "# Количество последовательностей х в рамках одного обучающего датасета\n",
    "N_SEQUENCES = 190\n",
    "\n",
    "# Количество предсказываемых классов, т.е. числа от 0 до 9\n",
    "NUM_CLASSES = 10"
   ]
  },
  {
   "cell_type": "markdown",
   "metadata": {},
   "source": [
    "Создадим класс SequenceGenerator, который генерирует последовательности значений х и последовательности значений y, а также соответствующие тензоры на их основе. Данный класс принимает на вход значения максимальной длины последовательности и количество последовательности в наборе данных."
   ]
  },
  {
   "cell_type": "code",
   "execution_count": 4,
   "metadata": {},
   "outputs": [],
   "source": [
    "class SequenceGenerator(nn.Module):\n",
    "    \"\"\"\n",
    "    Класс для генерации последовательностей x и соответствующих преобразованных последовательностей y.\n",
    "\n",
    "    Атрибуты\n",
    "    --------\n",
    "    x_max_length : int\n",
    "        Максимальная длина последовательности x.\n",
    "    n_sequences : int\n",
    "        Количество генерируемых последовательностей y.\n",
    "\n",
    "    Методы\n",
    "    ------\n",
    "    generate_x_sequences()\n",
    "        Генерирует список последовательностей случайных цифр (последовательности x).\n",
    "    \n",
    "    generate_y_sequences(x_sequences: np.ndarray) -> np.ndarray\n",
    "        Генерирует последовательности y на основе правил преобразования для x.\n",
    "    \n",
    "    generate_tensors(x_sequences: np.ndarray, y_sequences: np.ndarray) -> tuple\n",
    "        Преобразует сгенерированные последовательности x и y в тензоры PyTorch.\n",
    "    \"\"\"\n",
    "\n",
    "    def __init__(self, x_max_length: int, n_sequences: int):\n",
    "        \"\"\"\n",
    "        Инициализирует атрибуты для объекта SequenceGenerator.\n",
    "\n",
    "        Параметры\n",
    "        ---------\n",
    "        x_max_length : int\n",
    "            Максимальная длина последовательности x.\n",
    "        n_sequences : int\n",
    "            Количество генерируемых последовательностей.\n",
    "        \"\"\"\n",
    "        super().__init__()\n",
    "        self.x_max_length = x_max_length\n",
    "        self.n_sequences = n_sequences\n",
    "\n",
    "    def generate_x_sequences(self) -> np.ndarray:\n",
    "        \"\"\"\n",
    "        Генерирует список случайных последовательностей цифр x.\n",
    "\n",
    "        Возвращает\n",
    "        ----------\n",
    "        np.ndarray\n",
    "            Массив сгенерированных последовательностей случайных цифр x.\n",
    "        \"\"\"\n",
    "        return rng.integers(0, 10, size=(self.n_sequences, self.x_max_length))\n",
    "    \n",
    "    def generate_y_sequences(self, x_sequences: np.ndarray) -> np.ndarray:\n",
    "        \"\"\"\n",
    "        Генерирует последовательности y на основе правил преобразования, заданных для x.\n",
    "\n",
    "        Параметры\n",
    "        ---------\n",
    "        x_sequences : np.ndarray\n",
    "            Массив последовательностей случайно сгенерированных цифр.\n",
    "\n",
    "        Возвращает\n",
    "        ----------\n",
    "        np.ndarray\n",
    "            Массив преобразованных последовательностей y.\n",
    "        \"\"\"\n",
    "        y_sequences = []\n",
    "        for n in x_sequences:\n",
    "            y = [\n",
    "                n[i] if i == 0 else (n[i] + n[0] - 10) if (i != 0 and (n[i] + n[0]) >= 10) else n[i] + n[0] \n",
    "                for i in range(len(n))\n",
    "            ]\n",
    "            y_sequences.append(y)\n",
    "\n",
    "        return np.array(y_sequences)\n",
    "    \n",
    "    def generate_tensors(self, x_sequences: np.ndarray, y_sequences: np.ndarray) -> tuple:\n",
    "        \"\"\"\n",
    "        Преобразует сгенерированные последовательности x и y в тензоры PyTorch.\n",
    "\n",
    "        Параметры\n",
    "        ---------\n",
    "        x_sequences : np.ndarray\n",
    "            Массив последовательностей случайно сгенерированных цифр.\n",
    "        y_sequences : np.ndarray\n",
    "            Массив преобразованных последовательностей y.\n",
    "\n",
    "        Возвращает\n",
    "        ----------\n",
    "        tuple\n",
    "            Кортеж, содержащий два LongTensor PyTorch: один для x_sequences и один для y_sequences.\n",
    "        \"\"\"\n",
    "        x_tensor = torch.LongTensor(x_sequences)\n",
    "        y_tensor = torch.LongTensor(y_sequences)\n",
    "\n",
    "        return x_tensor, y_tensor"
   ]
  },
  {
   "cell_type": "code",
   "execution_count": 5,
   "metadata": {},
   "outputs": [],
   "source": [
    "sequence_generator = SequenceGenerator(X_MAX_LENGTH, N_SEQUENCES)"
   ]
  },
  {
   "cell_type": "markdown",
   "metadata": {},
   "source": [
    "Сгенерируем последовательности х и y, используя экземпляр класса Sequence_Generator, которые затем преобразуем в тензоры."
   ]
  },
  {
   "cell_type": "code",
   "execution_count": 6,
   "metadata": {},
   "outputs": [],
   "source": [
    "x_sequences = sequence_generator.generate_x_sequences()\n",
    "y_sequences = sequence_generator.generate_y_sequences(x_sequences)"
   ]
  },
  {
   "cell_type": "code",
   "execution_count": 7,
   "metadata": {},
   "outputs": [
    {
     "data": {
      "text/plain": [
       "(array([[4, 1, 7, ..., 7, 7, 1],\n",
       "        [1, 7, 4, ..., 3, 0, 7],\n",
       "        [7, 0, 9, ..., 3, 5, 6],\n",
       "        ...,\n",
       "        [6, 7, 2, ..., 3, 7, 5],\n",
       "        [8, 4, 1, ..., 6, 0, 2],\n",
       "        [5, 9, 3, ..., 5, 7, 4]], shape=(190, 12)),\n",
       " array([[4, 5, 1, ..., 1, 1, 5],\n",
       "        [1, 8, 5, ..., 4, 1, 8],\n",
       "        [7, 7, 6, ..., 0, 2, 3],\n",
       "        ...,\n",
       "        [6, 3, 8, ..., 9, 3, 1],\n",
       "        [8, 2, 9, ..., 4, 8, 0],\n",
       "        [5, 4, 8, ..., 0, 2, 9]], shape=(190, 12)))"
      ]
     },
     "execution_count": 7,
     "metadata": {},
     "output_type": "execute_result"
    }
   ],
   "source": [
    "x_sequences, y_sequences"
   ]
  },
  {
   "cell_type": "code",
   "execution_count": 8,
   "metadata": {},
   "outputs": [
    {
     "data": {
      "text/plain": [
       "(tensor([[4, 1, 7,  ..., 7, 7, 1],\n",
       "         [1, 7, 4,  ..., 3, 0, 7],\n",
       "         [7, 0, 9,  ..., 3, 5, 6],\n",
       "         ...,\n",
       "         [6, 7, 2,  ..., 3, 7, 5],\n",
       "         [8, 4, 1,  ..., 6, 0, 2],\n",
       "         [5, 9, 3,  ..., 5, 7, 4]]),\n",
       " tensor([[4, 5, 1,  ..., 1, 1, 5],\n",
       "         [1, 8, 5,  ..., 4, 1, 8],\n",
       "         [7, 7, 6,  ..., 0, 2, 3],\n",
       "         ...,\n",
       "         [6, 3, 8,  ..., 9, 3, 1],\n",
       "         [8, 2, 9,  ..., 4, 8, 0],\n",
       "         [5, 4, 8,  ..., 0, 2, 9]]))"
      ]
     },
     "execution_count": 8,
     "metadata": {},
     "output_type": "execute_result"
    }
   ],
   "source": [
    "x_train, y_train = sequence_generator.generate_tensors(x_sequences, y_sequences)\n",
    "x_train, y_train"
   ]
  },
  {
   "cell_type": "markdown",
   "metadata": {},
   "source": [
    "### 2. Создание модели рекуррентной нейронной сети"
   ]
  },
  {
   "cell_type": "markdown",
   "metadata": {},
   "source": [
    "Создадим класс нейронной сети RnnFlex на основе nn.Module с рекуррентным слоем для предсказания классов, т.е. цифр от 0 до 9."
   ]
  },
  {
   "cell_type": "code",
   "execution_count": 9,
   "metadata": {},
   "outputs": [],
   "source": [
    "class RnnFlex(nn.Module):\n",
    "    \"\"\"\n",
    "    Класс нейронной сети с рекуррентным слоем (RNN, LSTM, GRU) для предсказания классов.\n",
    "\n",
    "    Атрибуты\n",
    "    --------\n",
    "    embedding : torch.nn.Embedding\n",
    "        Преобразование входной последовательности в векторное пространство.\n",
    "    hidden : torch.nn.RNN, torch.nn.LSTM, torch.nn.GRU\n",
    "        Рекуррентный слой, который может быть любого класса (RNN, LSTM, GRU).\n",
    "    relu : torch.nn.ReLU\n",
    "        Слой ReLU активации.\n",
    "    dropout : torch.nn.Dropout\n",
    "        Слой Dropout для регуляризации.\n",
    "    linear : torch.nn.Linear\n",
    "        Полносвязный слой для преобразования скрытых состояний.\n",
    "    output : torch.nn.Linear\n",
    "        Полносвязный слой для предсказания классов.\n",
    "    is_lstm : bool\n",
    "        Флаг, указывающий, является ли рекуррентный слой LSTM.\n",
    "    \n",
    "    Методы\n",
    "    ------\n",
    "    forward(X)\n",
    "        Выполняет прямой проход через сеть для предсказания выходов на основе входных данных X.\n",
    "    \"\"\"\n",
    "    \n",
    "    def __init__(self, rnn_class, sequence_length, embedding_size, num_hiddens, num_hiddens2, num_classes):\n",
    "        \"\"\"\n",
    "        Инициализирует нейронную сеть с заданным рекуррентным слоем и архитектурой.\n",
    "\n",
    "        Параметры\n",
    "        ---------\n",
    "        rnn_class : класс\n",
    "            Класс рекуррентного слоя (torch.nn.RNN, torch.nn.LSTM или torch.nn.GRU).\n",
    "        sequence_length : int\n",
    "            Длина входной последовательности.\n",
    "        embedding_size : int\n",
    "            Размер векторного представления.\n",
    "        num_hiddens : int\n",
    "            Размер скрытого состояния рекуррентного слоя.\n",
    "        num_hiddens2 : int\n",
    "            Размер скрытого состояния полносвязного слоя.\n",
    "        num_classes : int\n",
    "            Количество классов на выходе (размерность выходного слоя). По умолчанию используется значение 10 (цифры от 0 до 9).\n",
    "        \"\"\"\n",
    "        super().__init__()\n",
    "        self.embedding = torch.nn.Embedding(sequence_length, embedding_size)\n",
    "        self.hidden = rnn_class(embedding_size, num_hiddens, batch_first=True)\n",
    "        self.relu = nn.ReLU()\n",
    "        self.dropout = nn.Dropout(0.2)\n",
    "        self.linear = torch.nn.Linear(num_hiddens, num_hiddens2)\n",
    "        self.output = torch.nn.Linear(num_hiddens2, num_classes)\n",
    "        self.is_lstm = issubclass(rnn_class, torch.nn.LSTM)\n",
    "\n",
    "    def forward(self, x: torch.Tensor) -> torch.Tensor:\n",
    "        \"\"\"\n",
    "        Выполняет прямой проход через нейронную сеть.\n",
    "\n",
    "        Параметры\n",
    "        ---------\n",
    "        x : torch.Tensor\n",
    "            Входной тензор с последовательностями х.\n",
    "\n",
    "        Возвращает\n",
    "        ----------\n",
    "        torch.Tensor\n",
    "            Предсказания последовательности y для каждой последовательности х в виде тензора.\n",
    "        \"\"\"\n",
    "        out = self.embedding(x)\n",
    "        if self.is_lstm:\n",
    "            out, (state, _) = self.hidden(out)\n",
    "        else:\n",
    "            out, state = self.hidden(out)\n",
    "        output = self.linear(self.dropout(self.relu(out)))\n",
    "        predictions = self.output(self.dropout(self.relu(output)))\n",
    "        return predictions"
   ]
  },
  {
   "cell_type": "markdown",
   "metadata": {},
   "source": [
    "Инициализируем модель рекуррентной нейронной сети с заданными параметрами"
   ]
  },
  {
   "cell_type": "code",
   "execution_count": 10,
   "metadata": {},
   "outputs": [],
   "source": [
    "def initialize_model(\n",
    "        rnn_class=nn.LSTM, embedding_size=64, num_hiddens=256, num_hiddens2=32, num_classes=NUM_CLASSES, sequence_length=X_MAX_LENGTH, lr=0.001\n",
    "        ):\n",
    "    \"\"\"\n",
    "    Инициализирует модель с указанным рекуррентным слоем (RNN, LSTM или GRU), \n",
    "    функцией потерь и оптимизатором.\n",
    "\n",
    "    Параметры\n",
    "    ----------\n",
    "    rnn_class : torch.nn.Module, optional\n",
    "        Класс рекуррентного слоя, который может быть torch.nn.RNN, torch.nn.LSTM или torch.nn.GRU.\n",
    "        По умолчанию используется torch.nn.LSTM.\n",
    "    embedding_size : int, optional\n",
    "        Размер векторного представления (embedding). По умолчанию 64.\n",
    "    num_hiddens : int, optional\n",
    "        Размер скрытого состояния для рекуррентного слоя. По умолчанию 256.\n",
    "    num_hiddens2 : int, optional\n",
    "        Размер скрытого состояния для второго полносвязного слоя. По умолчанию 32.\n",
    "    num_classes : int, optional\n",
    "        Количество классов для классификации. По умолчанию используется значение NUM_CLASSES.\n",
    "    sequence_length : int, optional\n",
    "        Длина входной последовательности. По умолчанию используется значение X_MAX_LENGTH.\n",
    "    lr : float, optional\n",
    "        Значение скорости обучения модели. По умолчанию используется значение 0,001.\n",
    "\n",
    "    Возвращает\n",
    "    ---------\n",
    "    model : torch.nn.Module\n",
    "        Инициализированная модель с выбранным рекуррентным слоем.\n",
    "    criterion : torch.nn.Module\n",
    "        Функция потерь (кросс-энтропия).\n",
    "    optimizer : torch.optim.Optimizer\n",
    "        Оптимизатор Adam.\n",
    "    \"\"\"\n",
    "    # Инициализация модели с заданным рекуррентным слоем\n",
    "    model = RnnFlex(\n",
    "        rnn_class, sequence_length, embedding_size, num_hiddens, num_hiddens2, num_classes\n",
    "    )\n",
    "\n",
    "    # Функция потерь для задачи классификации\n",
    "    criterion = nn.CrossEntropyLoss()\n",
    "\n",
    "    # Оптимизатор Adam\n",
    "    optimizer = optim.Adam(model.parameters(), lr=lr)\n",
    "\n",
    "    return model, criterion, optimizer\n"
   ]
  },
  {
   "cell_type": "markdown",
   "metadata": {},
   "source": [
    "Создадим функцию для обучения модели и определения среднего значения функции потерь"
   ]
  },
  {
   "cell_type": "code",
   "execution_count": 11,
   "metadata": {},
   "outputs": [],
   "source": [
    "def train_loss(model, optimizer, criterion, x, y):\n",
    "    \"\"\"\n",
    "    Выполняет одну эпоху обучения, вычисляя и обновляя веса модели на основе входных данных и целевых значений.\n",
    "\n",
    "    Параметры\n",
    "    ----------\n",
    "    model : torch.nn.Module\n",
    "        Модель, которая будет обучаться.\n",
    "    optimizer : torch.optim.Optimizer\n",
    "        Оптимизатор, используемый для обновления весов модели.\n",
    "    criterion : torch.nn.Module\n",
    "        Функция потерь, используемая для вычисления ошибки.\n",
    "    x : torch.Tensor\n",
    "        Входные данные (последовательности х), используемые для обучения модели.\n",
    "    y : torch.Tensor\n",
    "        Целевые метки, которые сравнивают с предсказаниями модели (последовательности y).\n",
    "\n",
    "    Возвращает\n",
    "    ---------\n",
    "    float\n",
    "        Среднее значение функции потерь на всем обучающем наборе данных.\n",
    "    \"\"\"\n",
    "    model.train()\n",
    "    total_loss = 0\n",
    "\n",
    "    for i, x_item in enumerate(x):\n",
    "        optimizer.zero_grad()\n",
    "\n",
    "        answers = model(x_item.unsqueeze(0))\n",
    "\n",
    "        answers = answers.view(-1, NUM_CLASSES)\n",
    "        target = y[i].view(-1)\n",
    "\n",
    "        loss = criterion(answers, target)\n",
    "        total_loss += loss.item()\n",
    "\n",
    "        loss.backward()\n",
    "        optimizer.step()\n",
    "\n",
    "    return total_loss / len(x)"
   ]
  },
  {
   "cell_type": "markdown",
   "metadata": {},
   "source": [
    "Создадим функцию для контроля изменения функции потерь в зависимости от эпохи"
   ]
  },
  {
   "cell_type": "code",
   "execution_count": 12,
   "metadata": {},
   "outputs": [],
   "source": [
    "def train_loss_control(model, optimizer, criterion, x, y, n_epochs=50):\n",
    "    \"\"\"\n",
    "    Управляет процессом обучения модели, отслеживает значения функции потерь и выводит их график.\n",
    "\n",
    "    Параметры\n",
    "    ---------\n",
    "    model : torch.nn.Module\n",
    "        Модель, которая будет обучаться.\n",
    "    optimizer : torch.optim.Optimizer\n",
    "        Оптимизатор для обновления весов модели.\n",
    "    criterion : torch.nn.Module\n",
    "        Функция потерь для оптимизации.\n",
    "    X : torch.Tensor\n",
    "        Входные данные (последовательности x) для обучения.\n",
    "    y : torch.Tensor\n",
    "        Целевые метки (последовательности y) для обучения.\n",
    "    n_epochs : int, optional\n",
    "        Количество эпох обучения (по умолчанию 50).\n",
    "\n",
    "    Возвращает\n",
    "    ----------\n",
    "    list\n",
    "        Список значений функции потерь на каждой эпохе.\n",
    "    \"\"\"\n",
    "    loss_values = []\n",
    "    for epoch in range(n_epochs):\n",
    "        start = time.time()\n",
    "        train_loss_value = train_loss(model, optimizer, criterion, x, y)\n",
    "        loss_values.append(train_loss_value)\n",
    "        if epoch % 10 == 0:\n",
    "            print(f\"Epoch {epoch}. Time: {time.time() - start:.3f}, Train loss: {train_loss_value:.3f}\")\n",
    "\n",
    "    plt.plot(loss_values)\n",
    "    plt.xlabel(\"Epochs\")\n",
    "    plt.ylabel(\"Loss\")\n",
    "    plt.title(f\"Training Loss over Epochs: {model.hidden}\")\n",
    "    plt.show()\n",
    "\n",
    "    return loss_values"
   ]
  },
  {
   "cell_type": "markdown",
   "metadata": {},
   "source": [
    "Создадим функцию предсказания последовательности значений y и соответствующего значения y_i с учетом последовательности значений х и индекса значения x_i соответственно."
   ]
  },
  {
   "cell_type": "code",
   "execution_count": 13,
   "metadata": {},
   "outputs": [],
   "source": [
    "def y_inference(model, x_max_length, x_index=0):\n",
    "    \"\"\"\n",
    "    Функция для предсказания последовательности y, а также конкретного значения y_i\n",
    "    с помощью обученной модели.\n",
    "\n",
    "    Эта функция генерирует входные последовательности и соответствующие целевые\n",
    "    последовательности с использованием SequenceGenerator, затем делает предсказание\n",
    "    с помощью модели и вычисляет точность.\n",
    "\n",
    "    Параметры\n",
    "    ----------\n",
    "    model : torch.nn.Module\n",
    "        Обученная модель для предсказания y.\n",
    "    x_max_length : int\n",
    "        Максимальная длина последовательности x.\n",
    "    x_index : int, optional\n",
    "        Индекс значения x в последовательности, которое необходимо предсказать.\n",
    "        По умолчанию 0.\n",
    "\n",
    "    Вывод\n",
    "    ------\n",
    "    None\n",
    "        Функция выводит точность, входную последовательность x, целевую последовательность y,\n",
    "        предсказанную последовательность predicted_sequence и значения y_i для индекса x_i.\n",
    "    \"\"\"\n",
    "    sequence_generator = SequenceGenerator(x_max_length, n_sequences=1)\n",
    "    x = torch.LongTensor(sequence_generator.generate_x_sequences())\n",
    "    y = torch.LongTensor(sequence_generator.generate_y_sequences(x))\n",
    "\n",
    "    model.eval()\n",
    "    with torch.no_grad():\n",
    "        output = model(x)\n",
    "\n",
    "        predicted_sequence = []\n",
    "        correct = 0\n",
    "        total = len(x[0])\n",
    "\n",
    "        for i in range(output.size(1)):\n",
    "            predicted_value = output[0, i].argmax().item()\n",
    "            predicted_sequence.append(predicted_value)\n",
    "\n",
    "            correct += (predicted_value == y[0, i].item())\n",
    "        accuracy = correct / total * 100\n",
    "\n",
    "    x_value = x[0].tolist()[x_index]\n",
    "    y_target = y[0].tolist()[x_index]\n",
    "    y_predicted = predicted_sequence[x_index]\n",
    "\n",
    "    df = pd.DataFrame({\n",
    "        \"Параметр\": [\n",
    "            \"Accuracy (%)\", \n",
    "            \"Входная последовательность x\", \n",
    "            \"Целевая последовательность y\", \n",
    "            \"Предсказанная последовательность y\", \n",
    "            \"Заданное значение индекса x\", \n",
    "            \"Соответствующее значение x_i\", \n",
    "            \"Целевое значение y_i\", \n",
    "            \"Предсказанное значение y_i\"\n",
    "        ],\n",
    "        \"Значение\": [\n",
    "            round(accuracy, 2),\n",
    "            x[0].tolist(),\n",
    "            y[0].tolist(),\n",
    "            predicted_sequence,\n",
    "            x_index,\n",
    "            x_value,\n",
    "            y_target,\n",
    "            y_predicted\n",
    "        ]\n",
    "    })\n",
    "    \n",
    "    pd.set_option('display.max_seq_item', None)\n",
    "    pd.set_option('display.max_colwidth', None)\n",
    "\n",
    "    return df"
   ]
  },
  {
   "cell_type": "markdown",
   "metadata": {},
   "source": [
    "### 3. Обучение модели рекуррентной нейронной сети и предсказание значений"
   ]
  },
  {
   "cell_type": "markdown",
   "metadata": {},
   "source": [
    "#### 3.1 Инициализация модели LSTM и ее обучение, а также предсказание значений для заданного значения максимальной длины последовательности и количества последовательности"
   ]
  },
  {
   "cell_type": "code",
   "execution_count": 14,
   "metadata": {},
   "outputs": [],
   "source": [
    "model_lstm, criterion, optimizer = initialize_model(\n",
    "    rnn_class=nn.LSTM,\n",
    "    embedding_size=64,\n",
    "    num_hiddens=256,\n",
    "    num_hiddens2=32,\n",
    "    num_classes=NUM_CLASSES,\n",
    "    sequence_length=X_MAX_LENGTH\n",
    "    )"
   ]
  },
  {
   "cell_type": "code",
   "execution_count": 15,
   "metadata": {},
   "outputs": [
    {
     "name": "stdout",
     "output_type": "stream",
     "text": [
      "Epoch 0. Time: 0.860, Train loss: 2.299\n",
      "Epoch 10. Time: 0.794, Train loss: 0.204\n",
      "Epoch 20. Time: 0.654, Train loss: 0.027\n",
      "Epoch 30. Time: 0.651, Train loss: 0.016\n",
      "Epoch 40. Time: 0.735, Train loss: 0.013\n"
     ]
    },
    {
     "data": {
      "image/png": "[encoded data removed]",
      "text/plain": [
       "<Figure size 640x480 with 1 Axes>"
      ]
     },
     "metadata": {},
     "output_type": "display_data"
    }
   ],
   "source": [
    "loss_values_lstm = train_loss_control(model_lstm, optimizer, criterion, x_train, y_train, n_epochs=50)"
   ]
  },
  {
   "cell_type": "code",
   "execution_count": 16,
   "metadata": {},
   "outputs": [
    {
     "data": {
      "text/html": [
       "<div>\n",
       "<style scoped>\n",
       "    .dataframe tbody tr th:only-of-type {\n",
       "        vertical-align: middle;\n",
       "    }\n",
       "\n",
       "    .dataframe tbody tr th {\n",
       "        vertical-align: top;\n",
       "    }\n",
       "\n",
       "    .dataframe thead th {\n",
       "        text-align: right;\n",
       "    }\n",
       "</style>\n",
       "<table border=\"1\" class=\"dataframe\">\n",
       "  <thead>\n",
       "    <tr style=\"text-align: right;\">\n",
       "      <th></th>\n",
       "      <th>Параметр</th>\n",
       "      <th>Значение</th>\n",
       "    </tr>\n",
       "  </thead>\n",
       "  <tbody>\n",
       "    <tr>\n",
       "      <th>0</th>\n",
       "      <td>Accuracy (%)</td>\n",
       "      <td>100.0</td>\n",
       "    </tr>\n",
       "    <tr>\n",
       "      <th>1</th>\n",
       "      <td>Входная последовательность x</td>\n",
       "      <td>[7, 4, 7, 4, 1, 6, 3, 6, 5, 7, 8, 5, 6, 6, 9, 1, 0, 0, 4, 4, 9, 0, 1, 8, 7]</td>\n",
       "    </tr>\n",
       "    <tr>\n",
       "      <th>2</th>\n",
       "      <td>Целевая последовательность y</td>\n",
       "      <td>[7, 1, 4, 1, 8, 3, 0, 3, 2, 4, 5, 2, 3, 3, 6, 8, 7, 7, 1, 1, 6, 7, 8, 5, 4]</td>\n",
       "    </tr>\n",
       "    <tr>\n",
       "      <th>3</th>\n",
       "      <td>Предсказанная последовательность y</td>\n",
       "      <td>[7, 1, 4, 1, 8, 3, 0, 3, 2, 4, 5, 2, 3, 3, 6, 8, 7, 7, 1, 1, 6, 7, 8, 5, 4]</td>\n",
       "    </tr>\n",
       "    <tr>\n",
       "      <th>4</th>\n",
       "      <td>Заданное значение индекса x</td>\n",
       "      <td>5</td>\n",
       "    </tr>\n",
       "    <tr>\n",
       "      <th>5</th>\n",
       "      <td>Соответствующее значение x_i</td>\n",
       "      <td>6</td>\n",
       "    </tr>\n",
       "    <tr>\n",
       "      <th>6</th>\n",
       "      <td>Целевое значение y_i</td>\n",
       "      <td>3</td>\n",
       "    </tr>\n",
       "    <tr>\n",
       "      <th>7</th>\n",
       "      <td>Предсказанное значение y_i</td>\n",
       "      <td>3</td>\n",
       "    </tr>\n",
       "  </tbody>\n",
       "</table>\n",
       "</div>"
      ],
      "text/plain": [
       "                             Параметр  \\\n",
       "0                        Accuracy (%)   \n",
       "1        Входная последовательность x   \n",
       "2        Целевая последовательность y   \n",
       "3  Предсказанная последовательность y   \n",
       "4         Заданное значение индекса x   \n",
       "5        Соответствующее значение x_i   \n",
       "6                Целевое значение y_i   \n",
       "7          Предсказанное значение y_i   \n",
       "\n",
       "                                                                      Значение  \n",
       "0                                                                        100.0  \n",
       "1  [7, 4, 7, 4, 1, 6, 3, 6, 5, 7, 8, 5, 6, 6, 9, 1, 0, 0, 4, 4, 9, 0, 1, 8, 7]  \n",
       "2  [7, 1, 4, 1, 8, 3, 0, 3, 2, 4, 5, 2, 3, 3, 6, 8, 7, 7, 1, 1, 6, 7, 8, 5, 4]  \n",
       "3  [7, 1, 4, 1, 8, 3, 0, 3, 2, 4, 5, 2, 3, 3, 6, 8, 7, 7, 1, 1, 6, 7, 8, 5, 4]  \n",
       "4                                                                            5  \n",
       "5                                                                            6  \n",
       "6                                                                            3  \n",
       "7                                                                            3  "
      ]
     },
     "execution_count": 16,
     "metadata": {},
     "output_type": "execute_result"
    }
   ],
   "source": [
    "y_inference(model_lstm, x_max_length=25, x_index=5)"
   ]
  },
  {
   "cell_type": "markdown",
   "metadata": {},
   "source": [
    "#### 3.2 Инициализация модели RNN и ее обучение, а также предсказание значений для заданного значения максимальной длины последовательности и количества последовательности"
   ]
  },
  {
   "cell_type": "code",
   "execution_count": 17,
   "metadata": {},
   "outputs": [],
   "source": [
    "model_rnn, criterion, optimizer = initialize_model(\n",
    "    rnn_class=nn.RNN,\n",
    "    embedding_size=64,\n",
    "    num_hiddens=256,\n",
    "    num_hiddens2=32,\n",
    "    num_classes=NUM_CLASSES,\n",
    "    sequence_length=X_MAX_LENGTH,\n",
    "    lr=0.0005\n",
    "    )"
   ]
  },
  {
   "cell_type": "code",
   "execution_count": 18,
   "metadata": {},
   "outputs": [
    {
     "name": "stdout",
     "output_type": "stream",
     "text": [
      "Epoch 0. Time: 1.072, Train loss: 2.289\n",
      "Epoch 10. Time: 0.697, Train loss: 1.583\n",
      "Epoch 20. Time: 1.054, Train loss: 0.986\n",
      "Epoch 30. Time: 0.747, Train loss: 0.451\n",
      "Epoch 40. Time: 0.801, Train loss: 0.122\n"
     ]
    },
    {
     "data": {
      "image/png": "[encoded data removed]",
      "text/plain": [
       "<Figure size 640x480 with 1 Axes>"
      ]
     },
     "metadata": {},
     "output_type": "display_data"
    }
   ],
   "source": [
    "loss_values_rnn = train_loss_control(model_rnn, optimizer, criterion, x_train, y_train, n_epochs=50)"
   ]
  },
  {
   "cell_type": "code",
   "execution_count": 19,
   "metadata": {},
   "outputs": [
    {
     "data": {
      "text/html": [
       "<div>\n",
       "<style scoped>\n",
       "    .dataframe tbody tr th:only-of-type {\n",
       "        vertical-align: middle;\n",
       "    }\n",
       "\n",
       "    .dataframe tbody tr th {\n",
       "        vertical-align: top;\n",
       "    }\n",
       "\n",
       "    .dataframe thead th {\n",
       "        text-align: right;\n",
       "    }\n",
       "</style>\n",
       "<table border=\"1\" class=\"dataframe\">\n",
       "  <thead>\n",
       "    <tr style=\"text-align: right;\">\n",
       "      <th></th>\n",
       "      <th>Параметр</th>\n",
       "      <th>Значение</th>\n",
       "    </tr>\n",
       "  </thead>\n",
       "  <tbody>\n",
       "    <tr>\n",
       "      <th>0</th>\n",
       "      <td>Accuracy (%)</td>\n",
       "      <td>100.0</td>\n",
       "    </tr>\n",
       "    <tr>\n",
       "      <th>1</th>\n",
       "      <td>Входная последовательность x</td>\n",
       "      <td>[6, 7, 0, 0, 4, 3, 9, 0, 9, 2, 0, 7, 3, 2, 4, 2, 6, 5, 4, 1, 4, 9, 0, 9, 6]</td>\n",
       "    </tr>\n",
       "    <tr>\n",
       "      <th>2</th>\n",
       "      <td>Целевая последовательность y</td>\n",
       "      <td>[6, 3, 6, 6, 0, 9, 5, 6, 5, 8, 6, 3, 9, 8, 0, 8, 2, 1, 0, 7, 0, 5, 6, 5, 2]</td>\n",
       "    </tr>\n",
       "    <tr>\n",
       "      <th>3</th>\n",
       "      <td>Предсказанная последовательность y</td>\n",
       "      <td>[6, 3, 6, 6, 0, 9, 5, 6, 5, 8, 6, 3, 9, 8, 0, 8, 2, 1, 0, 7, 0, 5, 6, 5, 2]</td>\n",
       "    </tr>\n",
       "    <tr>\n",
       "      <th>4</th>\n",
       "      <td>Заданное значение индекса x</td>\n",
       "      <td>5</td>\n",
       "    </tr>\n",
       "    <tr>\n",
       "      <th>5</th>\n",
       "      <td>Соответствующее значение x_i</td>\n",
       "      <td>3</td>\n",
       "    </tr>\n",
       "    <tr>\n",
       "      <th>6</th>\n",
       "      <td>Целевое значение y_i</td>\n",
       "      <td>9</td>\n",
       "    </tr>\n",
       "    <tr>\n",
       "      <th>7</th>\n",
       "      <td>Предсказанное значение y_i</td>\n",
       "      <td>9</td>\n",
       "    </tr>\n",
       "  </tbody>\n",
       "</table>\n",
       "</div>"
      ],
      "text/plain": [
       "                             Параметр  \\\n",
       "0                        Accuracy (%)   \n",
       "1        Входная последовательность x   \n",
       "2        Целевая последовательность y   \n",
       "3  Предсказанная последовательность y   \n",
       "4         Заданное значение индекса x   \n",
       "5        Соответствующее значение x_i   \n",
       "6                Целевое значение y_i   \n",
       "7          Предсказанное значение y_i   \n",
       "\n",
       "                                                                      Значение  \n",
       "0                                                                        100.0  \n",
       "1  [6, 7, 0, 0, 4, 3, 9, 0, 9, 2, 0, 7, 3, 2, 4, 2, 6, 5, 4, 1, 4, 9, 0, 9, 6]  \n",
       "2  [6, 3, 6, 6, 0, 9, 5, 6, 5, 8, 6, 3, 9, 8, 0, 8, 2, 1, 0, 7, 0, 5, 6, 5, 2]  \n",
       "3  [6, 3, 6, 6, 0, 9, 5, 6, 5, 8, 6, 3, 9, 8, 0, 8, 2, 1, 0, 7, 0, 5, 6, 5, 2]  \n",
       "4                                                                            5  \n",
       "5                                                                            3  \n",
       "6                                                                            9  \n",
       "7                                                                            9  "
      ]
     },
     "execution_count": 19,
     "metadata": {},
     "output_type": "execute_result"
    }
   ],
   "source": [
    "y_inference(model_rnn, x_max_length=25, x_index=5)"
   ]
  },
  {
   "cell_type": "markdown",
   "metadata": {},
   "source": [
    "#### 3.3 Инициализация модели GRU и ее обучение, а также предсказание значений для заданного значения максимальной длины последовательности и количества последовательности"
   ]
  },
  {
   "cell_type": "code",
   "execution_count": 20,
   "metadata": {},
   "outputs": [],
   "source": [
    "model_gru, criterion, optimizer = initialize_model(\n",
    "    rnn_class=nn.GRU,\n",
    "    embedding_size=64,\n",
    "    num_hiddens=256,\n",
    "    num_hiddens2=32,\n",
    "    num_classes=NUM_CLASSES,\n",
    "    sequence_length=X_MAX_LENGTH,\n",
    "    lr=0.001\n",
    "    )"
   ]
  },
  {
   "cell_type": "code",
   "execution_count": 21,
   "metadata": {},
   "outputs": [
    {
     "name": "stdout",
     "output_type": "stream",
     "text": [
      "Epoch 0. Time: 2.208, Train loss: 2.295\n",
      "Epoch 10. Time: 1.762, Train loss: 0.311\n",
      "Epoch 20. Time: 1.333, Train loss: 0.098\n",
      "Epoch 30. Time: 1.276, Train loss: 0.046\n",
      "Epoch 40. Time: 1.498, Train loss: 0.039\n"
     ]
    },
    {
     "data": {
      "image/png": "[encoded data removed]",
      "text/plain": [
       "<Figure size 640x480 with 1 Axes>"
      ]
     },
     "metadata": {},
     "output_type": "display_data"
    }
   ],
   "source": [
    "loss_values_gru = train_loss_control(model_gru, optimizer, criterion, x_train, y_train, n_epochs=50)"
   ]
  },
  {
   "cell_type": "code",
   "execution_count": 22,
   "metadata": {},
   "outputs": [
    {
     "data": {
      "text/html": [
       "<div>\n",
       "<style scoped>\n",
       "    .dataframe tbody tr th:only-of-type {\n",
       "        vertical-align: middle;\n",
       "    }\n",
       "\n",
       "    .dataframe tbody tr th {\n",
       "        vertical-align: top;\n",
       "    }\n",
       "\n",
       "    .dataframe thead th {\n",
       "        text-align: right;\n",
       "    }\n",
       "</style>\n",
       "<table border=\"1\" class=\"dataframe\">\n",
       "  <thead>\n",
       "    <tr style=\"text-align: right;\">\n",
       "      <th></th>\n",
       "      <th>Параметр</th>\n",
       "      <th>Значение</th>\n",
       "    </tr>\n",
       "  </thead>\n",
       "  <tbody>\n",
       "    <tr>\n",
       "      <th>0</th>\n",
       "      <td>Accuracy (%)</td>\n",
       "      <td>100.0</td>\n",
       "    </tr>\n",
       "    <tr>\n",
       "      <th>1</th>\n",
       "      <td>Входная последовательность x</td>\n",
       "      <td>[0, 0, 2, 3, 0, 2, 6, 8, 8, 5, 9, 4, 6, 3, 5, 5, 2, 2, 6, 8, 5, 4, 6, 0, 3]</td>\n",
       "    </tr>\n",
       "    <tr>\n",
       "      <th>2</th>\n",
       "      <td>Целевая последовательность y</td>\n",
       "      <td>[0, 0, 2, 3, 0, 2, 6, 8, 8, 5, 9, 4, 6, 3, 5, 5, 2, 2, 6, 8, 5, 4, 6, 0, 3]</td>\n",
       "    </tr>\n",
       "    <tr>\n",
       "      <th>3</th>\n",
       "      <td>Предсказанная последовательность y</td>\n",
       "      <td>[0, 0, 2, 3, 0, 2, 6, 8, 8, 5, 9, 4, 6, 3, 5, 5, 2, 2, 6, 8, 5, 4, 6, 0, 3]</td>\n",
       "    </tr>\n",
       "    <tr>\n",
       "      <th>4</th>\n",
       "      <td>Заданное значение индекса x</td>\n",
       "      <td>5</td>\n",
       "    </tr>\n",
       "    <tr>\n",
       "      <th>5</th>\n",
       "      <td>Соответствующее значение x_i</td>\n",
       "      <td>2</td>\n",
       "    </tr>\n",
       "    <tr>\n",
       "      <th>6</th>\n",
       "      <td>Целевое значение y_i</td>\n",
       "      <td>2</td>\n",
       "    </tr>\n",
       "    <tr>\n",
       "      <th>7</th>\n",
       "      <td>Предсказанное значение y_i</td>\n",
       "      <td>2</td>\n",
       "    </tr>\n",
       "  </tbody>\n",
       "</table>\n",
       "</div>"
      ],
      "text/plain": [
       "                             Параметр  \\\n",
       "0                        Accuracy (%)   \n",
       "1        Входная последовательность x   \n",
       "2        Целевая последовательность y   \n",
       "3  Предсказанная последовательность y   \n",
       "4         Заданное значение индекса x   \n",
       "5        Соответствующее значение x_i   \n",
       "6                Целевое значение y_i   \n",
       "7          Предсказанное значение y_i   \n",
       "\n",
       "                                                                      Значение  \n",
       "0                                                                        100.0  \n",
       "1  [0, 0, 2, 3, 0, 2, 6, 8, 8, 5, 9, 4, 6, 3, 5, 5, 2, 2, 6, 8, 5, 4, 6, 0, 3]  \n",
       "2  [0, 0, 2, 3, 0, 2, 6, 8, 8, 5, 9, 4, 6, 3, 5, 5, 2, 2, 6, 8, 5, 4, 6, 0, 3]  \n",
       "3  [0, 0, 2, 3, 0, 2, 6, 8, 8, 5, 9, 4, 6, 3, 5, 5, 2, 2, 6, 8, 5, 4, 6, 0, 3]  \n",
       "4                                                                            5  \n",
       "5                                                                            2  \n",
       "6                                                                            2  \n",
       "7                                                                            2  "
      ]
     },
     "execution_count": 22,
     "metadata": {},
     "output_type": "execute_result"
    }
   ],
   "source": [
    "y_inference(model_gru, x_max_length=25, x_index=5)"
   ]
  },
  {
   "cell_type": "markdown",
   "metadata": {},
   "source": [
    "### Заключение"
   ]
  },
  {
   "cell_type": "markdown",
   "metadata": {},
   "source": [
    "Проведение обучение и предсказание значений с помощью моделей рекуррентной нейронной сети (RNN, LSTM, GRU). Модели LSTM и GRU показали наилучшие результаты; эти модели демонстрировали 100 % точность при любых значениях параметрах. Это свидетельствует о том, что данные модели легко находили решение задачи. Модель RNN, несмотря на то, что она позволила добиться 100 % точности, требовала тщательного подбора параметров (скорость обучения, размера вектора эмбеддингов, число узлов в рекуррентной нейронной сети), а также скрытых слоев."
   ]
  }
 ],
 "metadata": {
  "kernelspec": {
   "display_name": "Python 3",
   "language": "python",
   "name": "python3"
  },
  "language_info": {
   "codemirror_mode": {
    "name": "ipython",
    "version": 3
   },
   "file_extension": ".py",
   "mimetype": "text/x-python",
   "name": "python",
   "nbconvert_exporter": "python",
   "pygments_lexer": "ipython3",
   "version": "3.12.8"
  }
 },
 "nbformat": 4,
 "nbformat_minor": 2
}
